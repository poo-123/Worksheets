{
 "cells": [
  {
   "cell_type": "code",
   "execution_count": 124,
   "metadata": {},
   "outputs": [],
   "source": [
    "import pandas as pd\n",
    "import numpy as np"
   ]
  },
  {
   "cell_type": "code",
   "execution_count": 125,
   "metadata": {},
   "outputs": [
    {
     "data": {
      "text/html": [
       "<div>\n",
       "<style scoped>\n",
       "    .dataframe tbody tr th:only-of-type {\n",
       "        vertical-align: middle;\n",
       "    }\n",
       "\n",
       "    .dataframe tbody tr th {\n",
       "        vertical-align: top;\n",
       "    }\n",
       "\n",
       "    .dataframe thead th {\n",
       "        text-align: right;\n",
       "    }\n",
       "</style>\n",
       "<table border=\"1\" class=\"dataframe\">\n",
       "  <thead>\n",
       "    <tr style=\"text-align: right;\">\n",
       "      <th></th>\n",
       "      <th>Suburb</th>\n",
       "      <th>Address</th>\n",
       "      <th>Rooms</th>\n",
       "      <th>Type</th>\n",
       "      <th>Price</th>\n",
       "      <th>Method</th>\n",
       "      <th>SellerG</th>\n",
       "      <th>Date</th>\n",
       "      <th>Distance</th>\n",
       "      <th>Postcode</th>\n",
       "      <th>...</th>\n",
       "      <th>Bathroom</th>\n",
       "      <th>Car</th>\n",
       "      <th>Landsize</th>\n",
       "      <th>BuildingArea</th>\n",
       "      <th>YearBuilt</th>\n",
       "      <th>CouncilArea</th>\n",
       "      <th>Lattitude</th>\n",
       "      <th>Longtitude</th>\n",
       "      <th>Regionname</th>\n",
       "      <th>Propertycount</th>\n",
       "    </tr>\n",
       "  </thead>\n",
       "  <tbody>\n",
       "    <tr>\n",
       "      <th>0</th>\n",
       "      <td>Abbotsford</td>\n",
       "      <td>68 Studley St</td>\n",
       "      <td>2.0</td>\n",
       "      <td>h</td>\n",
       "      <td>NaN</td>\n",
       "      <td>SS</td>\n",
       "      <td>Jellis</td>\n",
       "      <td>3/9/2016</td>\n",
       "      <td>2.5</td>\n",
       "      <td>3067.0</td>\n",
       "      <td>...</td>\n",
       "      <td>1.0</td>\n",
       "      <td>1.0</td>\n",
       "      <td>126.0</td>\n",
       "      <td>NaN</td>\n",
       "      <td>NaN</td>\n",
       "      <td>Yarra</td>\n",
       "      <td>-37.8014</td>\n",
       "      <td>144.9958</td>\n",
       "      <td>Northern Metropolitan</td>\n",
       "      <td>4019.0</td>\n",
       "    </tr>\n",
       "    <tr>\n",
       "      <th>1</th>\n",
       "      <td>Abbotsford</td>\n",
       "      <td>85 Turner St</td>\n",
       "      <td>2.0</td>\n",
       "      <td>h</td>\n",
       "      <td>1480000.0</td>\n",
       "      <td>S</td>\n",
       "      <td>Biggin</td>\n",
       "      <td>3/12/2016</td>\n",
       "      <td>2.5</td>\n",
       "      <td>3067.0</td>\n",
       "      <td>...</td>\n",
       "      <td>1.0</td>\n",
       "      <td>1.0</td>\n",
       "      <td>202.0</td>\n",
       "      <td>NaN</td>\n",
       "      <td>NaN</td>\n",
       "      <td>Yarra</td>\n",
       "      <td>-37.7996</td>\n",
       "      <td>144.9984</td>\n",
       "      <td>Northern Metropolitan</td>\n",
       "      <td>4019.0</td>\n",
       "    </tr>\n",
       "    <tr>\n",
       "      <th>2</th>\n",
       "      <td>Abbotsford</td>\n",
       "      <td>25 Bloomburg St</td>\n",
       "      <td>2.0</td>\n",
       "      <td>h</td>\n",
       "      <td>1035000.0</td>\n",
       "      <td>S</td>\n",
       "      <td>Biggin</td>\n",
       "      <td>4/2/2016</td>\n",
       "      <td>2.5</td>\n",
       "      <td>3067.0</td>\n",
       "      <td>...</td>\n",
       "      <td>1.0</td>\n",
       "      <td>0.0</td>\n",
       "      <td>156.0</td>\n",
       "      <td>79.0</td>\n",
       "      <td>1900.0</td>\n",
       "      <td>Yarra</td>\n",
       "      <td>-37.8079</td>\n",
       "      <td>144.9934</td>\n",
       "      <td>Northern Metropolitan</td>\n",
       "      <td>4019.0</td>\n",
       "    </tr>\n",
       "    <tr>\n",
       "      <th>3</th>\n",
       "      <td>Abbotsford</td>\n",
       "      <td>18/659 Victoria St</td>\n",
       "      <td>3.0</td>\n",
       "      <td>u</td>\n",
       "      <td>NaN</td>\n",
       "      <td>VB</td>\n",
       "      <td>Rounds</td>\n",
       "      <td>4/2/2016</td>\n",
       "      <td>2.5</td>\n",
       "      <td>3067.0</td>\n",
       "      <td>...</td>\n",
       "      <td>2.0</td>\n",
       "      <td>1.0</td>\n",
       "      <td>0.0</td>\n",
       "      <td>NaN</td>\n",
       "      <td>NaN</td>\n",
       "      <td>Yarra</td>\n",
       "      <td>-37.8114</td>\n",
       "      <td>145.0116</td>\n",
       "      <td>Northern Metropolitan</td>\n",
       "      <td>4019.0</td>\n",
       "    </tr>\n",
       "    <tr>\n",
       "      <th>4</th>\n",
       "      <td>Abbotsford</td>\n",
       "      <td>5 Charles St</td>\n",
       "      <td>3.0</td>\n",
       "      <td>h</td>\n",
       "      <td>1465000.0</td>\n",
       "      <td>SP</td>\n",
       "      <td>Biggin</td>\n",
       "      <td>4/3/2017</td>\n",
       "      <td>2.5</td>\n",
       "      <td>3067.0</td>\n",
       "      <td>...</td>\n",
       "      <td>2.0</td>\n",
       "      <td>0.0</td>\n",
       "      <td>134.0</td>\n",
       "      <td>150.0</td>\n",
       "      <td>1900.0</td>\n",
       "      <td>Yarra</td>\n",
       "      <td>-37.8093</td>\n",
       "      <td>144.9944</td>\n",
       "      <td>Northern Metropolitan</td>\n",
       "      <td>4019.0</td>\n",
       "    </tr>\n",
       "  </tbody>\n",
       "</table>\n",
       "<p>5 rows × 21 columns</p>\n",
       "</div>"
      ],
      "text/plain": [
       "       Suburb             Address  Rooms Type      Price Method SellerG  \\\n",
       "0  Abbotsford       68 Studley St    2.0    h        NaN     SS  Jellis   \n",
       "1  Abbotsford        85 Turner St    2.0    h  1480000.0      S  Biggin   \n",
       "2  Abbotsford     25 Bloomburg St    2.0    h  1035000.0      S  Biggin   \n",
       "3  Abbotsford  18/659 Victoria St    3.0    u        NaN     VB  Rounds   \n",
       "4  Abbotsford        5 Charles St    3.0    h  1465000.0     SP  Biggin   \n",
       "\n",
       "        Date  Distance  Postcode  ...  Bathroom  Car  Landsize  BuildingArea  \\\n",
       "0   3/9/2016       2.5    3067.0  ...       1.0  1.0     126.0           NaN   \n",
       "1  3/12/2016       2.5    3067.0  ...       1.0  1.0     202.0           NaN   \n",
       "2   4/2/2016       2.5    3067.0  ...       1.0  0.0     156.0          79.0   \n",
       "3   4/2/2016       2.5    3067.0  ...       2.0  1.0       0.0           NaN   \n",
       "4   4/3/2017       2.5    3067.0  ...       2.0  0.0     134.0         150.0   \n",
       "\n",
       "   YearBuilt  CouncilArea Lattitude  Longtitude             Regionname  \\\n",
       "0        NaN        Yarra  -37.8014    144.9958  Northern Metropolitan   \n",
       "1        NaN        Yarra  -37.7996    144.9984  Northern Metropolitan   \n",
       "2     1900.0        Yarra  -37.8079    144.9934  Northern Metropolitan   \n",
       "3        NaN        Yarra  -37.8114    145.0116  Northern Metropolitan   \n",
       "4     1900.0        Yarra  -37.8093    144.9944  Northern Metropolitan   \n",
       "\n",
       "  Propertycount  \n",
       "0        4019.0  \n",
       "1        4019.0  \n",
       "2        4019.0  \n",
       "3        4019.0  \n",
       "4        4019.0  \n",
       "\n",
       "[5 rows x 21 columns]"
      ]
     },
     "execution_count": 125,
     "metadata": {},
     "output_type": "execute_result"
    }
   ],
   "source": [
    "df=pd.read_csv(\"data.csv\")\n",
    "df.head()"
   ]
  },
  {
   "cell_type": "markdown",
   "metadata": {},
   "source": [
    "### 1.Determine the no. of rows and no. of columns in the dataset."
   ]
  },
  {
   "cell_type": "code",
   "execution_count": 126,
   "metadata": {},
   "outputs": [
    {
     "data": {
      "text/plain": [
       "(23678, 21)"
      ]
     },
     "execution_count": 126,
     "metadata": {},
     "output_type": "execute_result"
    }
   ],
   "source": [
    "df.shape"
   ]
  },
  {
   "cell_type": "code",
   "execution_count": 127,
   "metadata": {},
   "outputs": [
    {
     "data": {
      "text/plain": [
       "Index(['Suburb', 'Address', 'Rooms', 'Type', 'Price', 'Method', 'SellerG',\n",
       "       'Date', 'Distance', 'Postcode', 'Bedroom2', 'Bathroom', 'Car',\n",
       "       'Landsize', 'BuildingArea', 'YearBuilt', 'CouncilArea', 'Lattitude',\n",
       "       'Longtitude', 'Regionname', 'Propertycount'],\n",
       "      dtype='object')"
      ]
     },
     "execution_count": 127,
     "metadata": {},
     "output_type": "execute_result"
    }
   ],
   "source": [
    "df.columns"
   ]
  },
  {
   "cell_type": "raw",
   "metadata": {},
   "source": [
    "In this dataset there are 23678 rows and 21 columns."
   ]
  },
  {
   "cell_type": "markdown",
   "metadata": {},
   "source": [
    "### 2.Display the datatypes of each column."
   ]
  },
  {
   "cell_type": "code",
   "execution_count": 128,
   "metadata": {},
   "outputs": [
    {
     "data": {
      "text/plain": [
       "Suburb            object\n",
       "Address           object\n",
       "Rooms            float64\n",
       "Type              object\n",
       "Price            float64\n",
       "Method            object\n",
       "SellerG           object\n",
       "Date              object\n",
       "Distance         float64\n",
       "Postcode         float64\n",
       "Bedroom2         float64\n",
       "Bathroom         float64\n",
       "Car              float64\n",
       "Landsize         float64\n",
       "BuildingArea     float64\n",
       "YearBuilt        float64\n",
       "CouncilArea       object\n",
       "Lattitude        float64\n",
       "Longtitude       float64\n",
       "Regionname        object\n",
       "Propertycount    float64\n",
       "dtype: object"
      ]
     },
     "execution_count": 128,
     "metadata": {},
     "output_type": "execute_result"
    }
   ],
   "source": [
    "df.dtypes"
   ]
  },
  {
   "cell_type": "code",
   "execution_count": 129,
   "metadata": {},
   "outputs": [
    {
     "name": "stdout",
     "output_type": "stream",
     "text": [
      "<class 'pandas.core.frame.DataFrame'>\n",
      "RangeIndex: 23678 entries, 0 to 23677\n",
      "Data columns (total 21 columns):\n",
      " #   Column         Non-Null Count  Dtype  \n",
      "---  ------         --------------  -----  \n",
      " 0   Suburb         23547 non-null  object \n",
      " 1   Address        23547 non-null  object \n",
      " 2   Rooms          23547 non-null  float64\n",
      " 3   Type           23547 non-null  object \n",
      " 4   Price          18396 non-null  float64\n",
      " 5   Method         23547 non-null  object \n",
      " 6   SellerG        23547 non-null  object \n",
      " 7   Date           23547 non-null  object \n",
      " 8   Distance       23546 non-null  float64\n",
      " 9   Postcode       23546 non-null  float64\n",
      " 10  Bedroom2       19066 non-null  float64\n",
      " 11  Bathroom       19063 non-null  float64\n",
      " 12  Car            18921 non-null  float64\n",
      " 13  Landsize       17410 non-null  float64\n",
      " 14  BuildingArea   10018 non-null  float64\n",
      " 15  YearBuilt      11540 non-null  float64\n",
      " 16  CouncilArea    15656 non-null  object \n",
      " 17  Lattitude      19243 non-null  float64\n",
      " 18  Longtitude     19243 non-null  float64\n",
      " 19  Regionname     23546 non-null  object \n",
      " 20  Propertycount  23546 non-null  float64\n",
      "dtypes: float64(13), object(8)\n",
      "memory usage: 3.8+ MB\n"
     ]
    }
   ],
   "source": [
    "df.info()"
   ]
  },
  {
   "cell_type": "raw",
   "metadata": {},
   "source": [
    "In this given dataset there are 8 columns(\"Suburb\",\"Address\",\"Type\",\"Method\",\"SellerG\",\"Date\",\"CouncilArea\",\"Regionname\") have object datatypes and rest of them are float datatypes. "
   ]
  },
  {
   "cell_type": "markdown",
   "metadata": {},
   "source": [
    "### 3. Determine the row indexes of rows having all null values (i.e. empty rows)."
   ]
  },
  {
   "cell_type": "code",
   "execution_count": 130,
   "metadata": {},
   "outputs": [
    {
     "data": {
      "text/html": [
       "<div>\n",
       "<style scoped>\n",
       "    .dataframe tbody tr th:only-of-type {\n",
       "        vertical-align: middle;\n",
       "    }\n",
       "\n",
       "    .dataframe tbody tr th {\n",
       "        vertical-align: top;\n",
       "    }\n",
       "\n",
       "    .dataframe thead th {\n",
       "        text-align: right;\n",
       "    }\n",
       "</style>\n",
       "<table border=\"1\" class=\"dataframe\">\n",
       "  <thead>\n",
       "    <tr style=\"text-align: right;\">\n",
       "      <th></th>\n",
       "      <th>Suburb</th>\n",
       "      <th>Address</th>\n",
       "      <th>Rooms</th>\n",
       "      <th>Type</th>\n",
       "      <th>Price</th>\n",
       "      <th>Method</th>\n",
       "      <th>SellerG</th>\n",
       "      <th>Date</th>\n",
       "      <th>Distance</th>\n",
       "      <th>Postcode</th>\n",
       "      <th>...</th>\n",
       "      <th>Bathroom</th>\n",
       "      <th>Car</th>\n",
       "      <th>Landsize</th>\n",
       "      <th>BuildingArea</th>\n",
       "      <th>YearBuilt</th>\n",
       "      <th>CouncilArea</th>\n",
       "      <th>Lattitude</th>\n",
       "      <th>Longtitude</th>\n",
       "      <th>Regionname</th>\n",
       "      <th>Propertycount</th>\n",
       "    </tr>\n",
       "  </thead>\n",
       "  <tbody>\n",
       "    <tr>\n",
       "      <th>0</th>\n",
       "      <td>False</td>\n",
       "      <td>False</td>\n",
       "      <td>False</td>\n",
       "      <td>False</td>\n",
       "      <td>True</td>\n",
       "      <td>False</td>\n",
       "      <td>False</td>\n",
       "      <td>False</td>\n",
       "      <td>False</td>\n",
       "      <td>False</td>\n",
       "      <td>...</td>\n",
       "      <td>False</td>\n",
       "      <td>False</td>\n",
       "      <td>False</td>\n",
       "      <td>True</td>\n",
       "      <td>True</td>\n",
       "      <td>False</td>\n",
       "      <td>False</td>\n",
       "      <td>False</td>\n",
       "      <td>False</td>\n",
       "      <td>False</td>\n",
       "    </tr>\n",
       "    <tr>\n",
       "      <th>1</th>\n",
       "      <td>False</td>\n",
       "      <td>False</td>\n",
       "      <td>False</td>\n",
       "      <td>False</td>\n",
       "      <td>False</td>\n",
       "      <td>False</td>\n",
       "      <td>False</td>\n",
       "      <td>False</td>\n",
       "      <td>False</td>\n",
       "      <td>False</td>\n",
       "      <td>...</td>\n",
       "      <td>False</td>\n",
       "      <td>False</td>\n",
       "      <td>False</td>\n",
       "      <td>True</td>\n",
       "      <td>True</td>\n",
       "      <td>False</td>\n",
       "      <td>False</td>\n",
       "      <td>False</td>\n",
       "      <td>False</td>\n",
       "      <td>False</td>\n",
       "    </tr>\n",
       "    <tr>\n",
       "      <th>2</th>\n",
       "      <td>False</td>\n",
       "      <td>False</td>\n",
       "      <td>False</td>\n",
       "      <td>False</td>\n",
       "      <td>False</td>\n",
       "      <td>False</td>\n",
       "      <td>False</td>\n",
       "      <td>False</td>\n",
       "      <td>False</td>\n",
       "      <td>False</td>\n",
       "      <td>...</td>\n",
       "      <td>False</td>\n",
       "      <td>False</td>\n",
       "      <td>False</td>\n",
       "      <td>False</td>\n",
       "      <td>False</td>\n",
       "      <td>False</td>\n",
       "      <td>False</td>\n",
       "      <td>False</td>\n",
       "      <td>False</td>\n",
       "      <td>False</td>\n",
       "    </tr>\n",
       "    <tr>\n",
       "      <th>3</th>\n",
       "      <td>False</td>\n",
       "      <td>False</td>\n",
       "      <td>False</td>\n",
       "      <td>False</td>\n",
       "      <td>True</td>\n",
       "      <td>False</td>\n",
       "      <td>False</td>\n",
       "      <td>False</td>\n",
       "      <td>False</td>\n",
       "      <td>False</td>\n",
       "      <td>...</td>\n",
       "      <td>False</td>\n",
       "      <td>False</td>\n",
       "      <td>False</td>\n",
       "      <td>True</td>\n",
       "      <td>True</td>\n",
       "      <td>False</td>\n",
       "      <td>False</td>\n",
       "      <td>False</td>\n",
       "      <td>False</td>\n",
       "      <td>False</td>\n",
       "    </tr>\n",
       "    <tr>\n",
       "      <th>4</th>\n",
       "      <td>False</td>\n",
       "      <td>False</td>\n",
       "      <td>False</td>\n",
       "      <td>False</td>\n",
       "      <td>False</td>\n",
       "      <td>False</td>\n",
       "      <td>False</td>\n",
       "      <td>False</td>\n",
       "      <td>False</td>\n",
       "      <td>False</td>\n",
       "      <td>...</td>\n",
       "      <td>False</td>\n",
       "      <td>False</td>\n",
       "      <td>False</td>\n",
       "      <td>False</td>\n",
       "      <td>False</td>\n",
       "      <td>False</td>\n",
       "      <td>False</td>\n",
       "      <td>False</td>\n",
       "      <td>False</td>\n",
       "      <td>False</td>\n",
       "    </tr>\n",
       "    <tr>\n",
       "      <th>...</th>\n",
       "      <td>...</td>\n",
       "      <td>...</td>\n",
       "      <td>...</td>\n",
       "      <td>...</td>\n",
       "      <td>...</td>\n",
       "      <td>...</td>\n",
       "      <td>...</td>\n",
       "      <td>...</td>\n",
       "      <td>...</td>\n",
       "      <td>...</td>\n",
       "      <td>...</td>\n",
       "      <td>...</td>\n",
       "      <td>...</td>\n",
       "      <td>...</td>\n",
       "      <td>...</td>\n",
       "      <td>...</td>\n",
       "      <td>...</td>\n",
       "      <td>...</td>\n",
       "      <td>...</td>\n",
       "      <td>...</td>\n",
       "      <td>...</td>\n",
       "    </tr>\n",
       "    <tr>\n",
       "      <th>23673</th>\n",
       "      <td>False</td>\n",
       "      <td>False</td>\n",
       "      <td>False</td>\n",
       "      <td>False</td>\n",
       "      <td>True</td>\n",
       "      <td>False</td>\n",
       "      <td>False</td>\n",
       "      <td>False</td>\n",
       "      <td>False</td>\n",
       "      <td>False</td>\n",
       "      <td>...</td>\n",
       "      <td>False</td>\n",
       "      <td>False</td>\n",
       "      <td>False</td>\n",
       "      <td>False</td>\n",
       "      <td>False</td>\n",
       "      <td>True</td>\n",
       "      <td>False</td>\n",
       "      <td>False</td>\n",
       "      <td>False</td>\n",
       "      <td>False</td>\n",
       "    </tr>\n",
       "    <tr>\n",
       "      <th>23674</th>\n",
       "      <td>False</td>\n",
       "      <td>False</td>\n",
       "      <td>False</td>\n",
       "      <td>False</td>\n",
       "      <td>True</td>\n",
       "      <td>False</td>\n",
       "      <td>False</td>\n",
       "      <td>False</td>\n",
       "      <td>False</td>\n",
       "      <td>False</td>\n",
       "      <td>...</td>\n",
       "      <td>True</td>\n",
       "      <td>True</td>\n",
       "      <td>True</td>\n",
       "      <td>True</td>\n",
       "      <td>True</td>\n",
       "      <td>True</td>\n",
       "      <td>False</td>\n",
       "      <td>False</td>\n",
       "      <td>False</td>\n",
       "      <td>False</td>\n",
       "    </tr>\n",
       "    <tr>\n",
       "      <th>23675</th>\n",
       "      <td>False</td>\n",
       "      <td>False</td>\n",
       "      <td>False</td>\n",
       "      <td>False</td>\n",
       "      <td>False</td>\n",
       "      <td>False</td>\n",
       "      <td>False</td>\n",
       "      <td>False</td>\n",
       "      <td>False</td>\n",
       "      <td>False</td>\n",
       "      <td>...</td>\n",
       "      <td>False</td>\n",
       "      <td>False</td>\n",
       "      <td>True</td>\n",
       "      <td>True</td>\n",
       "      <td>True</td>\n",
       "      <td>True</td>\n",
       "      <td>False</td>\n",
       "      <td>False</td>\n",
       "      <td>False</td>\n",
       "      <td>False</td>\n",
       "    </tr>\n",
       "    <tr>\n",
       "      <th>23676</th>\n",
       "      <td>False</td>\n",
       "      <td>False</td>\n",
       "      <td>False</td>\n",
       "      <td>False</td>\n",
       "      <td>False</td>\n",
       "      <td>False</td>\n",
       "      <td>False</td>\n",
       "      <td>False</td>\n",
       "      <td>False</td>\n",
       "      <td>False</td>\n",
       "      <td>...</td>\n",
       "      <td>False</td>\n",
       "      <td>False</td>\n",
       "      <td>False</td>\n",
       "      <td>False</td>\n",
       "      <td>False</td>\n",
       "      <td>True</td>\n",
       "      <td>False</td>\n",
       "      <td>False</td>\n",
       "      <td>False</td>\n",
       "      <td>False</td>\n",
       "    </tr>\n",
       "    <tr>\n",
       "      <th>23677</th>\n",
       "      <td>False</td>\n",
       "      <td>False</td>\n",
       "      <td>False</td>\n",
       "      <td>False</td>\n",
       "      <td>False</td>\n",
       "      <td>False</td>\n",
       "      <td>False</td>\n",
       "      <td>False</td>\n",
       "      <td>False</td>\n",
       "      <td>False</td>\n",
       "      <td>...</td>\n",
       "      <td>False</td>\n",
       "      <td>False</td>\n",
       "      <td>True</td>\n",
       "      <td>False</td>\n",
       "      <td>False</td>\n",
       "      <td>True</td>\n",
       "      <td>False</td>\n",
       "      <td>False</td>\n",
       "      <td>False</td>\n",
       "      <td>False</td>\n",
       "    </tr>\n",
       "  </tbody>\n",
       "</table>\n",
       "<p>23678 rows × 21 columns</p>\n",
       "</div>"
      ],
      "text/plain": [
       "       Suburb  Address  Rooms   Type  Price  Method  SellerG   Date  Distance  \\\n",
       "0       False    False  False  False   True   False    False  False     False   \n",
       "1       False    False  False  False  False   False    False  False     False   \n",
       "2       False    False  False  False  False   False    False  False     False   \n",
       "3       False    False  False  False   True   False    False  False     False   \n",
       "4       False    False  False  False  False   False    False  False     False   \n",
       "...       ...      ...    ...    ...    ...     ...      ...    ...       ...   \n",
       "23673   False    False  False  False   True   False    False  False     False   \n",
       "23674   False    False  False  False   True   False    False  False     False   \n",
       "23675   False    False  False  False  False   False    False  False     False   \n",
       "23676   False    False  False  False  False   False    False  False     False   \n",
       "23677   False    False  False  False  False   False    False  False     False   \n",
       "\n",
       "       Postcode  ...  Bathroom    Car  Landsize  BuildingArea  YearBuilt  \\\n",
       "0         False  ...     False  False     False          True       True   \n",
       "1         False  ...     False  False     False          True       True   \n",
       "2         False  ...     False  False     False         False      False   \n",
       "3         False  ...     False  False     False          True       True   \n",
       "4         False  ...     False  False     False         False      False   \n",
       "...         ...  ...       ...    ...       ...           ...        ...   \n",
       "23673     False  ...     False  False     False         False      False   \n",
       "23674     False  ...      True   True      True          True       True   \n",
       "23675     False  ...     False  False      True          True       True   \n",
       "23676     False  ...     False  False     False         False      False   \n",
       "23677     False  ...     False  False      True         False      False   \n",
       "\n",
       "       CouncilArea  Lattitude  Longtitude  Regionname  Propertycount  \n",
       "0            False      False       False       False          False  \n",
       "1            False      False       False       False          False  \n",
       "2            False      False       False       False          False  \n",
       "3            False      False       False       False          False  \n",
       "4            False      False       False       False          False  \n",
       "...            ...        ...         ...         ...            ...  \n",
       "23673         True      False       False       False          False  \n",
       "23674         True      False       False       False          False  \n",
       "23675         True      False       False       False          False  \n",
       "23676         True      False       False       False          False  \n",
       "23677         True      False       False       False          False  \n",
       "\n",
       "[23678 rows x 21 columns]"
      ]
     },
     "execution_count": 130,
     "metadata": {},
     "output_type": "execute_result"
    }
   ],
   "source": [
    "df.isnull()"
   ]
  },
  {
   "cell_type": "code",
   "execution_count": 131,
   "metadata": {},
   "outputs": [
    {
     "name": "stdout",
     "output_type": "stream",
     "text": [
      "[0, 1, 3, 5, 7, 8, 9, 10, 12, 13, 15, 16, 17, 19, 20, 21, 22, 23, 26, 27, 28, 29, 31, 32, 34, 35, 37, 40, 41, 42, 46, 47, 48, 49, 51, 53, 54, 55, 56, 61, 63, 65, 66, 70, 75, 76, 77, 78, 79, 80, 81, 85, 88, 90, 92, 93, 94, 95, 96, 97, 98, 100, 102, 103, 106, 108, 111, 112, 116, 117, 118, 119, 120, 121, 122, 123, 124, 125, 126, 127, 128, 129, 131, 132, 133, 135, 138, 140, 141, 142, 144, 145, 147, 149, 151, 152, 154, 155, 157, 158, 159, 161, 164, 165, 166, 168, 170, 171, 172, 174, 175, 176, 180, 181, 182, 183, 185, 186, 188, 189, 190, 191, 193, 195, 197, 198, 199, 200, 201, 204, 207, 208, 209, 210, 211, 212, 213, 214, 219, 221, 222, 223, 224, 225, 226, 228, 229, 235, 238, 240, 241, 244, 246, 248, 249, 251, 253, 254, 255, 257, 258, 259, 261, 264, 266, 267, 268, 269, 271, 272, 273, 274, 275, 276, 278, 280, 281, 282, 284, 287, 288, 289, 291, 292, 294, 295, 297, 298, 299, 301, 303, 304, 305, 306, 308, 309, 310, 311, 312, 313, 314, 315, 316, 317, 318, 319, 320, 321, 324, 325, 326, 327, 328, 329, 330, 331, 332, 333, 334, 335, 336, 337, 338, 339, 342, 345, 346, 347, 348, 349, 351, 352, 353, 354, 355, 356, 358, 359, 360, 361, 363, 364, 365, 367, 370, 371, 373, 374, 375, 377, 378, 379, 380, 382, 383, 385, 386, 387, 388, 389, 390, 391, 392, 394, 395, 396, 397, 398, 399, 400, 402, 404, 405, 406, 407, 409, 412, 413, 414, 415, 416, 418, 420, 421, 422, 423, 424, 425, 426, 428, 429, 430, 431, 432, 434, 435, 436, 437, 438, 440, 441, 443, 444, 447, 448, 449, 450, 451, 452, 453, 455, 457, 459, 460, 461, 463, 464, 465, 470, 471, 472, 473, 475, 476, 477, 478, 479, 480, 482, 483, 484, 485, 486, 489, 490, 494, 499, 503, 506, 508, 510, 511, 512, 514, 515, 517, 518, 519, 521, 522, 523, 524, 525, 530, 533, 535, 536, 543, 546, 547, 548, 550, 552, 555, 557, 559, 560, 561, 562, 563, 564, 568, 569, 572, 576, 579, 581, 582, 584, 585, 586, 587, 589, 590, 593, 594, 596, 597, 599, 601, 603, 604, 605, 606, 607, 609, 610, 611, 612, 613, 614, 618, 619, 622, 623, 625, 626, 627, 628, 630, 632, 634, 635, 636, 637, 638, 639, 640, 641, 642, 644, 645, 646, 648, 649, 650, 652, 653, 654, 656, 657, 658, 659, 661, 662, 663, 665, 669, 672, 673, 676, 677, 679, 680, 681, 682, 683, 684, 685, 688, 690, 693, 694, 697, 698, 699, 700, 701, 702, 705, 707, 708, 709, 710, 712, 713, 714, 716, 717, 718, 719, 720, 721, 722, 724, 726, 727, 728, 729, 730, 733, 735, 736, 737, 738, 739, 741, 742, 743, 745, 747, 748, 752, 753, 754, 756, 757, 758, 759, 760, 762, 763, 764, 765, 767, 768, 769, 771, 772, 773, 774, 775, 776, 777, 778, 779, 780, 781, 782, 783, 784, 785, 786, 787, 788, 789, 792, 794, 795, 796, 797, 799, 801, 802, 803, 805, 806, 807, 809, 810, 811, 812, 814, 815, 817, 818, 820, 821, 822, 823, 826, 827, 829, 830, 831, 835, 838, 842, 844, 845, 846, 847, 852, 853, 856, 857, 860, 862, 863, 864, 865, 866, 867, 868, 869, 871, 872, 873, 874, 876, 877, 878, 879, 880, 881, 883, 886, 887, 888, 890, 892, 893, 894, 895, 897, 898, 899, 903, 904, 906, 907, 908, 909, 910, 912, 913, 915, 916, 918, 919, 920, 921, 922, 923, 924, 926, 927, 928, 929, 930, 932, 934, 935, 937, 938, 939, 940, 942, 943, 944, 945, 946, 947, 948, 949, 950, 951, 952, 953, 954, 957, 958, 959, 960, 961, 963, 964, 965, 966, 967, 968, 971, 972, 973, 974, 975, 976, 977, 978, 979, 980, 981, 984, 985, 987, 989, 990, 991, 992, 993, 994, 995, 997, 998, 1000, 1001, 1003, 1004, 1005, 1007, 1008, 1010, 1014, 1015, 1016, 1017, 1022, 1023, 1024, 1027, 1028, 1029, 1034, 1035, 1036, 1037, 1038, 1040, 1041, 1043, 1044, 1045, 1046, 1047, 1048, 1050, 1051, 1052, 1053, 1054, 1057, 1058, 1059, 1061, 1063, 1064, 1065, 1067, 1070, 1072, 1074, 1075, 1076, 1077, 1078, 1080, 1081, 1082, 1083, 1084, 1085, 1087, 1088, 1090, 1093, 1095, 1098, 1099, 1101, 1102, 1103, 1104, 1106, 1108, 1109, 1110, 1112, 1113, 1114, 1116, 1117, 1118, 1119, 1120, 1123, 1124, 1125, 1126, 1127, 1129, 1130, 1131, 1133, 1134, 1135, 1137, 1139, 1140, 1141, 1143, 1144, 1145, 1146, 1147, 1149, 1150, 1151, 1152, 1153, 1154, 1155, 1156, 1157, 1159, 1160, 1161, 1162, 1164, 1165, 1166, 1168, 1170, 1171, 1172, 1174, 1175, 1176, 1177, 1178, 1179, 1180, 1181, 1182, 1183, 1184, 1185, 1189, 1190, 1191, 1193, 1194, 1195, 1197, 1198, 1199, 1200, 1201, 1202, 1203, 1205, 1207, 1208, 1209, 1210, 1211, 1212, 1214, 1215, 1216, 1217, 1218, 1222, 1223, 1224, 1225, 1226, 1227, 1228, 1229, 1230, 1231, 1235, 1238, 1239, 1242, 1243, 1245, 1246, 1247, 1248, 1252, 1254, 1255, 1256, 1258, 1259, 1263, 1264, 1265, 1266, 1268, 1269, 1270, 1271, 1274, 1276, 1277, 1278, 1281, 1282, 1283, 1284, 1285, 1286, 1287, 1288, 1290, 1291, 1292, 1293, 1295, 1297, 1299, 1301, 1302, 1304, 1305, 1307, 1308, 1309, 1310, 1312, 1313, 1314, 1315, 1319, 1320, 1321, 1322, 1324, 1325, 1326, 1327, 1328, 1329, 1330, 1332, 1333, 1334, 1336, 1337, 1338, 1340, 1341, 1343, 1345, 1346, 1348, 1349, 1351, 1352, 1353, 1354, 1356, 1357, 1358, 1359, 1360, 1361, 1362, 1363, 1366, 1367, 1368, 1370, 1371, 1372, 1373, 1374, 1375, 1376, 1377, 1378, 1379, 1380, 1382, 1383, 1384, 1385, 1386, 1387, 1389, 1391, 1394, 1395, 1396, 1397, 1399, 1406, 1407, 1408, 1410, 1411, 1412, 1414, 1416, 1417, 1418, 1419, 1420, 1421, 1422, 1423, 1425, 1426, 1427, 1430, 1431, 1432, 1433, 1434, 1435, 1439, 1440, 1441, 1442, 1443, 1444, 1445, 1446, 1447, 1448, 1449, 1450, 1451, 1453, 1454, 1456, 1457, 1459, 1460, 1461, 1462, 1465, 1466, 1467, 1468, 1469, 1471, 1472, 1474, 1476, 1477, 1478, 1479, 1481, 1482, 1483, 1486, 1489, 1490, 1491, 1494, 1496, 1498, 1499, 1502, 1503, 1504, 1506, 1510, 1511, 1512, 1513, 1515, 1516, 1517, 1518, 1519, 1521, 1522, 1523, 1524, 1525, 1527, 1528, 1529, 1530, 1534, 1535, 1536, 1538, 1545, 1546, 1547, 1550, 1552, 1554, 1555, 1556, 1557, 1558, 1559, 1560, 1561, 1564, 1565, 1567, 1570, 1573, 1577, 1580, 1581, 1582, 1583, 1585, 1586, 1587, 1589, 1590, 1591, 1592, 1593, 1594, 1596, 1598, 1600, 1602, 1603, 1604, 1605, 1606, 1607, 1608, 1609, 1610, 1611, 1613, 1614, 1615, 1617, 1618, 1619, 1621, 1624, 1627, 1628, 1629, 1630, 1632, 1634, 1635, 1636, 1637, 1638, 1639, 1640, 1642, 1643, 1647, 1649, 1650, 1658, 1659, 1662, 1664, 1665, 1666, 1669, 1671, 1672, 1673, 1674, 1677, 1678, 1679, 1680, 1681, 1682, 1683, 1686, 1687, 1688, 1689, 1690, 1691, 1695, 1699, 1701, 1702, 1703, 1704, 1708, 1709, 1710, 1711, 1712, 1713, 1714, 1715, 1716, 1718, 1720, 1722, 1723, 1724, 1725, 1726, 1730, 1732, 1734, 1735, 1736, 1738, 1739, 1740, 1741, 1743, 1744, 1746, 1748, 1750, 1751, 1752, 1754, 1755, 1759, 1760, 1761, 1762, 1764, 1765, 1766, 1767, 1769, 1771, 1772, 1773, 1775, 1776, 1777, 1782, 1783, 1784, 1785, 1786, 1787, 1788, 1790, 1791, 1793, 1794, 1795, 1796, 1797, 1798, 1799, 1800, 1801, 1802, 1803, 1805, 1808, 1809, 1810, 1811, 1812, 1814, 1815, 1816, 1817, 1818, 1819, 1820, 1823, 1824, 1825, 1827, 1828, 1829, 1830, 1831, 1833, 1834, 1836, 1837, 1839, 1841, 1842, 1843, 1845, 1847, 1849, 1850, 1851, 1852, 1853, 1855, 1856, 1857, 1859, 1860, 1862, 1863, 1864, 1865, 1867, 1868, 1869, 1871, 1872, 1873, 1874, 1875, 1877, 1878, 1879, 1880, 1882, 1884, 1885, 1886, 1888, 1889, 1890, 1892, 1893, 1895, 1896, 1897, 1898, 1899, 1900, 1901, 1902, 1903, 1904, 1905, 1908, 1909, 1911, 1912, 1913, 1915, 1916, 1917, 1918, 1919, 1920, 1923, 1925, 1926, 1927, 1928, 1929, 1930, 1931, 1932, 1933, 1934, 1935, 1938, 1940, 1941, 1942, 1943, 1944, 1946, 1947, 1948, 1950, 1952, 1953, 1955, 1956, 1957, 1958, 1960, 1961, 1962, 1963, 1965, 1966, 1967, 1968, 1970, 1971, 1972, 1973, 1974, 1975, 1976, 1977, 1978, 1979, 1980, 1984, 1985, 1986, 1988, 1989, 1991, 1992, 1993, 1997, 1998, 1999, 2002, 2003, 2004, 2006, 2007, 2008, 2010, 2011, 2013, 2014, 2016, 2017, 2018, 2020, 2024, 2025, 2026, 2027, 2028, 2029, 2030, 2033, 2034, 2035, 2037, 2038, 2039, 2041, 2042, 2043, 2044, 2045, 2051, 2052, 2053, 2055, 2056, 2057, 2058, 2060, 2061, 2062, 2064, 2065, 2066, 2067, 2068, 2069, 2071, 2072, 2073, 2074, 2075, 2076, 2077, 2078, 2079, 2080, 2081, 2082, 2084, 2085, 2086, 2087, 2088, 2089, 2090, 2091, 2092, 2093, 2094, 2095, 2096, 2098, 2100, 2101, 2102, 2103, 2105, 2106, 2107, 2108, 2109, 2110, 2111, 2112, 2115, 2116, 2117, 2118, 2119, 2120, 2122, 2123, 2125, 2127, 2129, 2131, 2133, 2134, 2135, 2137, 2138, 2139, 2140, 2141, 2143, 2147, 2148, 2149, 2150, 2152, 2156, 2157, 2160, 2161, 2162, 2164, 2166, 2167, 2171, 2172, 2173, 2175, 2177, 2179, 2180, 2182, 2185, 2186, 2187, 2189, 2191, 2192, 2193, 2194, 2195, 2197, 2198, 2199, 2200, 2201, 2202, 2205, 2206, 2208, 2209, 2210, 2212, 2213, 2214, 2220, 2223, 2224, 2226, 2227, 2228, 2232, 2233, 2237, 2240, 2242, 2243, 2245, 2247, 2250, 2252, 2253, 2257, 2258, 2259, 2260, 2263, 2265, 2266, 2267, 2269, 2270, 2271, 2272, 2273, 2274, 2276, 2277, 2278, 2279, 2281, 2283, 2284, 2286, 2288, 2293, 2295, 2298, 2301, 2302, 2304, 2305, 2306, 2307, 2308, 2311, 2312, 2314, 2318, 2320, 2323, 2324, 2325, 2329, 2330, 2331, 2333, 2336, 2337, 2339, 2341, 2342, 2343, 2344, 2345, 2346, 2347, 2348, 2352, 2354, 2357, 2358, 2359, 2360, 2365, 2366, 2367, 2368, 2369, 2372, 2373, 2374, 2375, 2376, 2377, 2378, 2380, 2385, 2386, 2388, 2389, 2391, 2394, 2395, 2396, 2397, 2399, 2400, 2406, 2407, 2413, 2414, 2418, 2419, 2422, 2423, 2424, 2426, 2427, 2428, 2430, 2433, 2435, 2438, 2440, 2441, 2442, 2444, 2446, 2448, 2450, 2451, 2452, 2453, 2456, 2457, 2458, 2459, 2460, 2461, 2462, 2464, 2465, 2467, 2468, 2470, 2471, 2472, 2474, 2475, 2476, 2477, 2480, 2481, 2483, 2485, 2486, 2487, 2488, 2489, 2490, 2492, 2493, 2494, 2495, 2497, 2498, 2499, 2500, 2502, 2503, 2504, 2505, 2506, 2507, 2508, 2509, 2510, 2512, 2513, 2514, 2515, 2518, 2519, 2521, 2522, 2523, 2524, 2525, 2526, 2527, 2528, 2530, 2532, 2533, 2534, 2536, 2538, 2539, 2540, 2543, 2544, 2545, 2546, 2547, 2548, 2549, 2550, 2552, 2553, 2555, 2557, 2558, 2560, 2561, 2562, 2563, 2564, 2566, 2567, 2568, 2570, 2572, 2573, 2576, 2577, 2579, 2580, 2581, 2582, 2583, 2584, 2585, 2586, 2587, 2588, 2589, 2590, 2592, 2593, 2594, 2595, 2597, 2598, 2599, 2600, 2601, 2603, 2604, 2605, 2606, 2607, 2608, 2610, 2611, 2612, 2613, 2614, 2615, 2616, 2617, 2618, 2621, 2623, 2624, 2625, 2626, 2627, 2630, 2631, 2632, 2633, 2634, 2636, 2637, 2638, 2639, 2640, 2641, 2642, 2643, 2644, 2645, 2646, 2647, 2648, 2650, 2651, 2656, 2657, 2658, 2659, 2660, 2661, 2662, 2665, 2666, 2668, 2669, 2670, 2671, 2672, 2673, 2674, 2675, 2676, 2677, 2678, 2679, 2680, 2681, 2682, 2683, 2684, 2687, 2688, 2689, 2692, 2693, 2695, 2696, 2697, 2698, 2699, 2700, 2701, 2702, 2704, 2705, 2706, 2707, 2709, 2710, 2711, 2713, 2714, 2716, 2719, 2720, 2721, 2722, 2725, 2726, 2728, 2729, 2730, 2732, 2733, 2734, 2735, 2737, 2738, 2739, 2740, 2741, 2742, 2743, 2744, 2745, 2746, 2747, 2748, 2749, 2750, 2751, 2752, 2753, 2754, 2755, 2756, 2757, 2758, 2759, 2760, 2762, 2763, 2764, 2765, 2766, 2768, 2769, 2770, 2771, 2772, 2774, 2776, 2777, 2778, 2780, 2781, 2783, 2784, 2785, 2786, 2787, 2788, 2789, 2792, 2794, 2796, 2797, 2799, 2800, 2803, 2805, 2808, 2809, 2810, 2811, 2812, 2813, 2814, 2816, 2817, 2819, 2820, 2821, 2822, 2823, 2824, 2825, 2826, 2827, 2829, 2830, 2833, 2837, 2839, 2842, 2843, 2845, 2846, 2848, 2850, 2853, 2855, 2856, 2857, 2858, 2859, 2860, 2862, 2863, 2864, 2865, 2866, 2867, 2869, 2870, 2871, 2872, 2873, 2874, 2875, 2876, 2877, 2878, 2879, 2880, 2882, 2883, 2884, 2885, 2888, 2889, 2890, 2892, 2893, 2894, 2896, 2898, 2899, 2901, 2902, 2903, 2904, 2905, 2907, 2908, 2910, 2912, 2913, 2915, 2916, 2917, 2918, 2920, 2923, 2924, 2927, 2928, 2930, 2931, 2932, 2935, 2941, 2944, 2945, 2948, 2949, 2950, 2951, 2953, 2954, 2955, 2956, 2957, 2958, 2959, 2961, 2965, 2966, 2968, 2969, 2970, 2971, 2972, 2973, 2977, 2978, 2979, 2981, 2983, 2984, 2986, 2988, 2991, 2994, 2995, 2996, 2998, 2999, 3000, 3001, 3002, 3003, 3004, 3007, 3011, 3012, 3013, 3014, 3015, 3016, 3019, 3020, 3022, 3023, 3024, 3026, 3027, 3028, 3031, 3033, 3036, 3037, 3038, 3040, 3042, 3045, 3046, 3048, 3051, 3052, 3053, 3056, 3058, 3060, 3061, 3062, 3063, 3065, 3066, 3068, 3069, 3070, 3072, 3074, 3076, 3078, 3080, 3081, 3082, 3083, 3085, 3086, 3087, 3089, 3090, 3091, 3092, 3093, 3094, 3096, 3097, 3098, 3100, 3101, 3102, 3104, 3106, 3107, 3110, 3111, 3113, 3114, 3115, 3116, 3117, 3118, 3119, 3120, 3121, 3122, 3123, 3124, 3125, 3126, 3130, 3132, 3134, 3137, 3138, 3139, 3140, 3141, 3143, 3144, 3145, 3147, 3148, 3150, 3152, 3154, 3156, 3157, 3158, 3159, 3160, 3161, 3162, 3164, 3165, 3167, 3168, 3170, 3171, 3172, 3173, 3174, 3177, 3178, 3179, 3181, 3182, 3183, 3185, 3186, 3188, 3189, 3190, 3191, 3192, 3194, 3195, 3196, 3197, 3198, 3200, 3201, 3202, 3203, 3204, 3205, 3206, 3208, 3209, 3210, 3212, 3214, 3215, 3216, 3217, 3219, 3222, 3223, 3229, 3231, 3232, 3233, 3235, 3237, 3238, 3239, 3240, 3241, 3242, 3243, 3245, 3246, 3247, 3248, 3250, 3251, 3252, 3254, 3255, 3256, 3257, 3259, 3260, 3261, 3263, 3264, 3265, 3266, 3267, 3268, 3269, 3270, 3272, 3273, 3275, 3276, 3277, 3279, 3281, 3282, 3283, 3285, 3286, 3287, 3288, 3291, 3293, 3294, 3295, 3297, 3298, 3302, 3303, 3304, 3305, 3307, 3309, 3310, 3318, 3320, 3321, 3323, 3325, 3326, 3328, 3329, 3330, 3331, 3332, 3333, 3334, 3335, 3336, 3338, 3339, 3340, 3341, 3343, 3346, 3350, 3352, 3354, 3355, 3356, 3357, 3360, 3361, 3362, 3363, 3364, 3365, 3366, 3367, 3368, 3369, 3371, 3372, 3373, 3374, 3375, 3377, 3378, 3379, 3380, 3381, 3382, 3385, 3386, 3387, 3388, 3389, 3393, 3395, 3396, 3400, 3401, 3403, 3404, 3405, 3410, 3413, 3415, 3417, 3418, 3420, 3421, 3422, 3424, 3426, 3427, 3428, 3431, 3433, 3436, 3437, 3438, 3439, 3443, 3445, 3449, 3450, 3451, 3452, 3455, 3457, 3458, 3459, 3460, 3461, 3462, 3463, 3464, 3465, 3469, 3471, 3472, 3473, 3475, 3477, 3478, 3481, 3483, 3485, 3486, 3487, 3490, 3491, 3493, 3496, 3498, 3499, 3500, 3501, 3502, 3503, 3504, 3505, 3506, 3507, 3508, 3509, 3510, 3511, 3512, 3513, 3516, 3517, 3518, 3521, 3522, 3523, 3524, 3525, 3526, 3527, 3532, 3533, 3534, 3535, 3536, 3540, 3541, 3542, 3543, 3545, 3548, 3549, 3551, 3552, 3555, 3556, 3558, 3559, 3562, 3564, 3566, 3567, 3569, 3571, 3574, 3575, 3576, 3577, 3578, 3579, 3581, 3583, 3584, 3588, 3590, 3592, 3594, 3595, 3596, 3598, 3599, 3601, 3603, 3604, 3605, 3606, 3607, 3608, 3610, 3611, 3613, 3614, 3617, 3619, 3620, 3625, 3627, 3628, 3630, 3631, 3633, 3635, 3636, 3637, 3638, 3639, 3641, 3642, 3643, 3644, 3645, 3646, 3647, 3649, 3650, 3651, 3652, 3653, 3654, 3655, 3657, 3658, 3660, 3662, 3664, 3667, 3670, 3671, 3672, 3673, 3674, 3675, 3677, 3678, 3679, 3680, 3685, 3686, 3687, 3690, 3691, 3692, 3693, 3695, 3698, 3699, 3700, 3701, 3703, 3704, 3705, 3712, 3714, 3715, 3716, 3717, 3718, 3719, 3720, 3721, 3722, 3723, 3725, 3727, 3728, 3729, 3730, 3735, 3737, 3739, 3742, 3744, 3745, 3748, 3749, 3751, 3752, 3755, 3757, 3758, 3759, 3760, 3761, 3765, 3766, 3767, 3768, 3769, 3772, 3775, 3778, 3780, 3781, 3782, 3783, 3784, 3790, 3791, 3792, 3793, 3794, 3795, 3796, 3797, 3798, 3804, 3807, 3812, 3814, 3815, 3816, 3818, 3819, 3820, 3821, 3822, 3823, 3825, 3826, 3829, 3830, 3833, 3835, 3836, 3839, 3840, 3841, 3842, 3843, 3845, 3846, 3848, 3850, 3851, 3852, 3853, 3854, 3855, 3857, 3861, 3862, 3864, 3866, 3868, 3869, 3870, 3871, 3873, 3875, 3876, 3878, 3880, 3881, 3882, 3884, 3886, 3887, 3888, 3889, 3890, 3891, 3892, 3893, 3894, 3897, 3899, 3902, 3903, 3904, 3905, 3906, 3907, 3909, 3910, 3913, 3914, 3915, 3916, 3921, 3922, 3924, 3925, 3927, 3928, 3929, 3936, 3939, 3940, 3941, 3945, 3946, 3947, 3948, 3951, 3953, 3955, 3956, 3957, 3958, 3959, 3960, 3964, 3965, 3966, 3968, 3969, 3971, 3975, 3976, 3979, 3982, 3984, 3986, 3987, 3988, 3989, 3993, 3994, 3995, 3996, 3997, 3998, 4000, 4001, 4002, 4003, 4004, 4005, 4007, 4008, 4009, 4010, 4011, 4012, 4015, 4017, 4018, 4019, 4020, 4022, 4023, 4024, 4026, 4031, 4033, 4035, 4036, 4038, 4039, 4040, 4042, 4045, 4046, 4047, 4048, 4049, 4050, 4054, 4055, 4058, 4059, 4061, 4063, 4065, 4067, 4069, 4071, 4072, 4074, 4075, 4076, 4077, 4078, 4079, 4081, 4083, 4084, 4088, 4089, 4090, 4092, 4093, 4094, 4095, 4096, 4097, 4100, 4103, 4105, 4106, 4108, 4109, 4110, 4111, 4114, 4115, 4116, 4117, 4118, 4121, 4123, 4124, 4126, 4131, 4132, 4133, 4134, 4135, 4136, 4137, 4139, 4140, 4142, 4147, 4148, 4150, 4151, 4152, 4153, 4155, 4159, 4161, 4162, 4164, 4165, 4167, 4168, 4169, 4170, 4174, 4177, 4179, 4181, 4182, 4184, 4185, 4186, 4187, 4189, 4190, 4191, 4192, 4193, 4194, 4197, 4198, 4200, 4201, 4206, 4207, 4208, 4210, 4212, 4214, 4215, 4217, 4218, 4219, 4220, 4222, 4223, 4224, 4225, 4227, 4230, 4231, 4232, 4233, 4235, 4236, 4237, 4239, 4240, 4241, 4242, 4245, 4246, 4248, 4250, 4251, 4253, 4254, 4257, 4258, 4263, 4264, 4265, 4269, 4271, 4272, 4273, 4274, 4275, 4277, 4279, 4283, 4284, 4285, 4287, 4288, 4290, 4291, 4292, 4293, 4294, 4298, 4299, 4300, 4301, 4304, 4305, 4306, 4307, 4308, 4311, 4314, 4315, 4317, 4318, 4320, 4321, 4322, 4323, 4325, 4326, 4327, 4328, 4330, 4331, 4333, 4335, 4336, 4340, 4341, 4343, 4344, 4345, 4346, 4347, 4349, 4350, 4352, 4353, 4354, 4355, 4357, 4360, 4363, 4365, 4366, 4367, 4368, 4369, 4371, 4372, 4373, 4374, 4376, 4377, 4378, 4380, 4383, 4384, 4385, 4387, 4388, 4391, 4392, 4393, 4394, 4396, 4407, 4409, 4412, 4413, 4415, 4417, 4418, 4420, 4423, 4424, 4425, 4429, 4431, 4432, 4435, 4436, 4437, 4445, 4447, 4448, 4450, 4452, 4453, 4454, 4457, 4458, 4459, 4460, 4461, 4462, 4465, 4468, 4469, 4470, 4476, 4477, 4478, 4479, 4482, 4485, 4487, 4488, 4489, 4490, 4491, 4492, 4494, 4496, 4499, 4501, 4502, 4503, 4504, 4505, 4507, 4510, 4511, 4517, 4518, 4519, 4523, 4524, 4525, 4526, 4527, 4530, 4531, 4532, 4533, 4534, 4536, 4537, 4540, 4541, 4542, 4543, 4545, 4547, 4548, 4550, 4551, 4553, 4557, 4558, 4559, 4562, 4563, 4564, 4565, 4566, 4567, 4570, 4571, 4573, 4574, 4575, 4576, 4577, 4578, 4579, 4580, 4582, 4583, 4584, 4585, 4586, 4587, 4588, 4589, 4590, 4592, 4593, 4595, 4596, 4597, 4598, 4600, 4601, 4602, 4603, 4604, 4606, 4608, 4609, 4610, 4612, 4613, 4614, 4615, 4616, 4618, 4619, 4620, 4621, 4622, 4623, 4624, 4627, 4628, 4629, 4630, 4631, 4632, 4634, 4636, 4637, 4638, 4639, 4640, 4641, 4642, 4643, 4645, 4647, 4648, 4649, 4650, 4651, 4652, 4654, 4655, 4656, 4658, 4659, 4660, 4661, 4664, 4666, 4667, 4668, 4669, 4670, 4671, 4673, 4674, 4675, 4676, 4677, 4678, 4679, 4680, 4681, 4682, 4683, 4685, 4686, 4687, 4688, 4692, 4693, 4694, 4695, 4696, 4697, 4698, 4699, 4700, 4701, 4702, 4703, 4704, 4705, 4710, 4711, 4714, 4716, 4717, 4721, 4723, 4724, 4725, 4726, 4727, 4728, 4729, 4730, 4731, 4733, 4734, 4735, 4737, 4739, 4740, 4742, 4743, 4744, 4745, 4746, 4747, 4749, 4750, 4753, 4754, 4755, 4756, 4758, 4759, 4760, 4761, 4762, 4764, 4765, 4766, 4768, 4769, 4770, 4771, 4772, 4773, 4774, 4777, 4779, 4780, 4781, 4782, 4783, 4785, 4786, 4788, 4789, 4790, 4791, 4792, 4793, 4795, 4796, 4798, 4799, 4800, 4801, 4802, 4803, 4804, 4806, 4807, 4809, 4812, 4813, 4814, 4816, 4818, 4819, 4820, 4823, 4824, 4827, 4828, 4829, 4830, 4833, 4834, 4835, 4837, 4839, 4840, 4841, 4842, 4844, 4845, 4848, 4849, 4850, 4851, 4852, 4853, 4854, 4855, 4858, 4859, 4860, 4861, 4862, 4863, 4864, 4866, 4867, 4868, 4870, 4871, 4872, 4874, 4876, 4878, 4879, 4881, 4883, 4884, 4885, 4887, 4890, 4891, 4893, 4894, 4895, 4897, 4900, 4901, 4902, 4903, 4904, 4905, 4906, 4907, 4908, 4910, 4912, 4913, 4914, 4918, 4920, 4922, 4923, 4924, 4925, 4926, 4929, 4933, 4934, 4936, 4938, 4941, 4942, 4944, 4945, 4947, 4949, 4950, 4952, 4954, 4956, 4962, 4963, 4964, 4965, 4966, 4967, 4968, 4972, 4975, 4976, 4979, 4980, 4983, 4985, 4988, 4989, 4991, 4993, 4994, 4997, 4998, 4999, 5000, 5001, 5003, 5005, 5006, 5007, 5008, 5009, 5011, 5012, 5013, 5017, 5019, 5021, 5023, 5024, 5027, 5028, 5029, 5030, 5032, 5033, 5034, 5035, 5036, 5037, 5038, 5039, 5043, 5044, 5045, 5046, 5048, 5049, 5052, 5053, 5055, 5057, 5058, 5059, 5060, 5061, 5062, 5063, 5064, 5065, 5067, 5068, 5069, 5071, 5072, 5073, 5074, 5075, 5077, 5079, 5080, 5082, 5083, 5084, 5085, 5086, 5088, 5089, 5091, 5092, 5093, 5095, 5096, 5098, 5099, 5100, 5101, 5102, 5103, 5104, 5105, 5108, 5109, 5110, 5112, 5113, 5115, 5116, 5118, 5120, 5121, 5122, 5123, 5126, 5127, 5128, 5129, 5130, 5131, 5133, 5135, 5136, 5137, 5138, 5139, 5141, 5142, 5143, 5144, 5145, 5147, 5149, 5150, 5151, 5152, 5153, 5154, 5156, 5157, 5158, 5159, 5160, 5161, 5162, 5163, 5164, 5165, 5166, 5167, 5168, 5169, 5170, 5171, 5172, 5173, 5174, 5178, 5179, 5181, 5183, 5184, 5185, 5186, 5187, 5188, 5189, 5190, 5192, 5194, 5195, 5196, 5197, 5198, 5200, 5202, 5203, 5204, 5206, 5207, 5208, 5211, 5212, 5213, 5215, 5217, 5218, 5219, 5220, 5221, 5222, 5223, 5225, 5226, 5227, 5228, 5229, 5230, 5233, 5235, 5236, 5237, 5239, 5241, 5242, 5246, 5247, 5248, 5249, 5250, 5251, 5252, 5255, 5256, 5257, 5259, 5260, 5261, 5263, 5265, 5266, 5267, 5268, 5269, 5270, 5271, 5272, 5273, 5275, 5277, 5278, 5279, 5281, 5282, 5284, 5285, 5286, 5288, 5289, 5290, 5291, 5292, 5293, 5294, 5295, 5299, 5302, 5303, 5306, 5307, 5308, 5309, 5312, 5313, 5316, 5317, 5318, 5319, 5320, 5321, 5323, 5324, 5326, 5327, 5328, 5329, 5330, 5331, 5332, 5333, 5335, 5338, 5342, 5343, 5345, 5346, 5348, 5349, 5351, 5352, 5354, 5355, 5356, 5357, 5358, 5361, 5362, 5363, 5365, 5366, 5367, 5368, 5371, 5372, 5376, 5380, 5381, 5382, 5383, 5384, 5385, 5386, 5387, 5388, 5390, 5391, 5392, 5393, 5394, 5395, 5396, 5398, 5399, 5400, 5401, 5402, 5403, 5404, 5405, 5406, 5408, 5409, 5410, 5411, 5413, 5415, 5417, 5421, 5423, 5424, 5428, 5429, 5430, 5431, 5432, 5433, 5439, 5440, 5441, 5442, 5443, 5444, 5445, 5446, 5449, 5450, 5451, 5453, 5457, 5460, 5461, 5464, 5465, 5466, 5467, 5468, 5469, 5470, 5471, 5474, 5475, 5476, 5477, 5478, 5479, 5480, 5481, 5482, 5483, 5486, 5487, 5488, 5490, 5494, 5495, 5496, 5497, 5498, 5499, 5502, 5505, 5506, 5508, 5509, 5510, 5511, 5512, 5514, 5515, 5516, 5517, 5518, 5519, 5520, 5522, 5523, 5526, 5528, 5531, 5533, 5537, 5540, 5541, 5542, 5543, 5544, 5545, 5548, 5550, 5551, 5552, 5554, 5555, 5558, 5560, 5561, 5562, 5563, 5564, 5565, 5567, 5568, 5569, 5570, 5571, 5575, 5576, 5577, 5579, 5580, 5583, 5584, 5586, 5587, 5590, 5591, 5593, 5594, 5596, 5599, 5600, 5601, 5602, 5603, 5604, 5605, 5606, 5607, 5608, 5609, 5611, 5614, 5615, 5616, 5617, 5618, 5620, 5621, 5623, 5624, 5625, 5626, 5627, 5629, 5631, 5632, 5633, 5634, 5637, 5640, 5642, 5643, 5645, 5648, 5649, 5651, 5652, 5653, 5654, 5655, 5656, 5658, 5659, 5660, 5661, 5663, 5666, 5667, 5668, 5669, 5670, 5671, 5672, 5673, 5674, 5675, 5676, 5677, 5678, 5679, 5681, 5684, 5688, 5689, 5691, 5694, 5695, 5697, 5698, 5700, 5701, 5703, 5705, 5706, 5708, 5711, 5713, 5715, 5719, 5721, 5722, 5723, 5724, 5726, 5728, 5730, 5731, 5732, 5733, 5734, 5735, 5738, 5739, 5740, 5741, 5742, 5743, 5746, 5747, 5749, 5750, 5751, 5752, 5753, 5754, 5756, 5758, 5761, 5763, 5767, 5768, 5769, 5770, 5772, 5775, 5776, 5778, 5779, 5780, 5781, 5782, 5783, 5784, 5787, 5790, 5793, 5795, 5796, 5799, 5800, 5801, 5802, 5804, 5805, 5806, 5810, 5811, 5812, 5814, 5817, 5821, 5822, 5825, 5828, 5830, 5831, 5833, 5834, 5837, 5838, 5839, 5841, 5842, 5843, 5844, 5847, 5853, 5854, 5855, 5857, 5859, 5861, 5862, 5865, 5867, 5868, 5869, 5870, 5871, 5872, 5874, 5877, 5879, 5881, 5882, 5883, 5884, 5885, 5886, 5887, 5888, 5889, 5890, 5891, 5892, 5893, 5894, 5895, 5896, 5897, 5898, 5899, 5900, 5901, 5902, 5903, 5904, 5906, 5907, 5908, 5909, 5910, 5911, 5912, 5913, 5914, 5916, 5917, 5918, 5919, 5920, 5921, 5922, 5923, 5924, 5925, 5926, 5927, 5928, 5931, 5932, 5933, 5935, 5936, 5937, 5938, 5940, 5941, 5942, 5944, 5945, 5947, 5949, 5951, 5952, 5953, 5956, 5957, 5958, 5960, 5961, 5962, 5963, 5964, 5965, 5967, 5968, 5969, 5970, 5972, 5973, 5976, 5979, 5980, 5981, 5982, 5985, 5986, 5987, 5988, 5989, 5990, 5991, 5992, 5993, 5997, 5998, 6001, 6002, 6003, 6004, 6005, 6006, 6010, 6011, 6012, 6013, 6014, 6016, 6017, 6018, 6019, 6020, 6022, 6023, 6024, 6026, 6027, 6028, 6029, 6031, 6032, 6033, 6035, 6036, 6037, 6039, 6040, 6042, 6043, 6044, 6045, 6046, 6047, 6048, 6049, 6050, 6052, 6053, 6055, 6056, 6057, 6060, 6063, 6064, 6065, 6068, 6069, 6070, 6071, 6072, 6073, 6074, 6075, 6079, 6083, 6085, 6086, 6087, 6088, 6089, 6090, 6091, 6092, 6093, 6094, 6095, 6096, 6097, 6100, 6101, 6102, 6104, 6106, 6108, 6109, 6110, 6113, 6114, 6115, 6116, 6117, 6118, 6119, 6121, 6123, 6124, 6125, 6126, 6128, 6129, 6130, 6131, 6132, 6133, 6134, 6136, 6137, 6138, 6139, 6140, 6141, 6143, 6145, 6146, 6148, 6149, 6150, 6152, 6153, 6154, 6156, 6157, 6158, 6159, 6161, 6162, 6164, 6165, 6166, 6167, 6168, 6169, 6170, 6171, 6172, 6173, 6174, 6175, 6176, 6177, 6178, 6179, 6180, 6181, 6182, 6185, 6189, 6190, 6191, 6193, 6194, 6195, 6197, 6198, 6199, 6202, 6203, 6204, 6205, 6206, 6209, 6210, 6213, 6214, 6216, 6217, 6218, 6220, 6222, 6223, 6225, 6226, 6227, 6229, 6230, 6231, 6233, 6235, 6236, 6237, 6238, 6239, 6240, 6241, 6242, 6243, 6244, 6246, 6247, 6248, 6249, 6251, 6255, 6256, 6257, 6258, 6259, 6260, 6261, 6262, 6263, 6264, 6265, 6267, 6268, 6270, 6271, 6273, 6274, 6276, 6277, 6278, 6279, 6280, 6281, 6282, 6283, 6284, 6285, 6286, 6288, 6289, 6290, 6291, 6292, 6293, 6294, 6297, 6298, 6299, 6301, 6302, 6303, 6307, 6308, 6309, 6310, 6311, 6312, 6313, 6314, 6315, 6316, 6317, 6318, 6321, 6322, 6323, 6325, 6326, 6327, 6328, 6329, 6332, 6333, 6334, 6335, 6336, 6337, 6339, 6342, 6343, 6344, 6345, 6346, 6348, 6350, 6352, 6353, 6354, 6355, 6356, 6357, 6359, 6360, 6361, 6362, 6363, 6364, 6365, 6366, 6367, 6370, 6371, 6372, 6373, 6374, 6375, 6376, 6377, 6380, 6381, 6383, 6385, 6386, 6387, 6388, 6389, 6390, 6391, 6393, 6395, 6396, 6397, 6399, 6400, 6402, 6403, 6404, 6405, 6406, 6407, 6408, 6409, 6410, 6412, 6413, 6414, 6415, 6416, 6417, 6418, 6419, 6420, 6421, 6422, 6423, 6424, 6425, 6428, 6430, 6431, 6432, 6434, 6435, 6437, 6438, 6439, 6440, 6441, 6442, 6443, 6444, 6445, 6446, 6448, 6449, 6451, 6454, 6455, 6456, 6458, 6459, 6460, 6463, 6464, 6465, 6466, 6467, 6469, 6470, 6471, 6472, 6474, 6476, 6477, 6478, 6479, 6481, 6482, 6483, 6485, 6486, 6488, 6490, 6491, 6492, 6494, 6495, 6496, 6497, 6498, 6499, 6500, 6504, 6505, 6506, 6507, 6508, 6509, 6510, 6511, 6512, 6513, 6516, 6517, 6518, 6519, 6520, 6521, 6524, 6525, 6527, 6528, 6531, 6532, 6536, 6538, 6539, 6540, 6541, 6542, 6543, 6544, 6545, 6548, 6549, 6550, 6551, 6552, 6553, 6554, 6555, 6556, 6558, 6559, 6560, 6561, 6564, 6565, 6566, 6567, 6568, 6569, 6573, 6575, 6578, 6580, 6581, 6582, 6583, 6585, 6589, 6590, 6591, 6592, 6593, 6594, 6595, 6596, 6597, 6598, 6599, 6600, 6601, 6602, 6605, 6606, 6607, 6608, 6610, 6611, 6612, 6614, 6615, 6616, 6618, 6619, 6621, 6622, 6623, 6624, 6625, 6628, 6629, 6630, 6631, 6635, 6636, 6638, 6640, 6641, 6642, 6644, 6645, 6652, 6653, 6655, 6656, 6658, 6659, 6662, 6665, 6667, 6668, 6670, 6671, 6673, 6674, 6676, 6677, 6678, 6679, 6680, 6681, 6682, 6683, 6684, 6685, 6686, 6688, 6689, 6690, 6691, 6692, 6693, 6694, 6696, 6697, 6698, 6699, 6700, 6702, 6703, 6704, 6706, 6707, 6708, 6710, 6711, 6712, 6715, 6716, 6717, 6718, 6719, 6720, 6723, 6725, 6726, 6727, 6728, 6729, 6730, 6731, 6734, 6735, 6736, 6737, 6738, 6739, 6740, 6741, 6742, 6743, 6745, 6746, 6748, 6749, 6750, 6752, 6753, 6754, 6756, 6758, 6759, 6760, 6762, 6763, 6764, 6766, 6767, 6768, 6769, 6770, 6771, 6772, 6773, 6774, 6775, 6776, 6777, 6778, 6780, 6781, 6783, 6784, 6785, 6786, 6787, 6788, 6790, 6792, 6794, 6795, 6796, 6797, 6798, 6799, 6800, 6802, 6803, 6804, 6805, 6806, 6807, 6810, 6813, 6817, 6819, 6821, 6822, 6823, 6825, 6826, 6828, 6829, 6830, 6831, 6832, 6833, 6834, 6835, 6837, 6838, 6840, 6841, 6842, 6843, 6844, 6846, 6847, 6848, 6849, 6851, 6853, 6854, 6855, 6857, 6858, 6859, 6861, 6862, 6863, 6865, 6866, 6869, 6870, 6874, 6875, 6877, 6878, 6881, 6882, 6884, 6888, 6889, 6890, 6892, 6899, 6900, 6903, 6908, 6910, 6913, 6914, 6916, 6919, 6920, 6921, 6923, 6924, 6926, 6928, 6929, 6931, 6932, 6933, 6934, 6937, 6938, 6940, 6942, 6943, 6944, 6945, 6946, 6947, 6951, 6959, 6960, 6962, 6963, 6964, 6965, 6966, 6967, 6968, 6971, 6974, 6975, 6976, 6978, 6979, 6980, 6983, 6984, 6985, 6987, 6988, 6989, 6990, 6991, 6994, 6996, 6999, 7001, 7004, 7005, 7006, 7008, 7009, 7011, 7013, 7014, 7016, 7021, 7022, 7024, 7025, 7026, 7027, 7028, 7029, 7038, 7039, 7040, 7041, 7042, 7043, 7045, 7050, 7053, 7055, 7056, 7057, 7060, 7063, 7066, 7067, 7068, 7069, 7070, 7071, 7073, 7077, 7079, 7081, 7086, 7087, 7088, 7089, 7090, 7091, 7092, 7093, 7095, 7096, 7097, 7098, 7101, 7103, 7104, 7105, 7107, 7108, 7109, 7110, 7111, 7116, 7117, 7121, 7125, 7127, 7128, 7129, 7130, 7132, 7134, 7137, 7139, 7141, 7143, 7145, 7146, 7149, 7151, 7152, 7153, 7155, 7157, 7159, 7160, 7161, 7162, 7164, 7166, 7168, 7169, 7170, 7171, 7179, 7180, 7181, 7182, 7183, 7184, 7189, 7191, 7194, 7195, 7196, 7197, 7198, 7199, 7201, 7202, 7203, 7205, 7207, 7208, 7209, 7210, 7211, 7212, 7214, 7215, 7218, 7219, 7220, 7221, 7222, 7223, 7224, 7226, 7227, 7228, 7229, 7230, 7231, 7232, 7233, 7235, 7236, 7237, 7238, 7239, 7241, 7242, 7243, 7244, 7246, 7247, 7249, 7255, 7256, 7257, 7260, 7261, 7263, 7264, 7266, 7267, 7269, 7270, 7271, 7274, 7277, 7279, 7280, 7284, 7285, 7286, 7290, 7291, 7292, 7293, 7294, 7295, 7297, 7298, 7300, 7307, 7308, 7310, 7311, 7313, 7317, 7319, 7320, 7321, 7322, 7323, 7324, 7325, 7326, 7328, 7329, 7330, 7332, 7333, 7335, 7336, 7337, 7339, 7340, 7341, 7345, 7347, 7348, 7349, 7350, 7352, 7354, 7357, 7359, 7360, 7361, 7362, 7364, 7365, 7366, 7367, 7368, 7369, 7370, 7371, 7372, 7373, 7374, 7375, 7376, 7377, 7378, 7379, 7380, 7381, 7383, 7385, 7386, 7388, 7390, 7391, 7393, 7394, 7397, 7398, 7399, 7402, 7403, 7404, 7408, 7410, 7411, 7415, 7417, 7418, 7419, 7420, 7422, 7423, 7424, 7426, 7428, 7429, 7431, 7434, 7435, 7439, 7440, 7441, 7442, 7444, 7445, 7447, 7449, 7450, 7451, 7453, 7454, 7456, 7457, 7458, 7459, 7460, 7461, 7462, 7463, 7464, 7466, 7469, 7470, 7471, 7474, 7477, 7479, 7480, 7481, 7483, 7484, 7485, 7487, 7488, 7491, 7494, 7495, 7496, 7498, 7499, 7500, 7501, 7502, 7503, 7504, 7506, 7507, 7509, 7510, 7511, 7512, 7515, 7516, 7518, 7519, 7521, 7522, 7523, 7524, 7527, 7528, 7529, 7530, 7531, 7532, 7534, 7535, 7536, 7537, 7539, 7540, 7543, 7546, 7547, 7548, 7549, 7552, 7553, 7554, 7555, 7556, 7557, 7558, 7559, 7561, 7563, 7564, 7565, 7566, 7567, 7568, 7569, 7570, 7572, 7573, 7576, 7577, 7578, 7579, 7580, 7581, 7583, 7584, 7585, 7586, 7587, 7588, 7589, 7591, 7592, 7593, 7594, 7596, 7597, 7598, 7602, 7603, 7604, 7605, 7606, 7607, 7608, 7609, 7610, 7612, 7613, 7615, 7616, 7618, 7619, 7621, 7622, 7623, 7625, 7626, 7630, 7631, 7632, 7634, 7635, 7636, 7637, 7638, 7639, 7640, 7642, 7643, 7644, 7645, 7647, 7648, 7649, 7650, 7651, 7655, 7657, 7658, 7659, 7660, 7663, 7664, 7665, 7666, 7668, 7670, 7672, 7673, 7674, 7676, 7679, 7681, 7684, 7687, 7690, 7691, 7692, 7694, 7695, 7696, 7699, 7700, 7701, 7703, 7704, 7706, 7707, 7709, 7710, 7711, 7712, 7716, 7719, 7722, 7723, 7725, 7726, 7727, 7730, 7733, 7734, 7735, 7736, 7737, 7738, 7741, 7743, 7745, 7746, 7747, 7748, 7749, 7750, 7751, 7752, 7754, 7756, 7757, 7758, 7759, 7760, 7761, 7762, 7763, 7765, 7768, 7769, 7771, 7772, 7773, 7775, 7777, 7779, 7780, 7781, 7782, 7785, 7786, 7787, 7788, 7790, 7791, 7792, 7794, 7795, 7796, 7800, 7801, 7802, 7803, 7806, 7810, 7811, 7812, 7814, 7815, 7816, 7817, 7819, 7821, 7822, 7823, 7824, 7825, 7826, 7827, 7828, 7829, 7830, 7833, 7835, 7839, 7840, 7841, 7843, 7844, 7849, 7855, 7856, 7857, 7859, 7860, 7861, 7862, 7866, 7867, 7868, 7869, 7871, 7872, 7874, 7876, 7877, 7878, 7881, 7882, 7884, 7886, 7887, 7888, 7893, 7894, 7895, 7897, 7899, 7900, 7901, 7902, 7903, 7904, 7906, 7907, 7909, 7910, 7911, 7913, 7914, 7915, 7916, 7917, 7918, 7920, 7921, 7922, 7924, 7927, 7928, 7929, 7930, 7931, 7933, 7934, 7938, 7939, 7940, 7941, 7942, 7943, 7944, 7945, 7946, 7947, 7948, 7949, 7952, 7954, 7955, 7956, 7957, 7958, 7959, 7960, 7962, 7963, 7964, 7965, 7966, 7967, 7969, 7971, 7973, 7975, 7978, 7979, 7980, 7981, 7982, 7983, 7985, 7987, 7988, 7989, 7990, 7991, 7992, 7993, 7995, 7999, 8000, 8001, 8002, 8004, 8005, 8007, 8008, 8010, 8012, 8015, 8016, 8017, 8019, 8020, 8021, 8024, 8025, 8027, 8028, 8029, 8030, 8031, 8032, 8033, 8036, 8037, 8039, 8041, 8042, 8043, 8044, 8045, 8046, 8047, 8048, 8049, 8050, 8052, 8053, 8054, 8055, 8056, 8057, 8058, 8059, 8060, 8061, 8062, 8064, 8065, 8066, 8067, 8068, 8069, 8070, 8072, 8073, 8074, 8075, 8076, 8077, 8078, 8079, 8082, 8083, 8084, 8085, 8086, 8087, 8089, 8090, 8091, 8092, 8093, 8095, 8096, 8097, 8098, 8099, 8100, 8103, 8104, 8107, 8108, 8109, 8110, 8112, 8113, 8114, 8115, 8116, 8117, 8118, 8119, 8120, 8121, 8122, 8126, 8127, 8128, 8129, 8130, 8131, 8133, 8134, 8135, 8136, 8140, 8141, 8142, 8144, 8145, 8147, 8148, 8149, 8151, 8152, 8154, 8156, 8157, 8158, 8159, 8160, 8161, 8162, 8164, 8165, 8166, 8167, 8168, 8169, 8170, 8172, 8174, 8175, 8176, 8178, 8179, 8181, 8182, 8183, 8184, 8185, 8186, 8187, 8188, 8190, 8191, 8192, 8195, 8196, 8197, 8198, 8199, 8201, 8203, 8204, 8205, 8206, 8207, 8208, 8209, 8210, 8212, 8214, 8215, 8216, 8217, 8218, 8219, 8220, 8221, 8222, 8224, 8225, 8226, 8228, 8229, 8230, 8231, 8232, 8233, 8234, 8235, 8236, 8238, 8239, 8241, 8242, 8243, 8248, 8249, 8250, 8251, 8252, 8254, 8256, 8258, 8260, 8261, 8262, 8263, 8264, 8265, 8267, 8268, 8269, 8270, 8273, 8279, 8280, 8281, 8282, 8283, 8284, 8286, 8287, 8289, 8291, 8293, 8294, 8295, 8296, 8297, 8298, 8299, 8300, 8303, 8305, 8306, 8307, 8308, 8309, 8311, 8314, 8315, 8316, 8317, 8318, 8320, 8323, 8324, 8325, 8328, 8331, 8332, 8336, 8338, 8339, 8340, 8341, 8343, 8344, 8345, 8346, 8347, 8348, 8351, 8352, 8353, 8354, 8355, 8356, 8359, 8360, 8362, 8365, 8366, 8367, 8369, 8372, 8373, 8374, 8376, 8377, 8378, 8379, 8380, 8382, 8384, 8385, 8390, 8391, 8392, 8393, 8396, 8398, 8399, 8400, 8401, 8403, 8404, 8405, 8406, 8407, 8409, 8410, 8411, 8412, 8415, 8417, 8418, 8421, 8423, 8425, 8427, 8428, 8429, 8430, 8431, 8435, 8437, 8439, 8440, 8441, 8442, 8443, 8446, 8447, 8448, 8450, 8452, 8454, 8455, 8456, 8457, 8461, 8462, 8465, 8466, 8467, 8468, 8469, 8471, 8472, 8473, 8474, 8475, 8477, 8479, 8480, 8482, 8483, 8484, 8485, 8486, 8487, 8491, 8492, 8493, 8494, 8495, 8497, 8498, 8501, 8503, 8505, 8506, 8507, 8509, 8510, 8511, 8512, 8513, 8515, 8517, 8518, 8519, 8520, 8521, 8522, 8523, 8524, 8526, 8528, 8529, 8530, 8531, 8533, 8534, 8535, 8538, 8539, 8540, 8541, 8542, 8543, 8544, 8545, 8546, 8548, 8549, 8550, 8551, 8552, 8553, 8558, 8559, 8561, 8563, 8565, 8566, 8567, 8569, 8570, 8572, 8574, 8575, 8576, 8577, 8578, 8579, 8580, 8581, 8582, 8587, 8588, 8589, 8590, 8591, 8592, 8593, 8594, 8596, 8597, 8598, 8600, 8601, 8602, 8604, 8605, 8607, 8609, 8610, 8611, 8613, 8614, 8615, 8616, 8617, 8619, 8620, 8622, 8623, 8624, 8625, 8627, 8631, 8632, 8634, 8636, 8637, 8638, 8641, 8644, 8645, 8648, 8649, 8650, 8651, 8652, 8653, 8654, 8655, 8656, 8657, 8658, 8659, 8660, 8661, 8662, 8663, 8664, 8665, 8666, 8667, 8668, 8669, 8670, 8671, 8672, 8673, 8674, 8677, 8678, 8679, 8681, 8682, 8684, 8685, 8687, 8688, 8689, 8690, 8692, 8693, 8694, 8695, 8696, 8700, 8704, 8705, 8706, 8707, 8709, 8710, 8711, 8712, 8714, 8716, 8717, 8718, 8719, 8720, 8722, 8723, 8724, 8725, 8726, 8728, 8729, 8730, 8731, 8732, 8735, 8736, 8737, 8738, 8739, 8741, 8744, 8745, 8746, 8747, 8748, 8749, 8750, 8751, 8752, 8753, 8754, 8755, 8757, 8758, 8760, 8761, 8762, 8763, 8764, 8765, 8766, 8768, 8771, 8772, 8773, 8776, 8777, 8778, 8780, 8781, 8782, 8783, 8784, 8785, 8786, 8787, 8788, 8789, 8790, 8791, 8792, 8794, 8797, 8798, 8800, 8805, 8806, 8807, 8809, 8810, 8812, 8815, 8816, 8817, 8818, 8820, 8824, 8825, 8827, 8828, 8829, 8832, 8833, 8837, 8840, 8846, 8847, 8850, 8853, 8854, 8856, 8857, 8859, 8860, 8861, 8863, 8864, 8866, 8868, 8869, 8872, 8873, 8876, 8878, 8882, 8885, 8886, 8887, 8889, 8892, 8893, 8894, 8896, 8897, 8900, 8904, 8905, 8907, 8908, 8909, 8910, 8911, 8912, 8913, 8914, 8916, 8918, 8920, 8921, 8922, 8923, 8926, 8928, 8929, 8930, 8931, 8932, 8933, 8936, 8937, 8938, 8940, 8941, 8942, 8944, 8945, 8946, 8948, 8951, 8953, 8954, 8956, 8957, 8958, 8959, 8960, 8962, 8966, 8969, 8970, 8971, 8972, 8973, 8974, 8975, 8976, 8977, 8979, 8981, 8984, 8985, 8986, 8987, 8988, 8989, 8991, 8996, 8997, 8999, 9000, 9002, 9003, 9004, 9009, 9010, 9011, 9012, 9014, 9015, 9018, 9020, 9023, 9024, 9026, 9027, 9028, 9030, 9031, 9032, 9036, 9037, 9039, 9040, 9041, 9042, 9043, 9044, 9045, 9046, 9047, 9048, 9049, 9053, 9054, 9055, 9056, 9058, 9059, 9062, 9063, 9064, 9065, 9066, 9067, 9068, 9069, 9070, 9073, 9075, 9076, 9077, 9079, 9080, 9083, 9084, 9085, 9086, 9087, 9088, 9089, 9090, 9092, 9093, 9094, 9095, 9096, 9097, 9098, 9100, 9101, 9104, 9105, 9106, 9108, 9109, 9110, 9112, 9113, 9114, 9115, 9116, 9117, 9118, 9119, 9120, 9123, 9127, 9130, 9132, 9135, 9137, 9138, 9144, 9145, 9148, 9150, 9151, 9152, 9154, 9157, 9158, 9160, 9161, 9164, 9166, 9167, 9168, 9169, 9170, 9171, 9173, 9175, 9177, 9179, 9180, 9182, 9183, 9184, 9186, 9189, 9190, 9191, 9193, 9198, 9199, 9200, 9201, 9204, 9206, 9207, 9208, 9209, 9210, 9211, 9212, 9213, 9215, 9217, 9219, 9222, 9223, 9224, 9228, 9229, 9230, 9231, 9232, 9235, 9236, 9237, 9239, 9240, 9241, 9244, 9245, 9246, 9247, 9248, 9249, 9250, 9251, 9252, 9253, 9255, 9256, 9257, 9260, 9261, 9262, 9263, 9264, 9265, 9266, 9267, 9268, 9269, 9270, 9273, 9275, 9276, 9277, 9278, 9279, 9280, 9281, 9282, 9283, 9284, 9285, 9286, 9289, 9291, 9292, 9295, 9297, 9298, 9301, 9303, 9304, 9305, 9309, 9310, 9311, 9312, 9313, 9314, 9315, 9317, 9318, 9319, 9320, 9321, 9322, 9323, 9324, 9326, 9327, 9328, 9331, 9332, 9333, 9334, 9335, 9336, 9338, 9339, 9341, 9343, 9345, 9346, 9347, 9348, 9349, 9350, 9351, 9352, 9353, 9355, 9356, 9359, 9361, 9362, 9363, 9365, 9366, 9367, 9368, 9369, 9370, 9371, 9372, 9374, 9376, 9377, 9378, 9379, 9382, 9383, 9384, 9385, 9386, 9389, 9393, 9395, 9398, 9400, 9403, 9405, 9407, 9408, 9410, 9411, 9412, 9414, 9416, 9417, 9419, 9420, 9421, 9423, 9425, 9426, 9427, 9428, 9429, 9430, 9431, 9432, 9433, 9436, 9437, 9438, 9439, 9440, 9441, 9442, 9443, 9446, 9447, 9449, 9450, 9451, 9452, 9455, 9456, 9457, 9458, 9459, 9461, 9462, 9463, 9465, 9467, 9470, 9472, 9474, 9476, 9477, 9478, 9480, 9481, 9482, 9483, 9485, 9487, 9488, 9489, 9492, 9493, 9494, 9495, 9496, 9499, 9501, 9502, 9503, 9504, 9505, 9510, 9512, 9515, 9517, 9518, 9520, 9522, 9526, 9528, 9529, 9530, 9532, 9533, 9534, 9535, 9536, 9538, 9539, 9540, 9541, 9543, 9544, 9546, 9547, 9548, 9549, 9551, 9553, 9554, 9556, 9558, 9559, 9561, 9566, 9568, 9569, 9570, 9571, 9572, 9573, 9574, 9575, 9577, 9578, 9579, 9580, 9582, 9584, 9585, 9586, 9587, 9588, 9589, 9591, 9592, 9593, 9595, 9596, 9597, 9602, 9603, 9606, 9607, 9608, 9609, 9610, 9612, 9615, 9616, 9617, 9618, 9621, 9623, 9624, 9626, 9627, 9629, 9630, 9632, 9634, 9635, 9636, 9639, 9641, 9643, 9645, 9646, 9647, 9648, 9649, 9650, 9655, 9657, 9658, 9659, 9661, 9663, 9664, 9665, 9667, 9668, 9669, 9670, 9671, 9672, 9673, 9674, 9676, 9677, 9678, 9679, 9680, 9682, 9683, 9685, 9687, 9688, 9691, 9692, 9693, 9696, 9697, 9699, 9700, 9701, 9703, 9705, 9707, 9708, 9709, 9710, 9711, 9712, 9713, 9715, 9716, 9717, 9718, 9720, 9722, 9723, 9724, 9726, 9727, 9729, 9730, 9732, 9733, 9734, 9735, 9736, 9737, 9738, 9739, 9740, 9741, 9742, 9743, 9744, 9745, 9746, 9747, 9749, 9751, 9753, 9754, 9755, 9756, 9757, 9758, 9759, 9761, 9764, 9766, 9767, 9768, 9769, 9770, 9773, 9776, 9777, 9780, 9785, 9786, 9787, 9790, 9791, 9792, 9793, 9794, 9795, 9796, 9797, 9798, 9799, 9800, 9801, 9802, 9803, 9804, 9806, 9807, 9808, 9809, 9810, 9811, 9812, 9813, 9814, 9815, 9816, 9819, 9820, 9821, 9822, 9824, 9827, 9828, 9829, 9830, 9831, 9835, 9836, 9837, 9838, 9839, 9840, 9841, 9842, 9844, 9846, 9847, 9850, 9852, 9853, 9855, 9856, 9857, 9859, 9861, 9862, 9863, 9864, 9865, 9866, 9867, 9869, 9870, 9871, 9872, 9874, 9875, 9876, 9877, 9878, 9879, 9880, 9883, 9884, 9888, 9889, 9890, 9891, 9894, 9895, 9896, 9897, 9899, 9902, 9905, 9906, 9908, 9909, 9911, 9912, 9913, 9914, 9915, 9916, 9917, 9918, 9919, 9920, 9921, 9922, 9923, 9924, 9927, 9928, 9930, 9932, 9934, 9935, 9936, 9937, 9938, 9939, 9941, 9942, 9943, 9946, 9947, 9949, 9950, 9951, 9952, 9953, 9955, 9956, 9957, 9958, 9959, 9960, 9961, 9963, 9964, 9965, 9967, 9970, 9971, 9972, 9973, 9974, 9975, 9976, 9977, 9979, 9981, 9982, 9983, 9985, 9986, 9987, 9988, 9989, 9990, 9991, 9992, 9993, 9995, 9997, 9998, 10000, 10001, 10002, 10003, 10004, 10005, 10007, 10008, 10009, 10011, 10014, 10015, 10016, 10017, 10019, 10021, 10023, 10025, 10026, 10027, 10029, 10030, 10031, 10032, 10033, 10034, 10036, 10037, 10038, 10040, 10041, 10042, 10043, 10045, 10046, 10048, 10050, 10053, 10054, 10057, 10059, 10062, 10066, 10068, 10069, 10072, 10073, 10074, 10075, 10076, 10077, 10078, 10084, 10086, 10087, 10088, 10089, 10090, 10092, 10093, 10094, 10095, 10096, 10099, 10100, 10101, 10103, 10104, 10105, 10106, 10107, 10108, 10110, 10111, 10112, 10116, 10118, 10119, 10120, 10121, 10123, 10124, 10125, 10127, 10129, 10130, 10133, 10134, 10136, 10138, 10139, 10140, 10141, 10142, 10143, 10144, 10146, 10150, 10151, 10153, 10154, 10156, 10157, 10158, 10159, 10160, 10161, 10162, 10163, 10164, 10165, 10166, 10167, 10168, 10169, 10170, 10173, 10174, 10177, 10178, 10179, 10181, 10183, 10184, 10185, 10186, 10188, 10189, 10190, 10191, 10193, 10195, 10196, 10197, 10199, 10201, 10202, 10203, 10206, 10207, 10208, 10209, 10210, 10211, 10214, 10215, 10217, 10218, 10219, 10220, 10221, 10222, 10224, 10225, 10226, 10227, 10228, 10232, 10233, 10234, 10235, 10237, 10238, 10242, 10244, 10245, 10246, 10247, 10249, 10252, 10253, 10256, 10257, 10259, 10260, 10261, 10262, 10263, 10265, 10266, 10269, 10271, 10273, 10274, 10275, 10276, 10277, 10278, 10279, 10280, 10282, 10283, 10284, 10285, 10286, 10289, 10290, 10292, 10293, 10296, 10297, 10298, 10299, 10300, 10304, 10305, 10306, 10308, 10309, 10311, 10312, 10313, 10314, 10315, 10316, 10317, 10318, 10319, 10320, 10322, 10324, 10326, 10327, 10328, 10330, 10333, 10334, 10335, 10336, 10337, 10338, 10339, 10340, 10341, 10342, 10343, 10344, 10346, 10347, 10349, 10351, 10353, 10354, 10356, 10358, 10359, 10360, 10362, 10372, 10373, 10376, 10377, 10378, 10380, 10381, 10382, 10383, 10384, 10385, 10386, 10387, 10388, 10389, 10390, 10393, 10394, 10396, 10397, 10398, 10399, 10401, 10402, 10404, 10405, 10407, 10408, 10409, 10412, 10415, 10417, 10420, 10421, 10422, 10424, 10425, 10426, 10428, 10431, 10432, 10433, 10435, 10436, 10439, 10440, 10441, 10442, 10443, 10444, 10445, 10446, 10448, 10449, 10450, 10451, 10452, 10455, 10456, 10457, 10458, 10459, 10460, 10461, 10462, 10464, 10466, 10468, 10469, 10470, 10471, 10472, 10475, 10476, 10478, 10479, 10480, 10481, 10482, 10483, 10484, 10485, 10486, 10487, 10488, 10489, 10490, 10491, 10492, 10493, 10494, 10495, 10496, 10498, 10499, 10501, 10502, 10504, 10505, 10508, 10509, 10510, 10511, 10512, 10513, 10514, 10515, 10516, 10517, 10518, 10519, 10520, 10521, 10524, 10528, 10529, 10530, 10531, 10532, 10533, 10534, 10535, 10537, 10538, 10539, 10540, 10541, 10542, 10543, 10545, 10547, 10549, 10550, 10552, 10553, 10554, 10555, 10556, 10557, 10558, 10559, 10561, 10562, 10563, 10564, 10565, 10566, 10568, 10569, 10570, 10571, 10572, 10573, 10575, 10576, 10577, 10578, 10579, 10580, 10583, 10584, 10586, 10588, 10589, 10590, 10591, 10592, 10593, 10594, 10596, 10598, 10600, 10601, 10604, 10605, 10606, 10607, 10608, 10610, 10612, 10614, 10617, 10618, 10619, 10620, 10621, 10622, 10623, 10625, 10627, 10629, 10631, 10632, 10634, 10635, 10636, 10637, 10638, 10641, 10642, 10643, 10646, 10647, 10652, 10653, 10654, 10655, 10660, 10661, 10663, 10665, 10668, 10669, 10671, 10672, 10675, 10676, 10678, 10680, 10682, 10687, 10689, 10690, 10691, 10692, 10693, 10694, 10696, 10697, 10700, 10703, 10705, 10707, 10710, 10712, 10713, 10716, 10718, 10719, 10720, 10721, 10722, 10727, 10730, 10731, 10732, 10736, 10737, 10738, 10739, 10740, 10741, 10742, 10744, 10746, 10748, 10749, 10750, 10752, 10753, 10756, 10757, 10758, 10759, 10760, 10761, 10763, 10764, 10765, 10766, 10767, 10768, 10769, 10770, 10772, 10774, 10776, 10778, 10779, 10780, 10781, 10782, 10785, 10786, 10787, 10788, 10790, 10791, 10794, 10796, 10798, 10800, 10801, 10802, 10803, 10804, 10805, 10806, 10807, 10808, 10809, 10810, 10811, 10812, 10813, 10815, 10817, 10820, 10821, 10822, 10824, 10825, 10826, 10828, 10829, 10830, 10833, 10835, 10836, 10838, 10839, 10840, 10841, 10842, 10843, 10844, 10846, 10847, 10848, 10849, 10850, 10851, 10852, 10853, 10856, 10857, 10858, 10860, 10862, 10863, 10864, 10868, 10869, 10870, 10872, 10873, 10874, 10875, 10876, 10877, 10878, 10879, 10880, 10881, 10882, 10883, 10884, 10885, 10887, 10890, 10891, 10893, 10894, 10895, 10898, 10902, 10904, 10905, 10907, 10909, 10910, 10911, 10912, 10913, 10915, 10916, 10918, 10920, 10922, 10924, 10931, 10932, 10933, 10935, 10936, 10938, 10942, 10944, 10948, 10950, 10951, 10952, 10953, 10955, 10956, 10957, 10958, 10959, 10962, 10964, 10965, 10966, 10967, 10969, 10970, 10971, 10975, 10976, 10978, 10980, 10981, 10982, 10983, 10985, 10986, 10987, 10988, 10991, 10992, 10994, 10996, 10997, 10998, 10999, 11001, 11003, 11004, 11005, 11006, 11007, 11008, 11009, 11010, 11011, 11013, 11018, 11020, 11021, 11022, 11023, 11025, 11030, 11031, 11032, 11033, 11038, 11039, 11041, 11043, 11045, 11046, 11049, 11051, 11052, 11054, 11056, 11057, 11060, 11062, 11065, 11066, 11068, 11070, 11072, 11073, 11075, 11080, 11081, 11083, 11084, 11086, 11087, 11089, 11091, 11092, 11094, 11096, 11097, 11099, 11100, 11101, 11102, 11103, 11104, 11105, 11107, 11110, 11111, 11114, 11115, 11117, 11118, 11119, 11121, 11123, 11126, 11129, 11130, 11131, 11133, 11134, 11136, 11138, 11139, 11140, 11141, 11142, 11143, 11144, 11148, 11149, 11150, 11151, 11152, 11153, 11154, 11155, 11158, 11159, 11161, 11162, 11165, 11166, 11167, 11168, 11170, 11171, 11172, 11173, 11176, 11177, 11178, 11179, 11180, 11181, 11182, 11183, 11184, 11186, 11188, 11189, 11194, 11195, 11196, 11197, 11198, 11199, 11200, 11201, 11202, 11203, 11205, 11210, 11211, 11213, 11214, 11215, 11217, 11218, 11220, 11221, 11222, 11224, 11225, 11227, 11229, 11230, 11231, 11232, 11233, 11234, 11236, 11237, 11238, 11240, 11242, 11243, 11244, 11245, 11246, 11247, 11248, 11249, 11250, 11251, 11252, 11253, 11254, 11256, 11257, 11258, 11260, 11261, 11262, 11263, 11264, 11266, 11267, 11268, 11269, 11270, 11272, 11273, 11274, 11275, 11276, 11278, 11279, 11280, 11282, 11285, 11287, 11289, 11290, 11291, 11292, 11294, 11295, 11297, 11298, 11299, 11300, 11301, 11304, 11306, 11308, 11309, 11311, 11312, 11313, 11314, 11318, 11319, 11322, 11323, 11325, 11327, 11329, 11330, 11331, 11332, 11334, 11335, 11337, 11338, 11339, 11340, 11341, 11342, 11343, 11346, 11347, 11348, 11349, 11350, 11353, 11355, 11356, 11357, 11358, 11359, 11360, 11362, 11363, 11365, 11366, 11367, 11369, 11371, 11372, 11374, 11376, 11377, 11378, 11380, 11381, 11384, 11385, 11386, 11389, 11390, 11392, 11394, 11395, 11396, 11397, 11398, 11399, 11400, 11401, 11402, 11403, 11404, 11405, 11406, 11407, 11409, 11410, 11411, 11413, 11414, 11415, 11416, 11417, 11418, 11419, 11420, 11421, 11423, 11424, 11425, 11426, 11428, 11429, 11431, 11433, 11434, 11436, 11440, 11441, 11442, 11443, 11445, 11446, 11448, 11449, 11450, 11452, 11453, 11455, 11456, 11459, 11460, 11462, 11463, 11464, 11465, 11468, 11469, 11470, 11473, 11475, 11476, 11477, 11478, 11481, 11484, 11485, 11486, 11489, 11490, 11492, 11493, 11494, 11495, 11496, 11503, 11505, 11506, 11507, 11508, 11509, 11510, 11512, 11513, 11514, 11515, 11516, 11519, 11520, 11521, 11522, 11524, 11525, 11526, 11527, 11528, 11530, 11531, 11533, 11534, 11535, 11538, 11540, 11541, 11542, 11543, 11544, 11546, 11547, 11550, 11551, 11552, 11554, 11555, 11556, 11557, 11558, 11559, 11560, 11561, 11563, 11564, 11565, 11566, 11567, 11568, 11570, 11571, 11572, 11573, 11575, 11577, 11579, 11580, 11582, 11584, 11586, 11590, 11591, 11592, 11594, 11596, 11598, 11599, 11600, 11602, 11605, 11606, 11607, 11608, 11609, 11610, 11611, 11612, 11614, 11616, 11617, 11618, 11619, 11621, 11625, 11628, 11630, 11632, 11633, 11635, 11636, 11637, 11638, 11639, 11640, 11641, 11643, 11645, 11646, 11648, 11651, 11653, 11654, 11657, 11658, 11660, 11662, 11663, 11665, 11666, 11669, 11670, 11672, 11674, 11676, 11677, 11679, 11680, 11681, 11682, 11683, 11684, 11686, 11687, 11689, 11691, 11692, 11694, 11697, 11698, 11700, 11701, 11703, 11704, 11707, 11708, 11709, 11711, 11712, 11713, 11714, 11715, 11716, 11717, 11718, 11719, 11721, 11722, 11723, 11726, 11727, 11730, 11732, 11734, 11736, 11737, 11739, 11740, 11742, 11743, 11744, 11745, 11746, 11747, 11749, 11751, 11754, 11755, 11756, 11758, 11759, 11760, 11761, 11763, 11766, 11767, 11768, 11769, 11771, 11772, 11774, 11775, 11776, 11777, 11778, 11779, 11780, 11784, 11785, 11786, 11792, 11793, 11796, 11797, 11798, 11800, 11801, 11802, 11803, 11805, 11807, 11809, 11810, 11812, 11814, 11817, 11818, 11819, 11822, 11823, 11825, 11826, 11827, 11828, 11831, 11832, 11833, 11834, 11835, 11836, 11838, 11839, 11841, 11843, 11845, 11847, 11849, 11850, 11851, 11852, 11856, 11857, 11860, 11861, 11863, 11865, 11866, 11868, 11869, 11870, 11871, 11873, 11875, 11876, 11878, 11879, 11880, 11882, 11883, 11884, 11885, 11888, 11889, 11890, 11891, 11892, 11896, 11897, 11901, 11903, 11905, 11906, 11907, 11908, 11910, 11911, 11918, 11919, 11920, 11921, 11922, 11926, 11928, 11930, 11931, 11932, 11933, 11934, 11936, 11937, 11938, 11939, 11940, 11941, 11942, 11943, 11944, 11945, 11946, 11947, 11948, 11949, 11950, 11951, 11952, 11954, 11955, 11956, 11957, 11958, 11959, 11960, 11961, 11962, 11963, 11965, 11967, 11968, 11969, 11970, 11971, 11972, 11973, 11974, 11975, 11976, 11977, 11978, 11979, 11982, 11983, 11986, 11987, 11989, 11990, 11993, 11994, 11995, 11997, 11998, 11999, 12000, 12002, 12004, 12005, 12006, 12007, 12008, 12010, 12011, 12013, 12014, 12015, 12016, 12017, 12018, 12020, 12021, 12023, 12024, 12026, 12028, 12029, 12030, 12032, 12033, 12035, 12036, 12037, 12038, 12039, 12040, 12041, 12042, 12043, 12045, 12048, 12050, 12052, 12053, 12055, 12056, 12059, 12060, 12063, 12064, 12065, 12067, 12069, 12070, 12072, 12073, 12074, 12075, 12076, 12077, 12078, 12079, 12082, 12084, 12085, 12086, 12087, 12089, 12090, 12091, 12092, 12093, 12096, 12097, 12099, 12102, 12105, 12106, 12107, 12108, 12109, 12110, 12111, 12112, 12113, 12116, 12118, 12119, 12121, 12122, 12123, 12124, 12126, 12127, 12128, 12129, 12130, 12131, 12132, 12133, 12135, 12136, 12137, 12138, 12141, 12142, 12144, 12145, 12148, 12149, 12150, 12152, 12158, 12160, 12162, 12163, 12164, 12166, 12167, 12168, 12169, 12172, 12173, 12175, 12178, 12179, 12180, 12181, 12182, 12183, 12184, 12185, 12186, 12188, 12189, 12190, 12191, 12193, 12194, 12195, 12196, 12197, 12198, 12199, 12200, 12201, 12202, 12203, 12205, 12206, 12207, 12208, 12209, 12210, 12212, 12213, 12214, 12215, 12217, 12218, 12219, 12220, 12221, 12222, 12223, 12224, 12226, 12227, 12228, 12229, 12232, 12235, 12236, 12239, 12240, 12241, 12242, 12243, 12244, 12245, 12246, 12247, 12248, 12250, 12251, 12253, 12254, 12255, 12256, 12257, 12258, 12260, 12261, 12263, 12264, 12265, 12266, 12267, 12269, 12270, 12272, 12273, 12274, 12275, 12277, 12278, 12279, 12280, 12281, 12282, 12285, 12286, 12287, 12288, 12289, 12290, 12291, 12292, 12293, 12294, 12295, 12296, 12297, 12299, 12301, 12302, 12303, 12304, 12305, 12306, 12307, 12308, 12309, 12310, 12311, 12312, 12313, 12314, 12315, 12317, 12318, 12319, 12320, 12321, 12322, 12323, 12324, 12326, 12327, 12329, 12331, 12332, 12333, 12334, 12335, 12336, 12337, 12338, 12339, 12341, 12342, 12343, 12344, 12345, 12346, 12347, 12348, 12349, 12351, 12352, 12354, 12355, 12356, 12357, 12358, 12359, 12360, 12362, 12364, 12365, 12366, 12368, 12369, 12370, 12371, 12373, 12374, 12375, 12377, 12378, 12379, 12381, 12382, 12383, 12385, 12388, 12389, 12390, 12391, 12394, 12395, 12400, 12401, 12402, 12404, 12405, 12407, 12408, 12409, 12410, 12411, 12412, 12413, 12414, 12416, 12418, 12419, 12420, 12422, 12423, 12424, 12425, 12426, 12427, 12428, 12430, 12431, 12432, 12434, 12435, 12436, 12437, 12438, 12439, 12440, 12441, 12442, 12443, 12444, 12445, 12446, 12447, 12448, 12449, 12450, 12451, 12452, 12453, 12457, 12461, 12464, 12466, 12469, 12470, 12471, 12472, 12473, 12474, 12479, 12481, 12482, 12483, 12484, 12486, 12487, 12489, 12490, 12491, 12492, 12493, 12495, 12496, 12497, 12499, 12501, 12502, 12503, 12504, 12506, 12507, 12508, 12509, 12511, 12513, 12515, 12516, 12519, 12520, 12521, 12522, 12523, 12524, 12525, 12527, 12529, 12532, 12533, 12534, 12535, 12537, 12541, 12543, 12546, 12547, 12548, 12549, 12550, 12551, 12552, 12553, 12554, 12556, 12557, 12558, 12559, 12560, 12562, 12563, 12564, 12565, 12568, 12569, 12570, 12571, 12572, 12573, 12574, 12575, 12576, 12578, 12580, 12581, 12583, 12584, 12587, 12588, 12589, 12590, 12592, 12595, 12596, 12597, 12598, 12599, 12600, 12602, 12603, 12605, 12606, 12607, 12608, 12610, 12611, 12612, 12613, 12614, 12615, 12616, 12617, 12618, 12620, 12621, 12622, 12624, 12625, 12626, 12627, 12628, 12629, 12630, 12631, 12632, 12633, 12635, 12636, 12637, 12638, 12640, 12641, 12642, 12643, 12644, 12647, 12648, 12649, 12650, 12653, 12655, 12656, 12657, 12658, 12660, 12661, 12662, 12663, 12664, 12665, 12666, 12668, 12669, 12670, 12671, 12672, 12675, 12677, 12678, 12679, 12681, 12682, 12686, 12688, 12689, 12693, 12694, 12696, 12697, 12698, 12699, 12700, 12701, 12704, 12705, 12707, 12709, 12710, 12712, 12713, 12715, 12716, 12717, 12718, 12719, 12720, 12721, 12723, 12725, 12730, 12733, 12736, 12737, 12738, 12739, 12740, 12741, 12742, 12743, 12744, 12745, 12746, 12747, 12748, 12750, 12751, 12752, 12754, 12755, 12756, 12758, 12759, 12761, 12762, 12764, 12765, 12766, 12767, 12768, 12769, 12770, 12771, 12772, 12775, 12776, 12777, 12778, 12779, 12780, 12781, 12783, 12784, 12785, 12786, 12787, 12788, 12790, 12791, 12792, 12793, 12794, 12795, 12796, 12797, 12798, 12799, 12800, 12801, 12802, 12803, 12804, 12805, 12806, 12807, 12808, 12811, 12812, 12814, 12815, 12816, 12817, 12818, 12819, 12820, 12822, 12823, 12824, 12827, 12828, 12831, 12832, 12834, 12835, 12838, 12839, 12840, 12842, 12843, 12844, 12846, 12847, 12848, 12849, 12850, 12851, 12852, 12855, 12856, 12859, 12860, 12861, 12862, 12863, 12864, 12865, 12866, 12868, 12869, 12871, 12872, 12874, 12881, 12883, 12886, 12887, 12888, 12889, 12890, 12892, 12895, 12896, 12898, 12899, 12900, 12901, 12902, 12903, 12906, 12907, 12909, 12910, 12911, 12912, 12913, 12914, 12916, 12919, 12920, 12921, 12922, 12923, 12924, 12925, 12926, 12927, 12929, 12930, 12931, 12933, 12934, 12936, 12937, 12938, 12940, 12941, 12942, 12943, 12947, 12948, 12949, 12950, 12953, 12954, 12956, 12957, 12958, 12959, 12960, 12961, 12962, 12963, 12964, 12965, 12966, 12969, 12971, 12972, 12974, 12977, 12979, 12980, 12981, 12983, 12984, 12985, 12986, 12987, 12988, 12989, 12990, 12991, 12992, 12993, 12994, 12996, 12997, 12999, 13000, 13001, 13002, 13003, 13004, 13006, 13007, 13008, 13009, 13010, 13011, 13012, 13013, 13014, 13015, 13016, 13017, 13018, 13019, 13020, 13023, 13025, 13028, 13029, 13031, 13032, 13033, 13034, 13035, 13036, 13039, 13040, 13042, 13043, 13044, 13045, 13046, 13048, 13049, 13050, 13051, 13052, 13053, 13054, 13056, 13057, 13058, 13059, 13060, 13062, 13063, 13064, 13066, 13067, 13068, 13069, 13070, 13071, 13072, 13074, 13075, 13076, 13077, 13078, 13079, 13080, 13082, 13083, 13084, 13085, 13088, 13090, 13091, 13092, 13093, 13094, 13095, 13096, 13097, 13099, 13100, 13102, 13103, 13106, 13109, 13110, 13111, 13112, 13113, 13114, 13115, 13117, 13118, 13119, 13120, 13121, 13122, 13124, 13125, 13127, 13128, 13129, 13130, 13131, 13133, 13134, 13135, 13136, 13137, 13138, 13139, 13140, 13141, 13142, 13145, 13146, 13147, 13149, 13150, 13151, 13155, 13157, 13158, 13159, 13160, 13162, 13163, 13164, 13165, 13166, 13167, 13168, 13169, 13170, 13171, 13172, 13173, 13174, 13175, 13177, 13179, 13181, 13182, 13183, 13184, 13186, 13188, 13190, 13191, 13192, 13193, 13194, 13195, 13196, 13198, 13199, 13200, 13201, 13202, 13203, 13204, 13205, 13206, 13207, 13208, 13209, 13212, 13213, 13214, 13215, 13219, 13220, 13221, 13222, 13223, 13224, 13225, 13226, 13227, 13229, 13232, 13233, 13235, 13237, 13238, 13239, 13240, 13242, 13243, 13244, 13245, 13246, 13247, 13248, 13249, 13250, 13251, 13252, 13253, 13254, 13255, 13256, 13258, 13259, 13260, 13262, 13263, 13264, 13265, 13266, 13267, 13268, 13269, 13271, 13273, 13274, 13277, 13279, 13280, 13281, 13282, 13283, 13284, 13285, 13286, 13287, 13288, 13291, 13292, 13295, 13297, 13298, 13299, 13300, 13303, 13305, 13306, 13307, 13308, 13309, 13310, 13311, 13313, 13314, 13315, 13316, 13317, 13318, 13319, 13320, 13321, 13322, 13326, 13329, 13331, 13332, 13334, 13335, 13337, 13339, 13343, 13344, 13345, 13346, 13348, 13349, 13350, 13352, 13353, 13354, 13355, 13356, 13358, 13359, 13361, 13363, 13366, 13367, 13368, 13369, 13370, 13371, 13372, 13373, 13374, 13375, 13376, 13377, 13381, 13382, 13383, 13384, 13385, 13386, 13388, 13389, 13392, 13393, 13395, 13396, 13397, 13398, 13399, 13401, 13402, 13403, 13407, 13409, 13410, 13412, 13413, 13417, 13418, 13419, 13420, 13421, 13422, 13423, 13424, 13425, 13426, 13427, 13428, 13429, 13431, 13432, 13434, 13436, 13439, 13440, 13441, 13442, 13443, 13444, 13445, 13447, 13448, 13449, 13453, 13454, 13455, 13458, 13459, 13462, 13464, 13465, 13466, 13468, 13469, 13470, 13471, 13473, 13474, 13475, 13477, 13478, 13479, 13481, 13483, 13484, 13485, 13486, 13488, 13490, 13491, 13493, 13494, 13495, 13497, 13498, 13500, 13501, 13503, 13504, 13505, 13506, 13507, 13508, 13509, 13511, 13513, 13514, 13516, 13517, 13518, 13520, 13521, 13523, 13524, 13525, 13526, 13528, 13529, 13530, 13531, 13532, 13533, 13534, 13535, 13536, 13537, 13538, 13539, 13541, 13542, 13543, 13546, 13547, 13548, 13549, 13550, 13551, 13552, 13553, 13554, 13555, 13556, 13558, 13560, 13561, 13562, 13565, 13566, 13567, 13569, 13570, 13571, 13572, 13573, 13574, 13575, 13576, 13578, 13579, 13581, 13582, 13583, 13584, 13585, 13587, 13588, 13591, 13592, 13593, 13594, 13595, 13596, 13598, 13599, 13600, 13601, 13603, 13604, 13605, 13606, 13607, 13608, 13609, 13611, 13612, 13614, 13615, 13617, 13618, 13619, 13620, 13621, 13622, 13623, 13624, 13625, 13626, 13627, 13629, 13630, 13631, 13632, 13633, 13638, 13640, 13641, 13644, 13645, 13647, 13649, 13651, 13652, 13653, 13654, 13655, 13656, 13657, 13658, 13660, 13661, 13662, 13663, 13664, 13665, 13666, 13667, 13668, 13669, 13671, 13672, 13675, 13677, 13678, 13680, 13681, 13682, 13686, 13688, 13689, 13690, 13691, 13692, 13693, 13695, 13697, 13698, 13700, 13701, 13702, 13703, 13704, 13706, 13707, 13708, 13709, 13710, 13711, 13712, 13713, 13714, 13715, 13716, 13717, 13719, 13720, 13721, 13723, 13724, 13725, 13726, 13727, 13728, 13730, 13732, 13735, 13737, 13738, 13739, 13740, 13741, 13743, 13744, 13746, 13747, 13748, 13749, 13750, 13751, 13752, 13753, 13754, 13755, 13756, 13758, 13760, 13761, 13762, 13763, 13764, 13765, 13766, 13767, 13768, 13770, 13771, 13772, 13773, 13774, 13775, 13776, 13778, 13780, 13781, 13782, 13783, 13784, 13785, 13786, 13788, 13790, 13791, 13792, 13793, 13796, 13798, 13799, 13800, 13801, 13803, 13804, 13805, 13806, 13807, 13809, 13810, 13812, 13814, 13815, 13817, 13819, 13820, 13821, 13822, 13823, 13824, 13825, 13826, 13827, 13830, 13831, 13833, 13834, 13835, 13836, 13837, 13838, 13839, 13842, 13843, 13844, 13845, 13846, 13847, 13848, 13849, 13850, 13851, 13852, 13854, 13857, 13858, 13859, 13863, 13864, 13865, 13866, 13869, 13870, 13871, 13872, 13873, 13876, 13878, 13879, 13882, 13883, 13884, 13885, 13887, 13888, 13889, 13890, 13891, 13892, 13894, 13895, 13896, 13897, 13898, 13899, 13900, 13901, 13902, 13903, 13904, 13905, 13906, 13907, 13908, 13909, 13910, 13911, 13912, 13913, 13914, 13915, 13916, 13919, 13920, 13921, 13922, 13923, 13927, 13928, 13930, 13931, 13932, 13933, 13934, 13935, 13938, 13941, 13942, 13943, 13944, 13945, 13947, 13948, 13949, 13951, 13952, 13953, 13955, 13957, 13961, 13963, 13964, 13965, 13967, 13969, 13970, 13972, 13974, 13975, 13977, 13978, 13979, 13980, 13986, 13987, 13989, 13990, 13992, 13993, 13995, 13997, 13998, 13999, 14000, 14002, 14003, 14004, 14005, 14006, 14009, 14011, 14014, 14016, 14017, 14019, 14021, 14023, 14026, 14032, 14033, 14035, 14036, 14037, 14039, 14040, 14044, 14046, 14047, 14048, 14051, 14054, 14057, 14059, 14060, 14062, 14063, 14064, 14065, 14066, 14067, 14068, 14069, 14071, 14072, 14073, 14074, 14075, 14076, 14077, 14078, 14079, 14080, 14081, 14082, 14083, 14084, 14085, 14086, 14087, 14088, 14089, 14091, 14092, 14093, 14094, 14096, 14097, 14101, 14102, 14104, 14105, 14106, 14107, 14108, 14109, 14112, 14113, 14114, 14115, 14116, 14117, 14119, 14121, 14122, 14123, 14124, 14126, 14127, 14128, 14130, 14132, 14134, 14135, 14136, 14139, 14140, 14141, 14142, 14143, 14146, 14147, 14148, 14149, 14150, 14151, 14152, 14153, 14155, 14156, 14157, 14158, 14159, 14160, 14161, 14162, 14163, 14164, 14165, 14167, 14171, 14172, 14173, 14174, 14175, 14176, 14177, 14179, 14184, 14186, 14187, 14188, 14189, 14190, 14192, 14193, 14194, 14195, 14196, 14197, 14198, 14199, 14200, 14202, 14203, 14204, 14206, 14207, 14208, 14209, 14212, 14213, 14215, 14216, 14218, 14220, 14222, 14224, 14225, 14227, 14228, 14229, 14230, 14231, 14232, 14233, 14234, 14235, 14236, 14237, 14238, 14242, 14243, 14245, 14248, 14249, 14253, 14254, 14255, 14256, 14257, 14258, 14259, 14260, 14261, 14262, 14263, 14264, 14265, 14267, 14268, 14269, 14273, 14275, 14278, 14280, 14282, 14283, 14284, 14286, 14287, 14289, 14290, 14291, 14292, 14294, 14295, 14296, 14298, 14299, 14300, 14301, 14302, 14303, 14304, 14305, 14307, 14308, 14309, 14310, 14312, 14313, 14315, 14316, 14317, 14319, 14320, 14321, 14322, 14323, 14324, 14325, 14326, 14327, 14328, 14329, 14330, 14331, 14332, 14333, 14334, 14337, 14338, 14339, 14340, 14341, 14342, 14343, 14344, 14345, 14346, 14349, 14350, 14351, 14352, 14353, 14354, 14358, 14362, 14363, 14364, 14365, 14366, 14367, 14368, 14369, 14370, 14371, 14372, 14374, 14375, 14378, 14379, 14383, 14384, 14385, 14386, 14387, 14388, 14389, 14390, 14392, 14393, 14394, 14395, 14396, 14397, 14398, 14399, 14401, 14403, 14404, 14405, 14406, 14408, 14410, 14412, 14414, 14416, 14417, 14418, 14419, 14420, 14422, 14424, 14425, 14426, 14429, 14430, 14432, 14433, 14434, 14435, 14437, 14438, 14439, 14440, 14441, 14442, 14443, 14444, 14447, 14448, 14449, 14450, 14453, 14455, 14456, 14457, 14458, 14459, 14460, 14463, 14464, 14465, 14467, 14468, 14469, 14470, 14471, 14472, 14474, 14477, 14478, 14479, 14480, 14482, 14483, 14484, 14485, 14486, 14487, 14488, 14489, 14490, 14492, 14493, 14494, 14495, 14497, 14498, 14499, 14500, 14502, 14503, 14504, 14505, 14506, 14507, 14509, 14511, 14514, 14515, 14516, 14517, 14518, 14519, 14520, 14522, 14523, 14524, 14527, 14528, 14529, 14530, 14532, 14533, 14536, 14537, 14539, 14540, 14542, 14544, 14545, 14547, 14548, 14549, 14551, 14553, 14555, 14556, 14557, 14559, 14560, 14561, 14562, 14563, 14564, 14566, 14568, 14569, 14570, 14571, 14572, 14573, 14574, 14577, 14578, 14579, 14581, 14582, 14583, 14585, 14587, 14589, 14590, 14591, 14593, 14594, 14595, 14596, 14597, 14598, 14599, 14600, 14601, 14602, 14604, 14605, 14606, 14608, 14610, 14611, 14612, 14613, 14615, 14616, 14617, 14618, 14619, 14620, 14621, 14622, 14623, 14624, 14625, 14626, 14627, 14629, 14631, 14632, 14633, 14634, 14635, 14636, 14640, 14641, 14642, 14643, 14644, 14646, 14647, 14649, 14651, 14652, 14653, 14654, 14655, 14657, 14658, 14659, 14660, 14661, 14662, 14663, 14665, 14666, 14667, 14668, 14669, 14670, 14671, 14673, 14674, 14676, 14677, 14678, 14679, 14680, 14681, 14682, 14683, 14684, 14685, 14686, 14687, 14688, 14690, 14691, 14693, 14694, 14695, 14697, 14698, 14699, 14701, 14702, 14703, 14705, 14706, 14707, 14708, 14709, 14710, 14711, 14712, 14714, 14715, 14717, 14719, 14720, 14721, 14726, 14727, 14728, 14729, 14730, 14732, 14734, 14735, 14736, 14737, 14738, 14740, 14741, 14742, 14743, 14744, 14747, 14748, 14749, 14750, 14751, 14752, 14754, 14755, 14756, 14757, 14758, 14759, 14761, 14762, 14763, 14764, 14765, 14766, 14767, 14768, 14770, 14771, 14772, 14773, 14774, 14776, 14777, 14778, 14779, 14781, 14782, 14783, 14784, 14785, 14786, 14788, 14789, 14790, 14791, 14793, 14794, 14795, 14796, 14797, 14798, 14799, 14801, 14802, 14804, 14806, 14807, 14808, 14809, 14810, 14812, 14813, 14816, 14817, 14819, 14820, 14821, 14822, 14823, 14824, 14825, 14826, 14827, 14828, 14829, 14830, 14831, 14832, 14833, 14834, 14838, 14839, 14841, 14842, 14843, 14844, 14845, 14847, 14848, 14849, 14850, 14851, 14852, 14853, 14854, 14855, 14856, 14857, 14858, 14861, 14862, 14863, 14864, 14865, 14866, 14868, 14869, 14870, 14871, 14875, 14876, 14877, 14878, 14879, 14881, 14882, 14883, 14885, 14886, 14887, 14889, 14890, 14891, 14892, 14893, 14895, 14896, 14897, 14898, 14899, 14900, 14901, 14904, 14906, 14907, 14911, 14912, 14913, 14914, 14915, 14917, 14918, 14919, 14920, 14921, 14922, 14923, 14924, 14925, 14926, 14927, 14928, 14929, 14930, 14931, 14932, 14935, 14936, 14937, 14938, 14939, 14941, 14944, 14946, 14947, 14948, 14949, 14950, 14951, 14953, 14955, 14958, 14959, 14961, 14963, 14964, 14965, 14967, 14968, 14970, 14972, 14973, 14977, 14978, 14979, 14980, 14981, 14982, 14983, 14984, 14986, 14988, 14989, 14991, 14992, 14993, 14994, 14995, 14997, 14998, 14999, 15000, 15001, 15002, 15004, 15005, 15006, 15007, 15008, 15009, 15010, 15011, 15012, 15016, 15017, 15019, 15021, 15024, 15025, 15026, 15028, 15029, 15030, 15033, 15034, 15035, 15036, 15037, 15039, 15040, 15041, 15042, 15046, 15048, 15050, 15052, 15053, 15054, 15055, 15056, 15058, 15059, 15060, 15062, 15063, 15065, 15066, 15067, 15071, 15072, 15073, 15074, 15075, 15076, 15077, 15078, 15079, 15080, 15081, 15082, 15083, 15084, 15085, 15086, 15089, 15090, 15092, 15093, 15094, 15095, 15098, 15099, 15100, 15102, 15103, 15105, 15108, 15110, 15113, 15114, 15115, 15116, 15121, 15123, 15124, 15125, 15127, 15130, 15133, 15134, 15135, 15137, 15138, 15139, 15141, 15142, 15143, 15144, 15145, 15146, 15147, 15149, 15150, 15151, 15152, 15153, 15154, 15155, 15159, 15160, 15162, 15164, 15165, 15167, 15169, 15170, 15171, 15172, 15174, 15177, 15179, 15181, 15182, 15183, 15184, 15185, 15186, 15187, 15188, 15190, 15191, 15192, 15193, 15194, 15195, 15196, 15198, 15200, 15202, 15203, 15204, 15205, 15206, 15207, 15208, 15209, 15212, 15214, 15216, 15217, 15218, 15220, 15222, 15223, 15226, 15228, 15229, 15230, 15231, 15232, 15233, 15234, 15235, 15237, 15238, 15239, 15241, 15242, 15245, 15247, 15248, 15249, 15250, 15251, 15252, 15253, 15255, 15256, 15257, 15258, 15259, 15260, 15261, 15262, 15263, 15264, 15265, 15266, 15267, 15268, 15269, 15271, 15273, 15274, 15275, 15276, 15277, 15278, 15280, 15281, 15282, 15286, 15289, 15291, 15293, 15294, 15295, 15296, 15297, 15298, 15300, 15301, 15302, 15304, 15305, 15307, 15308, 15309, 15310, 15311, 15313, 15314, 15315, 15318, 15321, 15322, 15324, 15325, 15329, 15330, 15331, 15332, 15333, 15334, 15335, 15336, 15337, 15338, 15340, 15343, 15344, 15345, 15346, 15348, 15349, 15352, 15353, 15354, 15355, 15356, 15357, 15358, 15359, 15363, 15365, 15369, 15372, 15375, 15378, 15382, 15383, 15384, 15386, 15388, 15389, 15390, 15391, 15392, 15393, 15394, 15395, 15396, 15397, 15398, 15399, 15400, 15401, 15402, 15403, 15405, 15407, 15408, 15409, 15410, 15411, 15412, 15413, 15414, 15417, 15418, 15419, 15420, 15421, 15423, 15424, 15426, 15427, 15430, 15431, 15433, 15434, 15436, 15437, 15438, 15439, 15441, 15442, 15443, 15446, 15447, 15448, 15449, 15450, 15451, 15453, 15454, 15455, 15456, 15459, 15460, 15462, 15464, 15466, 15469, 15470, 15471, 15472, 15474, 15475, 15476, 15477, 15478, 15479, 15482, 15483, 15486, 15488, 15490, 15491, 15492, 15493, 15496, 15497, 15498, 15499, 15501, 15502, 15503, 15505, 15506, 15507, 15509, 15510, 15511, 15512, 15513, 15514, 15515, 15516, 15518, 15519, 15521, 15522, 15523, 15527, 15529, 15530, 15532, 15533, 15534, 15536, 15537, 15538, 15542, 15543, 15544, 15545, 15547, 15548, 15549, 15550, 15551, 15552, 15555, 15556, 15557, 15560, 15561, 15562, 15563, 15565, 15566, 15567, 15568, 15570, 15571, 15572, 15573, 15574, 15576, 15577, 15578, 15579, 15581, 15582, 15583, 15588, 15589, 15590, 15593, 15594, 15595, 15596, 15597, 15599, 15600, 15602, 15603, 15604, 15605, 15606, 15607, 15609, 15610, 15611, 15612, 15613, 15615, 15616, 15617, 15619, 15620, 15621, 15623, 15624, 15625, 15626, 15627, 15628, 15630, 15631, 15632, 15634, 15635, 15636, 15637, 15638, 15639, 15640, 15641, 15642, 15643, 15644, 15646, 15647, 15648, 15649, 15650, 15651, 15652, 15654, 15655, 15656, 15657, 15658, 15659, 15661, 15662, 15663, 15665, 15666, 15667, 15668, 15669, 15670, 15672, 15673, 15675, 15676, 15677, 15682, 15683, 15685, 15687, 15688, 15689, 15690, 15692, 15693, 15694, 15696, 15697, 15699, 15700, 15703, 15704, 15707, 15708, 15712, 15713, 15714, 15715, 15717, 15718, 15720, 15722, 15723, 15724, 15725, 15726, 15727, 15729, 15731, 15732, 15733, 15734, 15735, 15737, 15738, 15740, 15741, 15742, 15743, 15744, 15745, 15746, 15747, 15748, 15749, 15750, 15752, 15753, 15754, 15755, 15757, 15758, 15759, 15762, 15764, 15765, 15766, 15769, 15770, 15771, 15772, 15774, 15775, 15776, 15778, 15780, 15781, 15782, 15783, 15784, 15785, 15786, 15787, 15790, 15792, 15794, 15795, 15797, 15798, 15799, 15800, 15802, 15805, 15806, 15807, 15808, 15809, 15810, 15811, 15812, 15813, 15814, 15815, 15816, 15817, 15818, 15820, 15821, 15822, 15823, 15824, 15825, 15827, 15828, 15829, 15830, 15831, 15832, 15837, 15838, 15839, 15841, 15842, 15843, 15844, 15845, 15846, 15847, 15848, 15849, 15851, 15852, 15853, 15854, 15855, 15856, 15857, 15858, 15859, 15861, 15863, 15864, 15865, 15867, 15868, 15870, 15871, 15873, 15874, 15875, 15877, 15878, 15879, 15880, 15881, 15882, 15883, 15887, 15888, 15889, 15890, 15892, 15893, 15895, 15896, 15897, 15898, 15899, 15901, 15902, 15903, 15905, 15906, 15907, 15908, 15909, 15910, 15911, 15913, 15914, 15915, 15917, 15918, 15919, 15920, 15921, 15923, 15924, 15925, 15927, 15929, 15930, 15931, 15932, 15933, 15934, 15935, 15936, 15937, 15938, 15939, 15940, 15941, 15942, 15943, 15944, 15945, 15946, 15948, 15949, 15950, 15951, 15953, 15955, 15960, 15961, 15965, 15966, 15967, 15968, 15969, 15970, 15972, 15973, 15974, 15975, 15976, 15977, 15979, 15980, 15981, 15982, 15984, 15985, 15987, 15988, 15989, 15990, 15992, 15993, 15995, 15996, 15997, 15998, 16000, 16001, 16002, 16005, 16007, 16009, 16011, 16012, 16013, 16014, 16015, 16016, 16017, 16018, 16020, 16021, 16023, 16024, 16025, 16026, 16027, 16029, 16030, 16031, 16032, 16033, 16034, 16035, 16036, 16037, 16040, 16041, 16043, 16044, 16045, 16046, 16047, 16048, 16049, 16051, 16052, 16054, 16056, 16057, 16058, 16059, 16062, 16063, 16065, 16066, 16069, 16070, 16071, 16072, 16074, 16075, 16076, 16077, 16079, 16080, 16083, 16084, 16085, 16086, 16088, 16090, 16091, 16092, 16093, 16094, 16095, 16096, 16097, 16098, 16099, 16100, 16101, 16103, 16105, 16106, 16107, 16108, 16109, 16110, 16111, 16113, 16114, 16115, 16116, 16117, 16118, 16119, 16120, 16121, 16122, 16124, 16125, 16126, 16127, 16128, 16129, 16130, 16132, 16133, 16134, 16136, 16137, 16138, 16139, 16140, 16141, 16142, 16143, 16145, 16146, 16148, 16149, 16150, 16151, 16152, 16153, 16155, 16156, 16157, 16158, 16159, 16160, 16161, 16163, 16164, 16165, 16166, 16167, 16168, 16169, 16170, 16171, 16173, 16174, 16175, 16176, 16177, 16178, 16179, 16181, 16183, 16186, 16187, 16188, 16189, 16190, 16191, 16193, 16194, 16195, 16198, 16199, 16200, 16201, 16203, 16204, 16205, 16206, 16208, 16209, 16211, 16212, 16213, 16215, 16216, 16217, 16220, 16221, 16222, 16223, 16224, 16225, 16226, 16227, 16228, 16229, 16230, 16231, 16232, 16233, 16234, 16235, 16236, 16237, 16238, 16239, 16241, 16242, 16243, 16244, 16245, 16246, 16247, 16248, 16250, 16251, 16252, 16253, 16254, 16255, 16257, 16261, 16263, 16264, 16265, 16266, 16267, 16269, 16270, 16271, 16272, 16274, 16276, 16277, 16278, 16280, 16281, 16282, 16283, 16284, 16285, 16288, 16289, 16290, 16291, 16292, 16293, 16294, 16295, 16297, 16298, 16299, 16300, 16301, 16302, 16303, 16304, 16305, 16306, 16307, 16308, 16309, 16312, 16313, 16314, 16315, 16316, 16317, 16318, 16319, 16320, 16321, 16322, 16323, 16324, 16325, 16326, 16330, 16331, 16332, 16335, 16336, 16337, 16338, 16339, 16342, 16343, 16344, 16345, 16346, 16347, 16348, 16349, 16350, 16351, 16352, 16353, 16355, 16356, 16357, 16358, 16359, 16360, 16361, 16362, 16363, 16364, 16365, 16366, 16367, 16368, 16369, 16370, 16371, 16372, 16373, 16374, 16375, 16376, 16377, 16378, 16379, 16380, 16381, 16382, 16383, 16384, 16385, 16386, 16388, 16389, 16390, 16392, 16395, 16398, 16399, 16400, 16401, 16404, 16406, 16407, 16408, 16409, 16410, 16411, 16412, 16413, 16415, 16416, 16418, 16419, 16420, 16421, 16422, 16423, 16424, 16425, 16426, 16427, 16428, 16429, 16430, 16431, 16432, 16434, 16435, 16436, 16437, 16438, 16440, 16441, 16442, 16444, 16445, 16446, 16447, 16448, 16449, 16450, 16451, 16452, 16453, 16454, 16455, 16456, 16457, 16458, 16459, 16460, 16461, 16462, 16463, 16464, 16467, 16468, 16469, 16470, 16471, 16472, 16473, 16474, 16475, 16476, 16477, 16478, 16479, 16480, 16482, 16484, 16485, 16486, 16487, 16490, 16491, 16492, 16493, 16494, 16495, 16496, 16498, 16499, 16502, 16503, 16504, 16505, 16506, 16507, 16508, 16510, 16511, 16512, 16513, 16514, 16516, 16519, 16520, 16521, 16522, 16523, 16524, 16525, 16527, 16528, 16529, 16530, 16532, 16533, 16534, 16537, 16539, 16541, 16543, 16544, 16545, 16546, 16547, 16548, 16549, 16551, 16552, 16553, 16556, 16558, 16560, 16561, 16562, 16563, 16564, 16565, 16566, 16567, 16568, 16569, 16570, 16572, 16573, 16574, 16575, 16577, 16578, 16579, 16582, 16585, 16586, 16587, 16588, 16590, 16592, 16593, 16594, 16595, 16597, 16598, 16601, 16602, 16603, 16604, 16605, 16606, 16608, 16609, 16610, 16611, 16612, 16614, 16615, 16616, 16617, 16619, 16621, 16622, 16625, 16626, 16627, 16628, 16629, 16630, 16631, 16632, 16634, 16635, 16636, 16637, 16638, 16639, 16640, 16641, 16642, 16643, 16644, 16645, 16646, 16647, 16648, 16649, 16650, 16651, 16652, 16653, 16654, 16655, 16656, 16657, 16658, 16659, 16660, 16661, 16662, 16663, 16664, 16665, 16666, 16667, 16668, 16669, 16671, 16672, 16673, 16674, 16675, 16677, 16678, 16679, 16682, 16683, 16684, 16685, 16686, 16687, 16688, 16689, 16691, 16693, 16694, 16695, 16696, 16697, 16698, 16699, 16700, 16701, 16702, 16703, 16705, 16706, 16707, 16709, 16710, 16711, 16712, 16713, 16714, 16715, 16716, 16717, 16719, 16720, 16721, 16722, 16723, 16724, 16725, 16726, 16729, 16731, 16732, 16739, 16740, 16742, 16744, 16746, 16747, 16748, 16749, 16751, 16752, 16754, 16755, 16756, 16757, 16758, 16759, 16760, 16761, 16762, 16763, 16768, 16769, 16772, 16773, 16774, 16775, 16776, 16778, 16780, 16781, 16782, 16785, 16786, 16787, 16788, 16789, 16790, 16791, 16793, 16795, 16796, 16797, 16799, 16800, 16802, 16803, 16804, 16805, 16806, 16807, 16808, 16809, 16810, 16811, 16812, 16813, 16814, 16815, 16816, 16817, 16818, 16820, 16821, 16822, 16826, 16827, 16830, 16831, 16832, 16833, 16838, 16839, 16841, 16843, 16844, 16845, 16846, 16847, 16848, 16850, 16851, 16852, 16853, 16854, 16857, 16858, 16859, 16860, 16861, 16863, 16864, 16866, 16867, 16868, 16869, 16870, 16871, 16872, 16877, 16878, 16879, 16880, 16881, 16884, 16885, 16886, 16888, 16889, 16890, 16892, 16894, 16895, 16896, 16897, 16898, 16899, 16900, 16901, 16903, 16904, 16906, 16908, 16910, 16911, 16912, 16914, 16915, 16916, 16917, 16918, 16920, 16921, 16922, 16925, 16926, 16928, 16931, 16932, 16934, 16936, 16937, 16938, 16939, 16941, 16942, 16945, 16946, 16947, 16948, 16949, 16950, 16951, 16953, 16955, 16956, 16957, 16958, 16959, 16960, 16962, 16966, 16967, 16968, 16969, 16970, 16971, 16972, 16973, 16976, 16977, 16978, 16981, 16983, 16986, 16990, 16991, 16992, 16995, 16996, 16999, 17001, 17002, 17003, 17004, 17006, 17008, 17009, 17011, 17012, 17014, 17015, 17017, 17018, 17019, 17020, 17021, 17022, 17023, 17025, 17026, 17028, 17029, 17031, 17032, 17033, 17034, 17035, 17036, 17037, 17038, 17039, 17040, 17041, 17042, 17043, 17044, 17046, 17048, 17049, 17050, 17051, 17052, 17054, 17055, 17056, 17057, 17058, 17059, 17060, 17061, 17062, 17063, 17064, 17067, 17070, 17072, 17073, 17075, 17077, 17078, 17079, 17080, 17081, 17082, 17085, 17086, 17087, 17088, 17089, 17090, 17091, 17092, 17093, 17095, 17096, 17097, 17098, 17100, 17101, 17102, 17104, 17106, 17107, 17108, 17109, 17110, 17111, 17112, 17114, 17116, 17118, 17120, 17121, 17124, 17125, 17126, 17129, 17130, 17131, 17132, 17134, 17136, 17137, 17140, 17141, 17143, 17145, 17147, 17148, 17149, 17150, 17152, 17153, 17158, 17159, 17160, 17161, 17162, 17163, 17164, 17166, 17167, 17168, 17169, 17170, 17171, 17172, 17173, 17174, 17175, 17177, 17178, 17179, 17181, 17182, 17183, 17186, 17188, 17189, 17190, 17191, 17194, 17197, 17198, 17199, 17200, 17201, 17202, 17204, 17205, 17207, 17208, 17209, 17212, 17213, 17215, 17216, 17217, 17219, 17223, 17225, 17226, 17228, 17229, 17230, 17231, 17232, 17233, 17234, 17235, 17236, 17241, 17242, 17243, 17244, 17245, 17246, 17247, 17250, 17251, 17253, 17254, 17255, 17256, 17257, 17258, 17259, 17260, 17261, 17262, 17263, 17264, 17265, 17268, 17269, 17270, 17271, 17272, 17273, 17274, 17277, 17279, 17281, 17284, 17286, 17287, 17288, 17289, 17290, 17291, 17292, 17293, 17294, 17296, 17297, 17298, 17299, 17301, 17302, 17303, 17305, 17306, 17308, 17310, 17312, 17313, 17314, 17315, 17317, 17318, 17320, 17321, 17323, 17324, 17326, 17327, 17328, 17329, 17330, 17331, 17332, 17334, 17336, 17337, 17339, 17340, 17341, 17344, 17347, 17349, 17351, 17352, 17353, 17354, 17356, 17357, 17359, 17360, 17361, 17365, 17366, 17367, 17369, 17370, 17371, 17373, 17374, 17375, 17376, 17377, 17378, 17379, 17380, 17381, 17383, 17384, 17385, 17386, 17388, 17390, 17392, 17393, 17394, 17395, 17396, 17397, 17398, 17399, 17400, 17401, 17404, 17405, 17406, 17407, 17409, 17410, 17411, 17412, 17413, 17414, 17415, 17416, 17417, 17418, 17420, 17421, 17423, 17424, 17425, 17426, 17428, 17430, 17433, 17434, 17435, 17436, 17439, 17440, 17441, 17442, 17443, 17444, 17445, 17446, 17447, 17448, 17449, 17450, 17451, 17452, 17454, 17455, 17456, 17457, 17460, 17462, 17463, 17464, 17465, 17467, 17469, 17470, 17471, 17472, 17473, 17474, 17476, 17477, 17478, 17479, 17480, 17482, 17484, 17485, 17486, 17488, 17490, 17491, 17492, 17493, 17494, 17495, 17496, 17497, 17498, 17501, 17503, 17505, 17506, 17507, 17508, 17510, 17511, 17512, 17513, 17514, 17515, 17516, 17517, 17518, 17519, 17520, 17521, 17522, 17523, 17526, 17527, 17528, 17529, 17530, 17531, 17532, 17534, 17536, 17539, 17541, 17545, 17547, 17549, 17552, 17553, 17558, 17562, 17563, 17566, 17569, 17571, 17572, 17577, 17581, 17582, 17584, 17585, 17586, 17587, 17590, 17591, 17594, 17595, 17596, 17597, 17598, 17602, 17603, 17605, 17606, 17607, 17608, 17611, 17612, 17614, 17616, 17617, 17618, 17619, 17622, 17624, 17625, 17627, 17629, 17630, 17632, 17634, 17636, 17638, 17639, 17641, 17642, 17644, 17646, 17650, 17651, 17652, 17659, 17660, 17661, 17663, 17664, 17666, 17667, 17668, 17671, 17673, 17674, 17675, 17676, 17677, 17681, 17682, 17683, 17685, 17689, 17690, 17691, 17692, 17693, 17694, 17696, 17698, 17700, 17701, 17704, 17706, 17709, 17710, 17712, 17713, 17714, 17716, 17717, 17719, 17720, 17721, 17722, 17723, 17727, 17728, 17731, 17732, 17733, 17735, 17738, 17739, 17741, 17743, 17744, 17746, 17748, 17749, 17750, 17751, 17754, 17760, 17761, 17762, 17764, 17765, 17768, 17769, 17772, 17773, 17774, 17775, 17777, 17778, 17779, 17781, 17782, 17783, 17784, 17785, 17787, 17788, 17789, 17793, 17794, 17795, 17797, 17798, 17800, 17801, 17802, 17806, 17807, 17808, 17809, 17811, 17812, 17813, 17814, 17815, 17816, 17817, 17818, 17819, 17820, 17821, 17822, 17823, 17824, 17825, 17826, 17828, 17829, 17830, 17831, 17832, 17833, 17834, 17835, 17836, 17837, 17838, 17839, 17842, 17844, 17845, 17848, 17850, 17851, 17852, 17854, 17863, 17865, 17866, 17868, 17870, 17871, 17874, 17876, 17877, 17881, 17882, 17883, 17886, 17887, 17888, 17889, 17890, 17891, 17893, 17894, 17902, 17903, 17905, 17908, 17909, 17910, 17912, 17913, 17914, 17917, 17921, 17922, 17923, 17924, 17925, 17926, 17927, 17928, 17930, 17931, 17933, 17934, 17936, 17938, 17939, 17940, 17941, 17942, 17943, 17944, 17945, 17946, 17947, 17948, 17950, 17951, 17954, 17955, 17956, 17958, 17959, 17960, 17963, 17964, 17965, 17966, 17967, 17968, 17970, 17971, 17973, 17974, 17975, 17976, 17977, 17978, 17979, 17980, 17981, 17983, 17985, 17986, 17987, 17988, 17989, 17990, 17991, 17992, 17994, 17996, 17997, 17998, 17999, 18000, 18001, 18002, 18004, 18005, 18006, 18009, 18010, 18011, 18012, 18013, 18014, 18015, 18016, 18017, 18020, 18023, 18024, 18026, 18027, 18029, 18030, 18031, 18033, 18036, 18037, 18038, 18040, 18041, 18042, 18043, 18045, 18046, 18047, 18048, 18049, 18050, 18051, 18052, 18053, 18054, 18055, 18057, 18058, 18060, 18062, 18065, 18066, 18068, 18069, 18073, 18074, 18075, 18077, 18078, 18081, 18083, 18085, 18086, 18087, 18088, 18090, 18091, 18092, 18093, 18095, 18096, 18098, 18100, 18103, 18104, 18105, 18106, 18107, 18108, 18111, 18112, 18114, 18116, 18117, 18118, 18121, 18122, 18123, 18124, 18125, 18127, 18128, 18131, 18132, 18133, 18134, 18135, 18136, 18137, 18138, 18139, 18141, 18142, 18143, 18145, 18148, 18150, 18151, 18152, 18153, 18154, 18157, 18158, 18161, 18162, 18164, 18165, 18167, 18169, 18170, 18173, 18176, 18177, 18178, 18179, 18181, 18184, 18185, 18186, 18191, 18192, 18193, 18194, 18195, 18198, 18199, 18200, 18202, 18203, 18204, 18205, 18206, 18207, 18208, 18209, 18211, 18212, 18213, 18214, 18215, 18218, 18219, 18220, 18222, 18223, 18224, 18225, 18227, 18229, 18230, 18232, 18233, 18235, 18236, 18237, 18238, 18242, 18243, 18244, 18245, 18246, 18247, 18248, 18249, 18250, 18251, 18254, 18257, 18260, 18263, 18266, 18267, 18269, 18270, 18271, 18273, 18274, 18275, 18278, 18279, 18280, 18281, 18282, 18283, 18284, 18286, 18288, 18290, 18291, 18293, 18294, 18295, 18297, 18298, 18299, 18300, 18302, 18303, 18304, 18305, 18306, 18307, 18308, 18309, 18310, 18311, 18312, 18313, 18314, 18315, 18316, 18318, 18319, 18321, 18322, 18323, 18325, 18326, 18327, 18328, 18332, 18334, 18335, 18336, 18337, 18342, 18343, 18344, 18346, 18348, 18349, 18350, 18352, 18353, 18354, 18355, 18358, 18359, 18360, 18361, 18363, 18364, 18365, 18367, 18368, 18369, 18370, 18371, 18372, 18373, 18374, 18375, 18377, 18378, 18379, 18380, 18382, 18383, 18384, 18385, 18387, 18388, 18389, 18391, 18392, 18393, 18394, 18397, 18398, 18400, 18401, 18402, 18403, 18404, 18405, 18406, 18407, 18408, 18409, 18410, 18413, 18416, 18417, 18418, 18420, 18421, 18423, 18425, 18426, 18427, 18428, 18429, 18432, 18433, 18436, 18437, 18438, 18439, 18440, 18442, 18443, 18444, 18445, 18447, 18449, 18451, 18452, 18453, 18455, 18456, 18457, 18458, 18459, 18460, 18461, 18462, 18464, 18465, 18467, 18469, 18470, 18471, 18472, 18475, 18476, 18477, 18478, 18479, 18480, 18483, 18484, 18486, 18487, 18488, 18489, 18490, 18491, 18494, 18495, 18496, 18500, 18501, 18503, 18505, 18508, 18510, 18511, 18512, 18514, 18515, 18516, 18517, 18518, 18519, 18521, 18522, 18523, 18524, 18525, 18527, 18530, 18533, 18534, 18536, 18540, 18541, 18545, 18546, 18547, 18548, 18549, 18550, 18552, 18553, 18554, 18555, 18556, 18559, 18562, 18565, 18566, 18567, 18568, 18569, 18570, 18571, 18574, 18576, 18577, 18579, 18580, 18581, 18582, 18583, 18584, 18585, 18586, 18587, 18588, 18589, 18591, 18595, 18596, 18597, 18600, 18602, 18603, 18607, 18608, 18613, 18614, 18615, 18617, 18620, 18622, 18623, 18624, 18625, 18626, 18629, 18630, 18633, 18634, 18635, 18638, 18640, 18642, 18645, 18646, 18647, 18648, 18650, 18652, 18654, 18655, 18656, 18657, 18658, 18659, 18660, 18661, 18664, 18665, 18666, 18668, 18671, 18672, 18673, 18674, 18676, 18677, 18678, 18679, 18680, 18681, 18682, 18688, 18689, 18692, 18694, 18695, 18696, 18697, 18698, 18699, 18700, 18701, 18702, 18706, 18707, 18708, 18711, 18712, 18715, 18717, 18720, 18721, 18722, 18726, 18728, 18729, 18730, 18733, 18734, 18735, 18736, 18737, 18738, 18739, 18740, 18741, 18742, 18745, 18746, 18748, 18749, 18750, 18751, 18753, 18755, 18756, 18758, 18759, 18760, 18761, 18763, 18765, 18766, 18767, 18768, 18770, 18771, 18772, 18773, 18775, 18777, 18778, 18779, 18780, 18783, 18785, 18786, 18787, 18788, 18789, 18793, 18794, 18795, 18797, 18798, 18799, 18800, 18801, 18802, 18803, 18804, 18808, 18809, 18810, 18811, 18813, 18814, 18815, 18816, 18818, 18820, 18821, 18822, 18824, 18829, 18832, 18835, 18836, 18837, 18838, 18839, 18841, 18844, 18845, 18846, 18848, 18849, 18850, 18851, 18853, 18854, 18855, 18856, 18857, 18858, 18859, 18860, 18862, 18863, 18864, 18865, 18866, 18867, 18868, 18869, 18871, 18873, 18874, 18876, 18877, 18881, 18882, 18884, 18885, 18886, 18887, 18889, 18890, 18892, 18893, 18894, 18896, 18897, 18901, 18903, 18904, 18905, 18906, 18907, 18909, 18910, 18912, 18913, 18915, 18916, 18918, 18919, 18920, 18921, 18922, 18923, 18924, 18925, 18926, 18927, 18928, 18929, 18932, 18935, 18936, 18940, 18941, 18945, 18946, 18947, 18950, 18951, 18952, 18953, 18955, 18956, 18958, 18962, 18963, 18964, 18967, 18968, 18969, 18970, 18971, 18973, 18974, 18976, 18977, 18978, 18979, 18981, 18984, 18987, 18988, 18989, 18991, 18992, 18993, 18994, 18995, 18996, 18997, 18998, 19000, 19001, 19002, 19003, 19004, 19006, 19007, 19009, 19011, 19015, 19016, 19017, 19019, 19020, 19022, 19023, 19025, 19028, 19029, 19030, 19031, 19033, 19034, 19035, 19037, 19038, 19039, 19041, 19043, 19046, 19047, 19048, 19049, 19050, 19052, 19057, 19058, 19059, 19061, 19062, 19063, 19064, 19065, 19066, 19067, 19068, 19072, 19073, 19074, 19079, 19081, 19082, 19083, 19084, 19085, 19086, 19087, 19091, 19092, 19093, 19095, 19096, 19097, 19102, 19103, 19104, 19105, 19106, 19107, 19110, 19111, 19113, 19114, 19117, 19118, 19119, 19120, 19121, 19123, 19124, 19125, 19126, 19130, 19131, 19135, 19137, 19138, 19140, 19141, 19143, 19145, 19147, 19148, 19151, 19152, 19153, 19154, 19155, 19159, 19160, 19161, 19163, 19164, 19166, 19167, 19168, 19169, 19171, 19172, 19173, 19174, 19175, 19176, 19177, 19178, 19179, 19183, 19184, 19186, 19187, 19189, 19190, 19192, 19196, 19197, 19201, 19202, 19206, 19208, 19209, 19210, 19211, 19214, 19215, 19216, 19217, 19218, 19221, 19223, 19224, 19225, 19226, 19227, 19228, 19233, 19234, 19236, 19239, 19241, 19242, 19243, 19244, 19247, 19249, 19251, 19252, 19253, 19254, 19255, 19256, 19258, 19261, 19262, 19263, 19264, 19265, 19266, 19268, 19272, 19273, 19275, 19276, 19277, 19279, 19280, 19281, 19282, 19286, 19287, 19288, 19290, 19291, 19293, 19294, 19295, 19296, 19297, 19299, 19300, 19303, 19308, 19309, 19310, 19311, 19313, 19314, 19315, 19317, 19320, 19322, 19325, 19326, 19329, 19330, 19331, 19333, 19336, 19338, 19340, 19341, 19343, 19347, 19349, 19350, 19351, 19352, 19353, 19355, 19356, 19357, 19358, 19359, 19363, 19364, 19366, 19368, 19369, 19371, 19372, 19373, 19374, 19376, 19377, 19378, 19379, 19380, 19382, 19383, 19384, 19385, 19387, 19388, 19389, 19392, 19393, 19394, 19395, 19396, 19397, 19399, 19400, 19401, 19404, 19406, 19408, 19409, 19411, 19412, 19413, 19414, 19416, 19417, 19418, 19419, 19420, 19421, 19422, 19423, 19425, 19427, 19429, 19430, 19431, 19434, 19437, 19439, 19440, 19441, 19442, 19443, 19444, 19445, 19446, 19448, 19451, 19452, 19454, 19456, 19457, 19458, 19459, 19460, 19461, 19462, 19463, 19465, 19468, 19469, 19471, 19474, 19475, 19476, 19477, 19478, 19479, 19480, 19481, 19483, 19486, 19488, 19489, 19491, 19492, 19494, 19496, 19497, 19499, 19501, 19502, 19503, 19504, 19505, 19506, 19507, 19508, 19509, 19510, 19511, 19512, 19513, 19515, 19516, 19517, 19518, 19519, 19521, 19522, 19523, 19524, 19526, 19527, 19528, 19529, 19530, 19531, 19533, 19535, 19536, 19539, 19540, 19541, 19543, 19544, 19548, 19550, 19551, 19554, 19556, 19558, 19559, 19560, 19561, 19562, 19563, 19565, 19566, 19568, 19570, 19572, 19573, 19574, 19575, 19577, 19578, 19582, 19583, 19584, 19585, 19587, 19588, 19589, 19590, 19592, 19593, 19595, 19596, 19597, 19599, 19601, 19602, 19603, 19604, 19605, 19606, 19607, 19608, 19609, 19611, 19612, 19615, 19618, 19620, 19622, 19623, 19624, 19625, 19626, 19628, 19629, 19630, 19633, 19634, 19635, 19636, 19638, 19640, 19641, 19643, 19644, 19645, 19646, 19651, 19652, 19653, 19654, 19655, 19656, 19659, 19660, 19661, 19663, 19665, 19667, 19668, 19669, 19672, 19673, 19676, 19677, 19678, 19679, 19680, 19681, 19683, 19684, 19685, 19687, 19688, 19689, 19690, 19691, 19692, 19693, 19695, 19698, 19699, 19703, 19704, 19705, 19706, 19707, 19708, 19711, 19712, 19713, 19714, 19715, 19717, 19718, 19723, 19724, 19725, 19726, 19727, 19728, 19729, 19730, 19731, 19732, 19733, 19735, 19737, 19738, 19739, 19741, 19742, 19743, 19744, 19746, 19747, 19748, 19749, 19750, 19751, 19752, 19753, 19754, 19756, 19757, 19758, 19760, 19761, 19762, 19763, 19764, 19766, 19767, 19769, 19774, 19777, 19780, 19782, 19783, 19784, 19785, 19786, 19787, 19788, 19789, 19790, 19792, 19793, 19794, 19795, 19796, 19797, 19799, 19801, 19802, 19805, 19809, 19811, 19812, 19813, 19814, 19817, 19819, 19820, 19824, 19825, 19826, 19827, 19829, 19830, 19831, 19832, 19833, 19837, 19838, 19839, 19841, 19843, 19844, 19848, 19850, 19851, 19853, 19854, 19855, 19856, 19857, 19858, 19859, 19860, 19861, 19862, 19863, 19864, 19865, 19866, 19867, 19868, 19869, 19870, 19871, 19872, 19873, 19874, 19875, 19876, 19877, 19878, 19879, 19880, 19881, 19882, 19883, 19884, 19885, 19886, 19887, 19888, 19889, 19890, 19891, 19892, 19893, 19894, 19895, 19896, 19897, 19898, 19899, 19900, 19901, 19902, 19903, 19904, 19905, 19906, 19907, 19908, 19909, 19910, 19911, 19912, 19913, 19914, 19915, 19916, 19917, 19918, 19919, 19920, 19921, 19922, 19923, 19924, 19925, 19926, 19927, 19928, 19929, 19930, 19931, 19932, 19933, 19934, 19935, 19936, 19937, 19938, 19939, 19940, 19941, 19942, 19943, 19944, 19945, 19946, 19947, 19948, 19949, 19950, 19951, 19952, 19953, 19954, 19955, 19956, 19957, 19958, 19959, 19960, 19961, 19962, 19963, 19964, 19965, 19966, 19967, 19968, 19969, 19970, 19971, 19972, 19973, 19974, 19975, 19976, 19977, 19978, 19979, 19980, 19981, 19982, 19983, 19984, 19985, 19986, 19987, 19988, 19989, 19990, 19991, 19992, 19993, 19994, 19995, 19996, 19997, 19998, 19999, 20000, 20001, 20002, 20003, 20004, 20005, 20006, 20007, 20008, 20009, 20010, 20011, 20012, 20013, 20014, 20015, 20016, 20017, 20018, 20019, 20020, 20021, 20022, 20023, 20024, 20025, 20026, 20027, 20028, 20029, 20030, 20031, 20032, 20033, 20034, 20035, 20036, 20037, 20038, 20039, 20040, 20041, 20042, 20043, 20044, 20045, 20046, 20047, 20048, 20049, 20050, 20051, 20052, 20053, 20054, 20055, 20056, 20057, 20058, 20059, 20060, 20061, 20062, 20063, 20064, 20065, 20066, 20067, 20068, 20069, 20070, 20071, 20072, 20073, 20074, 20075, 20076, 20077, 20078, 20079, 20080, 20081, 20082, 20083, 20084, 20085, 20086, 20087, 20088, 20089, 20090, 20091, 20092, 20093, 20094, 20095, 20096, 20097, 20098, 20099, 20100, 20101, 20102, 20103, 20104, 20105, 20106, 20107, 20108, 20109, 20110, 20111, 20112, 20113, 20114, 20115, 20116, 20117, 20118, 20119, 20120, 20121, 20122, 20123, 20124, 20125, 20126, 20127, 20128, 20129, 20130, 20131, 20132, 20133, 20134, 20135, 20136, 20137, 20138, 20139, 20140, 20141, 20142, 20143, 20144, 20145, 20146, 20147, 20148, 20149, 20150, 20151, 20152, 20153, 20154, 20155, 20156, 20157, 20158, 20159, 20160, 20161, 20162, 20163, 20164, 20165, 20166, 20167, 20168, 20169, 20170, 20171, 20172, 20173, 20174, 20175, 20176, 20177, 20178, 20179, 20180, 20181, 20182, 20183, 20184, 20185, 20186, 20187, 20188, 20189, 20190, 20191, 20192, 20193, 20194, 20195, 20196, 20197, 20198, 20199, 20200, 20201, 20202, 20203, 20204, 20205, 20206, 20207, 20208, 20209, 20210, 20211, 20212, 20213, 20214, 20215, 20216, 20217, 20218, 20219, 20220, 20221, 20222, 20223, 20224, 20225, 20226, 20227, 20228, 20229, 20230, 20231, 20232, 20233, 20234, 20235, 20236, 20237, 20238, 20239, 20240, 20241, 20242, 20243, 20244, 20245, 20246, 20247, 20248, 20249, 20250, 20251, 20252, 20253, 20254, 20255, 20256, 20257, 20258, 20259, 20260, 20261, 20262, 20263, 20264, 20265, 20266, 20267, 20268, 20269, 20270, 20271, 20272, 20273, 20274, 20275, 20276, 20277, 20278, 20279, 20280, 20281, 20282, 20283, 20284, 20285, 20286, 20287, 20288, 20289, 20290, 20291, 20292, 20293, 20294, 20295, 20296, 20297, 20298, 20299, 20300, 20301, 20302, 20303, 20304, 20305, 20306, 20307, 20308, 20309, 20310, 20311, 20312, 20313, 20314, 20315, 20316, 20317, 20318, 20319, 20320, 20321, 20322, 20323, 20324, 20325, 20326, 20327, 20328, 20329, 20330, 20331, 20332, 20333, 20334, 20335, 20336, 20337, 20338, 20339, 20340, 20341, 20342, 20343, 20344, 20345, 20346, 20347, 20348, 20349, 20350, 20351, 20352, 20353, 20354, 20355, 20356, 20357, 20358, 20359, 20360, 20361, 20362, 20363, 20364, 20365, 20366, 20367, 20368, 20369, 20370, 20371, 20372, 20373, 20374, 20375, 20376, 20377, 20378, 20379, 20380, 20381, 20382, 20383, 20384, 20385, 20386, 20387, 20388, 20389, 20390, 20391, 20392, 20393, 20394, 20395, 20396, 20397, 20398, 20399, 20400, 20401, 20402, 20403, 20404, 20405, 20406, 20407, 20408, 20409, 20410, 20411, 20412, 20413, 20414, 20415, 20416, 20417, 20418, 20419, 20420, 20421, 20422, 20423, 20424, 20425, 20426, 20427, 20428, 20429, 20430, 20431, 20432, 20433, 20434, 20435, 20436, 20437, 20438, 20439, 20440, 20441, 20442, 20443, 20444, 20445, 20446, 20447, 20448, 20449, 20450, 20451, 20452, 20453, 20454, 20455, 20456, 20457, 20458, 20459, 20460, 20461, 20462, 20463, 20464, 20465, 20466, 20467, 20468, 20469, 20470, 20471, 20472, 20473, 20474, 20475, 20476, 20477, 20478, 20479, 20480, 20481, 20482, 20483, 20484, 20485, 20486, 20487, 20488, 20489, 20490, 20491, 20492, 20493, 20494, 20495, 20496, 20497, 20498, 20499, 20500, 20501, 20502, 20503, 20504, 20505, 20506, 20507, 20508, 20509, 20510, 20511, 20512, 20513, 20514, 20515, 20516, 20517, 20518, 20519, 20520, 20521, 20522, 20523, 20524, 20525, 20526, 20527, 20528, 20529, 20530, 20531, 20532, 20533, 20534, 20535, 20536, 20537, 20538, 20539, 20540, 20541, 20542, 20543, 20544, 20545, 20546, 20547, 20548, 20549, 20550, 20551, 20552, 20553, 20554, 20555, 20556, 20557, 20558, 20559, 20560, 20561, 20562, 20563, 20564, 20565, 20566, 20567, 20568, 20569, 20570, 20571, 20572, 20573, 20574, 20575, 20576, 20577, 20578, 20579, 20580, 20581, 20582, 20583, 20584, 20585, 20586, 20587, 20588, 20589, 20590, 20591, 20592, 20593, 20594, 20595, 20596, 20597, 20598, 20599, 20600, 20601, 20602, 20603, 20604, 20605, 20606, 20607, 20608, 20609, 20610, 20611, 20612, 20613, 20614, 20615, 20616, 20617, 20618, 20619, 20620, 20621, 20622, 20623, 20624, 20625, 20626, 20627, 20628, 20629, 20630, 20631, 20632, 20633, 20634, 20635, 20636, 20637, 20638, 20639, 20640, 20641, 20642, 20643, 20644, 20645, 20646, 20647, 20648, 20649, 20650, 20651, 20652, 20653, 20654, 20655, 20656, 20657, 20658, 20659, 20660, 20661, 20662, 20663, 20664, 20665, 20666, 20667, 20668, 20669, 20670, 20671, 20672, 20673, 20674, 20675, 20676, 20677, 20678, 20679, 20680, 20681, 20682, 20683, 20684, 20685, 20686, 20687, 20688, 20689, 20690, 20691, 20692, 20693, 20694, 20695, 20696, 20697, 20698, 20699, 20700, 20701, 20702, 20703, 20704, 20705, 20706, 20707, 20708, 20709, 20710, 20711, 20712, 20713, 20714, 20715, 20716, 20717, 20718, 20719, 20720, 20721, 20722, 20723, 20724, 20725, 20726, 20727, 20728, 20729, 20730, 20731, 20732, 20733, 20734, 20735, 20736, 20737, 20738, 20739, 20740, 20741, 20742, 20743, 20744, 20745, 20746, 20747, 20748, 20749, 20750, 20751, 20752, 20753, 20754, 20755, 20756, 20757, 20758, 20759, 20760, 20761, 20762, 20763, 20764, 20765, 20766, 20767, 20768, 20769, 20770, 20771, 20772, 20773, 20774, 20775, 20776, 20777, 20778, 20779, 20780, 20781, 20782, 20783, 20784, 20785, 20786, 20787, 20788, 20789, 20790, 20791, 20792, 20793, 20794, 20795, 20796, 20797, 20798, 20799, 20800, 20801, 20802, 20803, 20804, 20805, 20806, 20807, 20808, 20809, 20810, 20811, 20812, 20813, 20814, 20815, 20816, 20817, 20818, 20819, 20820, 20821, 20822, 20823, 20824, 20825, 20826, 20827, 20828, 20829, 20830, 20831, 20832, 20833, 20834, 20835, 20836, 20837, 20838, 20839, 20840, 20841, 20842, 20843, 20844, 20845, 20846, 20847, 20848, 20849, 20850, 20851, 20852, 20853, 20854, 20855, 20856, 20857, 20858, 20859, 20860, 20861, 20862, 20863, 20864, 20865, 20866, 20867, 20868, 20869, 20870, 20871, 20872, 20873, 20874, 20875, 20876, 20877, 20878, 20879, 20880, 20881, 20882, 20883, 20884, 20885, 20886, 20887, 20888, 20889, 20890, 20891, 20892, 20893, 20894, 20895, 20896, 20897, 20898, 20899, 20900, 20901, 20902, 20903, 20904, 20905, 20906, 20907, 20908, 20909, 20910, 20911, 20912, 20913, 20914, 20915, 20916, 20917, 20918, 20919, 20920, 20921, 20922, 20923, 20924, 20925, 20926, 20927, 20928, 20929, 20930, 20931, 20932, 20933, 20934, 20935, 20936, 20937, 20938, 20939, 20940, 20941, 20942, 20943, 20944, 20945, 20946, 20947, 20948, 20949, 20950, 20951, 20952, 20953, 20954, 20955, 20956, 20957, 20958, 20959, 20960, 20961, 20962, 20963, 20964, 20965, 20966, 20967, 20968, 20969, 20970, 20971, 20972, 20973, 20974, 20975, 20976, 20977, 20978, 20979, 20980, 20981, 20982, 20983, 20984, 20985, 20986, 20987, 20988, 20989, 20990, 20991, 20992, 20993, 20994, 20995, 20996, 20997, 20998, 20999, 21000, 21001, 21002, 21003, 21004, 21005, 21006, 21007, 21008, 21009, 21010, 21011, 21012, 21013, 21014, 21015, 21016, 21017, 21018, 21019, 21020, 21021, 21022, 21023, 21024, 21025, 21026, 21027, 21028, 21029, 21030, 21031, 21032, 21033, 21034, 21035, 21036, 21037, 21038, 21039, 21040, 21041, 21042, 21043, 21044, 21045, 21046, 21047, 21048, 21049, 21050, 21051, 21052, 21053, 21054, 21055, 21056, 21057, 21058, 21059, 21060, 21061, 21062, 21063, 21064, 21065, 21066, 21067, 21068, 21069, 21070, 21071, 21072, 21073, 21074, 21075, 21076, 21077, 21078, 21079, 21080, 21081, 21082, 21083, 21084, 21085, 21086, 21087, 21088, 21089, 21090, 21091, 21092, 21093, 21094, 21095, 21096, 21097, 21098, 21099, 21100, 21101, 21102, 21103, 21104, 21105, 21106, 21107, 21108, 21109, 21110, 21111, 21112, 21113, 21114, 21115, 21116, 21117, 21118, 21119, 21120, 21121, 21122, 21123, 21124, 21125, 21126, 21127, 21128, 21129, 21130, 21131, 21132, 21133, 21134, 21135, 21136, 21137, 21138, 21139, 21140, 21141, 21142, 21143, 21144, 21145, 21146, 21147, 21148, 21149, 21150, 21151, 21152, 21153, 21154, 21155, 21156, 21157, 21158, 21159, 21160, 21161, 21162, 21163, 21164, 21165, 21166, 21167, 21168, 21169, 21170, 21171, 21172, 21173, 21174, 21175, 21176, 21177, 21178, 21179, 21180, 21181, 21182, 21183, 21184, 21185, 21186, 21187, 21188, 21189, 21190, 21191, 21192, 21193, 21194, 21195, 21196, 21197, 21198, 21199, 21200, 21201, 21202, 21203, 21204, 21205, 21206, 21207, 21208, 21209, 21210, 21211, 21212, 21213, 21214, 21215, 21216, 21217, 21218, 21219, 21220, 21221, 21222, 21223, 21224, 21225, 21226, 21227, 21228, 21229, 21230, 21231, 21232, 21233, 21234, 21235, 21236, 21237, 21238, 21239, 21240, 21241, 21242, 21243, 21244, 21245, 21246, 21247, 21248, 21249, 21250, 21251, 21252, 21253, 21254, 21255, 21256, 21257, 21258, 21259, 21260, 21261, 21262, 21263, 21264, 21265, 21266, 21267, 21268, 21269, 21270, 21271, 21272, 21273, 21274, 21275, 21276, 21277, 21278, 21279, 21280, 21281, 21282, 21283, 21284, 21285, 21286, 21287, 21288, 21289, 21290, 21291, 21292, 21293, 21294, 21295, 21296, 21297, 21298, 21299, 21300, 21301, 21302, 21303, 21304, 21305, 21306, 21307, 21308, 21309, 21310, 21311, 21312, 21313, 21314, 21315, 21316, 21317, 21318, 21319, 21320, 21321, 21322, 21323, 21324, 21325, 21326, 21327, 21328, 21329, 21330, 21331, 21332, 21333, 21334, 21335, 21336, 21337, 21338, 21339, 21340, 21341, 21342, 21343, 21344, 21345, 21346, 21347, 21348, 21349, 21350, 21351, 21352, 21353, 21354, 21355, 21356, 21357, 21358, 21359, 21360, 21361, 21362, 21363, 21364, 21365, 21366, 21367, 21368, 21369, 21370, 21371, 21372, 21373, 21374, 21375, 21376, 21377, 21378, 21379, 21380, 21381, 21382, 21383, 21384, 21385, 21386, 21387, 21388, 21389, 21390, 21391, 21392, 21393, 21394, 21395, 21396, 21397, 21398, 21399, 21400, 21401, 21402, 21403, 21404, 21405, 21406, 21407, 21408, 21409, 21410, 21411, 21412, 21413, 21414, 21415, 21416, 21417, 21418, 21419, 21420, 21421, 21422, 21423, 21424, 21425, 21426, 21427, 21428, 21429, 21430, 21431, 21432, 21433, 21434, 21435, 21436, 21437, 21438, 21439, 21440, 21441, 21442, 21443, 21444, 21445, 21446, 21447, 21448, 21449, 21450, 21451, 21452, 21453, 21454, 21455, 21456, 21457, 21458, 21459, 21460, 21461, 21462, 21463, 21464, 21465, 21466, 21467, 21468, 21469, 21470, 21471, 21472, 21473, 21474, 21475, 21476, 21477, 21478, 21479, 21480, 21481, 21482, 21483, 21484, 21485, 21486, 21487, 21488, 21489, 21490, 21491, 21492, 21493, 21494, 21495, 21496, 21497, 21498, 21499, 21500, 21501, 21502, 21503, 21504, 21505, 21506, 21507, 21508, 21509, 21510, 21511, 21512, 21513, 21514, 21515, 21516, 21517, 21518, 21519, 21520, 21521, 21522, 21523, 21524, 21525, 21526, 21527, 21528, 21529, 21530, 21531, 21532, 21533, 21534, 21535, 21536, 21537, 21538, 21539, 21540, 21541, 21542, 21543, 21544, 21545, 21546, 21547, 21548, 21549, 21550, 21551, 21552, 21553, 21554, 21555, 21556, 21557, 21558, 21559, 21560, 21561, 21562, 21563, 21564, 21565, 21566, 21567, 21568, 21569, 21570, 21571, 21572, 21573, 21574, 21575, 21576, 21577, 21578, 21579, 21580, 21581, 21582, 21583, 21584, 21585, 21586, 21587, 21588, 21589, 21590, 21591, 21592, 21593, 21594, 21595, 21596, 21597, 21598, 21599, 21600, 21601, 21602, 21603, 21604, 21605, 21606, 21607, 21608, 21609, 21610, 21611, 21612, 21613, 21614, 21615, 21616, 21617, 21618, 21619, 21620, 21621, 21622, 21623, 21624, 21625, 21626, 21627, 21628, 21629, 21630, 21631, 21632, 21633, 21634, 21635, 21636, 21637, 21638, 21639, 21640, 21641, 21642, 21643, 21644, 21645, 21646, 21647, 21648, 21649, 21650, 21651, 21652, 21653, 21654, 21655, 21656, 21657, 21658, 21659, 21660, 21661, 21662, 21663, 21664, 21665, 21666, 21667, 21668, 21669, 21670, 21671, 21672, 21673, 21674, 21675, 21676, 21677, 21678, 21679, 21680, 21681, 21682, 21683, 21684, 21685, 21686, 21687, 21688, 21689, 21690, 21691, 21692, 21693, 21694, 21695, 21696, 21697, 21698, 21699, 21700, 21701, 21702, 21703, 21704, 21705, 21706, 21707, 21708, 21709, 21710, 21711, 21712, 21713, 21714, 21715, 21716, 21717, 21718, 21719, 21720, 21721, 21722, 21723, 21724, 21725, 21726, 21727, 21728, 21729, 21730, 21731, 21732, 21733, 21734, 21735, 21736, 21737, 21738, 21739, 21740, 21741, 21742, 21743, 21744, 21745, 21746, 21747, 21748, 21749, 21750, 21751, 21752, 21753, 21754, 21755, 21756, 21757, 21758, 21759, 21760, 21761, 21762, 21763, 21764, 21765, 21766, 21767, 21768, 21769, 21770, 21771, 21772, 21773, 21774, 21775, 21776, 21777, 21778, 21779, 21780, 21781, 21782, 21783, 21784, 21785, 21786, 21787, 21788, 21789, 21790, 21791, 21792, 21793, 21794, 21795, 21796, 21797, 21798, 21799, 21800, 21801, 21802, 21803, 21804, 21805, 21806, 21807, 21808, 21809, 21810, 21811, 21812, 21813, 21814, 21815, 21816, 21817, 21818, 21819, 21820, 21821, 21822, 21823, 21824, 21825, 21826, 21827, 21828, 21829, 21830, 21831, 21832, 21833, 21834, 21835, 21836, 21837, 21838, 21839, 21840, 21841, 21842, 21843, 21844, 21845, 21846, 21847, 21848, 21849, 21850, 21851, 21852, 21853, 21854, 21855, 21856, 21857, 21858, 21859, 21860, 21861, 21862, 21863, 21864, 21865, 21866, 21867, 21868, 21869, 21870, 21871, 21872, 21873, 21874, 21875, 21876, 21877, 21878, 21879, 21880, 21881, 21882, 21883, 21884, 21885, 21886, 21887, 21888, 21889, 21890, 21891, 21892, 21893, 21894, 21895, 21896, 21897, 21898, 21899, 21900, 21901, 21902, 21903, 21904, 21905, 21906, 21907, 21908, 21909, 21910, 21911, 21912, 21913, 21914, 21915, 21916, 21917, 21918, 21919, 21920, 21921, 21922, 21923, 21924, 21925, 21926, 21927, 21928, 21929, 21930, 21931, 21932, 21933, 21934, 21935, 21936, 21937, 21938, 21939, 21940, 21941, 21942, 21943, 21944, 21945, 21946, 21947, 21948, 21949, 21950, 21951, 21952, 21953, 21954, 21955, 21956, 21957, 21958, 21959, 21960, 21961, 21962, 21963, 21964, 21965, 21966, 21967, 21968, 21969, 21970, 21971, 21972, 21973, 21974, 21975, 21976, 21977, 21978, 21979, 21980, 21981, 21982, 21983, 21984, 21985, 21986, 21987, 21988, 21989, 21990, 21991, 21992, 21993, 21994, 21995, 21996, 21997, 21998, 21999, 22000, 22001, 22002, 22003, 22004, 22005, 22006, 22007, 22008, 22009, 22010, 22011, 22012, 22013, 22014, 22015, 22016, 22017, 22018, 22019, 22020, 22021, 22022, 22023, 22024, 22025, 22026, 22027, 22028, 22029, 22030, 22031, 22032, 22033, 22034, 22035, 22036, 22037, 22038, 22039, 22040, 22041, 22042, 22043, 22044, 22045, 22046, 22047, 22048, 22049, 22050, 22051, 22052, 22053, 22054, 22055, 22056, 22057, 22058, 22059, 22060, 22061, 22062, 22063, 22064, 22065, 22066, 22067, 22068, 22069, 22070, 22071, 22072, 22073, 22074, 22075, 22076, 22077, 22078, 22079, 22080, 22081, 22082, 22083, 22084, 22085, 22086, 22087, 22088, 22089, 22090, 22091, 22092, 22093, 22094, 22095, 22096, 22097, 22098, 22099, 22100, 22101, 22102, 22103, 22104, 22105, 22106, 22107, 22108, 22109, 22110, 22111, 22112, 22113, 22114, 22115, 22116, 22117, 22118, 22119, 22120, 22121, 22122, 22123, 22124, 22125, 22126, 22127, 22128, 22129, 22130, 22131, 22132, 22133, 22134, 22135, 22136, 22137, 22138, 22139, 22140, 22141, 22142, 22143, 22144, 22145, 22146, 22147, 22148, 22149, 22150, 22151, 22152, 22153, 22154, 22155, 22156, 22157, 22158, 22159, 22160, 22161, 22162, 22163, 22164, 22165, 22166, 22167, 22168, 22169, 22170, 22171, 22172, 22173, 22174, 22175, 22176, 22177, 22178, 22179, 22180, 22181, 22182, 22183, 22184, 22185, 22186, 22187, 22188, 22189, 22190, 22191, 22192, 22193, 22194, 22195, 22196, 22197, 22198, 22199, 22200, 22201, 22202, 22203, 22204, 22205, 22206, 22207, 22208, 22209, 22210, 22211, 22212, 22213, 22214, 22215, 22216, 22217, 22218, 22219, 22220, 22221, 22222, 22223, 22224, 22225, 22226, 22227, 22228, 22229, 22230, 22231, 22232, 22233, 22234, 22235, 22236, 22237, 22238, 22239, 22240, 22241, 22242, 22243, 22244, 22245, 22246, 22247, 22248, 22249, 22250, 22251, 22252, 22253, 22254, 22255, 22256, 22257, 22258, 22259, 22260, 22261, 22262, 22263, 22264, 22265, 22266, 22267, 22268, 22269, 22270, 22271, 22272, 22273, 22274, 22275, 22276, 22277, 22278, 22279, 22280, 22281, 22282, 22283, 22284, 22285, 22286, 22287, 22288, 22289, 22290, 22291, 22292, 22293, 22294, 22295, 22296, 22297, 22298, 22299, 22300, 22301, 22302, 22303, 22304, 22305, 22306, 22307, 22308, 22309, 22310, 22311, 22312, 22313, 22314, 22315, 22316, 22317, 22318, 22319, 22320, 22321, 22322, 22323, 22324, 22325, 22326, 22327, 22328, 22329, 22330, 22331, 22332, 22333, 22334, 22335, 22336, 22337, 22338, 22339, 22340, 22341, 22342, 22343, 22344, 22345, 22346, 22347, 22348, 22349, 22350, 22351, 22352, 22353, 22354, 22355, 22356, 22357, 22358, 22359, 22360, 22361, 22362, 22363, 22364, 22365, 22366, 22367, 22368, 22369, 22370, 22371, 22372, 22373, 22374, 22375, 22376, 22377, 22378, 22379, 22380, 22381, 22382, 22383, 22384, 22385, 22386, 22387, 22388, 22389, 22390, 22391, 22392, 22393, 22394, 22395, 22396, 22397, 22398, 22399, 22400, 22401, 22402, 22403, 22404, 22405, 22406, 22407, 22408, 22409, 22410, 22411, 22412, 22413, 22414, 22415, 22416, 22417, 22418, 22419, 22420, 22421, 22422, 22423, 22424, 22425, 22426, 22427, 22428, 22429, 22430, 22431, 22432, 22433, 22434, 22435, 22436, 22437, 22438, 22439, 22440, 22441, 22442, 22443, 22444, 22445, 22446, 22447, 22448, 22449, 22450, 22451, 22452, 22453, 22454, 22455, 22456, 22457, 22458, 22459, 22460, 22461, 22462, 22463, 22464, 22465, 22466, 22467, 22468, 22469, 22470, 22471, 22472, 22473, 22474, 22475, 22476, 22477, 22478, 22479, 22480, 22481, 22482, 22483, 22484, 22485, 22486, 22487, 22488, 22489, 22490, 22491, 22492, 22493, 22494, 22495, 22496, 22497, 22498, 22499, 22500, 22501, 22502, 22503, 22504, 22505, 22506, 22507, 22508, 22509, 22510, 22511, 22512, 22513, 22514, 22515, 22516, 22517, 22518, 22519, 22520, 22521, 22522, 22523, 22524, 22525, 22526, 22527, 22528, 22529, 22530, 22531, 22532, 22533, 22534, 22535, 22536, 22537, 22538, 22539, 22540, 22541, 22542, 22543, 22544, 22545, 22546, 22547, 22548, 22549, 22550, 22551, 22552, 22553, 22554, 22555, 22556, 22557, 22558, 22559, 22560, 22561, 22562, 22563, 22564, 22565, 22566, 22567, 22568, 22569, 22570, 22571, 22572, 22573, 22574, 22575, 22576, 22577, 22578, 22579, 22580, 22581, 22582, 22583, 22584, 22585, 22586, 22587, 22588, 22589, 22590, 22591, 22592, 22593, 22594, 22595, 22596, 22597, 22598, 22599, 22600, 22601, 22602, 22603, 22604, 22605, 22606, 22607, 22608, 22609, 22610, 22611, 22612, 22613, 22614, 22615, 22616, 22617, 22618, 22619, 22620, 22621, 22622, 22623, 22624, 22625, 22626, 22627, 22628, 22629, 22630, 22631, 22632, 22633, 22634, 22635, 22636, 22637, 22638, 22639, 22640, 22641, 22642, 22643, 22644, 22645, 22646, 22647, 22648, 22649, 22650, 22651, 22652, 22653, 22654, 22655, 22656, 22657, 22658, 22659, 22660, 22661, 22662, 22663, 22664, 22665, 22666, 22667, 22668, 22669, 22670, 22671, 22672, 22673, 22674, 22675, 22676, 22677, 22678, 22679, 22680, 22681, 22682, 22683, 22684, 22685, 22686, 22687, 22688, 22689, 22690, 22691, 22692, 22693, 22694, 22695, 22696, 22697, 22698, 22699, 22700, 22701, 22702, 22703, 22704, 22705, 22706, 22707, 22708, 22709, 22710, 22711, 22712, 22713, 22714, 22715, 22716, 22717, 22718, 22719, 22720, 22721, 22722, 22723, 22724, 22725, 22726, 22727, 22728, 22729, 22730, 22731, 22732, 22733, 22734, 22735, 22736, 22737, 22738, 22739, 22740, 22741, 22742, 22743, 22744, 22745, 22746, 22747, 22748, 22749, 22750, 22751, 22752, 22753, 22754, 22755, 22756, 22757, 22758, 22759, 22760, 22761, 22762, 22763, 22764, 22765, 22766, 22767, 22768, 22769, 22770, 22771, 22772, 22773, 22774, 22775, 22776, 22777, 22778, 22779, 22780, 22781, 22782, 22783, 22784, 22785, 22786, 22787, 22788, 22789, 22790, 22791, 22792, 22793, 22794, 22795, 22796, 22797, 22798, 22799, 22800, 22801, 22802, 22803, 22804, 22805, 22806, 22807, 22808, 22809, 22810, 22811, 22812, 22813, 22814, 22815, 22816, 22817, 22818, 22819, 22820, 22821, 22822, 22823, 22824, 22825, 22826, 22827, 22828, 22829, 22830, 22831, 22832, 22833, 22834, 22835, 22836, 22837, 22838, 22839, 22840, 22841, 22842, 22843, 22844, 22845, 22846, 22847, 22848, 22849, 22850, 22851, 22852, 22853, 22854, 22855, 22856, 22857, 22858, 22859, 22860, 22861, 22862, 22863, 22864, 22865, 22866, 22867, 22868, 22869, 22870, 22871, 22872, 22873, 22874, 22875, 22876, 22877, 22878, 22879, 22880, 22881, 22882, 22883, 22884, 22885, 22886, 22887, 22888, 22889, 22890, 22891, 22892, 22893, 22894, 22895, 22896, 22897, 22898, 22899, 22900, 22901, 22902, 22903, 22904, 22905, 22906, 22907, 22908, 22909, 22910, 22911, 22912, 22913, 22914, 22915, 22916, 22917, 22918, 22919, 22920, 22921, 22922, 22923, 22924, 22925, 22926, 22927, 22928, 22929, 22930, 22931, 22932, 22933, 22934, 22935, 22936, 22937, 22938, 22939, 22940, 22941, 22942, 22943, 22944, 22945, 22946, 22947, 22948, 22949, 22950, 22951, 22952, 22953, 22954, 22955, 22956, 22957, 22958, 22959, 22960, 22961, 22962, 22963, 22964, 22965, 22966, 22967, 22968, 22969, 22970, 22971, 22972, 22973, 22974, 22975, 22976, 22977, 22978, 22979, 22980, 22981, 22982, 22983, 22984, 22985, 22986, 22987, 22988, 22989, 22990, 22991, 22992, 22993, 22994, 22995, 22996, 22997, 22998, 22999, 23000, 23001, 23002, 23003, 23004, 23005, 23006, 23007, 23008, 23009, 23010, 23011, 23012, 23013, 23014, 23015, 23016, 23017, 23018, 23019, 23020, 23021, 23022, 23023, 23024, 23025, 23026, 23027, 23028, 23029, 23030, 23031, 23032, 23033, 23034, 23035, 23036, 23037, 23038, 23039, 23040, 23041, 23042, 23043, 23044, 23045, 23046, 23047, 23048, 23049, 23050, 23051, 23052, 23053, 23054, 23055, 23056, 23057, 23058, 23059, 23060, 23061, 23062, 23063, 23064, 23065, 23066, 23067, 23068, 23069, 23070, 23071, 23072, 23073, 23074, 23075, 23076, 23077, 23078, 23079, 23080, 23081, 23082, 23083, 23084, 23085, 23086, 23087, 23088, 23089, 23090, 23091, 23092, 23093, 23094, 23095, 23096, 23097, 23098, 23099, 23100, 23101, 23102, 23103, 23104, 23105, 23106, 23107, 23108, 23109, 23110, 23111, 23112, 23113, 23114, 23115, 23116, 23117, 23118, 23119, 23120, 23121, 23122, 23123, 23124, 23125, 23126, 23127, 23128, 23129, 23130, 23131, 23132, 23133, 23134, 23135, 23136, 23137, 23138, 23139, 23140, 23141, 23142, 23143, 23144, 23145, 23146, 23147, 23148, 23149, 23150, 23151, 23152, 23153, 23154, 23155, 23156, 23157, 23158, 23159, 23160, 23161, 23162, 23163, 23164, 23165, 23166, 23167, 23168, 23169, 23170, 23171, 23172, 23173, 23174, 23175, 23176, 23177, 23178, 23179, 23180, 23181, 23182, 23183, 23184, 23185, 23186, 23187, 23188, 23189, 23190, 23191, 23192, 23193, 23194, 23195, 23196, 23197, 23198, 23199, 23200, 23201, 23202, 23203, 23204, 23205, 23206, 23207, 23208, 23209, 23210, 23211, 23212, 23213, 23214, 23215, 23216, 23217, 23218, 23219, 23220, 23221, 23222, 23223, 23224, 23225, 23226, 23227, 23228, 23229, 23230, 23231, 23232, 23233, 23234, 23235, 23236, 23237, 23238, 23239, 23240, 23241, 23242, 23243, 23244, 23245, 23246, 23247, 23248, 23249, 23250, 23251, 23252, 23253, 23254, 23255, 23256, 23257, 23258, 23259, 23260, 23261, 23262, 23263, 23264, 23265, 23266, 23267, 23268, 23269, 23270, 23271, 23272, 23273, 23274, 23275, 23276, 23277, 23278, 23279, 23280, 23281, 23282, 23283, 23284, 23285, 23286, 23287, 23288, 23289, 23290, 23291, 23292, 23293, 23294, 23295, 23296, 23297, 23298, 23299, 23300, 23301, 23302, 23303, 23304, 23305, 23306, 23307, 23308, 23309, 23310, 23311, 23312, 23313, 23314, 23315, 23316, 23317, 23318, 23319, 23320, 23321, 23322, 23323, 23324, 23325, 23326, 23327, 23328, 23329, 23330, 23331, 23332, 23333, 23334, 23335, 23336, 23337, 23338, 23339, 23340, 23341, 23342, 23343, 23344, 23345, 23346, 23347, 23348, 23349, 23350, 23351, 23352, 23353, 23354, 23355, 23356, 23357, 23358, 23359, 23360, 23361, 23362, 23363, 23364, 23365, 23366, 23367, 23368, 23369, 23370, 23371, 23372, 23373, 23374, 23375, 23376, 23377, 23378, 23379, 23380, 23381, 23382, 23383, 23384, 23385, 23386, 23387, 23388, 23389, 23390, 23391, 23392, 23393, 23394, 23395, 23396, 23397, 23398, 23399, 23400, 23401, 23402, 23403, 23404, 23405, 23406, 23407, 23408, 23409, 23410, 23411, 23412, 23413, 23414, 23415, 23416, 23417, 23418, 23419, 23420, 23421, 23422, 23423, 23424, 23425, 23426, 23427, 23428, 23429, 23430, 23431, 23432, 23433, 23434, 23435, 23436, 23437, 23438, 23439, 23440, 23441, 23442, 23443, 23444, 23445, 23446, 23447, 23448, 23449, 23450, 23451, 23452, 23453, 23454, 23455, 23456, 23457, 23458, 23459, 23460, 23461, 23462, 23463, 23464, 23465, 23466, 23467, 23468, 23469, 23470, 23471, 23472, 23473, 23474, 23475, 23476, 23477, 23478, 23479, 23480, 23481, 23482, 23483, 23484, 23485, 23486, 23487, 23488, 23489, 23490, 23491, 23492, 23493, 23494, 23495, 23496, 23497, 23498, 23499, 23500, 23501, 23502, 23503, 23504, 23505, 23506, 23507, 23508, 23509, 23510, 23511, 23512, 23513, 23514, 23515, 23516, 23517, 23518, 23519, 23520, 23521, 23522, 23523, 23524, 23525, 23526, 23527, 23528, 23529, 23530, 23531, 23532, 23533, 23534, 23535, 23536, 23537, 23538, 23539, 23540, 23541, 23542, 23543, 23544, 23545, 23546, 23547, 23548, 23549, 23550, 23551, 23552, 23553, 23554, 23555, 23556, 23557, 23558, 23559, 23560, 23561, 23562, 23563, 23564, 23565, 23566, 23567, 23568, 23569, 23570, 23571, 23572, 23573, 23574, 23575, 23576, 23577, 23578, 23579, 23580, 23581, 23582, 23583, 23584, 23585, 23586, 23587, 23588, 23589, 23590, 23591, 23592, 23593, 23594, 23595, 23596, 23597, 23598, 23599, 23600, 23601, 23602, 23603, 23604, 23605, 23606, 23607, 23608, 23609, 23610, 23611, 23612, 23613, 23614, 23615, 23616, 23617, 23618, 23619, 23620, 23621, 23622, 23623, 23624, 23625, 23626, 23627, 23628, 23629, 23630, 23631, 23632, 23633, 23634, 23635, 23636, 23637, 23638, 23639, 23640, 23641, 23642, 23643, 23644, 23645, 23646, 23647, 23648, 23649, 23650, 23651, 23652, 23653, 23654, 23655, 23656, 23657, 23658, 23659, 23660, 23661, 23662, 23663, 23664, 23665, 23666, 23667, 23668, 23669, 23670, 23671, 23672, 23673, 23674, 23675, 23676, 23677]\n"
     ]
    }
   ],
   "source": [
    "rows_with_nan = []\n",
    "for index, row in df.iterrows():\n",
    "    is_nan_series = row.isnull()\n",
    "    if is_nan_series.any():\n",
    "        rows_with_nan.append(index)\n",
    "\n",
    "print(rows_with_nan)"
   ]
  },
  {
   "cell_type": "markdown",
   "metadata": {},
   "source": [
    "### 4. Determine the total number of empty rows and their percentage in whole dataset and remove them."
   ]
  },
  {
   "cell_type": "code",
   "execution_count": 132,
   "metadata": {},
   "outputs": [
    {
     "data": {
      "text/plain": [
       "0        18\n",
       "1        19\n",
       "2        21\n",
       "3        18\n",
       "4        21\n",
       "         ..\n",
       "23673    19\n",
       "23674    13\n",
       "23675    17\n",
       "23676    20\n",
       "23677    19\n",
       "Length: 23678, dtype: int64"
      ]
     },
     "execution_count": 132,
     "metadata": {},
     "output_type": "execute_result"
    }
   ],
   "source": [
    "df.apply(lambda x: x.count(), axis=1)"
   ]
  },
  {
   "cell_type": "markdown",
   "metadata": {},
   "source": [
    "### 5. Determine the column names having missing values"
   ]
  },
  {
   "cell_type": "code",
   "execution_count": 133,
   "metadata": {},
   "outputs": [
    {
     "data": {
      "text/plain": [
       "Index(['Suburb', 'Address', 'Rooms', 'Type', 'Price', 'Method', 'SellerG',\n",
       "       'Date', 'Distance', 'Postcode', 'Bedroom2', 'Bathroom', 'Car',\n",
       "       'Landsize', 'BuildingArea', 'YearBuilt', 'CouncilArea', 'Lattitude',\n",
       "       'Longtitude', 'Regionname', 'Propertycount'],\n",
       "      dtype='object')"
      ]
     },
     "execution_count": 133,
     "metadata": {},
     "output_type": "execute_result"
    }
   ],
   "source": [
    "df.columns[df.isnull().any()]"
   ]
  },
  {
   "cell_type": "markdown",
   "metadata": {},
   "source": [
    "### 6. Determine the missing values and their percentage in each column."
   ]
  },
  {
   "cell_type": "code",
   "execution_count": 134,
   "metadata": {},
   "outputs": [
    {
     "data": {
      "text/plain": [
       "23678"
      ]
     },
     "execution_count": 134,
     "metadata": {},
     "output_type": "execute_result"
    }
   ],
   "source": [
    "len(df)"
   ]
  },
  {
   "cell_type": "code",
   "execution_count": 135,
   "metadata": {},
   "outputs": [],
   "source": [
    "percent_missing=df.isnull().sum()*100/len(df)\n",
    "missing_value_df=pd.DataFrame({\"column_name\":df.columns,'percent_missing':percent_missing})"
   ]
  },
  {
   "cell_type": "code",
   "execution_count": 136,
   "metadata": {},
   "outputs": [
    {
     "data": {
      "text/plain": [
       "Suburb            0.553256\n",
       "Address           0.553256\n",
       "Rooms             0.553256\n",
       "Type              0.553256\n",
       "Price            22.307627\n",
       "Method            0.553256\n",
       "SellerG           0.553256\n",
       "Date              0.553256\n",
       "Distance          0.557480\n",
       "Postcode          0.557480\n",
       "Bedroom2         19.477996\n",
       "Bathroom         19.490666\n",
       "Car              20.090379\n",
       "Landsize         26.471830\n",
       "BuildingArea     57.690683\n",
       "YearBuilt        51.262776\n",
       "CouncilArea      33.879551\n",
       "Lattitude        18.730467\n",
       "Longtitude       18.730467\n",
       "Regionname        0.557480\n",
       "Propertycount     0.557480\n",
       "dtype: float64"
      ]
     },
     "execution_count": 136,
     "metadata": {},
     "output_type": "execute_result"
    }
   ],
   "source": [
    "percent_missing"
   ]
  },
  {
   "cell_type": "markdown",
   "metadata": {},
   "source": [
    "### 7. Determine the row indexes having missing values"
   ]
  },
  {
   "cell_type": "code",
   "execution_count": 137,
   "metadata": {},
   "outputs": [
    {
     "data": {
      "text/plain": [
       "0         True\n",
       "1         True\n",
       "2        False\n",
       "3         True\n",
       "4        False\n",
       "         ...  \n",
       "23673     True\n",
       "23674     True\n",
       "23675     True\n",
       "23676     True\n",
       "23677     True\n",
       "Length: 23678, dtype: bool"
      ]
     },
     "execution_count": 137,
     "metadata": {},
     "output_type": "execute_result"
    }
   ],
   "source": [
    "df.isnull().any(axis=1)"
   ]
  },
  {
   "cell_type": "code",
   "execution_count": 138,
   "metadata": {},
   "outputs": [],
   "source": [
    "rows_with_nan = [index for index, row in df.iterrows() if row.isnull().any()]"
   ]
  },
  {
   "cell_type": "code",
   "execution_count": 139,
   "metadata": {},
   "outputs": [
    {
     "name": "stdout",
     "output_type": "stream",
     "text": [
      "[0, 1, 3, 5, 7, 8, 9, 10, 12, 13, 15, 16, 17, 19, 20, 21, 22, 23, 26, 27, 28, 29, 31, 32, 34, 35, 37, 40, 41, 42, 46, 47, 48, 49, 51, 53, 54, 55, 56, 61, 63, 65, 66, 70, 75, 76, 77, 78, 79, 80, 81, 85, 88, 90, 92, 93, 94, 95, 96, 97, 98, 100, 102, 103, 106, 108, 111, 112, 116, 117, 118, 119, 120, 121, 122, 123, 124, 125, 126, 127, 128, 129, 131, 132, 133, 135, 138, 140, 141, 142, 144, 145, 147, 149, 151, 152, 154, 155, 157, 158, 159, 161, 164, 165, 166, 168, 170, 171, 172, 174, 175, 176, 180, 181, 182, 183, 185, 186, 188, 189, 190, 191, 193, 195, 197, 198, 199, 200, 201, 204, 207, 208, 209, 210, 211, 212, 213, 214, 219, 221, 222, 223, 224, 225, 226, 228, 229, 235, 238, 240, 241, 244, 246, 248, 249, 251, 253, 254, 255, 257, 258, 259, 261, 264, 266, 267, 268, 269, 271, 272, 273, 274, 275, 276, 278, 280, 281, 282, 284, 287, 288, 289, 291, 292, 294, 295, 297, 298, 299, 301, 303, 304, 305, 306, 308, 309, 310, 311, 312, 313, 314, 315, 316, 317, 318, 319, 320, 321, 324, 325, 326, 327, 328, 329, 330, 331, 332, 333, 334, 335, 336, 337, 338, 339, 342, 345, 346, 347, 348, 349, 351, 352, 353, 354, 355, 356, 358, 359, 360, 361, 363, 364, 365, 367, 370, 371, 373, 374, 375, 377, 378, 379, 380, 382, 383, 385, 386, 387, 388, 389, 390, 391, 392, 394, 395, 396, 397, 398, 399, 400, 402, 404, 405, 406, 407, 409, 412, 413, 414, 415, 416, 418, 420, 421, 422, 423, 424, 425, 426, 428, 429, 430, 431, 432, 434, 435, 436, 437, 438, 440, 441, 443, 444, 447, 448, 449, 450, 451, 452, 453, 455, 457, 459, 460, 461, 463, 464, 465, 470, 471, 472, 473, 475, 476, 477, 478, 479, 480, 482, 483, 484, 485, 486, 489, 490, 494, 499, 503, 506, 508, 510, 511, 512, 514, 515, 517, 518, 519, 521, 522, 523, 524, 525, 530, 533, 535, 536, 543, 546, 547, 548, 550, 552, 555, 557, 559, 560, 561, 562, 563, 564, 568, 569, 572, 576, 579, 581, 582, 584, 585, 586, 587, 589, 590, 593, 594, 596, 597, 599, 601, 603, 604, 605, 606, 607, 609, 610, 611, 612, 613, 614, 618, 619, 622, 623, 625, 626, 627, 628, 630, 632, 634, 635, 636, 637, 638, 639, 640, 641, 642, 644, 645, 646, 648, 649, 650, 652, 653, 654, 656, 657, 658, 659, 661, 662, 663, 665, 669, 672, 673, 676, 677, 679, 680, 681, 682, 683, 684, 685, 688, 690, 693, 694, 697, 698, 699, 700, 701, 702, 705, 707, 708, 709, 710, 712, 713, 714, 716, 717, 718, 719, 720, 721, 722, 724, 726, 727, 728, 729, 730, 733, 735, 736, 737, 738, 739, 741, 742, 743, 745, 747, 748, 752, 753, 754, 756, 757, 758, 759, 760, 762, 763, 764, 765, 767, 768, 769, 771, 772, 773, 774, 775, 776, 777, 778, 779, 780, 781, 782, 783, 784, 785, 786, 787, 788, 789, 792, 794, 795, 796, 797, 799, 801, 802, 803, 805, 806, 807, 809, 810, 811, 812, 814, 815, 817, 818, 820, 821, 822, 823, 826, 827, 829, 830, 831, 835, 838, 842, 844, 845, 846, 847, 852, 853, 856, 857, 860, 862, 863, 864, 865, 866, 867, 868, 869, 871, 872, 873, 874, 876, 877, 878, 879, 880, 881, 883, 886, 887, 888, 890, 892, 893, 894, 895, 897, 898, 899, 903, 904, 906, 907, 908, 909, 910, 912, 913, 915, 916, 918, 919, 920, 921, 922, 923, 924, 926, 927, 928, 929, 930, 932, 934, 935, 937, 938, 939, 940, 942, 943, 944, 945, 946, 947, 948, 949, 950, 951, 952, 953, 954, 957, 958, 959, 960, 961, 963, 964, 965, 966, 967, 968, 971, 972, 973, 974, 975, 976, 977, 978, 979, 980, 981, 984, 985, 987, 989, 990, 991, 992, 993, 994, 995, 997, 998, 1000, 1001, 1003, 1004, 1005, 1007, 1008, 1010, 1014, 1015, 1016, 1017, 1022, 1023, 1024, 1027, 1028, 1029, 1034, 1035, 1036, 1037, 1038, 1040, 1041, 1043, 1044, 1045, 1046, 1047, 1048, 1050, 1051, 1052, 1053, 1054, 1057, 1058, 1059, 1061, 1063, 1064, 1065, 1067, 1070, 1072, 1074, 1075, 1076, 1077, 1078, 1080, 1081, 1082, 1083, 1084, 1085, 1087, 1088, 1090, 1093, 1095, 1098, 1099, 1101, 1102, 1103, 1104, 1106, 1108, 1109, 1110, 1112, 1113, 1114, 1116, 1117, 1118, 1119, 1120, 1123, 1124, 1125, 1126, 1127, 1129, 1130, 1131, 1133, 1134, 1135, 1137, 1139, 1140, 1141, 1143, 1144, 1145, 1146, 1147, 1149, 1150, 1151, 1152, 1153, 1154, 1155, 1156, 1157, 1159, 1160, 1161, 1162, 1164, 1165, 1166, 1168, 1170, 1171, 1172, 1174, 1175, 1176, 1177, 1178, 1179, 1180, 1181, 1182, 1183, 1184, 1185, 1189, 1190, 1191, 1193, 1194, 1195, 1197, 1198, 1199, 1200, 1201, 1202, 1203, 1205, 1207, 1208, 1209, 1210, 1211, 1212, 1214, 1215, 1216, 1217, 1218, 1222, 1223, 1224, 1225, 1226, 1227, 1228, 1229, 1230, 1231, 1235, 1238, 1239, 1242, 1243, 1245, 1246, 1247, 1248, 1252, 1254, 1255, 1256, 1258, 1259, 1263, 1264, 1265, 1266, 1268, 1269, 1270, 1271, 1274, 1276, 1277, 1278, 1281, 1282, 1283, 1284, 1285, 1286, 1287, 1288, 1290, 1291, 1292, 1293, 1295, 1297, 1299, 1301, 1302, 1304, 1305, 1307, 1308, 1309, 1310, 1312, 1313, 1314, 1315, 1319, 1320, 1321, 1322, 1324, 1325, 1326, 1327, 1328, 1329, 1330, 1332, 1333, 1334, 1336, 1337, 1338, 1340, 1341, 1343, 1345, 1346, 1348, 1349, 1351, 1352, 1353, 1354, 1356, 1357, 1358, 1359, 1360, 1361, 1362, 1363, 1366, 1367, 1368, 1370, 1371, 1372, 1373, 1374, 1375, 1376, 1377, 1378, 1379, 1380, 1382, 1383, 1384, 1385, 1386, 1387, 1389, 1391, 1394, 1395, 1396, 1397, 1399, 1406, 1407, 1408, 1410, 1411, 1412, 1414, 1416, 1417, 1418, 1419, 1420, 1421, 1422, 1423, 1425, 1426, 1427, 1430, 1431, 1432, 1433, 1434, 1435, 1439, 1440, 1441, 1442, 1443, 1444, 1445, 1446, 1447, 1448, 1449, 1450, 1451, 1453, 1454, 1456, 1457, 1459, 1460, 1461, 1462, 1465, 1466, 1467, 1468, 1469, 1471, 1472, 1474, 1476, 1477, 1478, 1479, 1481, 1482, 1483, 1486, 1489, 1490, 1491, 1494, 1496, 1498, 1499, 1502, 1503, 1504, 1506, 1510, 1511, 1512, 1513, 1515, 1516, 1517, 1518, 1519, 1521, 1522, 1523, 1524, 1525, 1527, 1528, 1529, 1530, 1534, 1535, 1536, 1538, 1545, 1546, 1547, 1550, 1552, 1554, 1555, 1556, 1557, 1558, 1559, 1560, 1561, 1564, 1565, 1567, 1570, 1573, 1577, 1580, 1581, 1582, 1583, 1585, 1586, 1587, 1589, 1590, 1591, 1592, 1593, 1594, 1596, 1598, 1600, 1602, 1603, 1604, 1605, 1606, 1607, 1608, 1609, 1610, 1611, 1613, 1614, 1615, 1617, 1618, 1619, 1621, 1624, 1627, 1628, 1629, 1630, 1632, 1634, 1635, 1636, 1637, 1638, 1639, 1640, 1642, 1643, 1647, 1649, 1650, 1658, 1659, 1662, 1664, 1665, 1666, 1669, 1671, 1672, 1673, 1674, 1677, 1678, 1679, 1680, 1681, 1682, 1683, 1686, 1687, 1688, 1689, 1690, 1691, 1695, 1699, 1701, 1702, 1703, 1704, 1708, 1709, 1710, 1711, 1712, 1713, 1714, 1715, 1716, 1718, 1720, 1722, 1723, 1724, 1725, 1726, 1730, 1732, 1734, 1735, 1736, 1738, 1739, 1740, 1741, 1743, 1744, 1746, 1748, 1750, 1751, 1752, 1754, 1755, 1759, 1760, 1761, 1762, 1764, 1765, 1766, 1767, 1769, 1771, 1772, 1773, 1775, 1776, 1777, 1782, 1783, 1784, 1785, 1786, 1787, 1788, 1790, 1791, 1793, 1794, 1795, 1796, 1797, 1798, 1799, 1800, 1801, 1802, 1803, 1805, 1808, 1809, 1810, 1811, 1812, 1814, 1815, 1816, 1817, 1818, 1819, 1820, 1823, 1824, 1825, 1827, 1828, 1829, 1830, 1831, 1833, 1834, 1836, 1837, 1839, 1841, 1842, 1843, 1845, 1847, 1849, 1850, 1851, 1852, 1853, 1855, 1856, 1857, 1859, 1860, 1862, 1863, 1864, 1865, 1867, 1868, 1869, 1871, 1872, 1873, 1874, 1875, 1877, 1878, 1879, 1880, 1882, 1884, 1885, 1886, 1888, 1889, 1890, 1892, 1893, 1895, 1896, 1897, 1898, 1899, 1900, 1901, 1902, 1903, 1904, 1905, 1908, 1909, 1911, 1912, 1913, 1915, 1916, 1917, 1918, 1919, 1920, 1923, 1925, 1926, 1927, 1928, 1929, 1930, 1931, 1932, 1933, 1934, 1935, 1938, 1940, 1941, 1942, 1943, 1944, 1946, 1947, 1948, 1950, 1952, 1953, 1955, 1956, 1957, 1958, 1960, 1961, 1962, 1963, 1965, 1966, 1967, 1968, 1970, 1971, 1972, 1973, 1974, 1975, 1976, 1977, 1978, 1979, 1980, 1984, 1985, 1986, 1988, 1989, 1991, 1992, 1993, 1997, 1998, 1999, 2002, 2003, 2004, 2006, 2007, 2008, 2010, 2011, 2013, 2014, 2016, 2017, 2018, 2020, 2024, 2025, 2026, 2027, 2028, 2029, 2030, 2033, 2034, 2035, 2037, 2038, 2039, 2041, 2042, 2043, 2044, 2045, 2051, 2052, 2053, 2055, 2056, 2057, 2058, 2060, 2061, 2062, 2064, 2065, 2066, 2067, 2068, 2069, 2071, 2072, 2073, 2074, 2075, 2076, 2077, 2078, 2079, 2080, 2081, 2082, 2084, 2085, 2086, 2087, 2088, 2089, 2090, 2091, 2092, 2093, 2094, 2095, 2096, 2098, 2100, 2101, 2102, 2103, 2105, 2106, 2107, 2108, 2109, 2110, 2111, 2112, 2115, 2116, 2117, 2118, 2119, 2120, 2122, 2123, 2125, 2127, 2129, 2131, 2133, 2134, 2135, 2137, 2138, 2139, 2140, 2141, 2143, 2147, 2148, 2149, 2150, 2152, 2156, 2157, 2160, 2161, 2162, 2164, 2166, 2167, 2171, 2172, 2173, 2175, 2177, 2179, 2180, 2182, 2185, 2186, 2187, 2189, 2191, 2192, 2193, 2194, 2195, 2197, 2198, 2199, 2200, 2201, 2202, 2205, 2206, 2208, 2209, 2210, 2212, 2213, 2214, 2220, 2223, 2224, 2226, 2227, 2228, 2232, 2233, 2237, 2240, 2242, 2243, 2245, 2247, 2250, 2252, 2253, 2257, 2258, 2259, 2260, 2263, 2265, 2266, 2267, 2269, 2270, 2271, 2272, 2273, 2274, 2276, 2277, 2278, 2279, 2281, 2283, 2284, 2286, 2288, 2293, 2295, 2298, 2301, 2302, 2304, 2305, 2306, 2307, 2308, 2311, 2312, 2314, 2318, 2320, 2323, 2324, 2325, 2329, 2330, 2331, 2333, 2336, 2337, 2339, 2341, 2342, 2343, 2344, 2345, 2346, 2347, 2348, 2352, 2354, 2357, 2358, 2359, 2360, 2365, 2366, 2367, 2368, 2369, 2372, 2373, 2374, 2375, 2376, 2377, 2378, 2380, 2385, 2386, 2388, 2389, 2391, 2394, 2395, 2396, 2397, 2399, 2400, 2406, 2407, 2413, 2414, 2418, 2419, 2422, 2423, 2424, 2426, 2427, 2428, 2430, 2433, 2435, 2438, 2440, 2441, 2442, 2444, 2446, 2448, 2450, 2451, 2452, 2453, 2456, 2457, 2458, 2459, 2460, 2461, 2462, 2464, 2465, 2467, 2468, 2470, 2471, 2472, 2474, 2475, 2476, 2477, 2480, 2481, 2483, 2485, 2486, 2487, 2488, 2489, 2490, 2492, 2493, 2494, 2495, 2497, 2498, 2499, 2500, 2502, 2503, 2504, 2505, 2506, 2507, 2508, 2509, 2510, 2512, 2513, 2514, 2515, 2518, 2519, 2521, 2522, 2523, 2524, 2525, 2526, 2527, 2528, 2530, 2532, 2533, 2534, 2536, 2538, 2539, 2540, 2543, 2544, 2545, 2546, 2547, 2548, 2549, 2550, 2552, 2553, 2555, 2557, 2558, 2560, 2561, 2562, 2563, 2564, 2566, 2567, 2568, 2570, 2572, 2573, 2576, 2577, 2579, 2580, 2581, 2582, 2583, 2584, 2585, 2586, 2587, 2588, 2589, 2590, 2592, 2593, 2594, 2595, 2597, 2598, 2599, 2600, 2601, 2603, 2604, 2605, 2606, 2607, 2608, 2610, 2611, 2612, 2613, 2614, 2615, 2616, 2617, 2618, 2621, 2623, 2624, 2625, 2626, 2627, 2630, 2631, 2632, 2633, 2634, 2636, 2637, 2638, 2639, 2640, 2641, 2642, 2643, 2644, 2645, 2646, 2647, 2648, 2650, 2651, 2656, 2657, 2658, 2659, 2660, 2661, 2662, 2665, 2666, 2668, 2669, 2670, 2671, 2672, 2673, 2674, 2675, 2676, 2677, 2678, 2679, 2680, 2681, 2682, 2683, 2684, 2687, 2688, 2689, 2692, 2693, 2695, 2696, 2697, 2698, 2699, 2700, 2701, 2702, 2704, 2705, 2706, 2707, 2709, 2710, 2711, 2713, 2714, 2716, 2719, 2720, 2721, 2722, 2725, 2726, 2728, 2729, 2730, 2732, 2733, 2734, 2735, 2737, 2738, 2739, 2740, 2741, 2742, 2743, 2744, 2745, 2746, 2747, 2748, 2749, 2750, 2751, 2752, 2753, 2754, 2755, 2756, 2757, 2758, 2759, 2760, 2762, 2763, 2764, 2765, 2766, 2768, 2769, 2770, 2771, 2772, 2774, 2776, 2777, 2778, 2780, 2781, 2783, 2784, 2785, 2786, 2787, 2788, 2789, 2792, 2794, 2796, 2797, 2799, 2800, 2803, 2805, 2808, 2809, 2810, 2811, 2812, 2813, 2814, 2816, 2817, 2819, 2820, 2821, 2822, 2823, 2824, 2825, 2826, 2827, 2829, 2830, 2833, 2837, 2839, 2842, 2843, 2845, 2846, 2848, 2850, 2853, 2855, 2856, 2857, 2858, 2859, 2860, 2862, 2863, 2864, 2865, 2866, 2867, 2869, 2870, 2871, 2872, 2873, 2874, 2875, 2876, 2877, 2878, 2879, 2880, 2882, 2883, 2884, 2885, 2888, 2889, 2890, 2892, 2893, 2894, 2896, 2898, 2899, 2901, 2902, 2903, 2904, 2905, 2907, 2908, 2910, 2912, 2913, 2915, 2916, 2917, 2918, 2920, 2923, 2924, 2927, 2928, 2930, 2931, 2932, 2935, 2941, 2944, 2945, 2948, 2949, 2950, 2951, 2953, 2954, 2955, 2956, 2957, 2958, 2959, 2961, 2965, 2966, 2968, 2969, 2970, 2971, 2972, 2973, 2977, 2978, 2979, 2981, 2983, 2984, 2986, 2988, 2991, 2994, 2995, 2996, 2998, 2999, 3000, 3001, 3002, 3003, 3004, 3007, 3011, 3012, 3013, 3014, 3015, 3016, 3019, 3020, 3022, 3023, 3024, 3026, 3027, 3028, 3031, 3033, 3036, 3037, 3038, 3040, 3042, 3045, 3046, 3048, 3051, 3052, 3053, 3056, 3058, 3060, 3061, 3062, 3063, 3065, 3066, 3068, 3069, 3070, 3072, 3074, 3076, 3078, 3080, 3081, 3082, 3083, 3085, 3086, 3087, 3089, 3090, 3091, 3092, 3093, 3094, 3096, 3097, 3098, 3100, 3101, 3102, 3104, 3106, 3107, 3110, 3111, 3113, 3114, 3115, 3116, 3117, 3118, 3119, 3120, 3121, 3122, 3123, 3124, 3125, 3126, 3130, 3132, 3134, 3137, 3138, 3139, 3140, 3141, 3143, 3144, 3145, 3147, 3148, 3150, 3152, 3154, 3156, 3157, 3158, 3159, 3160, 3161, 3162, 3164, 3165, 3167, 3168, 3170, 3171, 3172, 3173, 3174, 3177, 3178, 3179, 3181, 3182, 3183, 3185, 3186, 3188, 3189, 3190, 3191, 3192, 3194, 3195, 3196, 3197, 3198, 3200, 3201, 3202, 3203, 3204, 3205, 3206, 3208, 3209, 3210, 3212, 3214, 3215, 3216, 3217, 3219, 3222, 3223, 3229, 3231, 3232, 3233, 3235, 3237, 3238, 3239, 3240, 3241, 3242, 3243, 3245, 3246, 3247, 3248, 3250, 3251, 3252, 3254, 3255, 3256, 3257, 3259, 3260, 3261, 3263, 3264, 3265, 3266, 3267, 3268, 3269, 3270, 3272, 3273, 3275, 3276, 3277, 3279, 3281, 3282, 3283, 3285, 3286, 3287, 3288, 3291, 3293, 3294, 3295, 3297, 3298, 3302, 3303, 3304, 3305, 3307, 3309, 3310, 3318, 3320, 3321, 3323, 3325, 3326, 3328, 3329, 3330, 3331, 3332, 3333, 3334, 3335, 3336, 3338, 3339, 3340, 3341, 3343, 3346, 3350, 3352, 3354, 3355, 3356, 3357, 3360, 3361, 3362, 3363, 3364, 3365, 3366, 3367, 3368, 3369, 3371, 3372, 3373, 3374, 3375, 3377, 3378, 3379, 3380, 3381, 3382, 3385, 3386, 3387, 3388, 3389, 3393, 3395, 3396, 3400, 3401, 3403, 3404, 3405, 3410, 3413, 3415, 3417, 3418, 3420, 3421, 3422, 3424, 3426, 3427, 3428, 3431, 3433, 3436, 3437, 3438, 3439, 3443, 3445, 3449, 3450, 3451, 3452, 3455, 3457, 3458, 3459, 3460, 3461, 3462, 3463, 3464, 3465, 3469, 3471, 3472, 3473, 3475, 3477, 3478, 3481, 3483, 3485, 3486, 3487, 3490, 3491, 3493, 3496, 3498, 3499, 3500, 3501, 3502, 3503, 3504, 3505, 3506, 3507, 3508, 3509, 3510, 3511, 3512, 3513, 3516, 3517, 3518, 3521, 3522, 3523, 3524, 3525, 3526, 3527, 3532, 3533, 3534, 3535, 3536, 3540, 3541, 3542, 3543, 3545, 3548, 3549, 3551, 3552, 3555, 3556, 3558, 3559, 3562, 3564, 3566, 3567, 3569, 3571, 3574, 3575, 3576, 3577, 3578, 3579, 3581, 3583, 3584, 3588, 3590, 3592, 3594, 3595, 3596, 3598, 3599, 3601, 3603, 3604, 3605, 3606, 3607, 3608, 3610, 3611, 3613, 3614, 3617, 3619, 3620, 3625, 3627, 3628, 3630, 3631, 3633, 3635, 3636, 3637, 3638, 3639, 3641, 3642, 3643, 3644, 3645, 3646, 3647, 3649, 3650, 3651, 3652, 3653, 3654, 3655, 3657, 3658, 3660, 3662, 3664, 3667, 3670, 3671, 3672, 3673, 3674, 3675, 3677, 3678, 3679, 3680, 3685, 3686, 3687, 3690, 3691, 3692, 3693, 3695, 3698, 3699, 3700, 3701, 3703, 3704, 3705, 3712, 3714, 3715, 3716, 3717, 3718, 3719, 3720, 3721, 3722, 3723, 3725, 3727, 3728, 3729, 3730, 3735, 3737, 3739, 3742, 3744, 3745, 3748, 3749, 3751, 3752, 3755, 3757, 3758, 3759, 3760, 3761, 3765, 3766, 3767, 3768, 3769, 3772, 3775, 3778, 3780, 3781, 3782, 3783, 3784, 3790, 3791, 3792, 3793, 3794, 3795, 3796, 3797, 3798, 3804, 3807, 3812, 3814, 3815, 3816, 3818, 3819, 3820, 3821, 3822, 3823, 3825, 3826, 3829, 3830, 3833, 3835, 3836, 3839, 3840, 3841, 3842, 3843, 3845, 3846, 3848, 3850, 3851, 3852, 3853, 3854, 3855, 3857, 3861, 3862, 3864, 3866, 3868, 3869, 3870, 3871, 3873, 3875, 3876, 3878, 3880, 3881, 3882, 3884, 3886, 3887, 3888, 3889, 3890, 3891, 3892, 3893, 3894, 3897, 3899, 3902, 3903, 3904, 3905, 3906, 3907, 3909, 3910, 3913, 3914, 3915, 3916, 3921, 3922, 3924, 3925, 3927, 3928, 3929, 3936, 3939, 3940, 3941, 3945, 3946, 3947, 3948, 3951, 3953, 3955, 3956, 3957, 3958, 3959, 3960, 3964, 3965, 3966, 3968, 3969, 3971, 3975, 3976, 3979, 3982, 3984, 3986, 3987, 3988, 3989, 3993, 3994, 3995, 3996, 3997, 3998, 4000, 4001, 4002, 4003, 4004, 4005, 4007, 4008, 4009, 4010, 4011, 4012, 4015, 4017, 4018, 4019, 4020, 4022, 4023, 4024, 4026, 4031, 4033, 4035, 4036, 4038, 4039, 4040, 4042, 4045, 4046, 4047, 4048, 4049, 4050, 4054, 4055, 4058, 4059, 4061, 4063, 4065, 4067, 4069, 4071, 4072, 4074, 4075, 4076, 4077, 4078, 4079, 4081, 4083, 4084, 4088, 4089, 4090, 4092, 4093, 4094, 4095, 4096, 4097, 4100, 4103, 4105, 4106, 4108, 4109, 4110, 4111, 4114, 4115, 4116, 4117, 4118, 4121, 4123, 4124, 4126, 4131, 4132, 4133, 4134, 4135, 4136, 4137, 4139, 4140, 4142, 4147, 4148, 4150, 4151, 4152, 4153, 4155, 4159, 4161, 4162, 4164, 4165, 4167, 4168, 4169, 4170, 4174, 4177, 4179, 4181, 4182, 4184, 4185, 4186, 4187, 4189, 4190, 4191, 4192, 4193, 4194, 4197, 4198, 4200, 4201, 4206, 4207, 4208, 4210, 4212, 4214, 4215, 4217, 4218, 4219, 4220, 4222, 4223, 4224, 4225, 4227, 4230, 4231, 4232, 4233, 4235, 4236, 4237, 4239, 4240, 4241, 4242, 4245, 4246, 4248, 4250, 4251, 4253, 4254, 4257, 4258, 4263, 4264, 4265, 4269, 4271, 4272, 4273, 4274, 4275, 4277, 4279, 4283, 4284, 4285, 4287, 4288, 4290, 4291, 4292, 4293, 4294, 4298, 4299, 4300, 4301, 4304, 4305, 4306, 4307, 4308, 4311, 4314, 4315, 4317, 4318, 4320, 4321, 4322, 4323, 4325, 4326, 4327, 4328, 4330, 4331, 4333, 4335, 4336, 4340, 4341, 4343, 4344, 4345, 4346, 4347, 4349, 4350, 4352, 4353, 4354, 4355, 4357, 4360, 4363, 4365, 4366, 4367, 4368, 4369, 4371, 4372, 4373, 4374, 4376, 4377, 4378, 4380, 4383, 4384, 4385, 4387, 4388, 4391, 4392, 4393, 4394, 4396, 4407, 4409, 4412, 4413, 4415, 4417, 4418, 4420, 4423, 4424, 4425, 4429, 4431, 4432, 4435, 4436, 4437, 4445, 4447, 4448, 4450, 4452, 4453, 4454, 4457, 4458, 4459, 4460, 4461, 4462, 4465, 4468, 4469, 4470, 4476, 4477, 4478, 4479, 4482, 4485, 4487, 4488, 4489, 4490, 4491, 4492, 4494, 4496, 4499, 4501, 4502, 4503, 4504, 4505, 4507, 4510, 4511, 4517, 4518, 4519, 4523, 4524, 4525, 4526, 4527, 4530, 4531, 4532, 4533, 4534, 4536, 4537, 4540, 4541, 4542, 4543, 4545, 4547, 4548, 4550, 4551, 4553, 4557, 4558, 4559, 4562, 4563, 4564, 4565, 4566, 4567, 4570, 4571, 4573, 4574, 4575, 4576, 4577, 4578, 4579, 4580, 4582, 4583, 4584, 4585, 4586, 4587, 4588, 4589, 4590, 4592, 4593, 4595, 4596, 4597, 4598, 4600, 4601, 4602, 4603, 4604, 4606, 4608, 4609, 4610, 4612, 4613, 4614, 4615, 4616, 4618, 4619, 4620, 4621, 4622, 4623, 4624, 4627, 4628, 4629, 4630, 4631, 4632, 4634, 4636, 4637, 4638, 4639, 4640, 4641, 4642, 4643, 4645, 4647, 4648, 4649, 4650, 4651, 4652, 4654, 4655, 4656, 4658, 4659, 4660, 4661, 4664, 4666, 4667, 4668, 4669, 4670, 4671, 4673, 4674, 4675, 4676, 4677, 4678, 4679, 4680, 4681, 4682, 4683, 4685, 4686, 4687, 4688, 4692, 4693, 4694, 4695, 4696, 4697, 4698, 4699, 4700, 4701, 4702, 4703, 4704, 4705, 4710, 4711, 4714, 4716, 4717, 4721, 4723, 4724, 4725, 4726, 4727, 4728, 4729, 4730, 4731, 4733, 4734, 4735, 4737, 4739, 4740, 4742, 4743, 4744, 4745, 4746, 4747, 4749, 4750, 4753, 4754, 4755, 4756, 4758, 4759, 4760, 4761, 4762, 4764, 4765, 4766, 4768, 4769, 4770, 4771, 4772, 4773, 4774, 4777, 4779, 4780, 4781, 4782, 4783, 4785, 4786, 4788, 4789, 4790, 4791, 4792, 4793, 4795, 4796, 4798, 4799, 4800, 4801, 4802, 4803, 4804, 4806, 4807, 4809, 4812, 4813, 4814, 4816, 4818, 4819, 4820, 4823, 4824, 4827, 4828, 4829, 4830, 4833, 4834, 4835, 4837, 4839, 4840, 4841, 4842, 4844, 4845, 4848, 4849, 4850, 4851, 4852, 4853, 4854, 4855, 4858, 4859, 4860, 4861, 4862, 4863, 4864, 4866, 4867, 4868, 4870, 4871, 4872, 4874, 4876, 4878, 4879, 4881, 4883, 4884, 4885, 4887, 4890, 4891, 4893, 4894, 4895, 4897, 4900, 4901, 4902, 4903, 4904, 4905, 4906, 4907, 4908, 4910, 4912, 4913, 4914, 4918, 4920, 4922, 4923, 4924, 4925, 4926, 4929, 4933, 4934, 4936, 4938, 4941, 4942, 4944, 4945, 4947, 4949, 4950, 4952, 4954, 4956, 4962, 4963, 4964, 4965, 4966, 4967, 4968, 4972, 4975, 4976, 4979, 4980, 4983, 4985, 4988, 4989, 4991, 4993, 4994, 4997, 4998, 4999, 5000, 5001, 5003, 5005, 5006, 5007, 5008, 5009, 5011, 5012, 5013, 5017, 5019, 5021, 5023, 5024, 5027, 5028, 5029, 5030, 5032, 5033, 5034, 5035, 5036, 5037, 5038, 5039, 5043, 5044, 5045, 5046, 5048, 5049, 5052, 5053, 5055, 5057, 5058, 5059, 5060, 5061, 5062, 5063, 5064, 5065, 5067, 5068, 5069, 5071, 5072, 5073, 5074, 5075, 5077, 5079, 5080, 5082, 5083, 5084, 5085, 5086, 5088, 5089, 5091, 5092, 5093, 5095, 5096, 5098, 5099, 5100, 5101, 5102, 5103, 5104, 5105, 5108, 5109, 5110, 5112, 5113, 5115, 5116, 5118, 5120, 5121, 5122, 5123, 5126, 5127, 5128, 5129, 5130, 5131, 5133, 5135, 5136, 5137, 5138, 5139, 5141, 5142, 5143, 5144, 5145, 5147, 5149, 5150, 5151, 5152, 5153, 5154, 5156, 5157, 5158, 5159, 5160, 5161, 5162, 5163, 5164, 5165, 5166, 5167, 5168, 5169, 5170, 5171, 5172, 5173, 5174, 5178, 5179, 5181, 5183, 5184, 5185, 5186, 5187, 5188, 5189, 5190, 5192, 5194, 5195, 5196, 5197, 5198, 5200, 5202, 5203, 5204, 5206, 5207, 5208, 5211, 5212, 5213, 5215, 5217, 5218, 5219, 5220, 5221, 5222, 5223, 5225, 5226, 5227, 5228, 5229, 5230, 5233, 5235, 5236, 5237, 5239, 5241, 5242, 5246, 5247, 5248, 5249, 5250, 5251, 5252, 5255, 5256, 5257, 5259, 5260, 5261, 5263, 5265, 5266, 5267, 5268, 5269, 5270, 5271, 5272, 5273, 5275, 5277, 5278, 5279, 5281, 5282, 5284, 5285, 5286, 5288, 5289, 5290, 5291, 5292, 5293, 5294, 5295, 5299, 5302, 5303, 5306, 5307, 5308, 5309, 5312, 5313, 5316, 5317, 5318, 5319, 5320, 5321, 5323, 5324, 5326, 5327, 5328, 5329, 5330, 5331, 5332, 5333, 5335, 5338, 5342, 5343, 5345, 5346, 5348, 5349, 5351, 5352, 5354, 5355, 5356, 5357, 5358, 5361, 5362, 5363, 5365, 5366, 5367, 5368, 5371, 5372, 5376, 5380, 5381, 5382, 5383, 5384, 5385, 5386, 5387, 5388, 5390, 5391, 5392, 5393, 5394, 5395, 5396, 5398, 5399, 5400, 5401, 5402, 5403, 5404, 5405, 5406, 5408, 5409, 5410, 5411, 5413, 5415, 5417, 5421, 5423, 5424, 5428, 5429, 5430, 5431, 5432, 5433, 5439, 5440, 5441, 5442, 5443, 5444, 5445, 5446, 5449, 5450, 5451, 5453, 5457, 5460, 5461, 5464, 5465, 5466, 5467, 5468, 5469, 5470, 5471, 5474, 5475, 5476, 5477, 5478, 5479, 5480, 5481, 5482, 5483, 5486, 5487, 5488, 5490, 5494, 5495, 5496, 5497, 5498, 5499, 5502, 5505, 5506, 5508, 5509, 5510, 5511, 5512, 5514, 5515, 5516, 5517, 5518, 5519, 5520, 5522, 5523, 5526, 5528, 5531, 5533, 5537, 5540, 5541, 5542, 5543, 5544, 5545, 5548, 5550, 5551, 5552, 5554, 5555, 5558, 5560, 5561, 5562, 5563, 5564, 5565, 5567, 5568, 5569, 5570, 5571, 5575, 5576, 5577, 5579, 5580, 5583, 5584, 5586, 5587, 5590, 5591, 5593, 5594, 5596, 5599, 5600, 5601, 5602, 5603, 5604, 5605, 5606, 5607, 5608, 5609, 5611, 5614, 5615, 5616, 5617, 5618, 5620, 5621, 5623, 5624, 5625, 5626, 5627, 5629, 5631, 5632, 5633, 5634, 5637, 5640, 5642, 5643, 5645, 5648, 5649, 5651, 5652, 5653, 5654, 5655, 5656, 5658, 5659, 5660, 5661, 5663, 5666, 5667, 5668, 5669, 5670, 5671, 5672, 5673, 5674, 5675, 5676, 5677, 5678, 5679, 5681, 5684, 5688, 5689, 5691, 5694, 5695, 5697, 5698, 5700, 5701, 5703, 5705, 5706, 5708, 5711, 5713, 5715, 5719, 5721, 5722, 5723, 5724, 5726, 5728, 5730, 5731, 5732, 5733, 5734, 5735, 5738, 5739, 5740, 5741, 5742, 5743, 5746, 5747, 5749, 5750, 5751, 5752, 5753, 5754, 5756, 5758, 5761, 5763, 5767, 5768, 5769, 5770, 5772, 5775, 5776, 5778, 5779, 5780, 5781, 5782, 5783, 5784, 5787, 5790, 5793, 5795, 5796, 5799, 5800, 5801, 5802, 5804, 5805, 5806, 5810, 5811, 5812, 5814, 5817, 5821, 5822, 5825, 5828, 5830, 5831, 5833, 5834, 5837, 5838, 5839, 5841, 5842, 5843, 5844, 5847, 5853, 5854, 5855, 5857, 5859, 5861, 5862, 5865, 5867, 5868, 5869, 5870, 5871, 5872, 5874, 5877, 5879, 5881, 5882, 5883, 5884, 5885, 5886, 5887, 5888, 5889, 5890, 5891, 5892, 5893, 5894, 5895, 5896, 5897, 5898, 5899, 5900, 5901, 5902, 5903, 5904, 5906, 5907, 5908, 5909, 5910, 5911, 5912, 5913, 5914, 5916, 5917, 5918, 5919, 5920, 5921, 5922, 5923, 5924, 5925, 5926, 5927, 5928, 5931, 5932, 5933, 5935, 5936, 5937, 5938, 5940, 5941, 5942, 5944, 5945, 5947, 5949, 5951, 5952, 5953, 5956, 5957, 5958, 5960, 5961, 5962, 5963, 5964, 5965, 5967, 5968, 5969, 5970, 5972, 5973, 5976, 5979, 5980, 5981, 5982, 5985, 5986, 5987, 5988, 5989, 5990, 5991, 5992, 5993, 5997, 5998, 6001, 6002, 6003, 6004, 6005, 6006, 6010, 6011, 6012, 6013, 6014, 6016, 6017, 6018, 6019, 6020, 6022, 6023, 6024, 6026, 6027, 6028, 6029, 6031, 6032, 6033, 6035, 6036, 6037, 6039, 6040, 6042, 6043, 6044, 6045, 6046, 6047, 6048, 6049, 6050, 6052, 6053, 6055, 6056, 6057, 6060, 6063, 6064, 6065, 6068, 6069, 6070, 6071, 6072, 6073, 6074, 6075, 6079, 6083, 6085, 6086, 6087, 6088, 6089, 6090, 6091, 6092, 6093, 6094, 6095, 6096, 6097, 6100, 6101, 6102, 6104, 6106, 6108, 6109, 6110, 6113, 6114, 6115, 6116, 6117, 6118, 6119, 6121, 6123, 6124, 6125, 6126, 6128, 6129, 6130, 6131, 6132, 6133, 6134, 6136, 6137, 6138, 6139, 6140, 6141, 6143, 6145, 6146, 6148, 6149, 6150, 6152, 6153, 6154, 6156, 6157, 6158, 6159, 6161, 6162, 6164, 6165, 6166, 6167, 6168, 6169, 6170, 6171, 6172, 6173, 6174, 6175, 6176, 6177, 6178, 6179, 6180, 6181, 6182, 6185, 6189, 6190, 6191, 6193, 6194, 6195, 6197, 6198, 6199, 6202, 6203, 6204, 6205, 6206, 6209, 6210, 6213, 6214, 6216, 6217, 6218, 6220, 6222, 6223, 6225, 6226, 6227, 6229, 6230, 6231, 6233, 6235, 6236, 6237, 6238, 6239, 6240, 6241, 6242, 6243, 6244, 6246, 6247, 6248, 6249, 6251, 6255, 6256, 6257, 6258, 6259, 6260, 6261, 6262, 6263, 6264, 6265, 6267, 6268, 6270, 6271, 6273, 6274, 6276, 6277, 6278, 6279, 6280, 6281, 6282, 6283, 6284, 6285, 6286, 6288, 6289, 6290, 6291, 6292, 6293, 6294, 6297, 6298, 6299, 6301, 6302, 6303, 6307, 6308, 6309, 6310, 6311, 6312, 6313, 6314, 6315, 6316, 6317, 6318, 6321, 6322, 6323, 6325, 6326, 6327, 6328, 6329, 6332, 6333, 6334, 6335, 6336, 6337, 6339, 6342, 6343, 6344, 6345, 6346, 6348, 6350, 6352, 6353, 6354, 6355, 6356, 6357, 6359, 6360, 6361, 6362, 6363, 6364, 6365, 6366, 6367, 6370, 6371, 6372, 6373, 6374, 6375, 6376, 6377, 6380, 6381, 6383, 6385, 6386, 6387, 6388, 6389, 6390, 6391, 6393, 6395, 6396, 6397, 6399, 6400, 6402, 6403, 6404, 6405, 6406, 6407, 6408, 6409, 6410, 6412, 6413, 6414, 6415, 6416, 6417, 6418, 6419, 6420, 6421, 6422, 6423, 6424, 6425, 6428, 6430, 6431, 6432, 6434, 6435, 6437, 6438, 6439, 6440, 6441, 6442, 6443, 6444, 6445, 6446, 6448, 6449, 6451, 6454, 6455, 6456, 6458, 6459, 6460, 6463, 6464, 6465, 6466, 6467, 6469, 6470, 6471, 6472, 6474, 6476, 6477, 6478, 6479, 6481, 6482, 6483, 6485, 6486, 6488, 6490, 6491, 6492, 6494, 6495, 6496, 6497, 6498, 6499, 6500, 6504, 6505, 6506, 6507, 6508, 6509, 6510, 6511, 6512, 6513, 6516, 6517, 6518, 6519, 6520, 6521, 6524, 6525, 6527, 6528, 6531, 6532, 6536, 6538, 6539, 6540, 6541, 6542, 6543, 6544, 6545, 6548, 6549, 6550, 6551, 6552, 6553, 6554, 6555, 6556, 6558, 6559, 6560, 6561, 6564, 6565, 6566, 6567, 6568, 6569, 6573, 6575, 6578, 6580, 6581, 6582, 6583, 6585, 6589, 6590, 6591, 6592, 6593, 6594, 6595, 6596, 6597, 6598, 6599, 6600, 6601, 6602, 6605, 6606, 6607, 6608, 6610, 6611, 6612, 6614, 6615, 6616, 6618, 6619, 6621, 6622, 6623, 6624, 6625, 6628, 6629, 6630, 6631, 6635, 6636, 6638, 6640, 6641, 6642, 6644, 6645, 6652, 6653, 6655, 6656, 6658, 6659, 6662, 6665, 6667, 6668, 6670, 6671, 6673, 6674, 6676, 6677, 6678, 6679, 6680, 6681, 6682, 6683, 6684, 6685, 6686, 6688, 6689, 6690, 6691, 6692, 6693, 6694, 6696, 6697, 6698, 6699, 6700, 6702, 6703, 6704, 6706, 6707, 6708, 6710, 6711, 6712, 6715, 6716, 6717, 6718, 6719, 6720, 6723, 6725, 6726, 6727, 6728, 6729, 6730, 6731, 6734, 6735, 6736, 6737, 6738, 6739, 6740, 6741, 6742, 6743, 6745, 6746, 6748, 6749, 6750, 6752, 6753, 6754, 6756, 6758, 6759, 6760, 6762, 6763, 6764, 6766, 6767, 6768, 6769, 6770, 6771, 6772, 6773, 6774, 6775, 6776, 6777, 6778, 6780, 6781, 6783, 6784, 6785, 6786, 6787, 6788, 6790, 6792, 6794, 6795, 6796, 6797, 6798, 6799, 6800, 6802, 6803, 6804, 6805, 6806, 6807, 6810, 6813, 6817, 6819, 6821, 6822, 6823, 6825, 6826, 6828, 6829, 6830, 6831, 6832, 6833, 6834, 6835, 6837, 6838, 6840, 6841, 6842, 6843, 6844, 6846, 6847, 6848, 6849, 6851, 6853, 6854, 6855, 6857, 6858, 6859, 6861, 6862, 6863, 6865, 6866, 6869, 6870, 6874, 6875, 6877, 6878, 6881, 6882, 6884, 6888, 6889, 6890, 6892, 6899, 6900, 6903, 6908, 6910, 6913, 6914, 6916, 6919, 6920, 6921, 6923, 6924, 6926, 6928, 6929, 6931, 6932, 6933, 6934, 6937, 6938, 6940, 6942, 6943, 6944, 6945, 6946, 6947, 6951, 6959, 6960, 6962, 6963, 6964, 6965, 6966, 6967, 6968, 6971, 6974, 6975, 6976, 6978, 6979, 6980, 6983, 6984, 6985, 6987, 6988, 6989, 6990, 6991, 6994, 6996, 6999, 7001, 7004, 7005, 7006, 7008, 7009, 7011, 7013, 7014, 7016, 7021, 7022, 7024, 7025, 7026, 7027, 7028, 7029, 7038, 7039, 7040, 7041, 7042, 7043, 7045, 7050, 7053, 7055, 7056, 7057, 7060, 7063, 7066, 7067, 7068, 7069, 7070, 7071, 7073, 7077, 7079, 7081, 7086, 7087, 7088, 7089, 7090, 7091, 7092, 7093, 7095, 7096, 7097, 7098, 7101, 7103, 7104, 7105, 7107, 7108, 7109, 7110, 7111, 7116, 7117, 7121, 7125, 7127, 7128, 7129, 7130, 7132, 7134, 7137, 7139, 7141, 7143, 7145, 7146, 7149, 7151, 7152, 7153, 7155, 7157, 7159, 7160, 7161, 7162, 7164, 7166, 7168, 7169, 7170, 7171, 7179, 7180, 7181, 7182, 7183, 7184, 7189, 7191, 7194, 7195, 7196, 7197, 7198, 7199, 7201, 7202, 7203, 7205, 7207, 7208, 7209, 7210, 7211, 7212, 7214, 7215, 7218, 7219, 7220, 7221, 7222, 7223, 7224, 7226, 7227, 7228, 7229, 7230, 7231, 7232, 7233, 7235, 7236, 7237, 7238, 7239, 7241, 7242, 7243, 7244, 7246, 7247, 7249, 7255, 7256, 7257, 7260, 7261, 7263, 7264, 7266, 7267, 7269, 7270, 7271, 7274, 7277, 7279, 7280, 7284, 7285, 7286, 7290, 7291, 7292, 7293, 7294, 7295, 7297, 7298, 7300, 7307, 7308, 7310, 7311, 7313, 7317, 7319, 7320, 7321, 7322, 7323, 7324, 7325, 7326, 7328, 7329, 7330, 7332, 7333, 7335, 7336, 7337, 7339, 7340, 7341, 7345, 7347, 7348, 7349, 7350, 7352, 7354, 7357, 7359, 7360, 7361, 7362, 7364, 7365, 7366, 7367, 7368, 7369, 7370, 7371, 7372, 7373, 7374, 7375, 7376, 7377, 7378, 7379, 7380, 7381, 7383, 7385, 7386, 7388, 7390, 7391, 7393, 7394, 7397, 7398, 7399, 7402, 7403, 7404, 7408, 7410, 7411, 7415, 7417, 7418, 7419, 7420, 7422, 7423, 7424, 7426, 7428, 7429, 7431, 7434, 7435, 7439, 7440, 7441, 7442, 7444, 7445, 7447, 7449, 7450, 7451, 7453, 7454, 7456, 7457, 7458, 7459, 7460, 7461, 7462, 7463, 7464, 7466, 7469, 7470, 7471, 7474, 7477, 7479, 7480, 7481, 7483, 7484, 7485, 7487, 7488, 7491, 7494, 7495, 7496, 7498, 7499, 7500, 7501, 7502, 7503, 7504, 7506, 7507, 7509, 7510, 7511, 7512, 7515, 7516, 7518, 7519, 7521, 7522, 7523, 7524, 7527, 7528, 7529, 7530, 7531, 7532, 7534, 7535, 7536, 7537, 7539, 7540, 7543, 7546, 7547, 7548, 7549, 7552, 7553, 7554, 7555, 7556, 7557, 7558, 7559, 7561, 7563, 7564, 7565, 7566, 7567, 7568, 7569, 7570, 7572, 7573, 7576, 7577, 7578, 7579, 7580, 7581, 7583, 7584, 7585, 7586, 7587, 7588, 7589, 7591, 7592, 7593, 7594, 7596, 7597, 7598, 7602, 7603, 7604, 7605, 7606, 7607, 7608, 7609, 7610, 7612, 7613, 7615, 7616, 7618, 7619, 7621, 7622, 7623, 7625, 7626, 7630, 7631, 7632, 7634, 7635, 7636, 7637, 7638, 7639, 7640, 7642, 7643, 7644, 7645, 7647, 7648, 7649, 7650, 7651, 7655, 7657, 7658, 7659, 7660, 7663, 7664, 7665, 7666, 7668, 7670, 7672, 7673, 7674, 7676, 7679, 7681, 7684, 7687, 7690, 7691, 7692, 7694, 7695, 7696, 7699, 7700, 7701, 7703, 7704, 7706, 7707, 7709, 7710, 7711, 7712, 7716, 7719, 7722, 7723, 7725, 7726, 7727, 7730, 7733, 7734, 7735, 7736, 7737, 7738, 7741, 7743, 7745, 7746, 7747, 7748, 7749, 7750, 7751, 7752, 7754, 7756, 7757, 7758, 7759, 7760, 7761, 7762, 7763, 7765, 7768, 7769, 7771, 7772, 7773, 7775, 7777, 7779, 7780, 7781, 7782, 7785, 7786, 7787, 7788, 7790, 7791, 7792, 7794, 7795, 7796, 7800, 7801, 7802, 7803, 7806, 7810, 7811, 7812, 7814, 7815, 7816, 7817, 7819, 7821, 7822, 7823, 7824, 7825, 7826, 7827, 7828, 7829, 7830, 7833, 7835, 7839, 7840, 7841, 7843, 7844, 7849, 7855, 7856, 7857, 7859, 7860, 7861, 7862, 7866, 7867, 7868, 7869, 7871, 7872, 7874, 7876, 7877, 7878, 7881, 7882, 7884, 7886, 7887, 7888, 7893, 7894, 7895, 7897, 7899, 7900, 7901, 7902, 7903, 7904, 7906, 7907, 7909, 7910, 7911, 7913, 7914, 7915, 7916, 7917, 7918, 7920, 7921, 7922, 7924, 7927, 7928, 7929, 7930, 7931, 7933, 7934, 7938, 7939, 7940, 7941, 7942, 7943, 7944, 7945, 7946, 7947, 7948, 7949, 7952, 7954, 7955, 7956, 7957, 7958, 7959, 7960, 7962, 7963, 7964, 7965, 7966, 7967, 7969, 7971, 7973, 7975, 7978, 7979, 7980, 7981, 7982, 7983, 7985, 7987, 7988, 7989, 7990, 7991, 7992, 7993, 7995, 7999, 8000, 8001, 8002, 8004, 8005, 8007, 8008, 8010, 8012, 8015, 8016, 8017, 8019, 8020, 8021, 8024, 8025, 8027, 8028, 8029, 8030, 8031, 8032, 8033, 8036, 8037, 8039, 8041, 8042, 8043, 8044, 8045, 8046, 8047, 8048, 8049, 8050, 8052, 8053, 8054, 8055, 8056, 8057, 8058, 8059, 8060, 8061, 8062, 8064, 8065, 8066, 8067, 8068, 8069, 8070, 8072, 8073, 8074, 8075, 8076, 8077, 8078, 8079, 8082, 8083, 8084, 8085, 8086, 8087, 8089, 8090, 8091, 8092, 8093, 8095, 8096, 8097, 8098, 8099, 8100, 8103, 8104, 8107, 8108, 8109, 8110, 8112, 8113, 8114, 8115, 8116, 8117, 8118, 8119, 8120, 8121, 8122, 8126, 8127, 8128, 8129, 8130, 8131, 8133, 8134, 8135, 8136, 8140, 8141, 8142, 8144, 8145, 8147, 8148, 8149, 8151, 8152, 8154, 8156, 8157, 8158, 8159, 8160, 8161, 8162, 8164, 8165, 8166, 8167, 8168, 8169, 8170, 8172, 8174, 8175, 8176, 8178, 8179, 8181, 8182, 8183, 8184, 8185, 8186, 8187, 8188, 8190, 8191, 8192, 8195, 8196, 8197, 8198, 8199, 8201, 8203, 8204, 8205, 8206, 8207, 8208, 8209, 8210, 8212, 8214, 8215, 8216, 8217, 8218, 8219, 8220, 8221, 8222, 8224, 8225, 8226, 8228, 8229, 8230, 8231, 8232, 8233, 8234, 8235, 8236, 8238, 8239, 8241, 8242, 8243, 8248, 8249, 8250, 8251, 8252, 8254, 8256, 8258, 8260, 8261, 8262, 8263, 8264, 8265, 8267, 8268, 8269, 8270, 8273, 8279, 8280, 8281, 8282, 8283, 8284, 8286, 8287, 8289, 8291, 8293, 8294, 8295, 8296, 8297, 8298, 8299, 8300, 8303, 8305, 8306, 8307, 8308, 8309, 8311, 8314, 8315, 8316, 8317, 8318, 8320, 8323, 8324, 8325, 8328, 8331, 8332, 8336, 8338, 8339, 8340, 8341, 8343, 8344, 8345, 8346, 8347, 8348, 8351, 8352, 8353, 8354, 8355, 8356, 8359, 8360, 8362, 8365, 8366, 8367, 8369, 8372, 8373, 8374, 8376, 8377, 8378, 8379, 8380, 8382, 8384, 8385, 8390, 8391, 8392, 8393, 8396, 8398, 8399, 8400, 8401, 8403, 8404, 8405, 8406, 8407, 8409, 8410, 8411, 8412, 8415, 8417, 8418, 8421, 8423, 8425, 8427, 8428, 8429, 8430, 8431, 8435, 8437, 8439, 8440, 8441, 8442, 8443, 8446, 8447, 8448, 8450, 8452, 8454, 8455, 8456, 8457, 8461, 8462, 8465, 8466, 8467, 8468, 8469, 8471, 8472, 8473, 8474, 8475, 8477, 8479, 8480, 8482, 8483, 8484, 8485, 8486, 8487, 8491, 8492, 8493, 8494, 8495, 8497, 8498, 8501, 8503, 8505, 8506, 8507, 8509, 8510, 8511, 8512, 8513, 8515, 8517, 8518, 8519, 8520, 8521, 8522, 8523, 8524, 8526, 8528, 8529, 8530, 8531, 8533, 8534, 8535, 8538, 8539, 8540, 8541, 8542, 8543, 8544, 8545, 8546, 8548, 8549, 8550, 8551, 8552, 8553, 8558, 8559, 8561, 8563, 8565, 8566, 8567, 8569, 8570, 8572, 8574, 8575, 8576, 8577, 8578, 8579, 8580, 8581, 8582, 8587, 8588, 8589, 8590, 8591, 8592, 8593, 8594, 8596, 8597, 8598, 8600, 8601, 8602, 8604, 8605, 8607, 8609, 8610, 8611, 8613, 8614, 8615, 8616, 8617, 8619, 8620, 8622, 8623, 8624, 8625, 8627, 8631, 8632, 8634, 8636, 8637, 8638, 8641, 8644, 8645, 8648, 8649, 8650, 8651, 8652, 8653, 8654, 8655, 8656, 8657, 8658, 8659, 8660, 8661, 8662, 8663, 8664, 8665, 8666, 8667, 8668, 8669, 8670, 8671, 8672, 8673, 8674, 8677, 8678, 8679, 8681, 8682, 8684, 8685, 8687, 8688, 8689, 8690, 8692, 8693, 8694, 8695, 8696, 8700, 8704, 8705, 8706, 8707, 8709, 8710, 8711, 8712, 8714, 8716, 8717, 8718, 8719, 8720, 8722, 8723, 8724, 8725, 8726, 8728, 8729, 8730, 8731, 8732, 8735, 8736, 8737, 8738, 8739, 8741, 8744, 8745, 8746, 8747, 8748, 8749, 8750, 8751, 8752, 8753, 8754, 8755, 8757, 8758, 8760, 8761, 8762, 8763, 8764, 8765, 8766, 8768, 8771, 8772, 8773, 8776, 8777, 8778, 8780, 8781, 8782, 8783, 8784, 8785, 8786, 8787, 8788, 8789, 8790, 8791, 8792, 8794, 8797, 8798, 8800, 8805, 8806, 8807, 8809, 8810, 8812, 8815, 8816, 8817, 8818, 8820, 8824, 8825, 8827, 8828, 8829, 8832, 8833, 8837, 8840, 8846, 8847, 8850, 8853, 8854, 8856, 8857, 8859, 8860, 8861, 8863, 8864, 8866, 8868, 8869, 8872, 8873, 8876, 8878, 8882, 8885, 8886, 8887, 8889, 8892, 8893, 8894, 8896, 8897, 8900, 8904, 8905, 8907, 8908, 8909, 8910, 8911, 8912, 8913, 8914, 8916, 8918, 8920, 8921, 8922, 8923, 8926, 8928, 8929, 8930, 8931, 8932, 8933, 8936, 8937, 8938, 8940, 8941, 8942, 8944, 8945, 8946, 8948, 8951, 8953, 8954, 8956, 8957, 8958, 8959, 8960, 8962, 8966, 8969, 8970, 8971, 8972, 8973, 8974, 8975, 8976, 8977, 8979, 8981, 8984, 8985, 8986, 8987, 8988, 8989, 8991, 8996, 8997, 8999, 9000, 9002, 9003, 9004, 9009, 9010, 9011, 9012, 9014, 9015, 9018, 9020, 9023, 9024, 9026, 9027, 9028, 9030, 9031, 9032, 9036, 9037, 9039, 9040, 9041, 9042, 9043, 9044, 9045, 9046, 9047, 9048, 9049, 9053, 9054, 9055, 9056, 9058, 9059, 9062, 9063, 9064, 9065, 9066, 9067, 9068, 9069, 9070, 9073, 9075, 9076, 9077, 9079, 9080, 9083, 9084, 9085, 9086, 9087, 9088, 9089, 9090, 9092, 9093, 9094, 9095, 9096, 9097, 9098, 9100, 9101, 9104, 9105, 9106, 9108, 9109, 9110, 9112, 9113, 9114, 9115, 9116, 9117, 9118, 9119, 9120, 9123, 9127, 9130, 9132, 9135, 9137, 9138, 9144, 9145, 9148, 9150, 9151, 9152, 9154, 9157, 9158, 9160, 9161, 9164, 9166, 9167, 9168, 9169, 9170, 9171, 9173, 9175, 9177, 9179, 9180, 9182, 9183, 9184, 9186, 9189, 9190, 9191, 9193, 9198, 9199, 9200, 9201, 9204, 9206, 9207, 9208, 9209, 9210, 9211, 9212, 9213, 9215, 9217, 9219, 9222, 9223, 9224, 9228, 9229, 9230, 9231, 9232, 9235, 9236, 9237, 9239, 9240, 9241, 9244, 9245, 9246, 9247, 9248, 9249, 9250, 9251, 9252, 9253, 9255, 9256, 9257, 9260, 9261, 9262, 9263, 9264, 9265, 9266, 9267, 9268, 9269, 9270, 9273, 9275, 9276, 9277, 9278, 9279, 9280, 9281, 9282, 9283, 9284, 9285, 9286, 9289, 9291, 9292, 9295, 9297, 9298, 9301, 9303, 9304, 9305, 9309, 9310, 9311, 9312, 9313, 9314, 9315, 9317, 9318, 9319, 9320, 9321, 9322, 9323, 9324, 9326, 9327, 9328, 9331, 9332, 9333, 9334, 9335, 9336, 9338, 9339, 9341, 9343, 9345, 9346, 9347, 9348, 9349, 9350, 9351, 9352, 9353, 9355, 9356, 9359, 9361, 9362, 9363, 9365, 9366, 9367, 9368, 9369, 9370, 9371, 9372, 9374, 9376, 9377, 9378, 9379, 9382, 9383, 9384, 9385, 9386, 9389, 9393, 9395, 9398, 9400, 9403, 9405, 9407, 9408, 9410, 9411, 9412, 9414, 9416, 9417, 9419, 9420, 9421, 9423, 9425, 9426, 9427, 9428, 9429, 9430, 9431, 9432, 9433, 9436, 9437, 9438, 9439, 9440, 9441, 9442, 9443, 9446, 9447, 9449, 9450, 9451, 9452, 9455, 9456, 9457, 9458, 9459, 9461, 9462, 9463, 9465, 9467, 9470, 9472, 9474, 9476, 9477, 9478, 9480, 9481, 9482, 9483, 9485, 9487, 9488, 9489, 9492, 9493, 9494, 9495, 9496, 9499, 9501, 9502, 9503, 9504, 9505, 9510, 9512, 9515, 9517, 9518, 9520, 9522, 9526, 9528, 9529, 9530, 9532, 9533, 9534, 9535, 9536, 9538, 9539, 9540, 9541, 9543, 9544, 9546, 9547, 9548, 9549, 9551, 9553, 9554, 9556, 9558, 9559, 9561, 9566, 9568, 9569, 9570, 9571, 9572, 9573, 9574, 9575, 9577, 9578, 9579, 9580, 9582, 9584, 9585, 9586, 9587, 9588, 9589, 9591, 9592, 9593, 9595, 9596, 9597, 9602, 9603, 9606, 9607, 9608, 9609, 9610, 9612, 9615, 9616, 9617, 9618, 9621, 9623, 9624, 9626, 9627, 9629, 9630, 9632, 9634, 9635, 9636, 9639, 9641, 9643, 9645, 9646, 9647, 9648, 9649, 9650, 9655, 9657, 9658, 9659, 9661, 9663, 9664, 9665, 9667, 9668, 9669, 9670, 9671, 9672, 9673, 9674, 9676, 9677, 9678, 9679, 9680, 9682, 9683, 9685, 9687, 9688, 9691, 9692, 9693, 9696, 9697, 9699, 9700, 9701, 9703, 9705, 9707, 9708, 9709, 9710, 9711, 9712, 9713, 9715, 9716, 9717, 9718, 9720, 9722, 9723, 9724, 9726, 9727, 9729, 9730, 9732, 9733, 9734, 9735, 9736, 9737, 9738, 9739, 9740, 9741, 9742, 9743, 9744, 9745, 9746, 9747, 9749, 9751, 9753, 9754, 9755, 9756, 9757, 9758, 9759, 9761, 9764, 9766, 9767, 9768, 9769, 9770, 9773, 9776, 9777, 9780, 9785, 9786, 9787, 9790, 9791, 9792, 9793, 9794, 9795, 9796, 9797, 9798, 9799, 9800, 9801, 9802, 9803, 9804, 9806, 9807, 9808, 9809, 9810, 9811, 9812, 9813, 9814, 9815, 9816, 9819, 9820, 9821, 9822, 9824, 9827, 9828, 9829, 9830, 9831, 9835, 9836, 9837, 9838, 9839, 9840, 9841, 9842, 9844, 9846, 9847, 9850, 9852, 9853, 9855, 9856, 9857, 9859, 9861, 9862, 9863, 9864, 9865, 9866, 9867, 9869, 9870, 9871, 9872, 9874, 9875, 9876, 9877, 9878, 9879, 9880, 9883, 9884, 9888, 9889, 9890, 9891, 9894, 9895, 9896, 9897, 9899, 9902, 9905, 9906, 9908, 9909, 9911, 9912, 9913, 9914, 9915, 9916, 9917, 9918, 9919, 9920, 9921, 9922, 9923, 9924, 9927, 9928, 9930, 9932, 9934, 9935, 9936, 9937, 9938, 9939, 9941, 9942, 9943, 9946, 9947, 9949, 9950, 9951, 9952, 9953, 9955, 9956, 9957, 9958, 9959, 9960, 9961, 9963, 9964, 9965, 9967, 9970, 9971, 9972, 9973, 9974, 9975, 9976, 9977, 9979, 9981, 9982, 9983, 9985, 9986, 9987, 9988, 9989, 9990, 9991, 9992, 9993, 9995, 9997, 9998, 10000, 10001, 10002, 10003, 10004, 10005, 10007, 10008, 10009, 10011, 10014, 10015, 10016, 10017, 10019, 10021, 10023, 10025, 10026, 10027, 10029, 10030, 10031, 10032, 10033, 10034, 10036, 10037, 10038, 10040, 10041, 10042, 10043, 10045, 10046, 10048, 10050, 10053, 10054, 10057, 10059, 10062, 10066, 10068, 10069, 10072, 10073, 10074, 10075, 10076, 10077, 10078, 10084, 10086, 10087, 10088, 10089, 10090, 10092, 10093, 10094, 10095, 10096, 10099, 10100, 10101, 10103, 10104, 10105, 10106, 10107, 10108, 10110, 10111, 10112, 10116, 10118, 10119, 10120, 10121, 10123, 10124, 10125, 10127, 10129, 10130, 10133, 10134, 10136, 10138, 10139, 10140, 10141, 10142, 10143, 10144, 10146, 10150, 10151, 10153, 10154, 10156, 10157, 10158, 10159, 10160, 10161, 10162, 10163, 10164, 10165, 10166, 10167, 10168, 10169, 10170, 10173, 10174, 10177, 10178, 10179, 10181, 10183, 10184, 10185, 10186, 10188, 10189, 10190, 10191, 10193, 10195, 10196, 10197, 10199, 10201, 10202, 10203, 10206, 10207, 10208, 10209, 10210, 10211, 10214, 10215, 10217, 10218, 10219, 10220, 10221, 10222, 10224, 10225, 10226, 10227, 10228, 10232, 10233, 10234, 10235, 10237, 10238, 10242, 10244, 10245, 10246, 10247, 10249, 10252, 10253, 10256, 10257, 10259, 10260, 10261, 10262, 10263, 10265, 10266, 10269, 10271, 10273, 10274, 10275, 10276, 10277, 10278, 10279, 10280, 10282, 10283, 10284, 10285, 10286, 10289, 10290, 10292, 10293, 10296, 10297, 10298, 10299, 10300, 10304, 10305, 10306, 10308, 10309, 10311, 10312, 10313, 10314, 10315, 10316, 10317, 10318, 10319, 10320, 10322, 10324, 10326, 10327, 10328, 10330, 10333, 10334, 10335, 10336, 10337, 10338, 10339, 10340, 10341, 10342, 10343, 10344, 10346, 10347, 10349, 10351, 10353, 10354, 10356, 10358, 10359, 10360, 10362, 10372, 10373, 10376, 10377, 10378, 10380, 10381, 10382, 10383, 10384, 10385, 10386, 10387, 10388, 10389, 10390, 10393, 10394, 10396, 10397, 10398, 10399, 10401, 10402, 10404, 10405, 10407, 10408, 10409, 10412, 10415, 10417, 10420, 10421, 10422, 10424, 10425, 10426, 10428, 10431, 10432, 10433, 10435, 10436, 10439, 10440, 10441, 10442, 10443, 10444, 10445, 10446, 10448, 10449, 10450, 10451, 10452, 10455, 10456, 10457, 10458, 10459, 10460, 10461, 10462, 10464, 10466, 10468, 10469, 10470, 10471, 10472, 10475, 10476, 10478, 10479, 10480, 10481, 10482, 10483, 10484, 10485, 10486, 10487, 10488, 10489, 10490, 10491, 10492, 10493, 10494, 10495, 10496, 10498, 10499, 10501, 10502, 10504, 10505, 10508, 10509, 10510, 10511, 10512, 10513, 10514, 10515, 10516, 10517, 10518, 10519, 10520, 10521, 10524, 10528, 10529, 10530, 10531, 10532, 10533, 10534, 10535, 10537, 10538, 10539, 10540, 10541, 10542, 10543, 10545, 10547, 10549, 10550, 10552, 10553, 10554, 10555, 10556, 10557, 10558, 10559, 10561, 10562, 10563, 10564, 10565, 10566, 10568, 10569, 10570, 10571, 10572, 10573, 10575, 10576, 10577, 10578, 10579, 10580, 10583, 10584, 10586, 10588, 10589, 10590, 10591, 10592, 10593, 10594, 10596, 10598, 10600, 10601, 10604, 10605, 10606, 10607, 10608, 10610, 10612, 10614, 10617, 10618, 10619, 10620, 10621, 10622, 10623, 10625, 10627, 10629, 10631, 10632, 10634, 10635, 10636, 10637, 10638, 10641, 10642, 10643, 10646, 10647, 10652, 10653, 10654, 10655, 10660, 10661, 10663, 10665, 10668, 10669, 10671, 10672, 10675, 10676, 10678, 10680, 10682, 10687, 10689, 10690, 10691, 10692, 10693, 10694, 10696, 10697, 10700, 10703, 10705, 10707, 10710, 10712, 10713, 10716, 10718, 10719, 10720, 10721, 10722, 10727, 10730, 10731, 10732, 10736, 10737, 10738, 10739, 10740, 10741, 10742, 10744, 10746, 10748, 10749, 10750, 10752, 10753, 10756, 10757, 10758, 10759, 10760, 10761, 10763, 10764, 10765, 10766, 10767, 10768, 10769, 10770, 10772, 10774, 10776, 10778, 10779, 10780, 10781, 10782, 10785, 10786, 10787, 10788, 10790, 10791, 10794, 10796, 10798, 10800, 10801, 10802, 10803, 10804, 10805, 10806, 10807, 10808, 10809, 10810, 10811, 10812, 10813, 10815, 10817, 10820, 10821, 10822, 10824, 10825, 10826, 10828, 10829, 10830, 10833, 10835, 10836, 10838, 10839, 10840, 10841, 10842, 10843, 10844, 10846, 10847, 10848, 10849, 10850, 10851, 10852, 10853, 10856, 10857, 10858, 10860, 10862, 10863, 10864, 10868, 10869, 10870, 10872, 10873, 10874, 10875, 10876, 10877, 10878, 10879, 10880, 10881, 10882, 10883, 10884, 10885, 10887, 10890, 10891, 10893, 10894, 10895, 10898, 10902, 10904, 10905, 10907, 10909, 10910, 10911, 10912, 10913, 10915, 10916, 10918, 10920, 10922, 10924, 10931, 10932, 10933, 10935, 10936, 10938, 10942, 10944, 10948, 10950, 10951, 10952, 10953, 10955, 10956, 10957, 10958, 10959, 10962, 10964, 10965, 10966, 10967, 10969, 10970, 10971, 10975, 10976, 10978, 10980, 10981, 10982, 10983, 10985, 10986, 10987, 10988, 10991, 10992, 10994, 10996, 10997, 10998, 10999, 11001, 11003, 11004, 11005, 11006, 11007, 11008, 11009, 11010, 11011, 11013, 11018, 11020, 11021, 11022, 11023, 11025, 11030, 11031, 11032, 11033, 11038, 11039, 11041, 11043, 11045, 11046, 11049, 11051, 11052, 11054, 11056, 11057, 11060, 11062, 11065, 11066, 11068, 11070, 11072, 11073, 11075, 11080, 11081, 11083, 11084, 11086, 11087, 11089, 11091, 11092, 11094, 11096, 11097, 11099, 11100, 11101, 11102, 11103, 11104, 11105, 11107, 11110, 11111, 11114, 11115, 11117, 11118, 11119, 11121, 11123, 11126, 11129, 11130, 11131, 11133, 11134, 11136, 11138, 11139, 11140, 11141, 11142, 11143, 11144, 11148, 11149, 11150, 11151, 11152, 11153, 11154, 11155, 11158, 11159, 11161, 11162, 11165, 11166, 11167, 11168, 11170, 11171, 11172, 11173, 11176, 11177, 11178, 11179, 11180, 11181, 11182, 11183, 11184, 11186, 11188, 11189, 11194, 11195, 11196, 11197, 11198, 11199, 11200, 11201, 11202, 11203, 11205, 11210, 11211, 11213, 11214, 11215, 11217, 11218, 11220, 11221, 11222, 11224, 11225, 11227, 11229, 11230, 11231, 11232, 11233, 11234, 11236, 11237, 11238, 11240, 11242, 11243, 11244, 11245, 11246, 11247, 11248, 11249, 11250, 11251, 11252, 11253, 11254, 11256, 11257, 11258, 11260, 11261, 11262, 11263, 11264, 11266, 11267, 11268, 11269, 11270, 11272, 11273, 11274, 11275, 11276, 11278, 11279, 11280, 11282, 11285, 11287, 11289, 11290, 11291, 11292, 11294, 11295, 11297, 11298, 11299, 11300, 11301, 11304, 11306, 11308, 11309, 11311, 11312, 11313, 11314, 11318, 11319, 11322, 11323, 11325, 11327, 11329, 11330, 11331, 11332, 11334, 11335, 11337, 11338, 11339, 11340, 11341, 11342, 11343, 11346, 11347, 11348, 11349, 11350, 11353, 11355, 11356, 11357, 11358, 11359, 11360, 11362, 11363, 11365, 11366, 11367, 11369, 11371, 11372, 11374, 11376, 11377, 11378, 11380, 11381, 11384, 11385, 11386, 11389, 11390, 11392, 11394, 11395, 11396, 11397, 11398, 11399, 11400, 11401, 11402, 11403, 11404, 11405, 11406, 11407, 11409, 11410, 11411, 11413, 11414, 11415, 11416, 11417, 11418, 11419, 11420, 11421, 11423, 11424, 11425, 11426, 11428, 11429, 11431, 11433, 11434, 11436, 11440, 11441, 11442, 11443, 11445, 11446, 11448, 11449, 11450, 11452, 11453, 11455, 11456, 11459, 11460, 11462, 11463, 11464, 11465, 11468, 11469, 11470, 11473, 11475, 11476, 11477, 11478, 11481, 11484, 11485, 11486, 11489, 11490, 11492, 11493, 11494, 11495, 11496, 11503, 11505, 11506, 11507, 11508, 11509, 11510, 11512, 11513, 11514, 11515, 11516, 11519, 11520, 11521, 11522, 11524, 11525, 11526, 11527, 11528, 11530, 11531, 11533, 11534, 11535, 11538, 11540, 11541, 11542, 11543, 11544, 11546, 11547, 11550, 11551, 11552, 11554, 11555, 11556, 11557, 11558, 11559, 11560, 11561, 11563, 11564, 11565, 11566, 11567, 11568, 11570, 11571, 11572, 11573, 11575, 11577, 11579, 11580, 11582, 11584, 11586, 11590, 11591, 11592, 11594, 11596, 11598, 11599, 11600, 11602, 11605, 11606, 11607, 11608, 11609, 11610, 11611, 11612, 11614, 11616, 11617, 11618, 11619, 11621, 11625, 11628, 11630, 11632, 11633, 11635, 11636, 11637, 11638, 11639, 11640, 11641, 11643, 11645, 11646, 11648, 11651, 11653, 11654, 11657, 11658, 11660, 11662, 11663, 11665, 11666, 11669, 11670, 11672, 11674, 11676, 11677, 11679, 11680, 11681, 11682, 11683, 11684, 11686, 11687, 11689, 11691, 11692, 11694, 11697, 11698, 11700, 11701, 11703, 11704, 11707, 11708, 11709, 11711, 11712, 11713, 11714, 11715, 11716, 11717, 11718, 11719, 11721, 11722, 11723, 11726, 11727, 11730, 11732, 11734, 11736, 11737, 11739, 11740, 11742, 11743, 11744, 11745, 11746, 11747, 11749, 11751, 11754, 11755, 11756, 11758, 11759, 11760, 11761, 11763, 11766, 11767, 11768, 11769, 11771, 11772, 11774, 11775, 11776, 11777, 11778, 11779, 11780, 11784, 11785, 11786, 11792, 11793, 11796, 11797, 11798, 11800, 11801, 11802, 11803, 11805, 11807, 11809, 11810, 11812, 11814, 11817, 11818, 11819, 11822, 11823, 11825, 11826, 11827, 11828, 11831, 11832, 11833, 11834, 11835, 11836, 11838, 11839, 11841, 11843, 11845, 11847, 11849, 11850, 11851, 11852, 11856, 11857, 11860, 11861, 11863, 11865, 11866, 11868, 11869, 11870, 11871, 11873, 11875, 11876, 11878, 11879, 11880, 11882, 11883, 11884, 11885, 11888, 11889, 11890, 11891, 11892, 11896, 11897, 11901, 11903, 11905, 11906, 11907, 11908, 11910, 11911, 11918, 11919, 11920, 11921, 11922, 11926, 11928, 11930, 11931, 11932, 11933, 11934, 11936, 11937, 11938, 11939, 11940, 11941, 11942, 11943, 11944, 11945, 11946, 11947, 11948, 11949, 11950, 11951, 11952, 11954, 11955, 11956, 11957, 11958, 11959, 11960, 11961, 11962, 11963, 11965, 11967, 11968, 11969, 11970, 11971, 11972, 11973, 11974, 11975, 11976, 11977, 11978, 11979, 11982, 11983, 11986, 11987, 11989, 11990, 11993, 11994, 11995, 11997, 11998, 11999, 12000, 12002, 12004, 12005, 12006, 12007, 12008, 12010, 12011, 12013, 12014, 12015, 12016, 12017, 12018, 12020, 12021, 12023, 12024, 12026, 12028, 12029, 12030, 12032, 12033, 12035, 12036, 12037, 12038, 12039, 12040, 12041, 12042, 12043, 12045, 12048, 12050, 12052, 12053, 12055, 12056, 12059, 12060, 12063, 12064, 12065, 12067, 12069, 12070, 12072, 12073, 12074, 12075, 12076, 12077, 12078, 12079, 12082, 12084, 12085, 12086, 12087, 12089, 12090, 12091, 12092, 12093, 12096, 12097, 12099, 12102, 12105, 12106, 12107, 12108, 12109, 12110, 12111, 12112, 12113, 12116, 12118, 12119, 12121, 12122, 12123, 12124, 12126, 12127, 12128, 12129, 12130, 12131, 12132, 12133, 12135, 12136, 12137, 12138, 12141, 12142, 12144, 12145, 12148, 12149, 12150, 12152, 12158, 12160, 12162, 12163, 12164, 12166, 12167, 12168, 12169, 12172, 12173, 12175, 12178, 12179, 12180, 12181, 12182, 12183, 12184, 12185, 12186, 12188, 12189, 12190, 12191, 12193, 12194, 12195, 12196, 12197, 12198, 12199, 12200, 12201, 12202, 12203, 12205, 12206, 12207, 12208, 12209, 12210, 12212, 12213, 12214, 12215, 12217, 12218, 12219, 12220, 12221, 12222, 12223, 12224, 12226, 12227, 12228, 12229, 12232, 12235, 12236, 12239, 12240, 12241, 12242, 12243, 12244, 12245, 12246, 12247, 12248, 12250, 12251, 12253, 12254, 12255, 12256, 12257, 12258, 12260, 12261, 12263, 12264, 12265, 12266, 12267, 12269, 12270, 12272, 12273, 12274, 12275, 12277, 12278, 12279, 12280, 12281, 12282, 12285, 12286, 12287, 12288, 12289, 12290, 12291, 12292, 12293, 12294, 12295, 12296, 12297, 12299, 12301, 12302, 12303, 12304, 12305, 12306, 12307, 12308, 12309, 12310, 12311, 12312, 12313, 12314, 12315, 12317, 12318, 12319, 12320, 12321, 12322, 12323, 12324, 12326, 12327, 12329, 12331, 12332, 12333, 12334, 12335, 12336, 12337, 12338, 12339, 12341, 12342, 12343, 12344, 12345, 12346, 12347, 12348, 12349, 12351, 12352, 12354, 12355, 12356, 12357, 12358, 12359, 12360, 12362, 12364, 12365, 12366, 12368, 12369, 12370, 12371, 12373, 12374, 12375, 12377, 12378, 12379, 12381, 12382, 12383, 12385, 12388, 12389, 12390, 12391, 12394, 12395, 12400, 12401, 12402, 12404, 12405, 12407, 12408, 12409, 12410, 12411, 12412, 12413, 12414, 12416, 12418, 12419, 12420, 12422, 12423, 12424, 12425, 12426, 12427, 12428, 12430, 12431, 12432, 12434, 12435, 12436, 12437, 12438, 12439, 12440, 12441, 12442, 12443, 12444, 12445, 12446, 12447, 12448, 12449, 12450, 12451, 12452, 12453, 12457, 12461, 12464, 12466, 12469, 12470, 12471, 12472, 12473, 12474, 12479, 12481, 12482, 12483, 12484, 12486, 12487, 12489, 12490, 12491, 12492, 12493, 12495, 12496, 12497, 12499, 12501, 12502, 12503, 12504, 12506, 12507, 12508, 12509, 12511, 12513, 12515, 12516, 12519, 12520, 12521, 12522, 12523, 12524, 12525, 12527, 12529, 12532, 12533, 12534, 12535, 12537, 12541, 12543, 12546, 12547, 12548, 12549, 12550, 12551, 12552, 12553, 12554, 12556, 12557, 12558, 12559, 12560, 12562, 12563, 12564, 12565, 12568, 12569, 12570, 12571, 12572, 12573, 12574, 12575, 12576, 12578, 12580, 12581, 12583, 12584, 12587, 12588, 12589, 12590, 12592, 12595, 12596, 12597, 12598, 12599, 12600, 12602, 12603, 12605, 12606, 12607, 12608, 12610, 12611, 12612, 12613, 12614, 12615, 12616, 12617, 12618, 12620, 12621, 12622, 12624, 12625, 12626, 12627, 12628, 12629, 12630, 12631, 12632, 12633, 12635, 12636, 12637, 12638, 12640, 12641, 12642, 12643, 12644, 12647, 12648, 12649, 12650, 12653, 12655, 12656, 12657, 12658, 12660, 12661, 12662, 12663, 12664, 12665, 12666, 12668, 12669, 12670, 12671, 12672, 12675, 12677, 12678, 12679, 12681, 12682, 12686, 12688, 12689, 12693, 12694, 12696, 12697, 12698, 12699, 12700, 12701, 12704, 12705, 12707, 12709, 12710, 12712, 12713, 12715, 12716, 12717, 12718, 12719, 12720, 12721, 12723, 12725, 12730, 12733, 12736, 12737, 12738, 12739, 12740, 12741, 12742, 12743, 12744, 12745, 12746, 12747, 12748, 12750, 12751, 12752, 12754, 12755, 12756, 12758, 12759, 12761, 12762, 12764, 12765, 12766, 12767, 12768, 12769, 12770, 12771, 12772, 12775, 12776, 12777, 12778, 12779, 12780, 12781, 12783, 12784, 12785, 12786, 12787, 12788, 12790, 12791, 12792, 12793, 12794, 12795, 12796, 12797, 12798, 12799, 12800, 12801, 12802, 12803, 12804, 12805, 12806, 12807, 12808, 12811, 12812, 12814, 12815, 12816, 12817, 12818, 12819, 12820, 12822, 12823, 12824, 12827, 12828, 12831, 12832, 12834, 12835, 12838, 12839, 12840, 12842, 12843, 12844, 12846, 12847, 12848, 12849, 12850, 12851, 12852, 12855, 12856, 12859, 12860, 12861, 12862, 12863, 12864, 12865, 12866, 12868, 12869, 12871, 12872, 12874, 12881, 12883, 12886, 12887, 12888, 12889, 12890, 12892, 12895, 12896, 12898, 12899, 12900, 12901, 12902, 12903, 12906, 12907, 12909, 12910, 12911, 12912, 12913, 12914, 12916, 12919, 12920, 12921, 12922, 12923, 12924, 12925, 12926, 12927, 12929, 12930, 12931, 12933, 12934, 12936, 12937, 12938, 12940, 12941, 12942, 12943, 12947, 12948, 12949, 12950, 12953, 12954, 12956, 12957, 12958, 12959, 12960, 12961, 12962, 12963, 12964, 12965, 12966, 12969, 12971, 12972, 12974, 12977, 12979, 12980, 12981, 12983, 12984, 12985, 12986, 12987, 12988, 12989, 12990, 12991, 12992, 12993, 12994, 12996, 12997, 12999, 13000, 13001, 13002, 13003, 13004, 13006, 13007, 13008, 13009, 13010, 13011, 13012, 13013, 13014, 13015, 13016, 13017, 13018, 13019, 13020, 13023, 13025, 13028, 13029, 13031, 13032, 13033, 13034, 13035, 13036, 13039, 13040, 13042, 13043, 13044, 13045, 13046, 13048, 13049, 13050, 13051, 13052, 13053, 13054, 13056, 13057, 13058, 13059, 13060, 13062, 13063, 13064, 13066, 13067, 13068, 13069, 13070, 13071, 13072, 13074, 13075, 13076, 13077, 13078, 13079, 13080, 13082, 13083, 13084, 13085, 13088, 13090, 13091, 13092, 13093, 13094, 13095, 13096, 13097, 13099, 13100, 13102, 13103, 13106, 13109, 13110, 13111, 13112, 13113, 13114, 13115, 13117, 13118, 13119, 13120, 13121, 13122, 13124, 13125, 13127, 13128, 13129, 13130, 13131, 13133, 13134, 13135, 13136, 13137, 13138, 13139, 13140, 13141, 13142, 13145, 13146, 13147, 13149, 13150, 13151, 13155, 13157, 13158, 13159, 13160, 13162, 13163, 13164, 13165, 13166, 13167, 13168, 13169, 13170, 13171, 13172, 13173, 13174, 13175, 13177, 13179, 13181, 13182, 13183, 13184, 13186, 13188, 13190, 13191, 13192, 13193, 13194, 13195, 13196, 13198, 13199, 13200, 13201, 13202, 13203, 13204, 13205, 13206, 13207, 13208, 13209, 13212, 13213, 13214, 13215, 13219, 13220, 13221, 13222, 13223, 13224, 13225, 13226, 13227, 13229, 13232, 13233, 13235, 13237, 13238, 13239, 13240, 13242, 13243, 13244, 13245, 13246, 13247, 13248, 13249, 13250, 13251, 13252, 13253, 13254, 13255, 13256, 13258, 13259, 13260, 13262, 13263, 13264, 13265, 13266, 13267, 13268, 13269, 13271, 13273, 13274, 13277, 13279, 13280, 13281, 13282, 13283, 13284, 13285, 13286, 13287, 13288, 13291, 13292, 13295, 13297, 13298, 13299, 13300, 13303, 13305, 13306, 13307, 13308, 13309, 13310, 13311, 13313, 13314, 13315, 13316, 13317, 13318, 13319, 13320, 13321, 13322, 13326, 13329, 13331, 13332, 13334, 13335, 13337, 13339, 13343, 13344, 13345, 13346, 13348, 13349, 13350, 13352, 13353, 13354, 13355, 13356, 13358, 13359, 13361, 13363, 13366, 13367, 13368, 13369, 13370, 13371, 13372, 13373, 13374, 13375, 13376, 13377, 13381, 13382, 13383, 13384, 13385, 13386, 13388, 13389, 13392, 13393, 13395, 13396, 13397, 13398, 13399, 13401, 13402, 13403, 13407, 13409, 13410, 13412, 13413, 13417, 13418, 13419, 13420, 13421, 13422, 13423, 13424, 13425, 13426, 13427, 13428, 13429, 13431, 13432, 13434, 13436, 13439, 13440, 13441, 13442, 13443, 13444, 13445, 13447, 13448, 13449, 13453, 13454, 13455, 13458, 13459, 13462, 13464, 13465, 13466, 13468, 13469, 13470, 13471, 13473, 13474, 13475, 13477, 13478, 13479, 13481, 13483, 13484, 13485, 13486, 13488, 13490, 13491, 13493, 13494, 13495, 13497, 13498, 13500, 13501, 13503, 13504, 13505, 13506, 13507, 13508, 13509, 13511, 13513, 13514, 13516, 13517, 13518, 13520, 13521, 13523, 13524, 13525, 13526, 13528, 13529, 13530, 13531, 13532, 13533, 13534, 13535, 13536, 13537, 13538, 13539, 13541, 13542, 13543, 13546, 13547, 13548, 13549, 13550, 13551, 13552, 13553, 13554, 13555, 13556, 13558, 13560, 13561, 13562, 13565, 13566, 13567, 13569, 13570, 13571, 13572, 13573, 13574, 13575, 13576, 13578, 13579, 13581, 13582, 13583, 13584, 13585, 13587, 13588, 13591, 13592, 13593, 13594, 13595, 13596, 13598, 13599, 13600, 13601, 13603, 13604, 13605, 13606, 13607, 13608, 13609, 13611, 13612, 13614, 13615, 13617, 13618, 13619, 13620, 13621, 13622, 13623, 13624, 13625, 13626, 13627, 13629, 13630, 13631, 13632, 13633, 13638, 13640, 13641, 13644, 13645, 13647, 13649, 13651, 13652, 13653, 13654, 13655, 13656, 13657, 13658, 13660, 13661, 13662, 13663, 13664, 13665, 13666, 13667, 13668, 13669, 13671, 13672, 13675, 13677, 13678, 13680, 13681, 13682, 13686, 13688, 13689, 13690, 13691, 13692, 13693, 13695, 13697, 13698, 13700, 13701, 13702, 13703, 13704, 13706, 13707, 13708, 13709, 13710, 13711, 13712, 13713, 13714, 13715, 13716, 13717, 13719, 13720, 13721, 13723, 13724, 13725, 13726, 13727, 13728, 13730, 13732, 13735, 13737, 13738, 13739, 13740, 13741, 13743, 13744, 13746, 13747, 13748, 13749, 13750, 13751, 13752, 13753, 13754, 13755, 13756, 13758, 13760, 13761, 13762, 13763, 13764, 13765, 13766, 13767, 13768, 13770, 13771, 13772, 13773, 13774, 13775, 13776, 13778, 13780, 13781, 13782, 13783, 13784, 13785, 13786, 13788, 13790, 13791, 13792, 13793, 13796, 13798, 13799, 13800, 13801, 13803, 13804, 13805, 13806, 13807, 13809, 13810, 13812, 13814, 13815, 13817, 13819, 13820, 13821, 13822, 13823, 13824, 13825, 13826, 13827, 13830, 13831, 13833, 13834, 13835, 13836, 13837, 13838, 13839, 13842, 13843, 13844, 13845, 13846, 13847, 13848, 13849, 13850, 13851, 13852, 13854, 13857, 13858, 13859, 13863, 13864, 13865, 13866, 13869, 13870, 13871, 13872, 13873, 13876, 13878, 13879, 13882, 13883, 13884, 13885, 13887, 13888, 13889, 13890, 13891, 13892, 13894, 13895, 13896, 13897, 13898, 13899, 13900, 13901, 13902, 13903, 13904, 13905, 13906, 13907, 13908, 13909, 13910, 13911, 13912, 13913, 13914, 13915, 13916, 13919, 13920, 13921, 13922, 13923, 13927, 13928, 13930, 13931, 13932, 13933, 13934, 13935, 13938, 13941, 13942, 13943, 13944, 13945, 13947, 13948, 13949, 13951, 13952, 13953, 13955, 13957, 13961, 13963, 13964, 13965, 13967, 13969, 13970, 13972, 13974, 13975, 13977, 13978, 13979, 13980, 13986, 13987, 13989, 13990, 13992, 13993, 13995, 13997, 13998, 13999, 14000, 14002, 14003, 14004, 14005, 14006, 14009, 14011, 14014, 14016, 14017, 14019, 14021, 14023, 14026, 14032, 14033, 14035, 14036, 14037, 14039, 14040, 14044, 14046, 14047, 14048, 14051, 14054, 14057, 14059, 14060, 14062, 14063, 14064, 14065, 14066, 14067, 14068, 14069, 14071, 14072, 14073, 14074, 14075, 14076, 14077, 14078, 14079, 14080, 14081, 14082, 14083, 14084, 14085, 14086, 14087, 14088, 14089, 14091, 14092, 14093, 14094, 14096, 14097, 14101, 14102, 14104, 14105, 14106, 14107, 14108, 14109, 14112, 14113, 14114, 14115, 14116, 14117, 14119, 14121, 14122, 14123, 14124, 14126, 14127, 14128, 14130, 14132, 14134, 14135, 14136, 14139, 14140, 14141, 14142, 14143, 14146, 14147, 14148, 14149, 14150, 14151, 14152, 14153, 14155, 14156, 14157, 14158, 14159, 14160, 14161, 14162, 14163, 14164, 14165, 14167, 14171, 14172, 14173, 14174, 14175, 14176, 14177, 14179, 14184, 14186, 14187, 14188, 14189, 14190, 14192, 14193, 14194, 14195, 14196, 14197, 14198, 14199, 14200, 14202, 14203, 14204, 14206, 14207, 14208, 14209, 14212, 14213, 14215, 14216, 14218, 14220, 14222, 14224, 14225, 14227, 14228, 14229, 14230, 14231, 14232, 14233, 14234, 14235, 14236, 14237, 14238, 14242, 14243, 14245, 14248, 14249, 14253, 14254, 14255, 14256, 14257, 14258, 14259, 14260, 14261, 14262, 14263, 14264, 14265, 14267, 14268, 14269, 14273, 14275, 14278, 14280, 14282, 14283, 14284, 14286, 14287, 14289, 14290, 14291, 14292, 14294, 14295, 14296, 14298, 14299, 14300, 14301, 14302, 14303, 14304, 14305, 14307, 14308, 14309, 14310, 14312, 14313, 14315, 14316, 14317, 14319, 14320, 14321, 14322, 14323, 14324, 14325, 14326, 14327, 14328, 14329, 14330, 14331, 14332, 14333, 14334, 14337, 14338, 14339, 14340, 14341, 14342, 14343, 14344, 14345, 14346, 14349, 14350, 14351, 14352, 14353, 14354, 14358, 14362, 14363, 14364, 14365, 14366, 14367, 14368, 14369, 14370, 14371, 14372, 14374, 14375, 14378, 14379, 14383, 14384, 14385, 14386, 14387, 14388, 14389, 14390, 14392, 14393, 14394, 14395, 14396, 14397, 14398, 14399, 14401, 14403, 14404, 14405, 14406, 14408, 14410, 14412, 14414, 14416, 14417, 14418, 14419, 14420, 14422, 14424, 14425, 14426, 14429, 14430, 14432, 14433, 14434, 14435, 14437, 14438, 14439, 14440, 14441, 14442, 14443, 14444, 14447, 14448, 14449, 14450, 14453, 14455, 14456, 14457, 14458, 14459, 14460, 14463, 14464, 14465, 14467, 14468, 14469, 14470, 14471, 14472, 14474, 14477, 14478, 14479, 14480, 14482, 14483, 14484, 14485, 14486, 14487, 14488, 14489, 14490, 14492, 14493, 14494, 14495, 14497, 14498, 14499, 14500, 14502, 14503, 14504, 14505, 14506, 14507, 14509, 14511, 14514, 14515, 14516, 14517, 14518, 14519, 14520, 14522, 14523, 14524, 14527, 14528, 14529, 14530, 14532, 14533, 14536, 14537, 14539, 14540, 14542, 14544, 14545, 14547, 14548, 14549, 14551, 14553, 14555, 14556, 14557, 14559, 14560, 14561, 14562, 14563, 14564, 14566, 14568, 14569, 14570, 14571, 14572, 14573, 14574, 14577, 14578, 14579, 14581, 14582, 14583, 14585, 14587, 14589, 14590, 14591, 14593, 14594, 14595, 14596, 14597, 14598, 14599, 14600, 14601, 14602, 14604, 14605, 14606, 14608, 14610, 14611, 14612, 14613, 14615, 14616, 14617, 14618, 14619, 14620, 14621, 14622, 14623, 14624, 14625, 14626, 14627, 14629, 14631, 14632, 14633, 14634, 14635, 14636, 14640, 14641, 14642, 14643, 14644, 14646, 14647, 14649, 14651, 14652, 14653, 14654, 14655, 14657, 14658, 14659, 14660, 14661, 14662, 14663, 14665, 14666, 14667, 14668, 14669, 14670, 14671, 14673, 14674, 14676, 14677, 14678, 14679, 14680, 14681, 14682, 14683, 14684, 14685, 14686, 14687, 14688, 14690, 14691, 14693, 14694, 14695, 14697, 14698, 14699, 14701, 14702, 14703, 14705, 14706, 14707, 14708, 14709, 14710, 14711, 14712, 14714, 14715, 14717, 14719, 14720, 14721, 14726, 14727, 14728, 14729, 14730, 14732, 14734, 14735, 14736, 14737, 14738, 14740, 14741, 14742, 14743, 14744, 14747, 14748, 14749, 14750, 14751, 14752, 14754, 14755, 14756, 14757, 14758, 14759, 14761, 14762, 14763, 14764, 14765, 14766, 14767, 14768, 14770, 14771, 14772, 14773, 14774, 14776, 14777, 14778, 14779, 14781, 14782, 14783, 14784, 14785, 14786, 14788, 14789, 14790, 14791, 14793, 14794, 14795, 14796, 14797, 14798, 14799, 14801, 14802, 14804, 14806, 14807, 14808, 14809, 14810, 14812, 14813, 14816, 14817, 14819, 14820, 14821, 14822, 14823, 14824, 14825, 14826, 14827, 14828, 14829, 14830, 14831, 14832, 14833, 14834, 14838, 14839, 14841, 14842, 14843, 14844, 14845, 14847, 14848, 14849, 14850, 14851, 14852, 14853, 14854, 14855, 14856, 14857, 14858, 14861, 14862, 14863, 14864, 14865, 14866, 14868, 14869, 14870, 14871, 14875, 14876, 14877, 14878, 14879, 14881, 14882, 14883, 14885, 14886, 14887, 14889, 14890, 14891, 14892, 14893, 14895, 14896, 14897, 14898, 14899, 14900, 14901, 14904, 14906, 14907, 14911, 14912, 14913, 14914, 14915, 14917, 14918, 14919, 14920, 14921, 14922, 14923, 14924, 14925, 14926, 14927, 14928, 14929, 14930, 14931, 14932, 14935, 14936, 14937, 14938, 14939, 14941, 14944, 14946, 14947, 14948, 14949, 14950, 14951, 14953, 14955, 14958, 14959, 14961, 14963, 14964, 14965, 14967, 14968, 14970, 14972, 14973, 14977, 14978, 14979, 14980, 14981, 14982, 14983, 14984, 14986, 14988, 14989, 14991, 14992, 14993, 14994, 14995, 14997, 14998, 14999, 15000, 15001, 15002, 15004, 15005, 15006, 15007, 15008, 15009, 15010, 15011, 15012, 15016, 15017, 15019, 15021, 15024, 15025, 15026, 15028, 15029, 15030, 15033, 15034, 15035, 15036, 15037, 15039, 15040, 15041, 15042, 15046, 15048, 15050, 15052, 15053, 15054, 15055, 15056, 15058, 15059, 15060, 15062, 15063, 15065, 15066, 15067, 15071, 15072, 15073, 15074, 15075, 15076, 15077, 15078, 15079, 15080, 15081, 15082, 15083, 15084, 15085, 15086, 15089, 15090, 15092, 15093, 15094, 15095, 15098, 15099, 15100, 15102, 15103, 15105, 15108, 15110, 15113, 15114, 15115, 15116, 15121, 15123, 15124, 15125, 15127, 15130, 15133, 15134, 15135, 15137, 15138, 15139, 15141, 15142, 15143, 15144, 15145, 15146, 15147, 15149, 15150, 15151, 15152, 15153, 15154, 15155, 15159, 15160, 15162, 15164, 15165, 15167, 15169, 15170, 15171, 15172, 15174, 15177, 15179, 15181, 15182, 15183, 15184, 15185, 15186, 15187, 15188, 15190, 15191, 15192, 15193, 15194, 15195, 15196, 15198, 15200, 15202, 15203, 15204, 15205, 15206, 15207, 15208, 15209, 15212, 15214, 15216, 15217, 15218, 15220, 15222, 15223, 15226, 15228, 15229, 15230, 15231, 15232, 15233, 15234, 15235, 15237, 15238, 15239, 15241, 15242, 15245, 15247, 15248, 15249, 15250, 15251, 15252, 15253, 15255, 15256, 15257, 15258, 15259, 15260, 15261, 15262, 15263, 15264, 15265, 15266, 15267, 15268, 15269, 15271, 15273, 15274, 15275, 15276, 15277, 15278, 15280, 15281, 15282, 15286, 15289, 15291, 15293, 15294, 15295, 15296, 15297, 15298, 15300, 15301, 15302, 15304, 15305, 15307, 15308, 15309, 15310, 15311, 15313, 15314, 15315, 15318, 15321, 15322, 15324, 15325, 15329, 15330, 15331, 15332, 15333, 15334, 15335, 15336, 15337, 15338, 15340, 15343, 15344, 15345, 15346, 15348, 15349, 15352, 15353, 15354, 15355, 15356, 15357, 15358, 15359, 15363, 15365, 15369, 15372, 15375, 15378, 15382, 15383, 15384, 15386, 15388, 15389, 15390, 15391, 15392, 15393, 15394, 15395, 15396, 15397, 15398, 15399, 15400, 15401, 15402, 15403, 15405, 15407, 15408, 15409, 15410, 15411, 15412, 15413, 15414, 15417, 15418, 15419, 15420, 15421, 15423, 15424, 15426, 15427, 15430, 15431, 15433, 15434, 15436, 15437, 15438, 15439, 15441, 15442, 15443, 15446, 15447, 15448, 15449, 15450, 15451, 15453, 15454, 15455, 15456, 15459, 15460, 15462, 15464, 15466, 15469, 15470, 15471, 15472, 15474, 15475, 15476, 15477, 15478, 15479, 15482, 15483, 15486, 15488, 15490, 15491, 15492, 15493, 15496, 15497, 15498, 15499, 15501, 15502, 15503, 15505, 15506, 15507, 15509, 15510, 15511, 15512, 15513, 15514, 15515, 15516, 15518, 15519, 15521, 15522, 15523, 15527, 15529, 15530, 15532, 15533, 15534, 15536, 15537, 15538, 15542, 15543, 15544, 15545, 15547, 15548, 15549, 15550, 15551, 15552, 15555, 15556, 15557, 15560, 15561, 15562, 15563, 15565, 15566, 15567, 15568, 15570, 15571, 15572, 15573, 15574, 15576, 15577, 15578, 15579, 15581, 15582, 15583, 15588, 15589, 15590, 15593, 15594, 15595, 15596, 15597, 15599, 15600, 15602, 15603, 15604, 15605, 15606, 15607, 15609, 15610, 15611, 15612, 15613, 15615, 15616, 15617, 15619, 15620, 15621, 15623, 15624, 15625, 15626, 15627, 15628, 15630, 15631, 15632, 15634, 15635, 15636, 15637, 15638, 15639, 15640, 15641, 15642, 15643, 15644, 15646, 15647, 15648, 15649, 15650, 15651, 15652, 15654, 15655, 15656, 15657, 15658, 15659, 15661, 15662, 15663, 15665, 15666, 15667, 15668, 15669, 15670, 15672, 15673, 15675, 15676, 15677, 15682, 15683, 15685, 15687, 15688, 15689, 15690, 15692, 15693, 15694, 15696, 15697, 15699, 15700, 15703, 15704, 15707, 15708, 15712, 15713, 15714, 15715, 15717, 15718, 15720, 15722, 15723, 15724, 15725, 15726, 15727, 15729, 15731, 15732, 15733, 15734, 15735, 15737, 15738, 15740, 15741, 15742, 15743, 15744, 15745, 15746, 15747, 15748, 15749, 15750, 15752, 15753, 15754, 15755, 15757, 15758, 15759, 15762, 15764, 15765, 15766, 15769, 15770, 15771, 15772, 15774, 15775, 15776, 15778, 15780, 15781, 15782, 15783, 15784, 15785, 15786, 15787, 15790, 15792, 15794, 15795, 15797, 15798, 15799, 15800, 15802, 15805, 15806, 15807, 15808, 15809, 15810, 15811, 15812, 15813, 15814, 15815, 15816, 15817, 15818, 15820, 15821, 15822, 15823, 15824, 15825, 15827, 15828, 15829, 15830, 15831, 15832, 15837, 15838, 15839, 15841, 15842, 15843, 15844, 15845, 15846, 15847, 15848, 15849, 15851, 15852, 15853, 15854, 15855, 15856, 15857, 15858, 15859, 15861, 15863, 15864, 15865, 15867, 15868, 15870, 15871, 15873, 15874, 15875, 15877, 15878, 15879, 15880, 15881, 15882, 15883, 15887, 15888, 15889, 15890, 15892, 15893, 15895, 15896, 15897, 15898, 15899, 15901, 15902, 15903, 15905, 15906, 15907, 15908, 15909, 15910, 15911, 15913, 15914, 15915, 15917, 15918, 15919, 15920, 15921, 15923, 15924, 15925, 15927, 15929, 15930, 15931, 15932, 15933, 15934, 15935, 15936, 15937, 15938, 15939, 15940, 15941, 15942, 15943, 15944, 15945, 15946, 15948, 15949, 15950, 15951, 15953, 15955, 15960, 15961, 15965, 15966, 15967, 15968, 15969, 15970, 15972, 15973, 15974, 15975, 15976, 15977, 15979, 15980, 15981, 15982, 15984, 15985, 15987, 15988, 15989, 15990, 15992, 15993, 15995, 15996, 15997, 15998, 16000, 16001, 16002, 16005, 16007, 16009, 16011, 16012, 16013, 16014, 16015, 16016, 16017, 16018, 16020, 16021, 16023, 16024, 16025, 16026, 16027, 16029, 16030, 16031, 16032, 16033, 16034, 16035, 16036, 16037, 16040, 16041, 16043, 16044, 16045, 16046, 16047, 16048, 16049, 16051, 16052, 16054, 16056, 16057, 16058, 16059, 16062, 16063, 16065, 16066, 16069, 16070, 16071, 16072, 16074, 16075, 16076, 16077, 16079, 16080, 16083, 16084, 16085, 16086, 16088, 16090, 16091, 16092, 16093, 16094, 16095, 16096, 16097, 16098, 16099, 16100, 16101, 16103, 16105, 16106, 16107, 16108, 16109, 16110, 16111, 16113, 16114, 16115, 16116, 16117, 16118, 16119, 16120, 16121, 16122, 16124, 16125, 16126, 16127, 16128, 16129, 16130, 16132, 16133, 16134, 16136, 16137, 16138, 16139, 16140, 16141, 16142, 16143, 16145, 16146, 16148, 16149, 16150, 16151, 16152, 16153, 16155, 16156, 16157, 16158, 16159, 16160, 16161, 16163, 16164, 16165, 16166, 16167, 16168, 16169, 16170, 16171, 16173, 16174, 16175, 16176, 16177, 16178, 16179, 16181, 16183, 16186, 16187, 16188, 16189, 16190, 16191, 16193, 16194, 16195, 16198, 16199, 16200, 16201, 16203, 16204, 16205, 16206, 16208, 16209, 16211, 16212, 16213, 16215, 16216, 16217, 16220, 16221, 16222, 16223, 16224, 16225, 16226, 16227, 16228, 16229, 16230, 16231, 16232, 16233, 16234, 16235, 16236, 16237, 16238, 16239, 16241, 16242, 16243, 16244, 16245, 16246, 16247, 16248, 16250, 16251, 16252, 16253, 16254, 16255, 16257, 16261, 16263, 16264, 16265, 16266, 16267, 16269, 16270, 16271, 16272, 16274, 16276, 16277, 16278, 16280, 16281, 16282, 16283, 16284, 16285, 16288, 16289, 16290, 16291, 16292, 16293, 16294, 16295, 16297, 16298, 16299, 16300, 16301, 16302, 16303, 16304, 16305, 16306, 16307, 16308, 16309, 16312, 16313, 16314, 16315, 16316, 16317, 16318, 16319, 16320, 16321, 16322, 16323, 16324, 16325, 16326, 16330, 16331, 16332, 16335, 16336, 16337, 16338, 16339, 16342, 16343, 16344, 16345, 16346, 16347, 16348, 16349, 16350, 16351, 16352, 16353, 16355, 16356, 16357, 16358, 16359, 16360, 16361, 16362, 16363, 16364, 16365, 16366, 16367, 16368, 16369, 16370, 16371, 16372, 16373, 16374, 16375, 16376, 16377, 16378, 16379, 16380, 16381, 16382, 16383, 16384, 16385, 16386, 16388, 16389, 16390, 16392, 16395, 16398, 16399, 16400, 16401, 16404, 16406, 16407, 16408, 16409, 16410, 16411, 16412, 16413, 16415, 16416, 16418, 16419, 16420, 16421, 16422, 16423, 16424, 16425, 16426, 16427, 16428, 16429, 16430, 16431, 16432, 16434, 16435, 16436, 16437, 16438, 16440, 16441, 16442, 16444, 16445, 16446, 16447, 16448, 16449, 16450, 16451, 16452, 16453, 16454, 16455, 16456, 16457, 16458, 16459, 16460, 16461, 16462, 16463, 16464, 16467, 16468, 16469, 16470, 16471, 16472, 16473, 16474, 16475, 16476, 16477, 16478, 16479, 16480, 16482, 16484, 16485, 16486, 16487, 16490, 16491, 16492, 16493, 16494, 16495, 16496, 16498, 16499, 16502, 16503, 16504, 16505, 16506, 16507, 16508, 16510, 16511, 16512, 16513, 16514, 16516, 16519, 16520, 16521, 16522, 16523, 16524, 16525, 16527, 16528, 16529, 16530, 16532, 16533, 16534, 16537, 16539, 16541, 16543, 16544, 16545, 16546, 16547, 16548, 16549, 16551, 16552, 16553, 16556, 16558, 16560, 16561, 16562, 16563, 16564, 16565, 16566, 16567, 16568, 16569, 16570, 16572, 16573, 16574, 16575, 16577, 16578, 16579, 16582, 16585, 16586, 16587, 16588, 16590, 16592, 16593, 16594, 16595, 16597, 16598, 16601, 16602, 16603, 16604, 16605, 16606, 16608, 16609, 16610, 16611, 16612, 16614, 16615, 16616, 16617, 16619, 16621, 16622, 16625, 16626, 16627, 16628, 16629, 16630, 16631, 16632, 16634, 16635, 16636, 16637, 16638, 16639, 16640, 16641, 16642, 16643, 16644, 16645, 16646, 16647, 16648, 16649, 16650, 16651, 16652, 16653, 16654, 16655, 16656, 16657, 16658, 16659, 16660, 16661, 16662, 16663, 16664, 16665, 16666, 16667, 16668, 16669, 16671, 16672, 16673, 16674, 16675, 16677, 16678, 16679, 16682, 16683, 16684, 16685, 16686, 16687, 16688, 16689, 16691, 16693, 16694, 16695, 16696, 16697, 16698, 16699, 16700, 16701, 16702, 16703, 16705, 16706, 16707, 16709, 16710, 16711, 16712, 16713, 16714, 16715, 16716, 16717, 16719, 16720, 16721, 16722, 16723, 16724, 16725, 16726, 16729, 16731, 16732, 16739, 16740, 16742, 16744, 16746, 16747, 16748, 16749, 16751, 16752, 16754, 16755, 16756, 16757, 16758, 16759, 16760, 16761, 16762, 16763, 16768, 16769, 16772, 16773, 16774, 16775, 16776, 16778, 16780, 16781, 16782, 16785, 16786, 16787, 16788, 16789, 16790, 16791, 16793, 16795, 16796, 16797, 16799, 16800, 16802, 16803, 16804, 16805, 16806, 16807, 16808, 16809, 16810, 16811, 16812, 16813, 16814, 16815, 16816, 16817, 16818, 16820, 16821, 16822, 16826, 16827, 16830, 16831, 16832, 16833, 16838, 16839, 16841, 16843, 16844, 16845, 16846, 16847, 16848, 16850, 16851, 16852, 16853, 16854, 16857, 16858, 16859, 16860, 16861, 16863, 16864, 16866, 16867, 16868, 16869, 16870, 16871, 16872, 16877, 16878, 16879, 16880, 16881, 16884, 16885, 16886, 16888, 16889, 16890, 16892, 16894, 16895, 16896, 16897, 16898, 16899, 16900, 16901, 16903, 16904, 16906, 16908, 16910, 16911, 16912, 16914, 16915, 16916, 16917, 16918, 16920, 16921, 16922, 16925, 16926, 16928, 16931, 16932, 16934, 16936, 16937, 16938, 16939, 16941, 16942, 16945, 16946, 16947, 16948, 16949, 16950, 16951, 16953, 16955, 16956, 16957, 16958, 16959, 16960, 16962, 16966, 16967, 16968, 16969, 16970, 16971, 16972, 16973, 16976, 16977, 16978, 16981, 16983, 16986, 16990, 16991, 16992, 16995, 16996, 16999, 17001, 17002, 17003, 17004, 17006, 17008, 17009, 17011, 17012, 17014, 17015, 17017, 17018, 17019, 17020, 17021, 17022, 17023, 17025, 17026, 17028, 17029, 17031, 17032, 17033, 17034, 17035, 17036, 17037, 17038, 17039, 17040, 17041, 17042, 17043, 17044, 17046, 17048, 17049, 17050, 17051, 17052, 17054, 17055, 17056, 17057, 17058, 17059, 17060, 17061, 17062, 17063, 17064, 17067, 17070, 17072, 17073, 17075, 17077, 17078, 17079, 17080, 17081, 17082, 17085, 17086, 17087, 17088, 17089, 17090, 17091, 17092, 17093, 17095, 17096, 17097, 17098, 17100, 17101, 17102, 17104, 17106, 17107, 17108, 17109, 17110, 17111, 17112, 17114, 17116, 17118, 17120, 17121, 17124, 17125, 17126, 17129, 17130, 17131, 17132, 17134, 17136, 17137, 17140, 17141, 17143, 17145, 17147, 17148, 17149, 17150, 17152, 17153, 17158, 17159, 17160, 17161, 17162, 17163, 17164, 17166, 17167, 17168, 17169, 17170, 17171, 17172, 17173, 17174, 17175, 17177, 17178, 17179, 17181, 17182, 17183, 17186, 17188, 17189, 17190, 17191, 17194, 17197, 17198, 17199, 17200, 17201, 17202, 17204, 17205, 17207, 17208, 17209, 17212, 17213, 17215, 17216, 17217, 17219, 17223, 17225, 17226, 17228, 17229, 17230, 17231, 17232, 17233, 17234, 17235, 17236, 17241, 17242, 17243, 17244, 17245, 17246, 17247, 17250, 17251, 17253, 17254, 17255, 17256, 17257, 17258, 17259, 17260, 17261, 17262, 17263, 17264, 17265, 17268, 17269, 17270, 17271, 17272, 17273, 17274, 17277, 17279, 17281, 17284, 17286, 17287, 17288, 17289, 17290, 17291, 17292, 17293, 17294, 17296, 17297, 17298, 17299, 17301, 17302, 17303, 17305, 17306, 17308, 17310, 17312, 17313, 17314, 17315, 17317, 17318, 17320, 17321, 17323, 17324, 17326, 17327, 17328, 17329, 17330, 17331, 17332, 17334, 17336, 17337, 17339, 17340, 17341, 17344, 17347, 17349, 17351, 17352, 17353, 17354, 17356, 17357, 17359, 17360, 17361, 17365, 17366, 17367, 17369, 17370, 17371, 17373, 17374, 17375, 17376, 17377, 17378, 17379, 17380, 17381, 17383, 17384, 17385, 17386, 17388, 17390, 17392, 17393, 17394, 17395, 17396, 17397, 17398, 17399, 17400, 17401, 17404, 17405, 17406, 17407, 17409, 17410, 17411, 17412, 17413, 17414, 17415, 17416, 17417, 17418, 17420, 17421, 17423, 17424, 17425, 17426, 17428, 17430, 17433, 17434, 17435, 17436, 17439, 17440, 17441, 17442, 17443, 17444, 17445, 17446, 17447, 17448, 17449, 17450, 17451, 17452, 17454, 17455, 17456, 17457, 17460, 17462, 17463, 17464, 17465, 17467, 17469, 17470, 17471, 17472, 17473, 17474, 17476, 17477, 17478, 17479, 17480, 17482, 17484, 17485, 17486, 17488, 17490, 17491, 17492, 17493, 17494, 17495, 17496, 17497, 17498, 17501, 17503, 17505, 17506, 17507, 17508, 17510, 17511, 17512, 17513, 17514, 17515, 17516, 17517, 17518, 17519, 17520, 17521, 17522, 17523, 17526, 17527, 17528, 17529, 17530, 17531, 17532, 17534, 17536, 17539, 17541, 17545, 17547, 17549, 17552, 17553, 17558, 17562, 17563, 17566, 17569, 17571, 17572, 17577, 17581, 17582, 17584, 17585, 17586, 17587, 17590, 17591, 17594, 17595, 17596, 17597, 17598, 17602, 17603, 17605, 17606, 17607, 17608, 17611, 17612, 17614, 17616, 17617, 17618, 17619, 17622, 17624, 17625, 17627, 17629, 17630, 17632, 17634, 17636, 17638, 17639, 17641, 17642, 17644, 17646, 17650, 17651, 17652, 17659, 17660, 17661, 17663, 17664, 17666, 17667, 17668, 17671, 17673, 17674, 17675, 17676, 17677, 17681, 17682, 17683, 17685, 17689, 17690, 17691, 17692, 17693, 17694, 17696, 17698, 17700, 17701, 17704, 17706, 17709, 17710, 17712, 17713, 17714, 17716, 17717, 17719, 17720, 17721, 17722, 17723, 17727, 17728, 17731, 17732, 17733, 17735, 17738, 17739, 17741, 17743, 17744, 17746, 17748, 17749, 17750, 17751, 17754, 17760, 17761, 17762, 17764, 17765, 17768, 17769, 17772, 17773, 17774, 17775, 17777, 17778, 17779, 17781, 17782, 17783, 17784, 17785, 17787, 17788, 17789, 17793, 17794, 17795, 17797, 17798, 17800, 17801, 17802, 17806, 17807, 17808, 17809, 17811, 17812, 17813, 17814, 17815, 17816, 17817, 17818, 17819, 17820, 17821, 17822, 17823, 17824, 17825, 17826, 17828, 17829, 17830, 17831, 17832, 17833, 17834, 17835, 17836, 17837, 17838, 17839, 17842, 17844, 17845, 17848, 17850, 17851, 17852, 17854, 17863, 17865, 17866, 17868, 17870, 17871, 17874, 17876, 17877, 17881, 17882, 17883, 17886, 17887, 17888, 17889, 17890, 17891, 17893, 17894, 17902, 17903, 17905, 17908, 17909, 17910, 17912, 17913, 17914, 17917, 17921, 17922, 17923, 17924, 17925, 17926, 17927, 17928, 17930, 17931, 17933, 17934, 17936, 17938, 17939, 17940, 17941, 17942, 17943, 17944, 17945, 17946, 17947, 17948, 17950, 17951, 17954, 17955, 17956, 17958, 17959, 17960, 17963, 17964, 17965, 17966, 17967, 17968, 17970, 17971, 17973, 17974, 17975, 17976, 17977, 17978, 17979, 17980, 17981, 17983, 17985, 17986, 17987, 17988, 17989, 17990, 17991, 17992, 17994, 17996, 17997, 17998, 17999, 18000, 18001, 18002, 18004, 18005, 18006, 18009, 18010, 18011, 18012, 18013, 18014, 18015, 18016, 18017, 18020, 18023, 18024, 18026, 18027, 18029, 18030, 18031, 18033, 18036, 18037, 18038, 18040, 18041, 18042, 18043, 18045, 18046, 18047, 18048, 18049, 18050, 18051, 18052, 18053, 18054, 18055, 18057, 18058, 18060, 18062, 18065, 18066, 18068, 18069, 18073, 18074, 18075, 18077, 18078, 18081, 18083, 18085, 18086, 18087, 18088, 18090, 18091, 18092, 18093, 18095, 18096, 18098, 18100, 18103, 18104, 18105, 18106, 18107, 18108, 18111, 18112, 18114, 18116, 18117, 18118, 18121, 18122, 18123, 18124, 18125, 18127, 18128, 18131, 18132, 18133, 18134, 18135, 18136, 18137, 18138, 18139, 18141, 18142, 18143, 18145, 18148, 18150, 18151, 18152, 18153, 18154, 18157, 18158, 18161, 18162, 18164, 18165, 18167, 18169, 18170, 18173, 18176, 18177, 18178, 18179, 18181, 18184, 18185, 18186, 18191, 18192, 18193, 18194, 18195, 18198, 18199, 18200, 18202, 18203, 18204, 18205, 18206, 18207, 18208, 18209, 18211, 18212, 18213, 18214, 18215, 18218, 18219, 18220, 18222, 18223, 18224, 18225, 18227, 18229, 18230, 18232, 18233, 18235, 18236, 18237, 18238, 18242, 18243, 18244, 18245, 18246, 18247, 18248, 18249, 18250, 18251, 18254, 18257, 18260, 18263, 18266, 18267, 18269, 18270, 18271, 18273, 18274, 18275, 18278, 18279, 18280, 18281, 18282, 18283, 18284, 18286, 18288, 18290, 18291, 18293, 18294, 18295, 18297, 18298, 18299, 18300, 18302, 18303, 18304, 18305, 18306, 18307, 18308, 18309, 18310, 18311, 18312, 18313, 18314, 18315, 18316, 18318, 18319, 18321, 18322, 18323, 18325, 18326, 18327, 18328, 18332, 18334, 18335, 18336, 18337, 18342, 18343, 18344, 18346, 18348, 18349, 18350, 18352, 18353, 18354, 18355, 18358, 18359, 18360, 18361, 18363, 18364, 18365, 18367, 18368, 18369, 18370, 18371, 18372, 18373, 18374, 18375, 18377, 18378, 18379, 18380, 18382, 18383, 18384, 18385, 18387, 18388, 18389, 18391, 18392, 18393, 18394, 18397, 18398, 18400, 18401, 18402, 18403, 18404, 18405, 18406, 18407, 18408, 18409, 18410, 18413, 18416, 18417, 18418, 18420, 18421, 18423, 18425, 18426, 18427, 18428, 18429, 18432, 18433, 18436, 18437, 18438, 18439, 18440, 18442, 18443, 18444, 18445, 18447, 18449, 18451, 18452, 18453, 18455, 18456, 18457, 18458, 18459, 18460, 18461, 18462, 18464, 18465, 18467, 18469, 18470, 18471, 18472, 18475, 18476, 18477, 18478, 18479, 18480, 18483, 18484, 18486, 18487, 18488, 18489, 18490, 18491, 18494, 18495, 18496, 18500, 18501, 18503, 18505, 18508, 18510, 18511, 18512, 18514, 18515, 18516, 18517, 18518, 18519, 18521, 18522, 18523, 18524, 18525, 18527, 18530, 18533, 18534, 18536, 18540, 18541, 18545, 18546, 18547, 18548, 18549, 18550, 18552, 18553, 18554, 18555, 18556, 18559, 18562, 18565, 18566, 18567, 18568, 18569, 18570, 18571, 18574, 18576, 18577, 18579, 18580, 18581, 18582, 18583, 18584, 18585, 18586, 18587, 18588, 18589, 18591, 18595, 18596, 18597, 18600, 18602, 18603, 18607, 18608, 18613, 18614, 18615, 18617, 18620, 18622, 18623, 18624, 18625, 18626, 18629, 18630, 18633, 18634, 18635, 18638, 18640, 18642, 18645, 18646, 18647, 18648, 18650, 18652, 18654, 18655, 18656, 18657, 18658, 18659, 18660, 18661, 18664, 18665, 18666, 18668, 18671, 18672, 18673, 18674, 18676, 18677, 18678, 18679, 18680, 18681, 18682, 18688, 18689, 18692, 18694, 18695, 18696, 18697, 18698, 18699, 18700, 18701, 18702, 18706, 18707, 18708, 18711, 18712, 18715, 18717, 18720, 18721, 18722, 18726, 18728, 18729, 18730, 18733, 18734, 18735, 18736, 18737, 18738, 18739, 18740, 18741, 18742, 18745, 18746, 18748, 18749, 18750, 18751, 18753, 18755, 18756, 18758, 18759, 18760, 18761, 18763, 18765, 18766, 18767, 18768, 18770, 18771, 18772, 18773, 18775, 18777, 18778, 18779, 18780, 18783, 18785, 18786, 18787, 18788, 18789, 18793, 18794, 18795, 18797, 18798, 18799, 18800, 18801, 18802, 18803, 18804, 18808, 18809, 18810, 18811, 18813, 18814, 18815, 18816, 18818, 18820, 18821, 18822, 18824, 18829, 18832, 18835, 18836, 18837, 18838, 18839, 18841, 18844, 18845, 18846, 18848, 18849, 18850, 18851, 18853, 18854, 18855, 18856, 18857, 18858, 18859, 18860, 18862, 18863, 18864, 18865, 18866, 18867, 18868, 18869, 18871, 18873, 18874, 18876, 18877, 18881, 18882, 18884, 18885, 18886, 18887, 18889, 18890, 18892, 18893, 18894, 18896, 18897, 18901, 18903, 18904, 18905, 18906, 18907, 18909, 18910, 18912, 18913, 18915, 18916, 18918, 18919, 18920, 18921, 18922, 18923, 18924, 18925, 18926, 18927, 18928, 18929, 18932, 18935, 18936, 18940, 18941, 18945, 18946, 18947, 18950, 18951, 18952, 18953, 18955, 18956, 18958, 18962, 18963, 18964, 18967, 18968, 18969, 18970, 18971, 18973, 18974, 18976, 18977, 18978, 18979, 18981, 18984, 18987, 18988, 18989, 18991, 18992, 18993, 18994, 18995, 18996, 18997, 18998, 19000, 19001, 19002, 19003, 19004, 19006, 19007, 19009, 19011, 19015, 19016, 19017, 19019, 19020, 19022, 19023, 19025, 19028, 19029, 19030, 19031, 19033, 19034, 19035, 19037, 19038, 19039, 19041, 19043, 19046, 19047, 19048, 19049, 19050, 19052, 19057, 19058, 19059, 19061, 19062, 19063, 19064, 19065, 19066, 19067, 19068, 19072, 19073, 19074, 19079, 19081, 19082, 19083, 19084, 19085, 19086, 19087, 19091, 19092, 19093, 19095, 19096, 19097, 19102, 19103, 19104, 19105, 19106, 19107, 19110, 19111, 19113, 19114, 19117, 19118, 19119, 19120, 19121, 19123, 19124, 19125, 19126, 19130, 19131, 19135, 19137, 19138, 19140, 19141, 19143, 19145, 19147, 19148, 19151, 19152, 19153, 19154, 19155, 19159, 19160, 19161, 19163, 19164, 19166, 19167, 19168, 19169, 19171, 19172, 19173, 19174, 19175, 19176, 19177, 19178, 19179, 19183, 19184, 19186, 19187, 19189, 19190, 19192, 19196, 19197, 19201, 19202, 19206, 19208, 19209, 19210, 19211, 19214, 19215, 19216, 19217, 19218, 19221, 19223, 19224, 19225, 19226, 19227, 19228, 19233, 19234, 19236, 19239, 19241, 19242, 19243, 19244, 19247, 19249, 19251, 19252, 19253, 19254, 19255, 19256, 19258, 19261, 19262, 19263, 19264, 19265, 19266, 19268, 19272, 19273, 19275, 19276, 19277, 19279, 19280, 19281, 19282, 19286, 19287, 19288, 19290, 19291, 19293, 19294, 19295, 19296, 19297, 19299, 19300, 19303, 19308, 19309, 19310, 19311, 19313, 19314, 19315, 19317, 19320, 19322, 19325, 19326, 19329, 19330, 19331, 19333, 19336, 19338, 19340, 19341, 19343, 19347, 19349, 19350, 19351, 19352, 19353, 19355, 19356, 19357, 19358, 19359, 19363, 19364, 19366, 19368, 19369, 19371, 19372, 19373, 19374, 19376, 19377, 19378, 19379, 19380, 19382, 19383, 19384, 19385, 19387, 19388, 19389, 19392, 19393, 19394, 19395, 19396, 19397, 19399, 19400, 19401, 19404, 19406, 19408, 19409, 19411, 19412, 19413, 19414, 19416, 19417, 19418, 19419, 19420, 19421, 19422, 19423, 19425, 19427, 19429, 19430, 19431, 19434, 19437, 19439, 19440, 19441, 19442, 19443, 19444, 19445, 19446, 19448, 19451, 19452, 19454, 19456, 19457, 19458, 19459, 19460, 19461, 19462, 19463, 19465, 19468, 19469, 19471, 19474, 19475, 19476, 19477, 19478, 19479, 19480, 19481, 19483, 19486, 19488, 19489, 19491, 19492, 19494, 19496, 19497, 19499, 19501, 19502, 19503, 19504, 19505, 19506, 19507, 19508, 19509, 19510, 19511, 19512, 19513, 19515, 19516, 19517, 19518, 19519, 19521, 19522, 19523, 19524, 19526, 19527, 19528, 19529, 19530, 19531, 19533, 19535, 19536, 19539, 19540, 19541, 19543, 19544, 19548, 19550, 19551, 19554, 19556, 19558, 19559, 19560, 19561, 19562, 19563, 19565, 19566, 19568, 19570, 19572, 19573, 19574, 19575, 19577, 19578, 19582, 19583, 19584, 19585, 19587, 19588, 19589, 19590, 19592, 19593, 19595, 19596, 19597, 19599, 19601, 19602, 19603, 19604, 19605, 19606, 19607, 19608, 19609, 19611, 19612, 19615, 19618, 19620, 19622, 19623, 19624, 19625, 19626, 19628, 19629, 19630, 19633, 19634, 19635, 19636, 19638, 19640, 19641, 19643, 19644, 19645, 19646, 19651, 19652, 19653, 19654, 19655, 19656, 19659, 19660, 19661, 19663, 19665, 19667, 19668, 19669, 19672, 19673, 19676, 19677, 19678, 19679, 19680, 19681, 19683, 19684, 19685, 19687, 19688, 19689, 19690, 19691, 19692, 19693, 19695, 19698, 19699, 19703, 19704, 19705, 19706, 19707, 19708, 19711, 19712, 19713, 19714, 19715, 19717, 19718, 19723, 19724, 19725, 19726, 19727, 19728, 19729, 19730, 19731, 19732, 19733, 19735, 19737, 19738, 19739, 19741, 19742, 19743, 19744, 19746, 19747, 19748, 19749, 19750, 19751, 19752, 19753, 19754, 19756, 19757, 19758, 19760, 19761, 19762, 19763, 19764, 19766, 19767, 19769, 19774, 19777, 19780, 19782, 19783, 19784, 19785, 19786, 19787, 19788, 19789, 19790, 19792, 19793, 19794, 19795, 19796, 19797, 19799, 19801, 19802, 19805, 19809, 19811, 19812, 19813, 19814, 19817, 19819, 19820, 19824, 19825, 19826, 19827, 19829, 19830, 19831, 19832, 19833, 19837, 19838, 19839, 19841, 19843, 19844, 19848, 19850, 19851, 19853, 19854, 19855, 19856, 19857, 19858, 19859, 19860, 19861, 19862, 19863, 19864, 19865, 19866, 19867, 19868, 19869, 19870, 19871, 19872, 19873, 19874, 19875, 19876, 19877, 19878, 19879, 19880, 19881, 19882, 19883, 19884, 19885, 19886, 19887, 19888, 19889, 19890, 19891, 19892, 19893, 19894, 19895, 19896, 19897, 19898, 19899, 19900, 19901, 19902, 19903, 19904, 19905, 19906, 19907, 19908, 19909, 19910, 19911, 19912, 19913, 19914, 19915, 19916, 19917, 19918, 19919, 19920, 19921, 19922, 19923, 19924, 19925, 19926, 19927, 19928, 19929, 19930, 19931, 19932, 19933, 19934, 19935, 19936, 19937, 19938, 19939, 19940, 19941, 19942, 19943, 19944, 19945, 19946, 19947, 19948, 19949, 19950, 19951, 19952, 19953, 19954, 19955, 19956, 19957, 19958, 19959, 19960, 19961, 19962, 19963, 19964, 19965, 19966, 19967, 19968, 19969, 19970, 19971, 19972, 19973, 19974, 19975, 19976, 19977, 19978, 19979, 19980, 19981, 19982, 19983, 19984, 19985, 19986, 19987, 19988, 19989, 19990, 19991, 19992, 19993, 19994, 19995, 19996, 19997, 19998, 19999, 20000, 20001, 20002, 20003, 20004, 20005, 20006, 20007, 20008, 20009, 20010, 20011, 20012, 20013, 20014, 20015, 20016, 20017, 20018, 20019, 20020, 20021, 20022, 20023, 20024, 20025, 20026, 20027, 20028, 20029, 20030, 20031, 20032, 20033, 20034, 20035, 20036, 20037, 20038, 20039, 20040, 20041, 20042, 20043, 20044, 20045, 20046, 20047, 20048, 20049, 20050, 20051, 20052, 20053, 20054, 20055, 20056, 20057, 20058, 20059, 20060, 20061, 20062, 20063, 20064, 20065, 20066, 20067, 20068, 20069, 20070, 20071, 20072, 20073, 20074, 20075, 20076, 20077, 20078, 20079, 20080, 20081, 20082, 20083, 20084, 20085, 20086, 20087, 20088, 20089, 20090, 20091, 20092, 20093, 20094, 20095, 20096, 20097, 20098, 20099, 20100, 20101, 20102, 20103, 20104, 20105, 20106, 20107, 20108, 20109, 20110, 20111, 20112, 20113, 20114, 20115, 20116, 20117, 20118, 20119, 20120, 20121, 20122, 20123, 20124, 20125, 20126, 20127, 20128, 20129, 20130, 20131, 20132, 20133, 20134, 20135, 20136, 20137, 20138, 20139, 20140, 20141, 20142, 20143, 20144, 20145, 20146, 20147, 20148, 20149, 20150, 20151, 20152, 20153, 20154, 20155, 20156, 20157, 20158, 20159, 20160, 20161, 20162, 20163, 20164, 20165, 20166, 20167, 20168, 20169, 20170, 20171, 20172, 20173, 20174, 20175, 20176, 20177, 20178, 20179, 20180, 20181, 20182, 20183, 20184, 20185, 20186, 20187, 20188, 20189, 20190, 20191, 20192, 20193, 20194, 20195, 20196, 20197, 20198, 20199, 20200, 20201, 20202, 20203, 20204, 20205, 20206, 20207, 20208, 20209, 20210, 20211, 20212, 20213, 20214, 20215, 20216, 20217, 20218, 20219, 20220, 20221, 20222, 20223, 20224, 20225, 20226, 20227, 20228, 20229, 20230, 20231, 20232, 20233, 20234, 20235, 20236, 20237, 20238, 20239, 20240, 20241, 20242, 20243, 20244, 20245, 20246, 20247, 20248, 20249, 20250, 20251, 20252, 20253, 20254, 20255, 20256, 20257, 20258, 20259, 20260, 20261, 20262, 20263, 20264, 20265, 20266, 20267, 20268, 20269, 20270, 20271, 20272, 20273, 20274, 20275, 20276, 20277, 20278, 20279, 20280, 20281, 20282, 20283, 20284, 20285, 20286, 20287, 20288, 20289, 20290, 20291, 20292, 20293, 20294, 20295, 20296, 20297, 20298, 20299, 20300, 20301, 20302, 20303, 20304, 20305, 20306, 20307, 20308, 20309, 20310, 20311, 20312, 20313, 20314, 20315, 20316, 20317, 20318, 20319, 20320, 20321, 20322, 20323, 20324, 20325, 20326, 20327, 20328, 20329, 20330, 20331, 20332, 20333, 20334, 20335, 20336, 20337, 20338, 20339, 20340, 20341, 20342, 20343, 20344, 20345, 20346, 20347, 20348, 20349, 20350, 20351, 20352, 20353, 20354, 20355, 20356, 20357, 20358, 20359, 20360, 20361, 20362, 20363, 20364, 20365, 20366, 20367, 20368, 20369, 20370, 20371, 20372, 20373, 20374, 20375, 20376, 20377, 20378, 20379, 20380, 20381, 20382, 20383, 20384, 20385, 20386, 20387, 20388, 20389, 20390, 20391, 20392, 20393, 20394, 20395, 20396, 20397, 20398, 20399, 20400, 20401, 20402, 20403, 20404, 20405, 20406, 20407, 20408, 20409, 20410, 20411, 20412, 20413, 20414, 20415, 20416, 20417, 20418, 20419, 20420, 20421, 20422, 20423, 20424, 20425, 20426, 20427, 20428, 20429, 20430, 20431, 20432, 20433, 20434, 20435, 20436, 20437, 20438, 20439, 20440, 20441, 20442, 20443, 20444, 20445, 20446, 20447, 20448, 20449, 20450, 20451, 20452, 20453, 20454, 20455, 20456, 20457, 20458, 20459, 20460, 20461, 20462, 20463, 20464, 20465, 20466, 20467, 20468, 20469, 20470, 20471, 20472, 20473, 20474, 20475, 20476, 20477, 20478, 20479, 20480, 20481, 20482, 20483, 20484, 20485, 20486, 20487, 20488, 20489, 20490, 20491, 20492, 20493, 20494, 20495, 20496, 20497, 20498, 20499, 20500, 20501, 20502, 20503, 20504, 20505, 20506, 20507, 20508, 20509, 20510, 20511, 20512, 20513, 20514, 20515, 20516, 20517, 20518, 20519, 20520, 20521, 20522, 20523, 20524, 20525, 20526, 20527, 20528, 20529, 20530, 20531, 20532, 20533, 20534, 20535, 20536, 20537, 20538, 20539, 20540, 20541, 20542, 20543, 20544, 20545, 20546, 20547, 20548, 20549, 20550, 20551, 20552, 20553, 20554, 20555, 20556, 20557, 20558, 20559, 20560, 20561, 20562, 20563, 20564, 20565, 20566, 20567, 20568, 20569, 20570, 20571, 20572, 20573, 20574, 20575, 20576, 20577, 20578, 20579, 20580, 20581, 20582, 20583, 20584, 20585, 20586, 20587, 20588, 20589, 20590, 20591, 20592, 20593, 20594, 20595, 20596, 20597, 20598, 20599, 20600, 20601, 20602, 20603, 20604, 20605, 20606, 20607, 20608, 20609, 20610, 20611, 20612, 20613, 20614, 20615, 20616, 20617, 20618, 20619, 20620, 20621, 20622, 20623, 20624, 20625, 20626, 20627, 20628, 20629, 20630, 20631, 20632, 20633, 20634, 20635, 20636, 20637, 20638, 20639, 20640, 20641, 20642, 20643, 20644, 20645, 20646, 20647, 20648, 20649, 20650, 20651, 20652, 20653, 20654, 20655, 20656, 20657, 20658, 20659, 20660, 20661, 20662, 20663, 20664, 20665, 20666, 20667, 20668, 20669, 20670, 20671, 20672, 20673, 20674, 20675, 20676, 20677, 20678, 20679, 20680, 20681, 20682, 20683, 20684, 20685, 20686, 20687, 20688, 20689, 20690, 20691, 20692, 20693, 20694, 20695, 20696, 20697, 20698, 20699, 20700, 20701, 20702, 20703, 20704, 20705, 20706, 20707, 20708, 20709, 20710, 20711, 20712, 20713, 20714, 20715, 20716, 20717, 20718, 20719, 20720, 20721, 20722, 20723, 20724, 20725, 20726, 20727, 20728, 20729, 20730, 20731, 20732, 20733, 20734, 20735, 20736, 20737, 20738, 20739, 20740, 20741, 20742, 20743, 20744, 20745, 20746, 20747, 20748, 20749, 20750, 20751, 20752, 20753, 20754, 20755, 20756, 20757, 20758, 20759, 20760, 20761, 20762, 20763, 20764, 20765, 20766, 20767, 20768, 20769, 20770, 20771, 20772, 20773, 20774, 20775, 20776, 20777, 20778, 20779, 20780, 20781, 20782, 20783, 20784, 20785, 20786, 20787, 20788, 20789, 20790, 20791, 20792, 20793, 20794, 20795, 20796, 20797, 20798, 20799, 20800, 20801, 20802, 20803, 20804, 20805, 20806, 20807, 20808, 20809, 20810, 20811, 20812, 20813, 20814, 20815, 20816, 20817, 20818, 20819, 20820, 20821, 20822, 20823, 20824, 20825, 20826, 20827, 20828, 20829, 20830, 20831, 20832, 20833, 20834, 20835, 20836, 20837, 20838, 20839, 20840, 20841, 20842, 20843, 20844, 20845, 20846, 20847, 20848, 20849, 20850, 20851, 20852, 20853, 20854, 20855, 20856, 20857, 20858, 20859, 20860, 20861, 20862, 20863, 20864, 20865, 20866, 20867, 20868, 20869, 20870, 20871, 20872, 20873, 20874, 20875, 20876, 20877, 20878, 20879, 20880, 20881, 20882, 20883, 20884, 20885, 20886, 20887, 20888, 20889, 20890, 20891, 20892, 20893, 20894, 20895, 20896, 20897, 20898, 20899, 20900, 20901, 20902, 20903, 20904, 20905, 20906, 20907, 20908, 20909, 20910, 20911, 20912, 20913, 20914, 20915, 20916, 20917, 20918, 20919, 20920, 20921, 20922, 20923, 20924, 20925, 20926, 20927, 20928, 20929, 20930, 20931, 20932, 20933, 20934, 20935, 20936, 20937, 20938, 20939, 20940, 20941, 20942, 20943, 20944, 20945, 20946, 20947, 20948, 20949, 20950, 20951, 20952, 20953, 20954, 20955, 20956, 20957, 20958, 20959, 20960, 20961, 20962, 20963, 20964, 20965, 20966, 20967, 20968, 20969, 20970, 20971, 20972, 20973, 20974, 20975, 20976, 20977, 20978, 20979, 20980, 20981, 20982, 20983, 20984, 20985, 20986, 20987, 20988, 20989, 20990, 20991, 20992, 20993, 20994, 20995, 20996, 20997, 20998, 20999, 21000, 21001, 21002, 21003, 21004, 21005, 21006, 21007, 21008, 21009, 21010, 21011, 21012, 21013, 21014, 21015, 21016, 21017, 21018, 21019, 21020, 21021, 21022, 21023, 21024, 21025, 21026, 21027, 21028, 21029, 21030, 21031, 21032, 21033, 21034, 21035, 21036, 21037, 21038, 21039, 21040, 21041, 21042, 21043, 21044, 21045, 21046, 21047, 21048, 21049, 21050, 21051, 21052, 21053, 21054, 21055, 21056, 21057, 21058, 21059, 21060, 21061, 21062, 21063, 21064, 21065, 21066, 21067, 21068, 21069, 21070, 21071, 21072, 21073, 21074, 21075, 21076, 21077, 21078, 21079, 21080, 21081, 21082, 21083, 21084, 21085, 21086, 21087, 21088, 21089, 21090, 21091, 21092, 21093, 21094, 21095, 21096, 21097, 21098, 21099, 21100, 21101, 21102, 21103, 21104, 21105, 21106, 21107, 21108, 21109, 21110, 21111, 21112, 21113, 21114, 21115, 21116, 21117, 21118, 21119, 21120, 21121, 21122, 21123, 21124, 21125, 21126, 21127, 21128, 21129, 21130, 21131, 21132, 21133, 21134, 21135, 21136, 21137, 21138, 21139, 21140, 21141, 21142, 21143, 21144, 21145, 21146, 21147, 21148, 21149, 21150, 21151, 21152, 21153, 21154, 21155, 21156, 21157, 21158, 21159, 21160, 21161, 21162, 21163, 21164, 21165, 21166, 21167, 21168, 21169, 21170, 21171, 21172, 21173, 21174, 21175, 21176, 21177, 21178, 21179, 21180, 21181, 21182, 21183, 21184, 21185, 21186, 21187, 21188, 21189, 21190, 21191, 21192, 21193, 21194, 21195, 21196, 21197, 21198, 21199, 21200, 21201, 21202, 21203, 21204, 21205, 21206, 21207, 21208, 21209, 21210, 21211, 21212, 21213, 21214, 21215, 21216, 21217, 21218, 21219, 21220, 21221, 21222, 21223, 21224, 21225, 21226, 21227, 21228, 21229, 21230, 21231, 21232, 21233, 21234, 21235, 21236, 21237, 21238, 21239, 21240, 21241, 21242, 21243, 21244, 21245, 21246, 21247, 21248, 21249, 21250, 21251, 21252, 21253, 21254, 21255, 21256, 21257, 21258, 21259, 21260, 21261, 21262, 21263, 21264, 21265, 21266, 21267, 21268, 21269, 21270, 21271, 21272, 21273, 21274, 21275, 21276, 21277, 21278, 21279, 21280, 21281, 21282, 21283, 21284, 21285, 21286, 21287, 21288, 21289, 21290, 21291, 21292, 21293, 21294, 21295, 21296, 21297, 21298, 21299, 21300, 21301, 21302, 21303, 21304, 21305, 21306, 21307, 21308, 21309, 21310, 21311, 21312, 21313, 21314, 21315, 21316, 21317, 21318, 21319, 21320, 21321, 21322, 21323, 21324, 21325, 21326, 21327, 21328, 21329, 21330, 21331, 21332, 21333, 21334, 21335, 21336, 21337, 21338, 21339, 21340, 21341, 21342, 21343, 21344, 21345, 21346, 21347, 21348, 21349, 21350, 21351, 21352, 21353, 21354, 21355, 21356, 21357, 21358, 21359, 21360, 21361, 21362, 21363, 21364, 21365, 21366, 21367, 21368, 21369, 21370, 21371, 21372, 21373, 21374, 21375, 21376, 21377, 21378, 21379, 21380, 21381, 21382, 21383, 21384, 21385, 21386, 21387, 21388, 21389, 21390, 21391, 21392, 21393, 21394, 21395, 21396, 21397, 21398, 21399, 21400, 21401, 21402, 21403, 21404, 21405, 21406, 21407, 21408, 21409, 21410, 21411, 21412, 21413, 21414, 21415, 21416, 21417, 21418, 21419, 21420, 21421, 21422, 21423, 21424, 21425, 21426, 21427, 21428, 21429, 21430, 21431, 21432, 21433, 21434, 21435, 21436, 21437, 21438, 21439, 21440, 21441, 21442, 21443, 21444, 21445, 21446, 21447, 21448, 21449, 21450, 21451, 21452, 21453, 21454, 21455, 21456, 21457, 21458, 21459, 21460, 21461, 21462, 21463, 21464, 21465, 21466, 21467, 21468, 21469, 21470, 21471, 21472, 21473, 21474, 21475, 21476, 21477, 21478, 21479, 21480, 21481, 21482, 21483, 21484, 21485, 21486, 21487, 21488, 21489, 21490, 21491, 21492, 21493, 21494, 21495, 21496, 21497, 21498, 21499, 21500, 21501, 21502, 21503, 21504, 21505, 21506, 21507, 21508, 21509, 21510, 21511, 21512, 21513, 21514, 21515, 21516, 21517, 21518, 21519, 21520, 21521, 21522, 21523, 21524, 21525, 21526, 21527, 21528, 21529, 21530, 21531, 21532, 21533, 21534, 21535, 21536, 21537, 21538, 21539, 21540, 21541, 21542, 21543, 21544, 21545, 21546, 21547, 21548, 21549, 21550, 21551, 21552, 21553, 21554, 21555, 21556, 21557, 21558, 21559, 21560, 21561, 21562, 21563, 21564, 21565, 21566, 21567, 21568, 21569, 21570, 21571, 21572, 21573, 21574, 21575, 21576, 21577, 21578, 21579, 21580, 21581, 21582, 21583, 21584, 21585, 21586, 21587, 21588, 21589, 21590, 21591, 21592, 21593, 21594, 21595, 21596, 21597, 21598, 21599, 21600, 21601, 21602, 21603, 21604, 21605, 21606, 21607, 21608, 21609, 21610, 21611, 21612, 21613, 21614, 21615, 21616, 21617, 21618, 21619, 21620, 21621, 21622, 21623, 21624, 21625, 21626, 21627, 21628, 21629, 21630, 21631, 21632, 21633, 21634, 21635, 21636, 21637, 21638, 21639, 21640, 21641, 21642, 21643, 21644, 21645, 21646, 21647, 21648, 21649, 21650, 21651, 21652, 21653, 21654, 21655, 21656, 21657, 21658, 21659, 21660, 21661, 21662, 21663, 21664, 21665, 21666, 21667, 21668, 21669, 21670, 21671, 21672, 21673, 21674, 21675, 21676, 21677, 21678, 21679, 21680, 21681, 21682, 21683, 21684, 21685, 21686, 21687, 21688, 21689, 21690, 21691, 21692, 21693, 21694, 21695, 21696, 21697, 21698, 21699, 21700, 21701, 21702, 21703, 21704, 21705, 21706, 21707, 21708, 21709, 21710, 21711, 21712, 21713, 21714, 21715, 21716, 21717, 21718, 21719, 21720, 21721, 21722, 21723, 21724, 21725, 21726, 21727, 21728, 21729, 21730, 21731, 21732, 21733, 21734, 21735, 21736, 21737, 21738, 21739, 21740, 21741, 21742, 21743, 21744, 21745, 21746, 21747, 21748, 21749, 21750, 21751, 21752, 21753, 21754, 21755, 21756, 21757, 21758, 21759, 21760, 21761, 21762, 21763, 21764, 21765, 21766, 21767, 21768, 21769, 21770, 21771, 21772, 21773, 21774, 21775, 21776, 21777, 21778, 21779, 21780, 21781, 21782, 21783, 21784, 21785, 21786, 21787, 21788, 21789, 21790, 21791, 21792, 21793, 21794, 21795, 21796, 21797, 21798, 21799, 21800, 21801, 21802, 21803, 21804, 21805, 21806, 21807, 21808, 21809, 21810, 21811, 21812, 21813, 21814, 21815, 21816, 21817, 21818, 21819, 21820, 21821, 21822, 21823, 21824, 21825, 21826, 21827, 21828, 21829, 21830, 21831, 21832, 21833, 21834, 21835, 21836, 21837, 21838, 21839, 21840, 21841, 21842, 21843, 21844, 21845, 21846, 21847, 21848, 21849, 21850, 21851, 21852, 21853, 21854, 21855, 21856, 21857, 21858, 21859, 21860, 21861, 21862, 21863, 21864, 21865, 21866, 21867, 21868, 21869, 21870, 21871, 21872, 21873, 21874, 21875, 21876, 21877, 21878, 21879, 21880, 21881, 21882, 21883, 21884, 21885, 21886, 21887, 21888, 21889, 21890, 21891, 21892, 21893, 21894, 21895, 21896, 21897, 21898, 21899, 21900, 21901, 21902, 21903, 21904, 21905, 21906, 21907, 21908, 21909, 21910, 21911, 21912, 21913, 21914, 21915, 21916, 21917, 21918, 21919, 21920, 21921, 21922, 21923, 21924, 21925, 21926, 21927, 21928, 21929, 21930, 21931, 21932, 21933, 21934, 21935, 21936, 21937, 21938, 21939, 21940, 21941, 21942, 21943, 21944, 21945, 21946, 21947, 21948, 21949, 21950, 21951, 21952, 21953, 21954, 21955, 21956, 21957, 21958, 21959, 21960, 21961, 21962, 21963, 21964, 21965, 21966, 21967, 21968, 21969, 21970, 21971, 21972, 21973, 21974, 21975, 21976, 21977, 21978, 21979, 21980, 21981, 21982, 21983, 21984, 21985, 21986, 21987, 21988, 21989, 21990, 21991, 21992, 21993, 21994, 21995, 21996, 21997, 21998, 21999, 22000, 22001, 22002, 22003, 22004, 22005, 22006, 22007, 22008, 22009, 22010, 22011, 22012, 22013, 22014, 22015, 22016, 22017, 22018, 22019, 22020, 22021, 22022, 22023, 22024, 22025, 22026, 22027, 22028, 22029, 22030, 22031, 22032, 22033, 22034, 22035, 22036, 22037, 22038, 22039, 22040, 22041, 22042, 22043, 22044, 22045, 22046, 22047, 22048, 22049, 22050, 22051, 22052, 22053, 22054, 22055, 22056, 22057, 22058, 22059, 22060, 22061, 22062, 22063, 22064, 22065, 22066, 22067, 22068, 22069, 22070, 22071, 22072, 22073, 22074, 22075, 22076, 22077, 22078, 22079, 22080, 22081, 22082, 22083, 22084, 22085, 22086, 22087, 22088, 22089, 22090, 22091, 22092, 22093, 22094, 22095, 22096, 22097, 22098, 22099, 22100, 22101, 22102, 22103, 22104, 22105, 22106, 22107, 22108, 22109, 22110, 22111, 22112, 22113, 22114, 22115, 22116, 22117, 22118, 22119, 22120, 22121, 22122, 22123, 22124, 22125, 22126, 22127, 22128, 22129, 22130, 22131, 22132, 22133, 22134, 22135, 22136, 22137, 22138, 22139, 22140, 22141, 22142, 22143, 22144, 22145, 22146, 22147, 22148, 22149, 22150, 22151, 22152, 22153, 22154, 22155, 22156, 22157, 22158, 22159, 22160, 22161, 22162, 22163, 22164, 22165, 22166, 22167, 22168, 22169, 22170, 22171, 22172, 22173, 22174, 22175, 22176, 22177, 22178, 22179, 22180, 22181, 22182, 22183, 22184, 22185, 22186, 22187, 22188, 22189, 22190, 22191, 22192, 22193, 22194, 22195, 22196, 22197, 22198, 22199, 22200, 22201, 22202, 22203, 22204, 22205, 22206, 22207, 22208, 22209, 22210, 22211, 22212, 22213, 22214, 22215, 22216, 22217, 22218, 22219, 22220, 22221, 22222, 22223, 22224, 22225, 22226, 22227, 22228, 22229, 22230, 22231, 22232, 22233, 22234, 22235, 22236, 22237, 22238, 22239, 22240, 22241, 22242, 22243, 22244, 22245, 22246, 22247, 22248, 22249, 22250, 22251, 22252, 22253, 22254, 22255, 22256, 22257, 22258, 22259, 22260, 22261, 22262, 22263, 22264, 22265, 22266, 22267, 22268, 22269, 22270, 22271, 22272, 22273, 22274, 22275, 22276, 22277, 22278, 22279, 22280, 22281, 22282, 22283, 22284, 22285, 22286, 22287, 22288, 22289, 22290, 22291, 22292, 22293, 22294, 22295, 22296, 22297, 22298, 22299, 22300, 22301, 22302, 22303, 22304, 22305, 22306, 22307, 22308, 22309, 22310, 22311, 22312, 22313, 22314, 22315, 22316, 22317, 22318, 22319, 22320, 22321, 22322, 22323, 22324, 22325, 22326, 22327, 22328, 22329, 22330, 22331, 22332, 22333, 22334, 22335, 22336, 22337, 22338, 22339, 22340, 22341, 22342, 22343, 22344, 22345, 22346, 22347, 22348, 22349, 22350, 22351, 22352, 22353, 22354, 22355, 22356, 22357, 22358, 22359, 22360, 22361, 22362, 22363, 22364, 22365, 22366, 22367, 22368, 22369, 22370, 22371, 22372, 22373, 22374, 22375, 22376, 22377, 22378, 22379, 22380, 22381, 22382, 22383, 22384, 22385, 22386, 22387, 22388, 22389, 22390, 22391, 22392, 22393, 22394, 22395, 22396, 22397, 22398, 22399, 22400, 22401, 22402, 22403, 22404, 22405, 22406, 22407, 22408, 22409, 22410, 22411, 22412, 22413, 22414, 22415, 22416, 22417, 22418, 22419, 22420, 22421, 22422, 22423, 22424, 22425, 22426, 22427, 22428, 22429, 22430, 22431, 22432, 22433, 22434, 22435, 22436, 22437, 22438, 22439, 22440, 22441, 22442, 22443, 22444, 22445, 22446, 22447, 22448, 22449, 22450, 22451, 22452, 22453, 22454, 22455, 22456, 22457, 22458, 22459, 22460, 22461, 22462, 22463, 22464, 22465, 22466, 22467, 22468, 22469, 22470, 22471, 22472, 22473, 22474, 22475, 22476, 22477, 22478, 22479, 22480, 22481, 22482, 22483, 22484, 22485, 22486, 22487, 22488, 22489, 22490, 22491, 22492, 22493, 22494, 22495, 22496, 22497, 22498, 22499, 22500, 22501, 22502, 22503, 22504, 22505, 22506, 22507, 22508, 22509, 22510, 22511, 22512, 22513, 22514, 22515, 22516, 22517, 22518, 22519, 22520, 22521, 22522, 22523, 22524, 22525, 22526, 22527, 22528, 22529, 22530, 22531, 22532, 22533, 22534, 22535, 22536, 22537, 22538, 22539, 22540, 22541, 22542, 22543, 22544, 22545, 22546, 22547, 22548, 22549, 22550, 22551, 22552, 22553, 22554, 22555, 22556, 22557, 22558, 22559, 22560, 22561, 22562, 22563, 22564, 22565, 22566, 22567, 22568, 22569, 22570, 22571, 22572, 22573, 22574, 22575, 22576, 22577, 22578, 22579, 22580, 22581, 22582, 22583, 22584, 22585, 22586, 22587, 22588, 22589, 22590, 22591, 22592, 22593, 22594, 22595, 22596, 22597, 22598, 22599, 22600, 22601, 22602, 22603, 22604, 22605, 22606, 22607, 22608, 22609, 22610, 22611, 22612, 22613, 22614, 22615, 22616, 22617, 22618, 22619, 22620, 22621, 22622, 22623, 22624, 22625, 22626, 22627, 22628, 22629, 22630, 22631, 22632, 22633, 22634, 22635, 22636, 22637, 22638, 22639, 22640, 22641, 22642, 22643, 22644, 22645, 22646, 22647, 22648, 22649, 22650, 22651, 22652, 22653, 22654, 22655, 22656, 22657, 22658, 22659, 22660, 22661, 22662, 22663, 22664, 22665, 22666, 22667, 22668, 22669, 22670, 22671, 22672, 22673, 22674, 22675, 22676, 22677, 22678, 22679, 22680, 22681, 22682, 22683, 22684, 22685, 22686, 22687, 22688, 22689, 22690, 22691, 22692, 22693, 22694, 22695, 22696, 22697, 22698, 22699, 22700, 22701, 22702, 22703, 22704, 22705, 22706, 22707, 22708, 22709, 22710, 22711, 22712, 22713, 22714, 22715, 22716, 22717, 22718, 22719, 22720, 22721, 22722, 22723, 22724, 22725, 22726, 22727, 22728, 22729, 22730, 22731, 22732, 22733, 22734, 22735, 22736, 22737, 22738, 22739, 22740, 22741, 22742, 22743, 22744, 22745, 22746, 22747, 22748, 22749, 22750, 22751, 22752, 22753, 22754, 22755, 22756, 22757, 22758, 22759, 22760, 22761, 22762, 22763, 22764, 22765, 22766, 22767, 22768, 22769, 22770, 22771, 22772, 22773, 22774, 22775, 22776, 22777, 22778, 22779, 22780, 22781, 22782, 22783, 22784, 22785, 22786, 22787, 22788, 22789, 22790, 22791, 22792, 22793, 22794, 22795, 22796, 22797, 22798, 22799, 22800, 22801, 22802, 22803, 22804, 22805, 22806, 22807, 22808, 22809, 22810, 22811, 22812, 22813, 22814, 22815, 22816, 22817, 22818, 22819, 22820, 22821, 22822, 22823, 22824, 22825, 22826, 22827, 22828, 22829, 22830, 22831, 22832, 22833, 22834, 22835, 22836, 22837, 22838, 22839, 22840, 22841, 22842, 22843, 22844, 22845, 22846, 22847, 22848, 22849, 22850, 22851, 22852, 22853, 22854, 22855, 22856, 22857, 22858, 22859, 22860, 22861, 22862, 22863, 22864, 22865, 22866, 22867, 22868, 22869, 22870, 22871, 22872, 22873, 22874, 22875, 22876, 22877, 22878, 22879, 22880, 22881, 22882, 22883, 22884, 22885, 22886, 22887, 22888, 22889, 22890, 22891, 22892, 22893, 22894, 22895, 22896, 22897, 22898, 22899, 22900, 22901, 22902, 22903, 22904, 22905, 22906, 22907, 22908, 22909, 22910, 22911, 22912, 22913, 22914, 22915, 22916, 22917, 22918, 22919, 22920, 22921, 22922, 22923, 22924, 22925, 22926, 22927, 22928, 22929, 22930, 22931, 22932, 22933, 22934, 22935, 22936, 22937, 22938, 22939, 22940, 22941, 22942, 22943, 22944, 22945, 22946, 22947, 22948, 22949, 22950, 22951, 22952, 22953, 22954, 22955, 22956, 22957, 22958, 22959, 22960, 22961, 22962, 22963, 22964, 22965, 22966, 22967, 22968, 22969, 22970, 22971, 22972, 22973, 22974, 22975, 22976, 22977, 22978, 22979, 22980, 22981, 22982, 22983, 22984, 22985, 22986, 22987, 22988, 22989, 22990, 22991, 22992, 22993, 22994, 22995, 22996, 22997, 22998, 22999, 23000, 23001, 23002, 23003, 23004, 23005, 23006, 23007, 23008, 23009, 23010, 23011, 23012, 23013, 23014, 23015, 23016, 23017, 23018, 23019, 23020, 23021, 23022, 23023, 23024, 23025, 23026, 23027, 23028, 23029, 23030, 23031, 23032, 23033, 23034, 23035, 23036, 23037, 23038, 23039, 23040, 23041, 23042, 23043, 23044, 23045, 23046, 23047, 23048, 23049, 23050, 23051, 23052, 23053, 23054, 23055, 23056, 23057, 23058, 23059, 23060, 23061, 23062, 23063, 23064, 23065, 23066, 23067, 23068, 23069, 23070, 23071, 23072, 23073, 23074, 23075, 23076, 23077, 23078, 23079, 23080, 23081, 23082, 23083, 23084, 23085, 23086, 23087, 23088, 23089, 23090, 23091, 23092, 23093, 23094, 23095, 23096, 23097, 23098, 23099, 23100, 23101, 23102, 23103, 23104, 23105, 23106, 23107, 23108, 23109, 23110, 23111, 23112, 23113, 23114, 23115, 23116, 23117, 23118, 23119, 23120, 23121, 23122, 23123, 23124, 23125, 23126, 23127, 23128, 23129, 23130, 23131, 23132, 23133, 23134, 23135, 23136, 23137, 23138, 23139, 23140, 23141, 23142, 23143, 23144, 23145, 23146, 23147, 23148, 23149, 23150, 23151, 23152, 23153, 23154, 23155, 23156, 23157, 23158, 23159, 23160, 23161, 23162, 23163, 23164, 23165, 23166, 23167, 23168, 23169, 23170, 23171, 23172, 23173, 23174, 23175, 23176, 23177, 23178, 23179, 23180, 23181, 23182, 23183, 23184, 23185, 23186, 23187, 23188, 23189, 23190, 23191, 23192, 23193, 23194, 23195, 23196, 23197, 23198, 23199, 23200, 23201, 23202, 23203, 23204, 23205, 23206, 23207, 23208, 23209, 23210, 23211, 23212, 23213, 23214, 23215, 23216, 23217, 23218, 23219, 23220, 23221, 23222, 23223, 23224, 23225, 23226, 23227, 23228, 23229, 23230, 23231, 23232, 23233, 23234, 23235, 23236, 23237, 23238, 23239, 23240, 23241, 23242, 23243, 23244, 23245, 23246, 23247, 23248, 23249, 23250, 23251, 23252, 23253, 23254, 23255, 23256, 23257, 23258, 23259, 23260, 23261, 23262, 23263, 23264, 23265, 23266, 23267, 23268, 23269, 23270, 23271, 23272, 23273, 23274, 23275, 23276, 23277, 23278, 23279, 23280, 23281, 23282, 23283, 23284, 23285, 23286, 23287, 23288, 23289, 23290, 23291, 23292, 23293, 23294, 23295, 23296, 23297, 23298, 23299, 23300, 23301, 23302, 23303, 23304, 23305, 23306, 23307, 23308, 23309, 23310, 23311, 23312, 23313, 23314, 23315, 23316, 23317, 23318, 23319, 23320, 23321, 23322, 23323, 23324, 23325, 23326, 23327, 23328, 23329, 23330, 23331, 23332, 23333, 23334, 23335, 23336, 23337, 23338, 23339, 23340, 23341, 23342, 23343, 23344, 23345, 23346, 23347, 23348, 23349, 23350, 23351, 23352, 23353, 23354, 23355, 23356, 23357, 23358, 23359, 23360, 23361, 23362, 23363, 23364, 23365, 23366, 23367, 23368, 23369, 23370, 23371, 23372, 23373, 23374, 23375, 23376, 23377, 23378, 23379, 23380, 23381, 23382, 23383, 23384, 23385, 23386, 23387, 23388, 23389, 23390, 23391, 23392, 23393, 23394, 23395, 23396, 23397, 23398, 23399, 23400, 23401, 23402, 23403, 23404, 23405, 23406, 23407, 23408, 23409, 23410, 23411, 23412, 23413, 23414, 23415, 23416, 23417, 23418, 23419, 23420, 23421, 23422, 23423, 23424, 23425, 23426, 23427, 23428, 23429, 23430, 23431, 23432, 23433, 23434, 23435, 23436, 23437, 23438, 23439, 23440, 23441, 23442, 23443, 23444, 23445, 23446, 23447, 23448, 23449, 23450, 23451, 23452, 23453, 23454, 23455, 23456, 23457, 23458, 23459, 23460, 23461, 23462, 23463, 23464, 23465, 23466, 23467, 23468, 23469, 23470, 23471, 23472, 23473, 23474, 23475, 23476, 23477, 23478, 23479, 23480, 23481, 23482, 23483, 23484, 23485, 23486, 23487, 23488, 23489, 23490, 23491, 23492, 23493, 23494, 23495, 23496, 23497, 23498, 23499, 23500, 23501, 23502, 23503, 23504, 23505, 23506, 23507, 23508, 23509, 23510, 23511, 23512, 23513, 23514, 23515, 23516, 23517, 23518, 23519, 23520, 23521, 23522, 23523, 23524, 23525, 23526, 23527, 23528, 23529, 23530, 23531, 23532, 23533, 23534, 23535, 23536, 23537, 23538, 23539, 23540, 23541, 23542, 23543, 23544, 23545, 23546, 23547, 23548, 23549, 23550, 23551, 23552, 23553, 23554, 23555, 23556, 23557, 23558, 23559, 23560, 23561, 23562, 23563, 23564, 23565, 23566, 23567, 23568, 23569, 23570, 23571, 23572, 23573, 23574, 23575, 23576, 23577, 23578, 23579, 23580, 23581, 23582, 23583, 23584, 23585, 23586, 23587, 23588, 23589, 23590, 23591, 23592, 23593, 23594, 23595, 23596, 23597, 23598, 23599, 23600, 23601, 23602, 23603, 23604, 23605, 23606, 23607, 23608, 23609, 23610, 23611, 23612, 23613, 23614, 23615, 23616, 23617, 23618, 23619, 23620, 23621, 23622, 23623, 23624, 23625, 23626, 23627, 23628, 23629, 23630, 23631, 23632, 23633, 23634, 23635, 23636, 23637, 23638, 23639, 23640, 23641, 23642, 23643, 23644, 23645, 23646, 23647, 23648, 23649, 23650, 23651, 23652, 23653, 23654, 23655, 23656, 23657, 23658, 23659, 23660, 23661, 23662, 23663, 23664, 23665, 23666, 23667, 23668, 23669, 23670, 23671, 23672, 23673, 23674, 23675, 23676, 23677]\n"
     ]
    }
   ],
   "source": [
    "print(rows_with_nan)"
   ]
  },
  {
   "cell_type": "markdown",
   "metadata": {},
   "source": [
    "### 8. Determine the missing values and their percentage in each row.¶"
   ]
  },
  {
   "cell_type": "code",
   "execution_count": 140,
   "metadata": {},
   "outputs": [
    {
     "data": {
      "text/plain": [
       "0        18\n",
       "1        19\n",
       "2        21\n",
       "3        18\n",
       "4        21\n",
       "         ..\n",
       "23673    19\n",
       "23674    13\n",
       "23675    17\n",
       "23676    20\n",
       "23677    19\n",
       "Length: 23678, dtype: int64"
      ]
     },
     "execution_count": 140,
     "metadata": {},
     "output_type": "execute_result"
    }
   ],
   "source": [
    "df.apply(lambda x: x.count(), axis=1)"
   ]
  },
  {
   "cell_type": "code",
   "execution_count": 141,
   "metadata": {},
   "outputs": [
    {
     "data": {
      "text/plain": [
       "0        3\n",
       "1        2\n",
       "2        0\n",
       "3        3\n",
       "4        0\n",
       "        ..\n",
       "23673    2\n",
       "23674    8\n",
       "23675    4\n",
       "23676    1\n",
       "23677    2\n",
       "Length: 23678, dtype: int64"
      ]
     },
     "execution_count": 141,
     "metadata": {},
     "output_type": "execute_result"
    }
   ],
   "source": [
    "\n",
    "df.isnull().sum(axis=1)"
   ]
  },
  {
   "cell_type": "code",
   "execution_count": 142,
   "metadata": {},
   "outputs": [
    {
     "data": {
      "text/plain": [
       "Suburb             131\n",
       "Address            131\n",
       "Rooms              131\n",
       "Type               131\n",
       "Price             5282\n",
       "Method             131\n",
       "SellerG            131\n",
       "Date               131\n",
       "Distance           132\n",
       "Postcode           132\n",
       "Bedroom2          4612\n",
       "Bathroom          4615\n",
       "Car               4757\n",
       "Landsize          6268\n",
       "BuildingArea     13660\n",
       "YearBuilt        12138\n",
       "CouncilArea       8022\n",
       "Lattitude         4435\n",
       "Longtitude        4435\n",
       "Regionname         132\n",
       "Propertycount      132\n",
       "dtype: int64"
      ]
     },
     "execution_count": 142,
     "metadata": {},
     "output_type": "execute_result"
    }
   ],
   "source": [
    "df.isnull().sum(axis=0)"
   ]
  },
  {
   "cell_type": "code",
   "execution_count": 143,
   "metadata": {},
   "outputs": [
    {
     "data": {
      "text/plain": [
       "23678"
      ]
     },
     "execution_count": 143,
     "metadata": {},
     "output_type": "execute_result"
    }
   ],
   "source": [
    "len(df.index)"
   ]
  },
  {
   "cell_type": "code",
   "execution_count": 144,
   "metadata": {},
   "outputs": [
    {
     "data": {
      "text/plain": [
       "0        0.000127\n",
       "1        0.000084\n",
       "2        0.000000\n",
       "3        0.000127\n",
       "4        0.000000\n",
       "           ...   \n",
       "23673    0.000084\n",
       "23674    0.000338\n",
       "23675    0.000169\n",
       "23676    0.000042\n",
       "23677    0.000084\n",
       "Length: 23678, dtype: float64"
      ]
     },
     "execution_count": 144,
     "metadata": {},
     "output_type": "execute_result"
    }
   ],
   "source": [
    "df.isnull().sum(axis=1)/len(df.index)"
   ]
  },
  {
   "cell_type": "code",
   "execution_count": 147,
   "metadata": {},
   "outputs": [
    {
     "data": {
      "text/plain": [
       "0        0.142857\n",
       "1        0.095238\n",
       "2        0.000000\n",
       "3        0.142857\n",
       "4        0.000000\n",
       "           ...   \n",
       "23673    0.095238\n",
       "23674    0.380952\n",
       "23675    0.190476\n",
       "23676    0.047619\n",
       "23677    0.095238\n",
       "Length: 23678, dtype: float64"
      ]
     },
     "execution_count": 147,
     "metadata": {},
     "output_type": "execute_result"
    }
   ],
   "source": [
    "df.isna().mean(axis=1)"
   ]
  },
  {
   "cell_type": "code",
   "execution_count": 148,
   "metadata": {},
   "outputs": [
    {
     "data": {
      "text/plain": [
       "0        14.29\n",
       "1         9.52\n",
       "2         0.00\n",
       "3        14.29\n",
       "4         0.00\n",
       "         ...  \n",
       "23673     9.52\n",
       "23674    38.10\n",
       "23675    19.05\n",
       "23676     4.76\n",
       "23677     9.52\n",
       "Length: 23678, dtype: float64"
      ]
     },
     "execution_count": 148,
     "metadata": {},
     "output_type": "execute_result"
    }
   ],
   "source": [
    "df.isna().mean(axis=1).round(4)*100"
   ]
  },
  {
   "cell_type": "markdown",
   "metadata": {},
   "source": [
    "### 9. Determine the column names having more than 30% missing values and remove them from the dataset\n"
   ]
  },
  {
   "cell_type": "code",
   "execution_count": 149,
   "metadata": {},
   "outputs": [
    {
     "data": {
      "text/plain": [
       "Suburb           0.005533\n",
       "Address          0.005533\n",
       "Rooms            0.005533\n",
       "Type             0.005533\n",
       "Price            0.223076\n",
       "Method           0.005533\n",
       "SellerG          0.005533\n",
       "Date             0.005533\n",
       "Distance         0.005575\n",
       "Postcode         0.005575\n",
       "Bedroom2         0.194780\n",
       "Bathroom         0.194907\n",
       "Car              0.200904\n",
       "Landsize         0.264718\n",
       "BuildingArea     0.576907\n",
       "YearBuilt        0.512628\n",
       "CouncilArea      0.338796\n",
       "Lattitude        0.187305\n",
       "Longtitude       0.187305\n",
       "Regionname       0.005575\n",
       "Propertycount    0.005575\n",
       "dtype: float64"
      ]
     },
     "execution_count": 149,
     "metadata": {},
     "output_type": "execute_result"
    }
   ],
   "source": [
    "df.isna().mean()"
   ]
  },
  {
   "cell_type": "code",
   "execution_count": 150,
   "metadata": {},
   "outputs": [
    {
     "data": {
      "text/plain": [
       "Suburb            0.55\n",
       "Address           0.55\n",
       "Rooms             0.55\n",
       "Type              0.55\n",
       "Price            22.31\n",
       "Method            0.55\n",
       "SellerG           0.55\n",
       "Date              0.55\n",
       "Distance          0.56\n",
       "Postcode          0.56\n",
       "Bedroom2         19.48\n",
       "Bathroom         19.49\n",
       "Car              20.09\n",
       "Landsize         26.47\n",
       "BuildingArea     57.69\n",
       "YearBuilt        51.26\n",
       "CouncilArea      33.88\n",
       "Lattitude        18.73\n",
       "Longtitude       18.73\n",
       "Regionname        0.56\n",
       "Propertycount     0.56\n",
       "dtype: float64"
      ]
     },
     "execution_count": 150,
     "metadata": {},
     "output_type": "execute_result"
    }
   ],
   "source": [
    "df.isna().mean().round(4)*100"
   ]
  },
  {
   "cell_type": "raw",
   "metadata": {},
   "source": [
    "According to above there are three columns which have missing values more than 30 %.\n",
    "These columns are ['BuildingArea'],['YearBuilt'] & ['CouncilArea']"
   ]
  },
  {
   "cell_type": "markdown",
   "metadata": {},
   "source": [
    "### Removing those columns which have missing values more than 30%"
   ]
  },
  {
   "cell_type": "code",
   "execution_count": 151,
   "metadata": {},
   "outputs": [],
   "source": [
    "df.drop(['BuildingArea','YearBuilt','CouncilArea'],axis=1,inplace=True)"
   ]
  },
  {
   "cell_type": "code",
   "execution_count": 152,
   "metadata": {},
   "outputs": [
    {
     "data": {
      "text/plain": [
       "Index(['Suburb', 'Address', 'Rooms', 'Type', 'Price', 'Method', 'SellerG',\n",
       "       'Date', 'Distance', 'Postcode', 'Bedroom2', 'Bathroom', 'Car',\n",
       "       'Landsize', 'Lattitude', 'Longtitude', 'Regionname', 'Propertycount'],\n",
       "      dtype='object')"
      ]
     },
     "execution_count": 152,
     "metadata": {},
     "output_type": "execute_result"
    }
   ],
   "source": [
    "df.columns"
   ]
  },
  {
   "cell_type": "code",
   "execution_count": 153,
   "metadata": {},
   "outputs": [
    {
     "data": {
      "text/plain": [
       "(23678, 18)"
      ]
     },
     "execution_count": 153,
     "metadata": {},
     "output_type": "execute_result"
    }
   ],
   "source": [
    "df.shape"
   ]
  },
  {
   "cell_type": "markdown",
   "metadata": {},
   "source": [
    "### 10. Determine the number and percentage of rows having more than 5 missing values. If the percentage of such rows is less than 20% then remove all these rows."
   ]
  },
  {
   "cell_type": "code",
   "execution_count": 154,
   "metadata": {},
   "outputs": [],
   "source": [
    "d = np.where(df.isnull().sum(axis=1)>5)"
   ]
  },
  {
   "cell_type": "code",
   "execution_count": 155,
   "metadata": {},
   "outputs": [
    {
     "data": {
      "text/plain": [
       "(array([   15,    16,    19, ..., 23633, 23639, 23662], dtype=int64),)"
      ]
     },
     "execution_count": 155,
     "metadata": {},
     "output_type": "execute_result"
    }
   ],
   "source": [
    "d"
   ]
  },
  {
   "cell_type": "code",
   "execution_count": 156,
   "metadata": {},
   "outputs": [
    {
     "data": {
      "text/plain": [
       "0         True\n",
       "1        False\n",
       "2        False\n",
       "3         True\n",
       "4        False\n",
       "         ...  \n",
       "23673     True\n",
       "23674     True\n",
       "23675     True\n",
       "23676    False\n",
       "23677     True\n",
       "Length: 23678, dtype: bool"
      ]
     },
     "execution_count": 156,
     "metadata": {},
     "output_type": "execute_result"
    }
   ],
   "source": [
    "df.isnull().sum(axis=1)>5/len(df)"
   ]
  },
  {
   "cell_type": "code",
   "execution_count": 157,
   "metadata": {},
   "outputs": [
    {
     "name": "stdout",
     "output_type": "stream",
     "text": [
      "Suburb            0.00\n",
      "Address           0.00\n",
      "Rooms             0.00\n",
      "Type              0.00\n",
      "Price            21.71\n",
      "Method            0.00\n",
      "SellerG           0.00\n",
      "Date              0.00\n",
      "Distance          0.00\n",
      "Postcode          0.00\n",
      "Bedroom2          1.05\n",
      "Bathroom          1.07\n",
      "Car               1.81\n",
      "Landsize          9.65\n",
      "Lattitude         0.13\n",
      "Longtitude        0.13\n",
      "Regionname        0.00\n",
      "Propertycount     0.00\n",
      "dtype: float64\n"
     ]
    }
   ],
   "source": [
    "df.drop(df[df.isnull().sum(axis=1)>5].index,axis=0,inplace=True)\n",
    "\n",
    "print(round(100*(1-df.count()/len(df)),2))"
   ]
  },
  {
   "cell_type": "markdown",
   "metadata": {},
   "source": [
    "### 11. Display the description of data and percentage of missing values still left column wise"
   ]
  },
  {
   "cell_type": "code",
   "execution_count": 158,
   "metadata": {},
   "outputs": [],
   "source": [
    "df_missing=df.isna()"
   ]
  },
  {
   "cell_type": "code",
   "execution_count": 159,
   "metadata": {},
   "outputs": [],
   "source": [
    "df_num_missing=df_missing.sum()"
   ]
  },
  {
   "cell_type": "code",
   "execution_count": 160,
   "metadata": {},
   "outputs": [
    {
     "data": {
      "text/plain": [
       "Suburb              0\n",
       "Address             0\n",
       "Rooms               0\n",
       "Type                0\n",
       "Price            4183\n",
       "Method              0\n",
       "SellerG             0\n",
       "Date                0\n",
       "Distance            0\n",
       "Postcode            0\n",
       "Bedroom2          203\n",
       "Bathroom          206\n",
       "Car               348\n",
       "Landsize         1859\n",
       "Lattitude          26\n",
       "Longtitude         26\n",
       "Regionname          0\n",
       "Propertycount       0\n",
       "dtype: int64"
      ]
     },
     "execution_count": 160,
     "metadata": {},
     "output_type": "execute_result"
    }
   ],
   "source": [
    "df_num_missing"
   ]
  },
  {
   "cell_type": "code",
   "execution_count": 161,
   "metadata": {},
   "outputs": [
    {
     "data": {
      "text/plain": [
       "19269"
      ]
     },
     "execution_count": 161,
     "metadata": {},
     "output_type": "execute_result"
    }
   ],
   "source": [
    "len(df)"
   ]
  },
  {
   "cell_type": "code",
   "execution_count": 162,
   "metadata": {},
   "outputs": [
    {
     "data": {
      "text/plain": [
       "Suburb            0.000000\n",
       "Address           0.000000\n",
       "Rooms             0.000000\n",
       "Type              0.000000\n",
       "Price            21.708444\n",
       "Method            0.000000\n",
       "SellerG           0.000000\n",
       "Date              0.000000\n",
       "Distance          0.000000\n",
       "Postcode          0.000000\n",
       "Bedroom2          1.053506\n",
       "Bathroom          1.069075\n",
       "Car               1.806010\n",
       "Landsize          9.647621\n",
       "Lattitude         0.134932\n",
       "Longtitude        0.134932\n",
       "Regionname        0.000000\n",
       "Propertycount     0.000000\n",
       "dtype: float64"
      ]
     },
     "execution_count": 162,
     "metadata": {},
     "output_type": "execute_result"
    }
   ],
   "source": [
    "# percentage of missing value\n",
    "df_num_missing/len(df)*100"
   ]
  },
  {
   "cell_type": "markdown",
   "metadata": {},
   "source": [
    "### 12. Considering the 'Price' column as target variable which is to be predicted, how will you treat the missing values?\n",
    "### Give a brief explanation and treat the missing values in 'Price' column"
   ]
  },
  {
   "cell_type": "code",
   "execution_count": 163,
   "metadata": {},
   "outputs": [
    {
     "data": {
      "text/plain": [
       "4183"
      ]
     },
     "execution_count": 163,
     "metadata": {},
     "output_type": "execute_result"
    }
   ],
   "source": [
    "df['Price'].isnull().sum()"
   ]
  },
  {
   "cell_type": "code",
   "execution_count": 164,
   "metadata": {},
   "outputs": [],
   "source": [
    "import matplotlib.pyplot as plt\n",
    "import seaborn as sns\n",
    "import warnings\n",
    "warnings.filterwarnings(\"ignore\")"
   ]
  },
  {
   "cell_type": "code",
   "execution_count": 165,
   "metadata": {},
   "outputs": [
    {
     "data": {
      "text/plain": [
       "(array([8.538e+03, 5.126e+03, 1.055e+03, 2.630e+02, 6.800e+01, 1.900e+01,\n",
       "        1.100e+01, 3.000e+00, 2.000e+00, 1.000e+00]),\n",
       " array([  85000.,  976500., 1868000., 2759500., 3651000., 4542500.,\n",
       "        5434000., 6325500., 7217000., 8108500., 9000000.]),\n",
       " <a list of 10 Patch objects>)"
      ]
     },
     "execution_count": 165,
     "metadata": {},
     "output_type": "execute_result"
    },
    {
     "data": {
      "image/png": "[encoded data removed]",
      "text/plain": [
       "<Figure size 432x288 with 1 Axes>"
      ]
     },
     "metadata": {
      "needs_background": "light"
     },
     "output_type": "display_data"
    }
   ],
   "source": [
    "plt.hist(df['Price'],bins=10)"
   ]
  },
  {
   "cell_type": "code",
   "execution_count": 166,
   "metadata": {},
   "outputs": [
    {
     "data": {
      "text/plain": [
       "<matplotlib.axes._subplots.AxesSubplot at 0x1d0092e8e48>"
      ]
     },
     "execution_count": 166,
     "metadata": {},
     "output_type": "execute_result"
    },
    {
     "data": {
      "image/png": "[encoded data removed]",
      "text/plain": [
       "<Figure size 432x288 with 1 Axes>"
      ]
     },
     "metadata": {
      "needs_background": "light"
     },
     "output_type": "display_data"
    }
   ],
   "source": [
    "sns.countplot(df['Price'])"
   ]
  },
  {
   "cell_type": "code",
   "execution_count": 167,
   "metadata": {},
   "outputs": [
    {
     "data": {
      "image/png": "[encoded data removed]",
      "text/plain": [
       "<Figure size 432x288 with 1 Axes>"
      ]
     },
     "metadata": {
      "needs_background": "light"
     },
     "output_type": "display_data"
    }
   ],
   "source": [
    "sns.violinplot(x=\"Price\",data=df)\n",
    "plt.show()"
   ]
  },
  {
   "cell_type": "code",
   "execution_count": 168,
   "metadata": {},
   "outputs": [
    {
     "data": {
      "text/plain": [
       "<matplotlib.axes._subplots.AxesSubplot at 0x1d0167b96c8>"
      ]
     },
     "execution_count": 168,
     "metadata": {},
     "output_type": "execute_result"
    },
    {
     "data": {
      "image/png": "[encoded data removed]",
      "text/plain": [
       "<Figure size 432x288 with 1 Axes>"
      ]
     },
     "metadata": {
      "needs_background": "light"
     },
     "output_type": "display_data"
    }
   ],
   "source": [
    "sns.distplot(df['Price'],bins=20)"
   ]
  },
  {
   "cell_type": "code",
   "execution_count": 169,
   "metadata": {},
   "outputs": [
    {
     "data": {
      "text/plain": [
       "900000.0"
      ]
     },
     "execution_count": 169,
     "metadata": {},
     "output_type": "execute_result"
    }
   ],
   "source": [
    "df['Price'].median()"
   ]
  },
  {
   "cell_type": "code",
   "execution_count": 170,
   "metadata": {},
   "outputs": [],
   "source": [
    "# filling missing values with median\n",
    "df['Price'].fillna(df['Price'].median(),inplace=True)"
   ]
  },
  {
   "cell_type": "code",
   "execution_count": 171,
   "metadata": {},
   "outputs": [
    {
     "data": {
      "text/plain": [
       "0"
      ]
     },
     "execution_count": 171,
     "metadata": {},
     "output_type": "execute_result"
    }
   ],
   "source": [
    "df['Price'].isnull().sum()"
   ]
  },
  {
   "cell_type": "markdown",
   "metadata": {},
   "source": [
    "#### 13. Now check the percentage of missing values in each column again, if missing values exist, treat it with the most suitable method."
   ]
  },
  {
   "cell_type": "code",
   "execution_count": 172,
   "metadata": {},
   "outputs": [
    {
     "data": {
      "text/plain": [
       "Suburb              0\n",
       "Address             0\n",
       "Rooms               0\n",
       "Type                0\n",
       "Price               0\n",
       "Method              0\n",
       "SellerG             0\n",
       "Date                0\n",
       "Distance            0\n",
       "Postcode            0\n",
       "Bedroom2          203\n",
       "Bathroom          206\n",
       "Car               348\n",
       "Landsize         1859\n",
       "Lattitude          26\n",
       "Longtitude         26\n",
       "Regionname          0\n",
       "Propertycount       0\n",
       "dtype: int64"
      ]
     },
     "execution_count": 172,
     "metadata": {},
     "output_type": "execute_result"
    }
   ],
   "source": [
    "df.isnull().sum()"
   ]
  },
  {
   "cell_type": "code",
   "execution_count": 173,
   "metadata": {},
   "outputs": [
    {
     "data": {
      "text/plain": [
       "203"
      ]
     },
     "execution_count": 173,
     "metadata": {},
     "output_type": "execute_result"
    }
   ],
   "source": [
    "df['Bedroom2'].isnull().sum()"
   ]
  },
  {
   "cell_type": "code",
   "execution_count": 174,
   "metadata": {},
   "outputs": [
    {
     "data": {
      "text/plain": [
       "<matplotlib.axes._subplots.AxesSubplot at 0x1d018f23388>"
      ]
     },
     "execution_count": 174,
     "metadata": {},
     "output_type": "execute_result"
    },
    {
     "data": {
      "image/png": "[encoded data removed]",
      "text/plain": [
       "<Figure size 432x288 with 1 Axes>"
      ]
     },
     "metadata": {
      "needs_background": "light"
     },
     "output_type": "display_data"
    }
   ],
   "source": [
    "sns.distplot(df['Bedroom2'],bins=20)"
   ]
  },
  {
   "cell_type": "code",
   "execution_count": 175,
   "metadata": {},
   "outputs": [
    {
     "data": {
      "text/plain": [
       "(array([6.0180e+03, 1.2911e+04, 1.2900e+02, 6.0000e+00, 0.0000e+00,\n",
       "        0.0000e+00, 1.0000e+00, 0.0000e+00, 0.0000e+00, 1.0000e+00]),\n",
       " array([ 0.,  3.,  6.,  9., 12., 15., 18., 21., 24., 27., 30.]),\n",
       " <a list of 10 Patch objects>)"
      ]
     },
     "execution_count": 175,
     "metadata": {},
     "output_type": "execute_result"
    },
    {
     "data": {
      "image/png": "[encoded data removed]",
      "text/plain": [
       "<Figure size 432x288 with 1 Axes>"
      ]
     },
     "metadata": {
      "needs_background": "light"
     },
     "output_type": "display_data"
    }
   ],
   "source": [
    "plt.hist(df['Bedroom2'],bins=10)"
   ]
  },
  {
   "cell_type": "code",
   "execution_count": 176,
   "metadata": {},
   "outputs": [
    {
     "data": {
      "text/plain": [
       "3.0"
      ]
     },
     "execution_count": 176,
     "metadata": {},
     "output_type": "execute_result"
    }
   ],
   "source": [
    "df['Bedroom2'].median()"
   ]
  },
  {
   "cell_type": "code",
   "execution_count": 177,
   "metadata": {},
   "outputs": [
    {
     "data": {
      "text/plain": [
       "0    3.0\n",
       "dtype: float64"
      ]
     },
     "execution_count": 177,
     "metadata": {},
     "output_type": "execute_result"
    }
   ],
   "source": [
    "df['Bedroom2'].mode()"
   ]
  },
  {
   "cell_type": "code",
   "execution_count": 178,
   "metadata": {},
   "outputs": [
    {
     "data": {
      "text/plain": [
       "array([ 2.,  3.,  4.,  6.,  1., nan,  5.,  7.,  0.,  8.,  9., 30., 20.,\n",
       "       10.])"
      ]
     },
     "execution_count": 178,
     "metadata": {},
     "output_type": "execute_result"
    }
   ],
   "source": [
    "df.Bedroom2.unique()"
   ]
  },
  {
   "cell_type": "code",
   "execution_count": 179,
   "metadata": {},
   "outputs": [
    {
     "data": {
      "text/plain": [
       "1.0     10080\n",
       "2.0      7273\n",
       "3.0      1422\n",
       "4.0       180\n",
       "5.0        51\n",
       "0.0        46\n",
       "6.0         5\n",
       "7.0         3\n",
       "8.0         2\n",
       "12.0        1\n",
       "Name: Bathroom, dtype: int64"
      ]
     },
     "execution_count": 179,
     "metadata": {},
     "output_type": "execute_result"
    }
   ],
   "source": [
    "df['Bathroom'].value_counts()"
   ]
  },
  {
   "cell_type": "code",
   "execution_count": 180,
   "metadata": {},
   "outputs": [
    {
     "data": {
      "text/plain": [
       "0    1.0\n",
       "dtype: float64"
      ]
     },
     "execution_count": 180,
     "metadata": {},
     "output_type": "execute_result"
    }
   ],
   "source": [
    "df['Bathroom'].mode()"
   ]
  },
  {
   "cell_type": "code",
   "execution_count": 181,
   "metadata": {},
   "outputs": [
    {
     "data": {
      "image/png": "[encoded data removed]",
      "text/plain": [
       "<Figure size 432x288 with 1 Axes>"
      ]
     },
     "metadata": {
      "needs_background": "light"
     },
     "output_type": "display_data"
    }
   ],
   "source": [
    "sns.boxplot(df['Car'].dropna())\n",
    "plt.show()"
   ]
  },
  {
   "cell_type": "code",
   "execution_count": 182,
   "metadata": {},
   "outputs": [
    {
     "data": {
      "text/plain": [
       "2.0     8088\n",
       "1.0     7513\n",
       "0.0     1385\n",
       "3.0     1045\n",
       "4.0      693\n",
       "5.0       87\n",
       "6.0       79\n",
       "8.0       14\n",
       "7.0       11\n",
       "10.0       3\n",
       "11.0       1\n",
       "9.0        1\n",
       "26.0       1\n",
       "Name: Car, dtype: int64"
      ]
     },
     "execution_count": 182,
     "metadata": {},
     "output_type": "execute_result"
    }
   ],
   "source": [
    "df.Car.value_counts()"
   ]
  },
  {
   "cell_type": "code",
   "execution_count": 183,
   "metadata": {},
   "outputs": [
    {
     "data": {
      "text/plain": [
       "0    2.0\n",
       "dtype: float64"
      ]
     },
     "execution_count": 183,
     "metadata": {},
     "output_type": "execute_result"
    }
   ],
   "source": [
    "df['Car'].mode()"
   ]
  },
  {
   "cell_type": "code",
   "execution_count": 184,
   "metadata": {},
   "outputs": [
    {
     "data": {
      "text/plain": [
       "<matplotlib.axes._subplots.AxesSubplot at 0x1d018e61b48>"
      ]
     },
     "execution_count": 184,
     "metadata": {},
     "output_type": "execute_result"
    },
    {
     "data": {
      "image/png": "[encoded data removed]",
      "text/plain": [
       "<Figure size 432x288 with 1 Axes>"
      ]
     },
     "metadata": {
      "needs_background": "light"
     },
     "output_type": "display_data"
    }
   ],
   "source": [
    "sns.distplot(df['Landsize'],bins=20)"
   ]
  },
  {
   "cell_type": "code",
   "execution_count": 185,
   "metadata": {},
   "outputs": [
    {
     "data": {
      "text/plain": [
       "0.0       2437\n",
       "650.0      125\n",
       "697.0       89\n",
       "585.0       67\n",
       "700.0       58\n",
       "          ... \n",
       "2253.0       1\n",
       "2226.0       1\n",
       "4221.0       1\n",
       "1912.0       1\n",
       "1850.0       1\n",
       "Name: Landsize, Length: 1567, dtype: int64"
      ]
     },
     "execution_count": 185,
     "metadata": {},
     "output_type": "execute_result"
    }
   ],
   "source": [
    "df['Landsize'].value_counts()"
   ]
  },
  {
   "cell_type": "code",
   "execution_count": 186,
   "metadata": {},
   "outputs": [
    {
     "data": {
      "image/png": "[encoded data removed]",
      "text/plain": [
       "<Figure size 432x288 with 1 Axes>"
      ]
     },
     "metadata": {
      "needs_background": "light"
     },
     "output_type": "display_data"
    }
   ],
   "source": [
    "sns.violinplot(x=\"Landsize\",data=df)\n",
    "plt.show()"
   ]
  },
  {
   "cell_type": "code",
   "execution_count": 187,
   "metadata": {},
   "outputs": [
    {
     "data": {
      "image/png": "[encoded data removed]",
      "text/plain": [
       "<Figure size 432x288 with 1 Axes>"
      ]
     },
     "metadata": {
      "needs_background": "light"
     },
     "output_type": "display_data"
    }
   ],
   "source": [
    "sns.boxplot(df['Landsize'].dropna())\n",
    "plt.show()"
   ]
  },
  {
   "cell_type": "code",
   "execution_count": 188,
   "metadata": {},
   "outputs": [
    {
     "data": {
      "text/plain": [
       "448.0"
      ]
     },
     "execution_count": 188,
     "metadata": {},
     "output_type": "execute_result"
    }
   ],
   "source": [
    "df['Landsize'].median()"
   ]
  },
  {
   "cell_type": "code",
   "execution_count": 189,
   "metadata": {},
   "outputs": [
    {
     "data": {
      "text/plain": [
       "0    0.0\n",
       "dtype: float64"
      ]
     },
     "execution_count": 189,
     "metadata": {},
     "output_type": "execute_result"
    }
   ],
   "source": [
    "df['Landsize'].mode()"
   ]
  },
  {
   "cell_type": "code",
   "execution_count": 190,
   "metadata": {},
   "outputs": [
    {
     "data": {
      "text/plain": [
       "-37.83610    25\n",
       "-37.84240    22\n",
       "-37.81980    20\n",
       "-37.79560    17\n",
       "-37.79690    17\n",
       "             ..\n",
       "-37.71402     1\n",
       "-37.82483     1\n",
       "-37.90512     1\n",
       "-37.79369     1\n",
       "-37.84346     1\n",
       "Name: Lattitude, Length: 8837, dtype: int64"
      ]
     },
     "execution_count": 190,
     "metadata": {},
     "output_type": "execute_result"
    }
   ],
   "source": [
    "df['Lattitude'].value_counts()"
   ]
  },
  {
   "cell_type": "code",
   "execution_count": 191,
   "metadata": {},
   "outputs": [
    {
     "data": {
      "text/plain": [
       "-37.8097"
      ]
     },
     "execution_count": 191,
     "metadata": {},
     "output_type": "execute_result"
    }
   ],
   "source": [
    "df['Lattitude'].median()"
   ]
  },
  {
   "cell_type": "code",
   "execution_count": 192,
   "metadata": {},
   "outputs": [
    {
     "data": {
      "text/plain": [
       "0   -37.8361\n",
       "dtype: float64"
      ]
     },
     "execution_count": 192,
     "metadata": {},
     "output_type": "execute_result"
    }
   ],
   "source": [
    "df['Lattitude'].mode()"
   ]
  },
  {
   "cell_type": "code",
   "execution_count": 193,
   "metadata": {},
   "outputs": [
    {
     "data": {
      "image/png": "[encoded data removed]",
      "text/plain": [
       "<Figure size 432x288 with 1 Axes>"
      ]
     },
     "metadata": {
      "needs_background": "light"
     },
     "output_type": "display_data"
    }
   ],
   "source": [
    "sns.violinplot(x=\"Lattitude\",data=df)\n",
    "plt.show()"
   ]
  },
  {
   "cell_type": "code",
   "execution_count": 194,
   "metadata": {},
   "outputs": [
    {
     "data": {
      "text/plain": [
       "<matplotlib.axes._subplots.AxesSubplot at 0x1d018eb96c8>"
      ]
     },
     "execution_count": 194,
     "metadata": {},
     "output_type": "execute_result"
    },
    {
     "data": {
      "image/png": "[encoded data removed]",
      "text/plain": [
       "<Figure size 432x288 with 1 Axes>"
      ]
     },
     "metadata": {
      "needs_background": "light"
     },
     "output_type": "display_data"
    }
   ],
   "source": [
    "df['Lattitude'].plot.box()"
   ]
  },
  {
   "cell_type": "code",
   "execution_count": 195,
   "metadata": {},
   "outputs": [
    {
     "data": {
      "image/png": "[encoded data removed]",
      "text/plain": [
       "<Figure size 432x288 with 1 Axes>"
      ]
     },
     "metadata": {
      "needs_background": "light"
     },
     "output_type": "display_data"
    }
   ],
   "source": [
    "sns.boxplot(df['Lattitude'].dropna())\n",
    "plt.show()"
   ]
  },
  {
   "cell_type": "code",
   "execution_count": 196,
   "metadata": {},
   "outputs": [
    {
     "data": {
      "image/png": "[encoded data removed]",
      "text/plain": [
       "<Figure size 432x288 with 1 Axes>"
      ]
     },
     "metadata": {
      "needs_background": "light"
     },
     "output_type": "display_data"
    }
   ],
   "source": [
    "sns.boxplot(df['Longtitude'].dropna())\n",
    "plt.show()"
   ]
  },
  {
   "cell_type": "code",
   "execution_count": 197,
   "metadata": {},
   "outputs": [
    {
     "data": {
      "text/plain": [
       "-37.81243431533546"
      ]
     },
     "execution_count": 197,
     "metadata": {},
     "output_type": "execute_result"
    }
   ],
   "source": [
    "df['Lattitude'].mean()"
   ]
  },
  {
   "cell_type": "code",
   "execution_count": 198,
   "metadata": {},
   "outputs": [
    {
     "data": {
      "text/plain": [
       "145.00028666891896"
      ]
     },
     "execution_count": 198,
     "metadata": {},
     "output_type": "execute_result"
    }
   ],
   "source": [
    "df['Longtitude'].mean()"
   ]
  },
  {
   "cell_type": "code",
   "execution_count": 199,
   "metadata": {},
   "outputs": [],
   "source": [
    "# Lets fill missing values\n",
    "df['Bedroom2'].fillna(df['Bedroom2'].mode(),inplace=True)\n",
    "df['Bathroom'].fillna(df['Bathroom'].mode(),inplace=True)\n",
    "df['Car'].fillna(df['Car'].mode(),inplace=True)\n",
    "df['Landsize'].fillna(df['Landsize'].median(),inplace=True)\n",
    "df['Lattitude'].fillna(df['Lattitude'].mean(),inplace=True)\n",
    "df['Longtitude'].fillna(df['Longtitude'].mean(),inplace=True)"
   ]
  },
  {
   "cell_type": "code",
   "execution_count": 200,
   "metadata": {},
   "outputs": [
    {
     "data": {
      "text/plain": [
       "Suburb             0\n",
       "Address            0\n",
       "Rooms              0\n",
       "Type               0\n",
       "Price              0\n",
       "Method             0\n",
       "SellerG            0\n",
       "Date               0\n",
       "Distance           0\n",
       "Postcode           0\n",
       "Bedroom2         203\n",
       "Bathroom         206\n",
       "Car              348\n",
       "Landsize           0\n",
       "Lattitude          0\n",
       "Longtitude         0\n",
       "Regionname         0\n",
       "Propertycount      0\n",
       "dtype: int64"
      ]
     },
     "execution_count": 200,
     "metadata": {},
     "output_type": "execute_result"
    }
   ],
   "source": [
    "df.isnull().sum()"
   ]
  },
  {
   "cell_type": "code",
   "execution_count": 201,
   "metadata": {},
   "outputs": [],
   "source": [
    "df['Bedroom2'].fillna(df['Bedroom2'].mode()[0],inplace=True)\n",
    "df['Bathroom'].fillna(df['Bathroom'].mode()[0],inplace=True)\n",
    "df['Car'].fillna(df['Car'].mode()[0],inplace=True)"
   ]
  },
  {
   "cell_type": "code",
   "execution_count": 202,
   "metadata": {},
   "outputs": [
    {
     "data": {
      "text/plain": [
       "Suburb           0\n",
       "Address          0\n",
       "Rooms            0\n",
       "Type             0\n",
       "Price            0\n",
       "Method           0\n",
       "SellerG          0\n",
       "Date             0\n",
       "Distance         0\n",
       "Postcode         0\n",
       "Bedroom2         0\n",
       "Bathroom         0\n",
       "Car              0\n",
       "Landsize         0\n",
       "Lattitude        0\n",
       "Longtitude       0\n",
       "Regionname       0\n",
       "Propertycount    0\n",
       "dtype: int64"
      ]
     },
     "execution_count": 202,
     "metadata": {},
     "output_type": "execute_result"
    }
   ],
   "source": [
    "df.isnull().sum()"
   ]
  },
  {
   "cell_type": "markdown",
   "metadata": {},
   "source": [
    "### 14. Now since you have completed your data cleaning, determine the number and percentage of columns removed."
   ]
  },
  {
   "cell_type": "code",
   "execution_count": 203,
   "metadata": {},
   "outputs": [
    {
     "data": {
      "text/plain": [
       "pandas.core.frame.DataFrame"
      ]
     },
     "execution_count": 203,
     "metadata": {},
     "output_type": "execute_result"
    }
   ],
   "source": [
    "type(df)"
   ]
  },
  {
   "cell_type": "code",
   "execution_count": 204,
   "metadata": {},
   "outputs": [
    {
     "data": {
      "text/html": [
       "<div>\n",
       "<style scoped>\n",
       "    .dataframe tbody tr th:only-of-type {\n",
       "        vertical-align: middle;\n",
       "    }\n",
       "\n",
       "    .dataframe tbody tr th {\n",
       "        vertical-align: top;\n",
       "    }\n",
       "\n",
       "    .dataframe thead th {\n",
       "        text-align: right;\n",
       "    }\n",
       "</style>\n",
       "<table border=\"1\" class=\"dataframe\">\n",
       "  <thead>\n",
       "    <tr style=\"text-align: right;\">\n",
       "      <th></th>\n",
       "      <th>Suburb</th>\n",
       "      <th>Address</th>\n",
       "      <th>Rooms</th>\n",
       "      <th>Type</th>\n",
       "      <th>Price</th>\n",
       "      <th>Method</th>\n",
       "      <th>SellerG</th>\n",
       "      <th>Date</th>\n",
       "      <th>Distance</th>\n",
       "      <th>Postcode</th>\n",
       "      <th>Bedroom2</th>\n",
       "      <th>Bathroom</th>\n",
       "      <th>Car</th>\n",
       "      <th>Landsize</th>\n",
       "      <th>Lattitude</th>\n",
       "      <th>Longtitude</th>\n",
       "      <th>Regionname</th>\n",
       "      <th>Propertycount</th>\n",
       "    </tr>\n",
       "  </thead>\n",
       "  <tbody>\n",
       "    <tr>\n",
       "      <th>0</th>\n",
       "      <td>Abbotsford</td>\n",
       "      <td>68 Studley St</td>\n",
       "      <td>2.0</td>\n",
       "      <td>h</td>\n",
       "      <td>900000.0</td>\n",
       "      <td>SS</td>\n",
       "      <td>Jellis</td>\n",
       "      <td>3/9/2016</td>\n",
       "      <td>2.5</td>\n",
       "      <td>3067.0</td>\n",
       "      <td>2.0</td>\n",
       "      <td>1.0</td>\n",
       "      <td>1.0</td>\n",
       "      <td>126.0</td>\n",
       "      <td>-37.8014</td>\n",
       "      <td>144.9958</td>\n",
       "      <td>Northern Metropolitan</td>\n",
       "      <td>4019.0</td>\n",
       "    </tr>\n",
       "    <tr>\n",
       "      <th>1</th>\n",
       "      <td>Abbotsford</td>\n",
       "      <td>85 Turner St</td>\n",
       "      <td>2.0</td>\n",
       "      <td>h</td>\n",
       "      <td>1480000.0</td>\n",
       "      <td>S</td>\n",
       "      <td>Biggin</td>\n",
       "      <td>3/12/2016</td>\n",
       "      <td>2.5</td>\n",
       "      <td>3067.0</td>\n",
       "      <td>2.0</td>\n",
       "      <td>1.0</td>\n",
       "      <td>1.0</td>\n",
       "      <td>202.0</td>\n",
       "      <td>-37.7996</td>\n",
       "      <td>144.9984</td>\n",
       "      <td>Northern Metropolitan</td>\n",
       "      <td>4019.0</td>\n",
       "    </tr>\n",
       "    <tr>\n",
       "      <th>2</th>\n",
       "      <td>Abbotsford</td>\n",
       "      <td>25 Bloomburg St</td>\n",
       "      <td>2.0</td>\n",
       "      <td>h</td>\n",
       "      <td>1035000.0</td>\n",
       "      <td>S</td>\n",
       "      <td>Biggin</td>\n",
       "      <td>4/2/2016</td>\n",
       "      <td>2.5</td>\n",
       "      <td>3067.0</td>\n",
       "      <td>2.0</td>\n",
       "      <td>1.0</td>\n",
       "      <td>0.0</td>\n",
       "      <td>156.0</td>\n",
       "      <td>-37.8079</td>\n",
       "      <td>144.9934</td>\n",
       "      <td>Northern Metropolitan</td>\n",
       "      <td>4019.0</td>\n",
       "    </tr>\n",
       "    <tr>\n",
       "      <th>3</th>\n",
       "      <td>Abbotsford</td>\n",
       "      <td>18/659 Victoria St</td>\n",
       "      <td>3.0</td>\n",
       "      <td>u</td>\n",
       "      <td>900000.0</td>\n",
       "      <td>VB</td>\n",
       "      <td>Rounds</td>\n",
       "      <td>4/2/2016</td>\n",
       "      <td>2.5</td>\n",
       "      <td>3067.0</td>\n",
       "      <td>3.0</td>\n",
       "      <td>2.0</td>\n",
       "      <td>1.0</td>\n",
       "      <td>0.0</td>\n",
       "      <td>-37.8114</td>\n",
       "      <td>145.0116</td>\n",
       "      <td>Northern Metropolitan</td>\n",
       "      <td>4019.0</td>\n",
       "    </tr>\n",
       "    <tr>\n",
       "      <th>4</th>\n",
       "      <td>Abbotsford</td>\n",
       "      <td>5 Charles St</td>\n",
       "      <td>3.0</td>\n",
       "      <td>h</td>\n",
       "      <td>1465000.0</td>\n",
       "      <td>SP</td>\n",
       "      <td>Biggin</td>\n",
       "      <td>4/3/2017</td>\n",
       "      <td>2.5</td>\n",
       "      <td>3067.0</td>\n",
       "      <td>3.0</td>\n",
       "      <td>2.0</td>\n",
       "      <td>0.0</td>\n",
       "      <td>134.0</td>\n",
       "      <td>-37.8093</td>\n",
       "      <td>144.9944</td>\n",
       "      <td>Northern Metropolitan</td>\n",
       "      <td>4019.0</td>\n",
       "    </tr>\n",
       "  </tbody>\n",
       "</table>\n",
       "</div>"
      ],
      "text/plain": [
       "       Suburb             Address  Rooms Type      Price Method SellerG  \\\n",
       "0  Abbotsford       68 Studley St    2.0    h   900000.0     SS  Jellis   \n",
       "1  Abbotsford        85 Turner St    2.0    h  1480000.0      S  Biggin   \n",
       "2  Abbotsford     25 Bloomburg St    2.0    h  1035000.0      S  Biggin   \n",
       "3  Abbotsford  18/659 Victoria St    3.0    u   900000.0     VB  Rounds   \n",
       "4  Abbotsford        5 Charles St    3.0    h  1465000.0     SP  Biggin   \n",
       "\n",
       "        Date  Distance  Postcode  Bedroom2  Bathroom  Car  Landsize  \\\n",
       "0   3/9/2016       2.5    3067.0       2.0       1.0  1.0     126.0   \n",
       "1  3/12/2016       2.5    3067.0       2.0       1.0  1.0     202.0   \n",
       "2   4/2/2016       2.5    3067.0       2.0       1.0  0.0     156.0   \n",
       "3   4/2/2016       2.5    3067.0       3.0       2.0  1.0       0.0   \n",
       "4   4/3/2017       2.5    3067.0       3.0       2.0  0.0     134.0   \n",
       "\n",
       "   Lattitude  Longtitude             Regionname  Propertycount  \n",
       "0   -37.8014    144.9958  Northern Metropolitan         4019.0  \n",
       "1   -37.7996    144.9984  Northern Metropolitan         4019.0  \n",
       "2   -37.8079    144.9934  Northern Metropolitan         4019.0  \n",
       "3   -37.8114    145.0116  Northern Metropolitan         4019.0  \n",
       "4   -37.8093    144.9944  Northern Metropolitan         4019.0  "
      ]
     },
     "execution_count": 204,
     "metadata": {},
     "output_type": "execute_result"
    }
   ],
   "source": [
    "df.head()"
   ]
  },
  {
   "cell_type": "code",
   "execution_count": 205,
   "metadata": {},
   "outputs": [
    {
     "data": {
      "text/plain": [
       "(19269, 18)"
      ]
     },
     "execution_count": 205,
     "metadata": {},
     "output_type": "execute_result"
    }
   ],
   "source": [
    "df.shape"
   ]
  },
  {
   "cell_type": "raw",
   "metadata": {},
   "source": [
    "# three columns are removed"
   ]
  },
  {
   "cell_type": "code",
   "execution_count": 206,
   "metadata": {},
   "outputs": [
    {
     "data": {
      "text/plain": [
       "Index(['Suburb', 'Address', 'Rooms', 'Type', 'Price', 'Method', 'SellerG',\n",
       "       'Date', 'Distance', 'Postcode', 'Bedroom2', 'Bathroom', 'Car',\n",
       "       'Landsize', 'Lattitude', 'Longtitude', 'Regionname', 'Propertycount'],\n",
       "      dtype='object')"
      ]
     },
     "execution_count": 206,
     "metadata": {},
     "output_type": "execute_result"
    }
   ],
   "source": [
    "df.columns"
   ]
  },
  {
   "cell_type": "markdown",
   "metadata": {},
   "source": [
    "### 15. Determine the number and percentage of rows removed in whole process. Also comment briefly that according to you the amount of data lost is justified or not."
   ]
  },
  {
   "cell_type": "raw",
   "metadata": {},
   "source": [
    "# 4409 rows are removed\n"
   ]
  },
  {
   "cell_type": "raw",
   "metadata": {},
   "source": [
    "18% of total row has been deleted.\n",
    "since lost data are not more than 20% so according to me the amount of data lost is justified."
   ]
  },
  {
   "cell_type": "code",
   "execution_count": null,
   "metadata": {},
   "outputs": [],
   "source": []
  }
 ],
 "metadata": {
  "kernelspec": {
   "display_name": "Python 3",
   "language": "python",
   "name": "python3"
  },
  "language_info": {
   "codemirror_mode": {
    "name": "ipython",
    "version": 3
   },
   "file_extension": ".py",
   "mimetype": "text/x-python",
   "name": "python",
   "nbconvert_exporter": "python",
   "pygments_lexer": "ipython3",
   "version": "3.7.6"
  }
 },
 "nbformat": 4,
 "nbformat_minor": 4
}
