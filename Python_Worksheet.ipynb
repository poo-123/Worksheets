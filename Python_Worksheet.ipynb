{
 "cells": [
  {
   "cell_type": "code",
   "execution_count": 1,
   "metadata": {},
   "outputs": [
    {
     "data": {
      "text/plain": [
       "'I+Love+India'"
      ]
     },
     "execution_count": 1,
     "metadata": {},
     "output_type": "execute_result"
    }
   ],
   "source": [
    "\"I+Love+India\""
   ]
  },
  {
   "cell_type": "code",
   "execution_count": 7,
   "metadata": {},
   "outputs": [
    {
     "data": {
      "text/plain": [
       "'I Love  india'"
      ]
     },
     "execution_count": 7,
     "metadata": {},
     "output_type": "execute_result"
    }
   ],
   "source": [
    "\"I\"+\" Love \"+\" india\""
   ]
  },
  {
   "cell_type": "code",
   "execution_count": 4,
   "metadata": {},
   "outputs": [
    {
     "data": {
      "text/plain": [
       "'I Love India'"
      ]
     },
     "execution_count": 4,
     "metadata": {},
     "output_type": "execute_result"
    }
   ],
   "source": [
    "\"I\"+\" Love \"+\"India\""
   ]
  },
  {
   "cell_type": "code",
   "execution_count": 6,
   "metadata": {},
   "outputs": [],
   "source": [
    "#Q14. Write a python program to solve a quadratic equation of the form 𝑎𝑥2 + 𝑏𝑥 + 𝑐 = 0. Where a, b and c are tobe taken by user input. Handle the erroneous input, such as ‘a’ should not be equal to 0."
   ]
  },
  {
   "cell_type": "markdown",
   "metadata": {},
   "source": [
    "# The standard form of quadratic eqation is\n",
    "ax2 + bx + c = 0, where\n",
    "a, b and c are real numbers and\n",
    "a ≠ 0"
   ]
  },
  {
   "cell_type": "code",
   "execution_count": 8,
   "metadata": {},
   "outputs": [
    {
     "name": "stdout",
     "output_type": "stream",
     "text": [
      "The solution are (-3+0j) and (-2+0j)\n"
     ]
    }
   ],
   "source": [
    "# Solve the quadratic equation ax**2 + bx + c = 0\n",
    "\n",
    "# import complex math module\n",
    "import cmath\n",
    "\n",
    "a = 1\n",
    "b = 5\n",
    "c = 6\n",
    "\n",
    "# calculate the discriminant\n",
    "d = (b**2) - (4*a*c)\n",
    "\n",
    "# find two solutions\n",
    "sol1 = (-b-cmath.sqrt(d))/(2*a)\n",
    "sol2 = (-b+cmath.sqrt(d))/(2*a)\n",
    "\n",
    "print('The solution are {0} and {1}'.format(sol1,sol2))"
   ]
  },
  {
   "cell_type": "markdown",
   "metadata": {},
   "source": [
    "We have imported the cmath module to perform complex square root. First, we calculate the discriminant and then find the two solutions of the quadratic equation."
   ]
  },
  {
   "cell_type": "raw",
   "metadata": {},
   "source": [
    "#Q15. Write a python program to find the sum of first ‘n’ natural numbers without using any loop. Ask user to input\n",
    "the value of ‘n’."
   ]
  },
  {
   "cell_type": "code",
   "execution_count": 11,
   "metadata": {},
   "outputs": [
    {
     "name": "stdout",
     "output_type": "stream",
     "text": [
      "Enter the value of n: 6\n",
      "Sum of first 6 natural numbers is:  21\n"
     ]
    }
   ],
   "source": [
    "# Python program to calculate the sum of n Natural Numbers\n",
    "\n",
    "# n denotes upto which number you want to calculate the sum\n",
    "# for example, if n is 5 then the sum of first 5 natural numbers\n",
    "num = int(input(\"Enter the value of n: \"))\n",
    "hold = num\n",
    "sum = 0\n",
    "\n",
    "if num <= 0:\n",
    "    print(\"Enter a whole positive number!\")\n",
    "    \n",
    "else:\n",
    "    while num > 0:\n",
    "   \n",
    "        sum = sum + num\n",
    "        num = num - 1;\n",
    "    # displaying output\n",
    "    print(\"Sum of first\", hold, \"natural numbers is: \", sum)"
   ]
  },
  {
   "cell_type": "code",
   "execution_count": null,
   "metadata": {},
   "outputs": [],
   "source": []
  }
 ],
 "metadata": {
  "kernelspec": {
   "display_name": "Python 3",
   "language": "python",
   "name": "python3"
  },
  "language_info": {
   "codemirror_mode": {
    "name": "ipython",
    "version": 3
   },
   "file_extension": ".py",
   "mimetype": "text/x-python",
   "name": "python",
   "nbconvert_exporter": "python",
   "pygments_lexer": "ipython3",
   "version": "3.7.6"
  }
 },
 "nbformat": 4,
 "nbformat_minor": 4
}
